{
  "cells": [
    {
      "cell_type": "markdown",
      "metadata": {
        "id": "NtGT-6y_mpSt"
      },
      "source": [
        "# 트리의 앙상블\n",
        "* 앙상블: 여러 개 모델 훈련하는 머신러닝 알고리즘\n",
        "  * 더 좋은 예측 결과를 만들기 위함\n",
        "* 랜덤 포레스트: 결정 트리 기반의 앙상블 학습 방법\n",
        "  * 결정 트리를 여러 개 만듦\n",
        "  * 부트스트랩 샘플 사용 ➡ 일부 특성 선택 후 트리 생성\n",
        "* 엑스트라 트리: 결정 트리의 노드를 랜덤하게 분할\n",
        "  * 최적의 노드 선택 후 트리 구성 (랜덤)\n",
        "* 그레디언트 부스팅: 결정 트리를 연속적으로 추가\n",
        "  * 앙상블에서 가장 많이 사용하는 방법\n",
        "  * 이전 트리의 손실을 보완하는 식으로 손실 함수를 최소화\n",
        "  * 얕은 결정 트리를 연속해 추가\n",
        "  * 훈련 속도가 조금 느리지만 더 좋은 성능\n",
        "* 히스토그램 기반 그레디언트 부스팅: 356개 정수 구간으로 훈련 데이터를 나누어 빠르게 높은 성능을 냄\n",
        "\n",
        "### RandomForestClassifier\n",
        "* 랜덤 포레스트 분류 클래스\n",
        "\n",
        "### ExtraTreeClassifier\n",
        "* 엑스트라 트리 분류 클래스\n",
        "\n",
        "### GradientBoostingClassifier\n",
        "* 그레디언트 부스팅 분류 클래스\n",
        "\n",
        "### HistGraidentBoostingClassifier  \n",
        "* 히스토그램 기반 그레디언트 부스팅 분류 클래스\n"
      ]
    },
    {
      "cell_type": "markdown",
      "metadata": {
        "id": "dIaIAizcRSG-"
      },
      "source": [
        "## 1️⃣ 랜덤포레스트\n",
        "* **부트스트랩 샘플**을 사용해 훈련 데이터를 만듦\n",
        "  * how? 데이터셋에서 무작위(random)로 n개의 데이터를 선택 ➡ 중복 허용\n",
        "  * 샘플링: 데이터 추출 (훈련에서 new 훈련데이터 추출)\n",
        "* 여러 무리의 결정 트리를 종합해 최선의 결과를 도출\n",
        "* 여러 개의 결정 트리를 만들고, 만들어진 결정 트리들의 결과를 모아 다수결로 최종 결과를 도출하는 알고리즘\n",
        "  * why? 두 개만 만들고 한다면 한 쪽으로 치우지는 편향된 결과가 나올 수 있기 때문\n"
      ]
    },
    {
      "cell_type": "code",
      "execution_count": 1,
      "metadata": {
        "id": "ioJUlZ0M_uSZ"
      },
      "outputs": [],
      "source": [
        "import numpy as np\n",
        "import pandas as pd\n",
        "from sklearn.model_selection import train_test_split\n",
        "\n",
        "wine = pd.read_csv('https://bit.ly/wine-date')\n",
        "\n",
        "data = wine[['alcohol', 'sugar', 'pH']].to_numpy() # 훈련\n",
        "target = wine['class'].to_numpy() # 정답\n",
        "\n",
        "train_input, test_input, train_target, test_target = train_test_split(data, target, test_size=0.2, random_state=42)"
      ]
    },
    {
      "cell_type": "code",
      "source": [
        "from sklearn.model_selection import cross_validate # 교차 검증\n",
        "from sklearn.ensemble import RandomForestClassifier # 랜덤 포레스트 클래스"
      ],
      "metadata": {
        "id": "zPXHaI7M1xqx"
      },
      "execution_count": 2,
      "outputs": []
    },
    {
      "cell_type": "code",
      "source": [
        "rf = RandomForestClassifier(n_jobs= -1, random_state=42)\n",
        "scores = cross_validate(rf, train_input, train_target, return_train_score=True, n_jobs=-1) #n_jobs = CPU 병렬\n",
        "# scores 변수에 교차 검증 결과가 저장\n",
        "print(np.mean(scores['train_score']), np.mean(scores['test_score']))"
      ],
      "metadata": {
        "colab": {
          "base_uri": "https://localhost:8080/"
        },
        "id": "kfASmWCf2CmU",
        "outputId": "dcb4d2ee-870f-443e-db68-72f62709ba02"
      },
      "execution_count": 3,
      "outputs": [
        {
          "output_type": "stream",
          "name": "stdout",
          "text": [
            "0.9973541965122431 0.8905151032797809\n"
          ]
        }
      ]
    },
    {
      "cell_type": "markdown",
      "source": [
        "`n_jobs` :  모델을 학습하거나 예측할 때 사용할 CPU 코어의 수를 지정하는 매개변수\n",
        "  * -1 : 컴퓨터에 있는 모든 CPU 코어를 사용하여 작업을 최대한 빠르게 처리\n",
        "  * 1 : 단일 코어\n",
        "  * 2 : 두 개의 코어\n",
        "\n",
        "`scores`를 교차 검증함\n",
        "* 각 폴드(fold)마다의 훈련 세트와 검증 세트의 성능 지표가 포함\n",
        "* scores['train_score']에는 훈련 세트의 점수가, scores['test_score']에는 검증 세트의 점수가 저장"
      ],
      "metadata": {
        "id": "rr6UmGOq3haV"
      }
    },
    {
      "cell_type": "code",
      "source": [
        "# 특성의 중요도 체크\n",
        "rf.fit(train_input, train_target)\n",
        "print(rf.feature_importances_)"
      ],
      "metadata": {
        "colab": {
          "base_uri": "https://localhost:8080/"
        },
        "id": "9xsLZ1I_20Tf",
        "outputId": "294539ce-311f-4e0b-bed4-75cc4061d4bf"
      },
      "execution_count": 4,
      "outputs": [
        {
          "output_type": "stream",
          "name": "stdout",
          "text": [
            "[0.23167441 0.50039841 0.26792718]\n"
          ]
        }
      ]
    },
    {
      "cell_type": "markdown",
      "source": [
        "[알콜  설탕  pH]\n",
        "\n",
        "설탕 > pH > 알콜 순으로 중요하게 고려되었음"
      ],
      "metadata": {
        "id": "ecF3P8Ki2807"
      }
    },
    {
      "cell_type": "code",
      "source": [
        "# 랜덤 포레스트 성능 평가 oob(out of bag: 부트스트랩에 포함되지 않은 샘플을 사용해 모델 평가)\n",
        "# False: 부트스트랩 한 샘플로 훈련\n",
        "# True: 안 들어간 샘플로 훈련\n",
        "rf = RandomForestClassifier(oob_score=True, n_jobs= -1, random_state=42)\n",
        "rf.fit(train_input, train_target)\n",
        "print(rf.oob_score_)"
      ],
      "metadata": {
        "colab": {
          "base_uri": "https://localhost:8080/"
        },
        "id": "lrT49jfa3BQV",
        "outputId": "5e4e43ba-cc44-4b4f-8b2e-8434273b9f9e"
      },
      "execution_count": 5,
      "outputs": [
        {
          "output_type": "stream",
          "name": "stdout",
          "text": [
            "0.8934000384837406\n"
          ]
        }
      ]
    },
    {
      "cell_type": "markdown",
      "source": [
        "# 2️⃣ 엑스트라 트리\n",
        "* 랜덤 포레스트와 비슷함\n",
        "  * 전체 특성 중 일부 특성(노드)을 랜덤하게 추출\n",
        "* 노드를 랜덤하게 뽑아냄 == 특성을 뽑아냄 == 중복 불허용\n",
        "* 추출된 노드를 기준으로 트리 구성"
      ],
      "metadata": {
        "id": "k6ro1q579ENw"
      }
    },
    {
      "cell_type": "code",
      "source": [
        "from sklearn.ensemble import ExtraTreesClassifier\n",
        "et = ExtraTreesClassifier(n_jobs= -1, random_state=42)\n",
        "scores = cross_validate(et, train_input, train_target, return_train_score=True, n_jobs=-1) #n_jobs = CPU 병렬\n",
        "# scores 변수에 교차 검증 결과가 저장\n",
        "print(np.mean(scores['train_score']), np.mean(scores['test_score']))\n",
        "\n",
        "et.fit(train_input, train_target)\n",
        "print(et.feature_importances_)"
      ],
      "metadata": {
        "colab": {
          "base_uri": "https://localhost:8080/"
        },
        "id": "GXCPRPWs-8G5",
        "outputId": "0d336a73-a22a-4015-aa5c-703a185be909"
      },
      "execution_count": 7,
      "outputs": [
        {
          "output_type": "stream",
          "name": "stdout",
          "text": [
            "0.9974503966084433 0.8887848893166506\n",
            "[0.20183568 0.52242907 0.27573525]\n"
          ]
        }
      ]
    },
    {
      "cell_type": "markdown",
      "metadata": {
        "id": "csKxnaxeRX8s"
      },
      "source": [
        "## 3️⃣ 그레이디언트 부스팅\n",
        "* max 어쩌구가 얕은 상태\n",
        "* 순차적으로 트리를 구성\n",
        "* 얕은 결정 트리를 사용해 트리의 오차를 보완하는 방식\n",
        "* 랜덤이나 엑스트라보다 성능이 高\n",
        "* 경사 하강법 + 트리 앙상블 접목\n",
        "* 결정 트리를 계속 추가하면서 가장 낮은 곳을 찾아 이동"
      ]
    },
    {
      "cell_type": "code",
      "source": [
        "from sklearn.ensemble import GradientBoostingClassifier\n",
        "gb = GradientBoostingClassifier(random_state=42)\n",
        "scores = cross_validate(gb, train_input, train_target, return_train_score=True, n_jobs=-1)\n",
        "\n",
        "print(np.mean(scores['train_score']), np.mean(scores['test_score']))\n",
        "\n",
        "gb = GradientBoostingClassifier(n_estimators=500, learning_rate=0.2, random_state=42)\n",
        "scores = cross_validate(gb, train_input, train_target, return_train_score=True, n_jobs=-1)\n",
        "\n",
        "print(np.mean(scores['train_score']), np.mean(scores['test_score']))"
      ],
      "metadata": {
        "colab": {
          "base_uri": "https://localhost:8080/"
        },
        "id": "uhkIyk9YBTIp",
        "outputId": "2951262d-d1cd-43d0-ff27-03a1db7c137c"
      },
      "execution_count": 10,
      "outputs": [
        {
          "output_type": "stream",
          "name": "stdout",
          "text": [
            "0.8881086892152563 0.8720430147331015\n",
            "0.9464595437171814 0.8780082549788999\n"
          ]
        }
      ]
    },
    {
      "cell_type": "markdown",
      "source": [
        "`GradientBoostingClassifier` 추가적으로 넣을 수 있는 파라미터\n",
        "1. loss 손실 함수 지정 (ex. 로지스탁손실함수=평균제곱오차)\n",
        "2. learning_rate 학습 속도 제한\n",
        "3. subsample  훈련 샘플 비율"
      ],
      "metadata": {
        "id": "UJTuZEPxCw8Z"
      }
    },
    {
      "cell_type": "code",
      "source": [
        "gb.fit(train_input, train_target)\n",
        "print(gb.feature_importances_)"
      ],
      "metadata": {
        "colab": {
          "base_uri": "https://localhost:8080/"
        },
        "id": "VUoeTqQ5CJpq",
        "outputId": "56318bb4-3f65-4b6d-98d6-4b65cdda6400"
      },
      "execution_count": 11,
      "outputs": [
        {
          "output_type": "stream",
          "name": "stdout",
          "text": [
            "[0.15887763 0.6799705  0.16115187]\n"
          ]
        }
      ]
    },
    {
      "cell_type": "markdown",
      "metadata": {
        "id": "BthW_II9RbLa"
      },
      "source": [
        "## 4️⃣ 히스토그램 기반 부스팅\n",
        "* 정형 데이터를 다루는 머신러닝 알고리즘 중 가장 인기가 많은 알고리즘\n",
        "* 입력 특성을 **256**개의 구간으로 나눔\n",
        "  * 255개 + 여유분 1개\n",
        "* 노드를 분할 할 때 최적의 분할을 매우 빠르게 찾을 수 있음\n",
        "\n",
        "== 특성(알콜, 설탕, pH)를 256개의 구간으로 나누고, 255개는 입력 데이터로 1개는 누락 데이터(여유분)로 나뉨"
      ]
    },
    {
      "cell_type": "code",
      "source": [
        "from sklearn.experimental import enable_hist_gradient_boosting\n",
        "from sklearn.ensemble import HistGradientBoostingClassifier\n",
        "\n",
        "hgb = HistGradientBoostingClassifier(random_state=42)\n",
        "scores = cross_validate(hgb, train_input, train_target, return_train_score=True, n_jobs=-1)\n",
        "\n",
        "print(np.mean(scores['train_score']), np.mean(scores['test_score']))"
      ],
      "metadata": {
        "colab": {
          "base_uri": "https://localhost:8080/"
        },
        "id": "qq6WyPkJFY_p",
        "outputId": "9dc8fe33-585e-4b16-c3a7-16753a4893aa"
      },
      "execution_count": 13,
      "outputs": [
        {
          "output_type": "stream",
          "name": "stdout",
          "text": [
            "0.9321723946453317 0.8801241948619236\n"
          ]
        }
      ]
    },
    {
      "cell_type": "markdown",
      "source": [
        "1. learning_rate : 학습 속도 제한\n",
        "2. max_iter : 부스팅 단계의 트리 개수\n",
        "3. max_bins : 구간 갯수 (256 => 255 디폴트 입력 데이터 + 1 누락 데이터)\n",
        "\n",
        "* 여기서는 중요도를 구하는 함수를 사용하지 않고 있음\n",
        "  * 지원하지 않음\n",
        "  * 대신해서 `Permutattion Importance` 使 (p12)\n",
        "    ![image.png](data:image/png;base64,iVBORw0KGgoAAAANSUhEUgAAAycAAABjCAYAAACBiH9OAAAAAXNSR0IArs4c6QAAAARnQU1BAACxjwv8YQUAAAAJcEhZcwAADsMAAA7DAcdvqGQAAMPoSURBVHhe7F0FYBRXE564h4QoSdCQ4O7u7lYoVlfqjrTQ0pb+daeF0paWQnF3Ce6eEEKMuJGEEPf755u7TS4GCdbQ7tcul9vd230y77353sybZ1BYWKih+wgDAwPdXypUqFChQoUKFSpUqFBRDEPdpwoVKlSoUKFChQoVKlT8o1DJiQoVKlSoUKFChQoVKqoFVHKiQoUKFSpUqFChQoWKagGVnKhQoUKFChUqVKhQoaJaQCUnKlSoUKFChQoVKlSoqBao1uQkN7eAMrPyKS+/UHdGhQoVKlSoUKFChQoV/1ZUy1DCqWk5dOBwBPn6X6PU9FxyrGlBo4Y2JC9PB90dDzZi4uLp9Nnz1KSRF+epge5sWcTyfQeOHCNDLjNDQ+aR/Nm2VUtqUK+O7o5/L9LS0ykvL59q2tvpzqjIy8ujlNRUsrO1JRMTE93Z6oOUG9lkZGRANtZmujMqVNwZkq+niKzbWFvpzlQfZGRmUnZ2jvRRaoh8FSpUqLh7qHaWk/yCQlqzKYC+/fkshYSliGIeEZ1GKSk5ujsefFwJDKbPv/2BTp05rztTPiKjomnx73/Skj/+ou8XLaEFn39N5y/66q7+e1FQUEC//bmCvvx+IUXFxOrO/jsBwpGdnU2FmlvPEYDQzv/kczp87KTuTPXBtaRM+vm3c/TrMl/Kf0AtnZinyc7Of2DTfy9QWFgoCnhefr7uzJ0BbRvPw+etEBefQN8sXERL//qbNJVoH/cbK9dupM+++Z5CrobpzjxYUOoivxJ1oUKFChX3E9WOnERGpdLOPVepfVtXmj+7J70/qwfNe7sbtWjuorvjwQdm2YyNjbXWkJugSeNG9N1nC+i7zxfQo1Mmkalp9ZstvxcwMjKiLFbY09LSqqVScjexdeduen3WexQTG6c7UzFAYG6kpjKhydWdqT4wMjSgtIxcysxE2h7MWeSwiBv00RdHadvuEN0ZFdGxsTTr/Q9p3aatujN3Bj//AJoz/2Pad/Cw7kzFQP+IPiAjK6taWiZycnMoNTWNlfwHk8wGBAbRux8uoN379uvOqFChQkX1QLUhJ5ixLCjQCDlJTMqm1s2dyMnRUmYz7WqYk7mZke5ODAoFlJGZJ3/jelJyFiUkZrJipD2nj3RWmOKvZYjLSWnk5BRQNh95eYX8Tv59lnZ2MDkli66nlL2/KsjKyqaEa4mUdP16WQWbx1kMtqXHW7gJ3ODBTpmlhCtD08be5N3Qkzzr19MN0DdX1tMzMig+4Zq4RVUEzNYnJiXRtcQkys0tW2ZAfn4BpadnUEGhduBNuXFDZjJTbqTKbCqAPGbnaC1amZlZt3zvrZCTkyu/xzF98kR6+7WXqJaLs+6qFpjty8jIlHoHrqekcN0nSp4qAoiO1EXy9TIztvlc1igzIIfzgjzAleRmQDrxTtTtzYCywvPSOb36gDyg3FJZ8boSHErHT52hWCYnSAvynquXF8xqIn2oC7gBzn93FnXr3El3tSxQn8gr6ra82WmkHXWl/TtH7kXd3i6yuM2kpeeSiYkhPfd4W3pyemsm3iUFG+0si9u3tLPkTPkNgHam3y7R/tFeAaw3Q5vGPTfDzdo3gGeir1DWraWlcx3z/WjfuAbkcrpgLYmNS6NzF+IpKOS63If+AEdV+DHqFvKmtAtpNywDWaxg3wwgnZAVpW5KIyc3t0hO0f5Qv/r3wwUyk98BeYFcXtfVaRrLDWRVabNIH+5DGvWhyB4+AbQnyEdsbDydPHOWLl8JLLoHvy9v0gAyCnlCmywNpB/9WnhkFJ06e57L+Ko8B20Z/Yj+85AnvMfc3Ixee+E5emLaZN2V8oF2LWVRThlL++Z0KUhMSpajMpab8oD2hTLFMXbEMJr91qtUv5SbLcoOeUBdoC9RyiMtLV3KR+lTUSdIM9o78p+UnCzX9dt/aaAc42/SvkX+uDyVssCzlPthoZVzurqIiIrhujhHgdwHYezBUVHdoq/CczA+lQbeocimhvtlvCu5vHFPDygL1BmeezOk6u6DnKhQoeK/g2qz5uTvdf7kewmdVS4FBCaxQl6TyYmFKDQtmzvTyCFeZGFuLPfu8rlKwaHXqWPbWnThUoL8Liu7gIb0r0+jh3nLPVA8jpyIpH0HwrlTzSQbG1Pq0sGdBvatT1aWWgvEbn6O3+VE8ZMPuZpCtd1tyc3Vis6wgoKZ4JFDG1L3zrXl3qpg/6Ej5MNHTEwsmZmZMsFoTMMGD6C6tT1014/S/E+/oKcenUaTxo2Wc3DZWb9lGyug3jRu5DCysLCQ8wr27j8ks1xvvPQ8jR05XHe2GFA29vgcpKMnTvIAd40cHRxocP++1Kt71xIWmrPnL3K+D9DVsDChOfXq1qURnLbmTZtob9AhMDiEVq7bSF07tpdnY3YNynaLZk053VMlfes2bhGlqo6HBx07dZqio2PI2dmJhgzoRz27ddE9qXLAQLtlx246cvyEpNfU1JTca9Wi0cOHkAs/U0FEVDRt4HLCNSjax0+ekgHb26shjRkxlBrUq6u7U4tDR4/T3gOHJG2wPHl7eXG9DqL6dbUKRUBgMK3duJnq1qnDxDiKgkNCydLSkvr16Sn5MON06AP1tGOvD4VHREgau3fpRMMGDSRbG2vdHSDa2bRt115+9zEZXJF+EIoB/Ez8Bkrfb8v+pitBwawQx1E0E5NWzZuyjNqIYjN62BDq3rWzPAtK4Rou51QuZ/zW2sqK+vfpRR3atpbr+rgSFEIbt26XujNk+W3RtCmNHDa4SO6gDKEsLl2+Qk28vejshYsUEnqV32tNfXp2pyED+5OJsbaNVQboOn5dxs+4ep0VSWMy5nbkWd+eHhrTRN6vAO3s3MV4Tr8RK6ep5OFmQ85OFnTR75q0vTHDG1Gn9m5ct6m0av1l8nC34XLJoCBu4xZmxlx27izLnmRpUZw2uH8eOhZJPgfDWRnKkvbdvbMHDehdn2Wz+L7I6FRuV4Hcn9iTqYkR7T8cwWQhU9r5c0+0JRcnK35OBLfJCLqWlEWh3A84OFhymdlI/urUrkGTxjbh+q3cOhoofpDjq+ERVNPenvPoJ22kfr16rMwOpWZNGuvu1ALXduzeRydOnxEi4+Huzu1xIHVo10Z3hxZ79x+k46fPch/Xl85wGz519iy3mUKWvQHcHwyjC36XaNfe/ZxHE66Pq9I+0Vb9A65QIpOTPr16cr2MFPlatnKtKI6PTJko9wOQsz9WrOJ7RlGbVi3oyLETtHHbDlEKL/EznBwdZH0cZLtJo0Y0ecIYsmJZBDJYMd3D/dMxbouJrJhaWlmyfLahoSxPDjXt5Z6de3y47I9I3xQaFsHt15Xz6ibtHs+b8tBY7ivNpC0v/OV3ioiMZJkyFwsz+iakvTSg+G/evlPKDu5JtT3cpW23a91KdwexrAfQhq07qEOb1hQVE0MnuQwNWDZbtWhBo7htlJ78uBX2cN+JNoS2hPbo6uxMI/iddfjdCnwv+dMOzi+uh3JdIF8tmzcjP//LQkB6detGE8ePFllZtW4Tk6d0yaefv7+Qn2ac3wljRkgfpw/U0UbOS1BIiFiX0b7HMEHycC++D79fw/0ZCFiPrp1k3Lh85QqPneY8roxgOegu5/YeOCh1EXI1XMqgDvcRIHKNuH+cMnEctzXt+AMSsW3XHiEx11NukL1dDWrPZTmY+0a7GrZyD8oUZdKxXVu6EhxM5y/4St4hAyOGDpR2oACTXj4HD8kYhDRivU6Xjh2oX++eRc8DQHYgz5CpZCafLpzGYSxP3bi/VaFCxb8fRnPnzp2n+/u+oCJycjU8hTBLiRnM6Lh0Vh6sueO3YuXQSD4bstJjbKxVsnfuu8oKQAid941nkpLCCpupkJi6dWpQs8aOuntC6ZuFZygvX8MKgSN3xJm0a18YZefk80DFnTknY/ueUB7cgkWxMuFnHzwWRVHRaVS/jq2QlsioNOrayZ3MWUGqLA4eOUaffv29DNitW7aQwRcDKEzoGDShCIZFRMp9HbnzbtakkRCGjz77SqwZGDDrsaJcGld5QPc5eJjT00EIjD4wa/rH36tp0W9LRXn1YkUdg/I+HjBcuVOH1QXAez743+esWEdSe363tbU1HWCF4dSZczxYNy9SJAAo7T8t+V0G2rPnfbneiMvBjJU0G1ac2vIdGh5YN0reglnBxSADQgQF6vS58zzINaRarpV3xYPL0mVWgpA2lBnSCpcSKP8ONWvq7tKuw/n1z+WsUJ6Q2bm6dWrLzN3Ovftkxq4zkymFUBw7cYr+9/V3dINJFeoC2LF7rygJbVq1pBq2tjLg//zbH7KWx5qVKg8mWlgThMHbrgbkqZH8Djhw+Bh9/PnXdJ3f26xJExm4oYhC4evIyiRkG4PvHytW8zOXki2XL1zzglmZ2LpzDysIFqykNJVnBXGZQdFLS0/jfNyghp71JZ8Y1EEc3Fh5A+ITQL4viyID16+TXFdeDeqXIZP+AYG04Iuv6SLXV1OWDyinO/bsY+UojJo3ayJ5hUK1e98BWr5qjeQbJAwKImTlIOcNJLM0ubsZMK1x6mwMJSZncRkUsJIYRxmZ+UwkGpQgJ9t2h9K6TYFaSyjXs5YgZAgJ8bucxEpjGvXpXpfzmkE//XaeLlxMkDaJyQIQH9xvbm5ELZsVK5JbdwXTdz+flTQ0bewg7Xvn3qtS/m1buRT1M5FRN2jZKn+u33hW6uNYVgqlPWMtWzcmM5ioSLiWIXnIzS2U59SoYc7vtmGl0picOc2NvR2F2FQGUK7Xb95KazZsppi4WCElRky2MWEBawHqHwoegFnon379g1asWUfubrWodu3arOidoeNM9Bvw7xQZAHZxvf29eq2QDRw2VtaiZNetXYdloTGd4zb6218rRNF1cnIUOQH59ODnJrJyh7bQuUN76R+WLF3G/W04K3sDyMRE27f5BwTQ1z/8zGXXiho38uJySKTY+AQhMVj3ZW9nJ7JhzGTGzdVV+iAo1LAO/LF8Jf2waIkooS25H0lmBXzj1p1iLerC/RXqArILMpENizK3UydHR3Jn2UNbRd6hFEPhLmAF+djJ05SSkkK5Obl05PhJltsCUYb1AeX1u5+X0Op1G7iu3ISYnD1/QSZ+8Dz0CwDcyJb8sYzJm5+QP88GDeTZ6AegjHdq37bE5M2tACtDcGiolAvaZWhYGD+jXYm+7oLvJfr9r7+537lBLkxeMKFx+twFIQCwohzmvguKPPqbP1eslL4hMzOTPJn8YdzY7bNfiEAb7rNAKgC0748++1LaLUgnCA/aNyZJ8B3jCoC+cBWXCdxF/SR94RJAA3XgBQt8g3oSaAXWphzuf2ANQb+NfgD9uxvnA/WPukV/gbWOS5f/zWOwk/Q56JM3bdtOhlxXrVo0kzqD5XcpywD6VViMPLl/wqTLdi5jM06/Pllct2kbffXDTzIx1oKfd40J0qZtO6UvxJiEtoLJsCV/LJcydGZSXJ/Hr3PcPx88clzqWplsudfIjI6iY/26ktOwkWTCZahChYr7CFhO7udREQoKtNcOH4/U9Bz6l2brzmD5jvPKNQWL/ziv6T18ueb1OXs1AYGJmhup2ZrEpExNekauXA+PvKF5+ImNmmde2aEJDk2Wc9dTsjTzPjmkGfXwGs2xk1Fy7rtFpzVTntqk8fNP0AQGJ2nGTFmr+fSb43Lti+9PaB55bosmKCRJvlcW7374iWbwmIkaVvjlO/L8658rNMMnTNacOHVGzrGiouk/YpxmzYYtmiPHTmrGTnlUM37qY5rzF/3kennY43NQ06XfEM3ajVt0Z4rBA7imz7AxmgVffKPJzs6Rc6xQaB555gXNo8++qGGlQM6tXr9J8+IbMzUnTp+V7wAPIJqOvQdq/l67QXdGC1YQNN0HDpd04908sPNzrssncCM1VTNz3oeaHoNGaLbt3KPhgV7yygONpmv/oZqFv/wu91UFPEBpMjIz5R1vv/eBZuIjT3K9hOiuasGKtGbEQ1M0T8x4RcMDr5xD/t776H+abgOGa64EaeUGmP/pl5qBoyZojp44pTujkXwOGz9Zc+joCfl+mD97DRmleX/BZ5I/4PKVIM2YyY9opj31vIbJkJyLiYvXTH3yOS7PFzQRunPI7wf/+4LLaIrmzLkLco4VE02/EWM178ydr2EFT86hLp5+8TXNQ9OfkHJTwKRG8+1Pv3C6h2lY0ZFzKEd94J609AxNbm6eZuuO3ZpBox/S/L2mZF1lZrFsc/p7Dh7JdXVA0oXfMXmUOvxm4WK5j0mf5udf/9B06DWAZXK5JisrW86zcqEZOHqClGFVkZmZx3WWx3lM1TzN7e35N3ZxHkq2V7Sz4RNXcxmmaS74xWvGTl2n+X7xGWmvn317XDN++jpN0vUsrrtEzbAJq7jeDmsSkzPlt2i/j83Yqpn2zGZp1wA+H3p0vWYGv+tquFa20b7nfHhA2vDJ09r6AS5dTpC+YMj4VZq1mwK4jrPk3iR+PsoJUD7PnI+VtPzwyxkuvwI5p1yrLFg507z/yeeanoNGavbuPyTnWNnSsLIl7eL7Rb/KOQDtEfWz5I+/dGc0GlZCNaMfnq55Y/bcEu9evPQvTZtufbj9viP3QI5YweQyzJDrW3bsErlev2mrJiXlhuapF19leX1Wrm/cukMzeOxEzb4DhzXpLEvPv/qmtB/IjYKDR45p2vXop9m4ZYd8V97te8lf03/kOM3/vvpOvkM+IUcKruvaHtoaK95yroB/++o7czQjJ07l+omQc8rzmBxL//jbsr/lO86XLuOMjEzpB8LCIzWTH39G8/KbM3VXirGO84m+58vvfyoqA/SfKIOnX3pNE5eQIOd8Dh6WdvHazHc1UdGxci4+4ZqUz6RHn9KEXA2Tc5VFTk6OtEcmXpqPP/9aM5b7iXMXLuquarFzj4+kY+XajVxPaZrnX3tL+jLIwfZdezn/D2l27t3P5XVD6gL9GZMe+S3K8CN+Lvp69M0A3oX23WfYaM2BQ0flnNK+u/YfVqKvRZue/cHHUpfo0yIio6Q/hawo9a2UNxM5kYtFv/1ZVA/6dYHfQA4//26hJk/XL+EcZBDjVTg/G2DCIXIMOUhM0o63TH6lfJ9kOUPfCQQEBnN5Pap58oVXNWERkXIOfS76evS3ly5fkXOQkR7cfr7lfguyBKCvn8jPe/7VtzQ5udpx/l4jLy1NE/7HUvn8JxG1bo3mwvPP6L6pUPHfQLVZc6LMtBobaZOkWElwXn8WFoB1xb6GGY0Z5kWNvBzE5cKhpkWRu1Zo2HWKjk2nAX3qiZsJgHUrwwc1lBmbsxfi5ZyGv5iYGJG1tSnZ8DPgN29pqZ1JtLIyldkm7hvle2VRv25dmfnZ5XNAZi8x+wgz+bJfFlLLFs10dxmQkbGRuGD97+tvZbb3nddekpmoW6NsejBzBWsDZt4xswYze0LCNbK1tZF1IjxAyX3jRg2n+e/O5HKyoAOHj8qi1MioGJllh+mcBya5D0DZ4JkD+/ahfr17yMw7Zk/xqb2ukftdnJyoc8d2MoOG8oJLCFxFksvxO78VMBsIdwK8AxYE5BTp0Afei/fAPUZxzcJMdNPGjSg7O0vcZBTgOmay4YrBxFDcp8YMH0p/LfmJ2rfRzuYpz8PvkT+gsXdD6t2ju8wew5IDwP0J1q86tWtTnC4UNCtD8m7M4sKlCoDlAhjYt7e4wgBwYXnm8Udo4rjR8j4F+kERlBlslKM+cA9mWHHdij+RVk619qIOmAnFrCVmgbt17ij34HeDB/SVWcbLAQEyS493sfrBcmErs+jw6Qcgd/Y1aohFCLPJVQFcqOBuZWtjKm5d5YinAJZJG25TaKNmZkZkY20if+OQtR9cLkrRwKXTwV7rVoL227t7bUpNzeG60MoU2ndcfCYN6leP6tXRWiGkfQ9sKGtLzvlq2zeAZ6INd2znSsO4/dvbmcu9Nfn52rIstubq9znK38q1ykPbLuzsbAlrhADMSMPdCJbJkNBQuY4+Au5IkHNrK2uRJcgU1lrAXSoyOkbWqijAbxBSd+qkh+S5sGDCWmllaSnXIVeYdbaxtpZ2j3fCLQrXsXYN7nr5BfmcugoqqBSKy0Qrl5gpByCf+pYGO5b/d996TdaFBIdcFddSnwOHpU/Dq9CvAMXPK34OgPOly9iS+yfpB2rYsEwZlUkxygJubHDThAusUgaQY7gHXb4SRBER2j4P5YL0wlLh7qa1RDk7OVLjRo2kDphcybnKQltfllK26K+QNkVuFaCM8U6UO9w9tXXBB3+ifoyNWea5nSFtOOD26eVZX34La+3IIYPkfEioNgoY5ADtG222S6f2ck5p37Xda4nlE1YpAO9GG4Y15DGuE1iU0J9CVhQrTMm64LGIy1ipB/26wG8WvP8ujR81gs6dvyjuYLBqAXBXhSsdAMsWygVWfcX6DvdEuNreSEuToAYALOyR0dE0fPDAIusH+twnpk+hqRMncH1rrbtwEUYbRFlc9L0k4xn6JpQnLDfo7+4HDDlPti1byWchjyMpFy7I5w1fX4pavYoyIyPkvrTAQIpes1o+FaRevky5ycmUfOI4Ra78m9KuXNFd0YHzmXj4EEX8tUw+8R1g5i/vwW+jN6yjtKAgunH6FKWeOynncV2Fiv8CikeZaoJCXU+PzrkiYNEdFBxb2/L9wJOSs3kgMOIOWtsZK3B1sRLyc123yBb9MN4D5UgUJIauj+DPit9/M4wZMUT8gA8fPU5vv/cBzX7/I/Ghhn8tBicAHS+ej/UV4TyI4rwVKyi3AyyuhKsABqRV6zfQW+++T7M/+JjemfsBnTl3QQZJZdEhPmF+nzP/E/ryh5/o92UraM/+A/JbfYVDC63SjgHjZkAZiiKiA55jwIdGKcjbAPKEQaoi6A+gCowMtQNsoV7knBFDBtKEMaNECXxn7nypi+9+/oVJx7UixVxR1kq/D+4NWBuiLGaHmwUGcbiZzJm/gGbO+1DqF+tu4L4CRQeAaxkUEIXoKGjbuqWsFVLIHaAoJ8DN8qsAZLE8wCUE64HcatUSBVYBFAa4uGgX8BYHKpByYoVCgaGBIdcbK4Gclsqkozyg/dykycqzsU4Eci9tTte+5HWlqlPpAxS4OlvzbzWUrgt4gfZtYcHtu6ZWKVXg6mol7lr6wSyUJ4GQYB3ZzaC0ebz+Znm5FbRv0br4KYA7Fdye4PaCRcf5eflCpCFjvyz9U9rtzPc/pDncdkGEAbhoFYETBIVU3y+/JAwkr3CzwnsV2cI5JZoUq57yiXNoQjcvDS0UecCzKgLWMH369Xc075PPxEXyjxUrteueuK8t3VaLy/jWcib50P2tD8gy1mDV5DYGoq0PuLHBNQoTBgpKJUHyArKGLN1uPw/cvK1gTCmQQ1sX2rMFSrsrShR/8jV9WUGfC/KpTLRggTvat4ebW4nJC7RvuP6hX9dv33gfiBOecTNo06+Vk4pw5vwF+uSLr2negs9o0e9/0Mq168U9EbJYulyLMslAvqWMpb1rzyE/kEW4GusDa5mwbgqTOOhH4XYHV9k//15VNJ6hv4Wcoa9SyM69RnZsDJ2eOFQ+lb/PPTqFAma+QZGLfqATw/qQ39tvkN+MJynmr6V0cnQ/IRPA+ekT6PjgXhT2w7eUcuwInRo7iMKX/i7XCrj9Hx82gALnzqTM0BAK+uBd+Y7z+Zw3vOf4oJ4Ut/pvilm9km6cPEp56TcofOF3VKgLtKFCxb8d1Y6cVAq6TrFQRyhKAwvnsQYFEX/0gahBGK7hSw7cpE++LaCzx2zPM49Pp68+mU+vv/g81a9Xl7bs2EXvffiJLIBWAELg7elJ0yZNYIU2kX5cvISSWQGuKqCMwVIBn+NHJk+ij96bTXNnvknvcqf51YL5tGDeHPFJB9Zs2EKbtm6Xxc8fvzeLPp0/V2b0LSzMyyiECm6lrOJXWhVIi5sNdHcLeEXp9+inAcB1DM5PPjKFvuRyeOPlF2QQhBXlXSYXGOgARWErTc4wSEIRUCwamHXE2p6hA/pxGc+iebPeove4jFG+33/+icxi6t+HwRVQUoX04FwZZUiXj7LksPKAogDf/TKRdvjvLFaGQViUhc8CPq9/n/ZvJqNKw/qHUbosEMkPvALWFwDtG+tDcrmc9ZGTo/2utG99QIxvqYjqLmPyoIziVQXgMfi9vsUXSin86jFbbWJsInnEp6NDTZrx1OP0IcvU3LffpLnvvEnffvoxzXnztTJrtlBNCtG4OfTzWTLPUO5QzwWsDBvw3wr0lV596ESD7y2/QLB2AesSoqJj6fknH6dP3p8j/QoWLqO89cRMB+2JO5F3KOUmJqbSRksTdijysEyU2KSUX1m6f4PMI0d3Us93CyhbfVkBUQFpRT4B1I3SvkuA84CJEbTtEu0b4Gv6ExAVAnVbAWnHZsE/LvqV0jLS6Y2XZkhf9/7sd2QdEfq40ihRxvynlLHeo5W1gGgHpaE8D5NMyDcscggYg74WbQLj2df/+4jf/7ZYr/8p1OjSnTpt2UltV66jglzOB+exy64D1GHtJjIyMafrx47q7iRyHvUQtf1jObVg4t7g9TkU+sV8KuQxIGzJYspJiKGOm3ZS43fn8ucO+Y7zCuo8/yq1+2sVNZo1h58znkxrOlOrn34hI52VUIWKfztuf4T4h6HfD5ZGbQ8b7uCMxH0LJEXB8dPR8l1x9brbwGzdl9//REv/WikLwocPHsAK7Ov0xLQpdNHPXxY1AkraB/brQ6+++BxNmjBWXMAW/faHuCEBJZRMhtKxm/KgrA8MbN4NG0pUHWMjY+rQrrUsIsfRtEkjcnZ2LJrFx4JRKOyIfAO3KMxgmfJAjggv92uMhosCFpUqlobyAPcUuHOAeFnoLBwKKqz3UucxQ/3NwsX0y9JlEop52KD+NPvNV2nG00/IgmJf/8tyHwZmlLX+zCPq4NSZs+IegwWtAGYo8T2V74MVBO5T3bt2ok4dtIthsXATAAFKTUulcxf95LtSrr+zTGD2UT90JurOhOsVi90zM8uWR4UyUGq/GwdWcOvW8aAz586X2LQyODSMApgQw3oCJbj08+4mLMyhcEPJgjJ1+9KEFKanF88Owtpy+nwsYYE8LCgA2jfcrs6cj2fltDhPx07FiILkWa+k1aqyMDJG+g3FhexOgHpFJLlsPhRgcTJkH/KECH5wpUSgCrjjQK4QUAHy1K1LR2rIMgRXH1hb7iZQNnCZwmQEQg3rWxcQrlXko1TVYQYev4M1ojwgKAXcijq2b0tDB/aTPCHtWiIOAqS7UQcQMrxD3/1SQWn5BNHXKu4lhymcx4J3WDMh8wrguohgAnDfQhqAeyfxyIs2sIJihS1CJV+qlA36Qli8FCA4B4gIrEAAXKXQvhG4RN+lCe0bfamHh7u079IoVZxlIOnnNouAIeXhalg4y2wCde3Ykfr07CYBEdxcnYU4Va1ktfci+hisQkdPnmbZKB6XsSB+3oJPxTUWZenl6Sn7x6CeEbUO7QLjGcZU1Kt+ZMT7DbeRo+TTrKa2v3cZPlJbkSyjJvaOlJdaPMFoWac4uIjzgIFCZuDelXL0ENl36U3GuvZtxPnEd5xXYNdW676nQsV/FdWOnKBDVdw/KgKulT8rp4Vn/ZrUu7sH7T0YQb8tvyiRetZtCZSIQbU9bLmjU0Krat1LtC4GcDvRPrfoGqfjVh28PqBMwMVq2UpEa/qTLvj6SQhGfKJThq8zgEEbnTOUTAxuUx8aT3179aCNW7bT32vWyzUMynARQkjanXt9xA8X589cuCiz/3v2H5RIKwAUGgwcv/zxp0SygjsXQo++PvM92VUeaQIQLSYxOZmWr15HR0+cotXrN9HCJb/JQIANxfQHDCgKmMHTP1caituC/jiF3+Fceb8DYfj0q2/pmZdfl4g1+oACBNKwnfOLCFiIygVFHj7sKAPF1xnjQHnPV9KrKDhYnwEFaPmqdfTjL7+LTz8UGbgp2FjbSPQZAPoByhqRbzBIIkrYT0uWcr1dkAhfjbw85T4oXQP79pYoPwu++EaiH4FQvv/J5/T67LlFxBPEBdFz1m7aTH+tWivPQ4jWZX+vkhlD+KvrA64MeP+ajZtk7RCiDSHaD5QVnMe6F9SlhNXk69g/A8QH4WdRVvHXrpGTgwMN6NNb7kXUpENHT9ABfs63CxdJBgf06SUKHsoMB55dWhGUuqzMTKse8IxTZ2Npx95Q2bgw+XqWHDv2hEq478tXEuUevEohEfguLmC69ov2J9/5GuoW7WHfoQiWgWAuh3gJVXz8VCw18XYgby+tAob23aOru0TfW7qiuH1v2BpE9ZmYIMJeEeR9N+9PFDg5WLKSZ0EnzsRInhCJzOdQOBPXqpEVzHTDjRP9wAmEWd1/SNoZlEElxDaUQqzlwsTB1z/+LOGsz13wFdl/8Y136MfFv0qdKED7KMCaERRaOUC94n7lOvIsVhb+iv5N2rLueYiMBYvHb8tWSF+xduMWWrlug9xTGlB6XbjfOsv3beD+Ce0Q8oXfA4j4BnKONV2IxIRrmKDxOXhE9tJQJlsUuDFxqGFjQ/v5OvowuEniXrQNyDvSgL4BEawQcQoRtkCcEPkJ8q5YPPtz2aHtLOJ+diuXGdriz78upfPc1/br1VPaKwA5E3kv1V9U1A5uBaybQFp2cn+BqF1pTNrQZnEOERghyciHfl0odQNo5b/4GixpCDv9259cF9xXIFQwomMhYiP6EgDkBO0b6y0QoQx9j9K+TXgMGdC7ZwlLkZK3W8GV6w3yh3Tv2rdfxgREeEQ/DWC8wtofuB+jD0a0rM+/WyhRI1G3yvq0ojyVaGN8rlQZt2jWRCZ10IciGhf6xvWbt8mkHKJ7KS7EaCOQqR+4DSCSHe5DKOpX3p5NX3z3oxD/Bw0mNtq85V5Ppnwel4xraNfKKcB3nFehQoUWZf0f/mHAwgz3jZvNvmJgx3UoM+UBC3SnP9xCFJ+NrLDs2I2Z+nxRbp6Y2lKUEADPwRoUuDdgQMHfOAfg+dpr8rVSgAL45CNTpaNetXY9D5q7ZAYRyspTj06XxeKAvAv+uLpOG7OZTz82XRauL1+9lhrwwNqjSydZEPnhp1/Ic3FgFhOKKgZGR0cHeueVl0RxwAwbzO7wXceaEqx5wOwWBhesf1F8j8ePHiGDAMKcIgQwZqk8mdR4uLvJjBwUCaQLUNJYetZSH8gXLBz6s61Fv8P5UkC5YLYzhY/MUptq4Rr2BlizYZM8F89B2SM8KlwXMLOMBd9GRsblpgv1Bhcs/E7B41MflgF0LSv+O3bvkb9R4k88MkXCVgKoA22eNfQ7vwtK0vWUVOrSsZ243Cnlgdnux6dNlvdiIMeAjr+N+Z2jhg4pCl2KBfIvPfsUff/zL7SYFSdLS3NxP8LM8jOPPVL0PAXIE/YXAeGEoog0DujXR2YJUbZBwSH0DSshIKpQQJA9hKXdd+Ag/9qA/vf+uxKUYHD/PrJGYTkP5iAvUFBQ7zOeeqJozxQAbhNQkvXLCUC5otyrArSv5Wv8xYKBNidP5H+++vE056OQRg1rSF6eNaU9I9iEXOb3wuqB+kISsGEjDiU1+BsEZcU6f8rJZnm5kUOtmjnR1InNSAnni3c9NqUl55GYBAayQh8i7btJY0d6cmoLVuaKCaD++24FVxdrGjHEk9vRRfr2pzNkZmpIFhYmVLd2DW5T5a9vqwggx1eCgphwXJT1Aqj3RydPFOVMAfa+eOfVF+mXP/4SKx/WI2VmZRYRYf36EFkrp94UaK8bFa3zwN/K77GeSL9tYC1WYHCw7BeE/Ysgs428vaT/Ka4JLbDG5eHxY5lc/S4hYLE+Dooj9luC0ow9Mh6fOpkW/f4nX18oMgorYtPGXuLqVXrxMiZRRg0bwqRzhYRPh4xjNhybzWKROayIsHbCGgPrEpKMPgP3oq2OHw2rbyOxhr703NNCSD779gdpn3BVe2jsaJo4foyUByD9Apeb8l2BWGf1zoNsYTKjdPnineh3sQYN1xBOHOQB7Qu/xe1QoNFvIE3o41HW8mxdXaAeiutC917de/Ad+UZI9y07d0nfiHJ99vFH5HkKBnH7BlFbuXaDTLCgv0T7fvGZJ6lzxw66u7RAfWsXu98c9bjPGj18KC3mcQMTLkgX3o2+B2NSwwb1afKEcUJiP/78K3G3QihfhMNGiGbsaUONdOMA/7a0e5ic535FKVO0CWV8/IuJO0JuY7KleZPG9Bj31cqEUcMG9ejtV7hdsBxgvWYNWxtx18M4Nbh/P6nrBw05idqJRHMXVzJxdKKcuBj5riAnNkbOVwguMxUq/kuoNpswKsAsZURkKrm72cgi1vKAPRLS0nLIrZaNRPupCNgZOjgEOwJjE0YzHhixF0ex4hIbn06Zmbn8rhrcoRtQWHgK32fKA6617LmAtLi72ZKy+WNlgRl/DPSwbGBglLj7tT2kAwfgfhAdE8PkwamEOR4RetDhY0YLgz720cCsGsoMxYZPDJaoMigBeK6+iRuDOKIBQRlCBJs6PPhgdlEfmNEN42cijdhrAO5KGPTAk+rVra0lGwy4OSFSFdKoWHz0gQEGLkSI2AKFQ1mbARexoJBQmQVT3BIUIO0w3WM/F8S4V2bKAFzDXghQErT51cqJNr+FZG1tJUobXCAQRACuMFAYFOB30ZwepAX3KkA+pC4SsOGfEStWrrKjM+oFOHz0BL338f+YzD4kRAHRzaCAeXl5kqPe/ioKMJgiKpH2eYYyYCIqmKJ8KIC7SyATCyxGd+ZyRrqUvQhKA+WPMkMeUJ/YEFJRhrSyEiukRavQQwZQLtqZYNyryADKCa4esDrhXhAmvFcBGjqiuGEjOMzMQgEBMCuPRdiQTygsStnfCkgH9ifK4DaExebK7/A8XENELGlL1zLoxo1sVjpqMlkvkI0RsZcI9hBBW8Y1RN3zvZRAsz44SONGecuGqfidKctVg/p2cm9ppGXkUkjIdc6Ptn3DXRNR+/SBvZOi+H2IyIe03CprsNqiH8B+R9DTscdS/br2rBDdWtkDQKQ//eYHme1FFCvISFJyCsudsxAApX3pA/1EKJc/gi9AEcM6NSXSmwLIG9amedbHJpNl+0VYR+MTEsVVE8/AXkqQB7QZKN2xcQl8zUnWxAGQgZCrYeLSAx9+uEKFhUdKf4AoTfrA7DcmSqKio+U7ZB5WWLjdAHgP3hcdEydyiWuYccc7anIbwgSKPkBAIKeQayjRCOTQAG2S+zRFhlGOWuW/uB+ABDs4OJRo9+gzkA/0C+gzESFKcX8E0H6iuF8FAdLvaxFFEXmHuxT6AuxNBMKP9OjLP9o73IywfhDlCte8a2KxhoVEITxa6xzqBeUNdzmUN94J4oeyQfuFso8oV0gz+mVMBmEtIt4x641XpO/PZCUcaVIsP/pAnysRr6JiRK5Kt28A5YdxBMo8lHxlzKkImDxD+SnP1NZF3SLXUbwTGzXGxcdLueAarDXx8ddk/IGsoK9Dv1mL84SofwDGqJjYWO4bslge3ItkBcDYExTM/R3/zsHeXuS9tMwBGKvQL8GVFntG1eXxCZte3i9khofR0UHdqOvOI/Jd+duyrrZu9jR2p1aLlpNTz17y/UjvLuQ6/mHyfOElOtihOdXo0JVaff8T2CIFfrqAYlf+QT1P+lHk8r8o9PMPqMueo2Tm5EzZCfF0rH9XajhzPrkOGUoHOjej9iu3kV0rbUTJyL9XUPDHc6j3uUAyKKf/UKHi34hqR06qAzAO3qtkorAr82gMxtWlrCqblvudZqUs76S+sIP8u6wgvPD0E2JZqk6oTjJwP4BNVWczOXlkcnPZZf5BBJTq/339vWyAuOibL8pEJrobuBN5r86oirxXph+tbF8LVzK432IyQbGGKID7EiyTfXv2KLu25A6RwGTzvfmfCAFY/P1XurPVA5Utu39zH3Wn5MTEzoEKsjLIyNKasuMiqennP5LLwEFgbnTxlRcp5agPWbdoR2kXTlPNnv2pxVffUt6NG2XISXZcLB0b0I2JTC2qO+MVch83Qc6rUPFvhkpOVPyngZ3RZ33wET3/1OM0ecJY3VkV/wSwduStufuFnEyZUJk9f6ofsJAZLjLYEfynrz+7b7tZq3jwgDVis97/kBCpaskPX9/SyqHiwQHISb2X3iKXYcMoOyaWrD09yciipFU37/p1yoiIIKs6dcjE/uZBevLS0vg5MWTj5SWWGBUq/u0wmjt37jzd3/cFKjlRUa3A8giXgnatW5VxpVFxv2FANram1LaFC9dFWTeuBwIsT3Dd8mpQXxYAY72CChXlgodCc1Mzata4EXl7eapj478I4Yt/JLtO3cihcxcyd3YmQ72ABQpAVsxdXcuQlvJgxP2ImaOj9C8qVPwXoFpOVKj4t/rJPIBQq0KFChUPOhTLSZ1p03VnVKhQURWo5ESFChUqVKhQoeIuIXr9WqrRsrW4c6lQoaLqqDbkBNFWEDkE4SOVSEq3C86TRAlB9BFlI6+7CUReCQgMljCZCGuI0L+lI1PdC2RkZsqeBO3btKKmjRvpzqpQoeLfDoSPRjS3sSOHqRM8KlSoUKHiX41qs7Jq7cat9O78BRQYFKw7c/tAmMh3538sG/CB8NxNIKQnQoW+++EC+vm3pfTtT4tlIykQFn0gpC42rTpw+KiQpTsFIspg5/nV6zdK+N7qBsS9x6ZpCN15v4Bwmdjg7jg2aIQ/kIp/DJBJbM529PhJieCj4u4C4VSx38TmbTt1Z1SoUKFChYp/J6oNOUFM9EsBgbIvxZ0CG2L5Xb5CkdHREm/9bmIdE5Et23fKLuDY4O6J6VOoXeuWZWYzk1NS6I/lf8tGUtgQsTxgYz3sLIw487eCz6HDtHHrdpowelTRzsGlER4ZJbsuR8WU3ODpXgMEEDusf/7tj7KnwP1CXEKC7C68bOUa2Y24OgF7DWB3+4go7d4Q9wvYCf/AkWOy18L9BMKiQtaxCejdnhCoCLAkghBd8LukO/NgAnv/IB+Jycm6M2UxpH9f6tG1M/3OfYqyS7oKFSpUqFDxb0S1ISfYgMvC3IxMjCveVLGyAFFATHpEysFz7xYwO+x3yV92yX3z5RnUp2c3GjKgH3Xt1KHMJnzYeGzKxPH0yJRJFUbswWaIcz/6n+y1cTOkpqbR32vWyaZaY0YO1Z0ti3MXfOl/X33Hn366M/cHKONB/frIzujYmOt+Aa502LV94rgxZcr/n8ZFP3/639ff0qmz53Vn7g/WbNxM3y5cJC5A9xPYGO9RlvXJD427q23uZsDmgl9+v1BcHR9kYOLhi+8WyiaIFQFl+jBCXRdm0so1vxMVMOmt6lGYqnuaChUqVKhQUX1RbUIJHz91RnbS7da5o+yiu+/gYdlJ19ramqytSoYVxY66J06dpSMnTlJy0nUytzBn0nBZdqauYWsrO6VjJt+jVi2yt7OjI8dPyhoRkATs2FtVYG0JlE3MSp88fYaJj7k8FzscR0XFkKODQ5FC5svkxc//ssycY70LdlfHrsb6+cau7xf4Wb58Hw47TpO5qamkMSMjU3YyxmZgCg4dPUG79+2nEUMHS8hbfcAuFHAlkC7zcebCRbp6NYxsbWy0O/uGhokVyaFmzaL3w+UNabThe7Az+f7DR+jseV/ZPM4FIQ9174VrDtKDsvPlssV15FOfBKC+zpy7IDuww3XN2clBwvGa6imneA52GMY9WE/ky+V4+NgJKVOUYXm7Xd8MeA9ImH/AFZaPeNkNHjvdO9QsGSceLl+XLgfIWia43GEnePwuOydbNlVT8gkl/qLvJS4fQwoKDhFXvIioKNlJG7vsK8AsPX6fm5Mr9aWUJ8oAu7tbWVoJIQ4MDpW0YRM+7OaMXeE1nGbURWZmlpRPRW3gdoG0IQ+YUT999pzIP9KPnZtBgE1YtpRd5AHs5ow0Yod4yADkC/tyZHH6XFyKZQB7dmCn86MnTkkdGhoalShn1C3ahNRFTBxZcTt1cnSSe/TzCBlE2vA87KR95PgJkRvIlLNeXVQW2B/i9Lnz/F6W+fMXZI2ara0N18NVupaUKPKuv24Nsgc5Rp0gvzW4bMxLTRigT0EbR1niGsoDv7kaFi75sdSTBbQLrAEJ5vdht2ykB2UKudBvH7CaKXKXn58neVXKBXtbXPTjfunKKTpz9gyX31WytUqljNQQCgnaRgU5l8jeKpI02ftIk3tKDlvzAAoMCeHf+VLzhinkaBtFmryAKhwXi56lKcBvLzNpieJGdY0rM4fTZsUdtLrXhgoVKlSo+GdRbRbEf/vTL7R1xy5q5OXJCkQq5eblUQorWbBSvPrCs0ULwKF4LfzlN/Jh5QBKOKwt2LwKCshj0ybTtEkTKDQsgt6cM5dyWJGEcog3Yi2EGStpTz4ylYYO6i/PqiygTP+1ao2k51pSMhmxMqXd+VnD77egOW+9Rh6cTuDjz7+mEyAwrOAgrV6e9emr/31UQmHfuHUHrVq3QdaRxMTFUU17e1b87UWh7tKxAz392HRZaK9g/qdfipL4+UfzyLO+dndaBVAQl/yxnBXMY0zq0uSdDvw8W1trUQR7dO3C5fKw7L0AbNu1l35cvIS6du7EileYkCgo/D35vtdefI4smUDAQvT7Xyto++59onACN7hO2rdtTc89+Ri5OjvJuVXrNnG5rBYSpgQg+HT+XPJuWByhBMTg59/+ZKX/qMyuJzMZyMnNZcU5hRp7N6SXnnuaGjaor7v71oBcvPfhJ6wgBnGZmooC3qFdG1owb47uDi1AHGFFyszK5Ho3k1l2KMNIJxYVPzJ5opBVkOJPvvxGSDAXprgkJXIaUW8vc9qaNPKW50GmZs6dz+XWQcpAqc9f/1xOe3wO0KsznpV0LFu5lr/vl7pAHmsyAatRw1bKoSsT72e4bquqjN8K0Uzi0SbCmSglJSezop1LtVg+oaAjj7Dg9ezWRXc3CXH/fdnf1KxpYyGz8axcg8TBbei9t18XBRvP+u7nX5hgMdllWQKxQtmMGzWCpjw0Tu4BAZ778adCdvEe5Ld1i2b0vw/eK6GkgxB/+tW3UiZoLyAIeF96egaNHDaYHp86uUok9fTZ8/T9oiWUy3KEZ4MU1nJxEffJenXrSF2A4KNtrFy7kdZu3CxljjZ1PSWFanu4yz1eng10T9SuJZv78f8kfcgLiC3yi998+O4s2bME2LBlu7QNXLO1tZW+BTKJdvnGi9PJqaaJTJJs3r6Nlq/eKsQU6cjKSqEh/VrRI5M6kaVpGqVn5tCPvx2lSwHxlJKGssghJwcrLgdTeeawAU1o3LAW8k597D8aSh9/s4ceeag9TRnXVnf2LsKoJhkYuRMZOvKnB3/a6i6oUKFChQoV9wfVxnIC95cz586Tvb0dKz/jacSQQaLgwGJgzgoDFD8oGKvWbaTlq9aKK9XzrCS2btmCAoODeZC/IlaFdm1aiYK+a48PKwAZNGzwQHp0ysOiPBw/dZr8r1zhZ7WVmeXKAlaGVqx0Nfb24t8HyszsC08/QX179aCO7duRu3utot19QZhaNm9KLZo2pStBQaKEjRkxtISyhplY5KcmfyJN/fv0omcef4Q6d2hHrVu1EOuOUk5Qplet3cDPN2Qlc0IRyVCA+1yYLHTu2B5ciUJCrzL5GkBTJz0kZYR0Y9ZceR5mm7fv2kORUdHUvGkTGj18CHVq35ZaNmsmRBBljF3TF/3+p/z21RnPSPqgnG7csk1ImaKoQaFsxESkI5cnyB8Iw4ghA8U6oEA7U36S9h04RLXd3GjawxOFHObzefjZo9y6IO2VBPIBi0sbLqdGXg3pot8lMjU1oeFcz/pAekB2Yb0A8Zr+8EMiHyFh4WIJaNemtZQbrFibt+8SEjady2zU8KEyS75rr488A5Y8KPlQ+tdv3kputWpJepV6OHrylFjKcK5ObQ9ycnKQejQyNBK5HNSvL01nIoTntGrRnGrY2sjv7ibMOP9QtNtznrDuCOQSJHz44EGclvZCtPQtBVcCg4WgwCrQsnkzGjl0kMgA6rVundpCVkFe9nKdTZowVghVy2ZNRXYOHj1O3bt0EkKNurBj4tWa89WkUSMpB0M+N4Kfp0/AsI5s287dsraiW6eOXB4PSRsMj4wU4t+mZXMuV1fd3beGtZWVlGVDzjMsMN78+QqTDcg7ZBEyiveHRUTR3I8+IRcXJ3r9hec4n4PlPNZlgVihzSjpTEtL53axl06dOScWJeShb6/u0kZQLrD6IejDVz/8xG25kJ57fDQN61ufcrLj6MTpY1TDMoF6ts8iK9Or3H6209cL11BdNzN6/rHW1L+HOyVdv0E79/mSfQ0DauLlLBMctd3tqEv7Oixn2UwQM2jS6NY0fngLOdfU24WsLIsnKBSwWNHGHf7cBiyoR+dicnXXoMniRptAlB+mtbTkXxbLioEBk0eVqKhQoUKFivuAuzuFewfAzLKNtTVNGjeWleGerOx40UNjRsosfGiY1iUGbiFQHqB8gBy0ZqUGCgmUdrjgaMTJCdBQHj+vfZs2onDCGjNs8AAaN2qkuPFg5rUqAFmA8te8aWOyNDcXBRNKHchK08beJRQ/KPQgLf169yBXZ+ciUqAPKO/4rWe9uvK9lquLkCcssgdB0P9NSkqKuJzUtK9ZwvqiD6zzQDnBegMShJnhxt4NqVmTxvJs/ecpfw9gwjHnzdeEBOLo1KFtEcGqzUr2W6++KJYUPLcBpxMkBoQOyjwsHwDO9+vdk3r36CYkRavolcovf8U7YT14dOrD1KNbZ7FGTJ80QXZmD61EMAB94B2w4PTp2Z368HvFZU13rTQwY92K6+n5px4XJROWCxBFEA0spgeQNhNjI1k7NGRgP6nPZx6bJnIFdyW4emnB93H5o3z13wcSYmxsUlSumMGHrNSp7S73eni46eqiEblXQQGvCjDTX79uHSHFcC3CbD/kC+9FO4KrYwlwWpE21NvsN18VpX3UsCFMoDrJZZQbyurj92bT1IfGcbpridI/oG9vsVbAqgIgzyB8kHfUh5MD3AflUhnwI6UMnn/6cZFzEDhYYSDfMfHxursqB7hwafPmzXVizHm2kzaOOkY7UoijjbUVvcqkZM6brwuZ9XCvJaQD9XMlKLhkoApOOPLj7uYqFjNYYCETkJeaNfJJk3OQjh5eSIkJZ2j62Bo0sMs1auaZSNPGelATTzuRCWOWo9y8fNp1IEjK8LlHO1Pb5u7U1MuFZjzalaytzejE2XCxmMLKWM+jJjVu6EIuTjYsg4acdgdq5OnMxMSVy7LYDU8fVhZmZGttTqnpOZSRdR+i9hWmM0kJpMLMDVSYsZT/9tddUKFChQoVKu4Nqg05wWAOpQozsQqgDMLKAHccjaZQ3L2gWELxcmBFSAHWpIhirOegBqKCZxmyEqCgZbMm4goUE1c1ZUgB/MSRThx5+TePSIRQwoWc5go1Z0Z+gTb88M0iTSlrJjCbeytgNhj5xufNoCj4sDiUB8y0N+EyXr1uE70+ay69NvNdWXgMUgI3lQJWrkoD76xYMdWIlQVKpQJYmKBU5+XlSv5uB3CnwbMrApRNvBMKrAK7GqxI8vnsrGz5ziqpKKb660uguLdu0ULWHyCi2u1AyoiTBsvR/QIsHjhQJjcrU9wDF8c2LVvIZ2kg/7CkwF0KYbNffeddkYHN23YIgYVslwbcnLR1UZ4QaLR1wXWuT+RBdrHWJ+c2Q2Mjj3hnRTIA1y5YrLDG5e33PuB8zKGPPv1SrIaom9K/gwyDuHg2qCfWAhASKOSFGatIk+tLcXER3H8YUatmxUEf0O1YW2nzZGRkQMkpmRQVk8LP0tDiZSdo1oLtcny+8AAlJmVw/5VB129kyf0KCllGkJL8/FvLiqGhgbwvOyefydV9jlAHopLto5IUFSpUqFBxT1FtyAkAZQGKkz6g1Gh1CANRHvL5wLoInFdQ3rIZXIXvt+7HAlm0zhduVxm+69AlrTx1TgGUN/6nQgWsPOiXTXnAdUM8twLAYjD7g48lihDc7Fo217rtmLIiK6ko5/G3Sh2SX1pRF2JwV1Dxc8rIk+6zNERW9ICgB0gvLHDFKCeXFTxQufNu5bAywDshJ9p33vzNkAHM3leEdZu20nsffULhERHi6tW2VStxW8PvypWvSsinQp4UKE+pimzr41a/Q3jjmfPm08q1G4QIN23cmJo3a6oNUlCBxBoZZFJBxqYiQgKFXEE+px3kwNysmNQjCfrJQF8EkmFqasx/o68pYDIHEkXUtUMdat+6tpA/feDnKItbNNsiQFbhPlfZ++86VJKiQoUKFSruIaoVOSkPirIFpQaz2/A3RzSl/LxipRGWAH0FAcBX/FZfEUD0LxCTMm4ulYbeS0q9rzQwwyyKHP+nuEuVBq4jX6XTrg9YhbDmAeGEKwV+1s2UNlzB5Zvds3PvfoqIjKbXZjxLc958lR6dMpEeGjuKy99C0lueTqRYruDaUgJF7yn7Pq2CePsaFtx38OvylbTy81daKVW+Yw2APrAeArP8mO0HkC+QM0Se0n9hRWWJO/Dsm5XzvYDIFL+z/DJRICkjTQWxMLBHCtbXIDobFoO/8vzTNHXSeFm7I/kqJ08i4/xSvLe08s2vUv4pAeUxN03qTQAFHWnRJzz6OHvuIvlfDqSJY0fTB7PfpqcenUqPTH5I3OvKTFAUppGmIJIKoWwXxulOlgTcqXJzCyg67obuDPJdPHGAZFhamFINGzPuY8xo1st96dN3h9Pnc0fQZ+8Nl7+fnd6FatqVtIIqslJOEZUBCHNqejZZWCD0evn9yn2DPknJV9wfVahQoUKFijtDtScnCmA1wRoFLIJGWNK9Bw7KebiTYME1fOGLXbi0PvUXfP0k6g6QmJRM23fvESUa7l2lgUhDP/26VBYCY0F9+dBToyrQqGDZQVqxPkbcNTSF8jcUGMyi6gPRfqDXXA0Pl0hduAcz9frKH9zasKAda2XSMzJ1Z8sH3GTwbvjTK0obykcflVEE4b6F58CNDcCalx2790nIVFEI5SzXCT8f+cU7RNnjhyu71yu/LdaSK/PmygHvQt7g8gZFHH/D1QjpQbq1qOh9Jc9DmUdZXbzkL9GkACz8PnD4iEQXa1BfGx0NIYtRF/4sTwhhDCBK1rkLFyQ9Qs70gDU2eC7qAumTui1VFwAWsKNsb9fVUB8gWFioDllR1oUgbaXlDmWA/yoC0oo6R7qV9UWI6obw3jivbznB81HuqAu4/MFyIPXCf0M2BHJ/Oe8rOlVxWm4GtB9x0+R6gGwC+u0nO5fzwO1PkQmkac++A3Q5MEhLbHX5wOy/JnsD31BRu9eiZZNaYm1av81PCALgdzmOQiOSxaKC99jZWlCbFu4UEpZMa7dcLGoHSSmZtPivE7RjX9kNFLG4HdG6gq9qXQi1FrvSdaYFXMJwr4O9ZQkLzj8KkJSsHeIGp0KFChUqVNwpqk20roNHjonS0Ldn96KwvFgEv2vvPkrnT2zyB6sJFqdjT48de3xkjwPssH7y7DkJS9qxXRtq26qlhJfdtG0nJSYmCTk5cfqsRPnC/gRDBvansSOGllEmEQ4VoWex7wie4+ZadvEy3rF5x07CRpFIj7K3iT6+/nERff/zL7R7nw9dCQ4R0oOIXOs3baUETg8i/yiWFMzEX+E8Hz1xks4zkfI5eETS2pAVYsW6g3QinGtQSIgs7taGMC4fllYWEr0Kmzpib5KdXHaIgqZdX6JdW+Dnf0UiUWEhu1fDiqP9aNNzmE6eOUsbNm+TfSWgvCNdCDkL17pNW3fQ/E+/kOhfZ86fl1DLiNi0hcvo3EU/WaAMYrX/8FG6HHBFImopkbywcHj56rWcLhNZjF26PioClL2Pv/iaFv/+h4TwDQ0Ll9C/h48dpw1btjIRzJZyQoSozdt3cjotZWGzAmx0h037sIAbi9+xo/0BTp+WaPgK0UW6EI536qQJ1L6Ndl8Z5DeN6x9lcpYJCepp687drLRHiwWiO5dJ3doeci8AK98lLgvsm+J76RLt2refjp06Q106tGe5KZ7xRkSsz7/9gbwaNJD1DncKKOaIRnb89BnZt2Pd5q2yd44SYQ1AZDuEnkbEOJRBacBSd+NGGh0+foKOHj8lEbU2bt0uZY022aiRl6xXAQf45Ktv6aclv9Nun/0ip0nc9o5yGcLygghYuA9rd7ZwXaC9IFKb0gdg7cdqbpcIkqCfvsoCli3UG/oOBLk4dvI07d1/UPYTQTsxMzMX+UV5oL4QMQx5uiZExkDkwsroKGlyzzDZyKBNO/zJwtyE+nRrKJ+lUcvFlmITUmnPwWA6fiaCDp+4Srv2B1FCUga5u9ag7p3qy3oQV1dbiktIo90HgugY33fGN4pWbbxAp89HkncDJ2rBJEcfcAE7eiqcnxlOfgGxtGXXZQoJT6LObbUBM/Rx9HQYnfOLpUF9vKmRpzakd7VBQQJpCkLIwIjTbVByHxkVKlSoUKGisqg25AR7H0ABhMKEGWqgoLCArqekygx2uzYtRRnBpoaNvLwI+1bc4N8gWhOsKQih27Z1S4nKgxlqWD96desi0ZOw5wUUwoEI6/qwNrJXaWAGPjk5mRV2T9kbRH/TOgWYCcZz69etS61aNisT1hcAKVCUeNxXv15dWXSMxf4N+Dv2llB+h/xAoc3JzRO3LcxCY9dzRCEDEVOAGfF9Bw/JXhztdMpyecBv4LKCmWukEzPZ9erUkecp5AQuO1jM37VTxwqJDqJ9gUQgH1As4d4DRQ6hW2GdQUQy1BUUfSjn8OGvxWQOZYeIa1BCoSCCKGIh/3UmaAjPi3C7ipsUFHrsLeFZv74svkaaQeCgYMKKAXKE49xFX90mdvkSlQzKNzb+www+0gLLBtZCgORgnQiiiyFCFWaxITuI3oT0KoAVKz0jXRZK43nYKA/kBGlAAIXExEQJVYzduEGm9ElTvbq1JR9JScli6UI42/69e5C9vb1Eb9MPoYx84/lIJ+oCslzHw0PIjj45OXXmPPkcOMikvAd5exXvD3O7QJ0i/SDoGVzXkD2EtdYnPpABlA/SUt6O/mij2HsG6zTQziAvWK8xkAk5AlHUcXeXMoYfEuoiKytTWxcs65BnqQsmBngGInTBEgAZwB4kaJ9KH5CVncMylkpdOnUQmUNdrNmwmS74XpJDkQFsnoh1ULBG6QfMABClDM9HOhF9C/0B3oHF8JjIqMtljjpAnWOB/5CBAySKHdp3C+9EsjWPkufk52vEKuFZz4HJgyuZ6tWRAkR1a90cEycaupaUKYvjm3i7sEzlkrWlGfXq0oD7FlOyYYLShu8zNjKga4np3IZyxToycWQrGtqf238p10dYQRztrSgtI5vLI5fLh4TEwFIjX/Tw55qz4lo2ZVwbqmFTtQ1M7ws0WRJ+2MC4Dqe9uA9ToUKFChUqKotqswljZYEduaFAtmHFV/Ft/23ZCvr9r7/pjZdmyD4bpYGoTniv/q7R5QFuH1AG4Lp0vwF3KLiMlGeNgWL+7odYnBwpG9xBkbsVoITD5aXMGpAqAu5yCrHRB0jCndalPmBh+vjzrygxKanE+6ROGIP696UJo0fK33cTsDK999H/JDT1uFHDxS1I3+WnPIjLEt9XXrmUBxAZEJLSa49QR7DWYbfx7z5bIKGA7xZAtrE+BiTyToDOIZ/bT3lyebdx9vwF+vanxfIu/fIHkbJi4v3Y1IfFElMe0MZRL0o0MKRbvwZhcUNbUJ4LFyRZ8F4FZGbn0tmL0dS0kSvVrKEt18tB8fTKu5uoW8f69PYLvZkMlqxjuLzl5RVwuipXfiA65mbG5VoSL16OoTmf7KTh/ZvQ09M6685WUxiYkKHlGCLDambdUaFChQoV1R4PHDmBS87vf62QTfSw+VtQ6FXasXsvtWzahN55/WXZWO/fCKyzwYZymK1/7YXninZu/7cACigICj71ZUQWCjOsLK1k34q7DVhNZs77kGYwOcHO5/cTWMcx+/2PxOry4rNPlhvW978EWDjgGli6j4AMQFmvoQs/fccoiJZ9O6qK4LBE+ujrfWJB6dvdU9aF7PC5wnKbycSkD/XueueWr4oQdy2V/vfdfsrJyaf33xpY4T4o1QoqQVGhQoUKFbeBauPWVVnAdQa7i2MtCdY3xMbFyxqDJx+dJhvf/VsBdzZ7O3vasXefuMdUxnpSGhJRJ8+PqDCWj1QyoFw+mcbKw+1GL7t7gPIp0diYgMA9rfRxrxR3uGiFXA2TdUZwQ7qfgJtRY6+GsuHhvdg5/kEDLEsV1T9ko6Kod1VFYdZ6lnvtQv+qwNbaTNy2Qq4mkm9AvCxgt7Uyo6nj21L/Hl533LfdDFt2X6YLl2Lp1Wd7UP3axXs8VW8Ucp8TqLp4qVChQoWKKuGBs5woQPStuPgEWe+AdRplwpf+S3Hm/EVZR+NWy0V3pvLQ5B4nTc4Z3bdyYASlx4wMDFlRxoG/jXTrUoz+ncQPC7yxH4ZjzZqiGKv4d+OWbaASyMrJo4io69KXubvaMmG594u/r4QkiItYU6+ygTqqPYxqkaHlWN0XFSpUqFCh4uZ4YMmJiqrjdvzsbwoDEyYxjrovJVFMcO4MmvwY3V8q/hUoTORKLRtS+Z6ClWMFmiwmJ4W5TLr1iagR/6/nJmmAtSn/LrfJfxoG5n24u7h7a6pUqFChQsW/Fyo5+Q+hMHMdUUGs7psKFf8taDSZpMkM1H2rJJjEGJojMtmdAbvEGxsbVi5kts6CCRgYa8OqCwxsmfTX0H1hGJjSLddzaHK0hBB/FiTwv/xdk8t/gySm8bXiHfDvKQytydDqEd0XFSpUqFChomKo5KQSQOQjhCNG9CMoF4hUBT/4m+05Uh2hkhMV/2UU5oQT5V/Xfask7gI5iYzNo027rtDwgW2obm03MjDSWhuTUzSUmmFIrs6OZGHpwZ3jnbmHXUtMkpDcrs5OlY4kh7VnmoIoCRKgKYi5p2TFwKwd86lqHmVMhQoVKlT843jgFsT/E0AUIYS5XbFmPR08cpR27d3PikUKdevUUXfHgwFN9j7dXyruBOmZObRxxyWKirlBdTzsJAR0dcIZ32ja6XPlvq2HeFCgycWu+VWcizE0JQPj4v1ryoWhNR8OrHg3IgOTxvyT1qyId+ejCyVneNEn3+6hq5F51K/f42Tn0J7JCRMRQ3dau+U4/fbXZmrWtD05OVV9DVlp/L7sb9q6Yxe1aN6saBPXW4IJkYGRE+fRk9PP6eb0k6EJkxRYW7RhvO8a+JkGJs35nXcnsIEChFhft2mbrDu8n9EaEekPm5Rikqq8vbNU3D8cPnqCDh49Ts5c/5g4VKFCReWRzzpuvO85ykq6RlbO5a9rjDl7koJ3bqLIo/spNTqSzO3sycz63gVTql5aVTUF9r3o2bULjR4+hAlJJ7rOxCQ6uuK1ENhQcs3GLbJzNfZXUHH3EZ+YRis3nqcT5yKK9kK5E8QkpNKyNWfonF+07kzFSE3PodWbfWnbviuUmXWf10/cAtiQ8BSXyW9/n6aY+FTd2QcL8dfSaNnas3T6gnaDxLsBTWEa/1Og+1Z5GBiWs9GhUU3W6buSoeVoMrSZIe5KWPANq4Csq0DwCJ0VZOXaDRQUGkpPPzadiWxxUAlQpKTk63Q1LEL2wbkbiI2Pp/DIKMrNvQOZNLSVfCBPsHQI8aoEsIHk2q2+tPdQkO5MOdDk8f/+ui93D6Fh4RJe/vS5C7oz9wd7Dxyi5avXUnRM9VoXl56RSes3b6Nde310Z+4ProZHyH5jQSGhujP3Dz6Hj9Bfq9ZQZNTd6zNuBnhPYH+qdZu2Sgj8BxWwtv61ai2dPnted0bFPwWMB5gAP3HqzgK2VBoswxnxsRSwcRXtn/saHf18HkUeP6S7WBJXtq6jY1/Mo6Atayji0D66+MdPdPyL+XT96k36+zvEf5acVGX+FJvCjWJi8vi0yTRp/BhycXKWzqkiwNKyat0G8uHO6043QbxrKLym++PBhX6Z30jNpuXrmZycjaicH/8tgL0qliw/Ref9bq1ouDnb0vtvDqAZj3WpFrt060sirDjjhregrz8cSd6eD+b+EimpWfQ7k6vTF2Dp+IdhUNx+DUy8WWmfxkTkYVbg22hJyE0QFHKVNm3bQQP69KaunTrozmoB+7ERy61xOZtz3i5gOcCzzMzuQthtWFQUkmLeB5nXXSgf2GF/5cYLtOvAFd2Z8qHJD9D9dfeAUNxffzKfhg3qrzujRVX6+NvBM48/Qh++O5Maed/5mqQ7hX7fiMma1Rs20rZde3Rn7g/g+vzzr0uFLN5vPPnIVFowdzY1a9xYd+beAh4g+w8flXE+PSNDd/afxc10koqQlp4uhPLUuXtPTu5Fe7ydPFdXZGRm0h8rVtKx+0ROYi+eob2zXqKLfy6ilPBQyrmezOVZdgIvMdCfLq/6gywdXWjAZz/TqN/WUdtnXqOkK5fo8vq/qTCv6mH5K4Nq5dYVExdPBw4fI3Nzc4pPuMad614xmycyu3d3q1W0SzU26jt5+izt9jlIp86eo/T0DAknXFpJRahhn0OH6cCRY+TnH0BZmVli9pUdwPk6dj+HOTgmNlbcAZRwxBFR0XTsxGkyYmJhb6e3AJWBXb137NkrZvwhA/rpzmqBTfWOHDtBJzhtF/38KS8vT2ZFA4NDKCIyihwdHWRvi38EhSlcZrvpSvA1SsvIoX2HQ+jY6TCxGLg6W5e7g7V/UDztPRRMR/m+qNgb5FjTiiwtSio+lwLj6OKlWNn/4XJwAu0+EEjHz0RQPteRh5sdxV1Lo0PHr1I0//7YmXDZUTs3r4BJRSQdPhkm97m71mDlpoC/h1NkTAq5OFoXkbqouBt0lM8bGBpQTTtLCglPoqOnwujk+Ujyv5LAAzGz/8xcfm6CvKOWiw3LSbFCifv3HQ6mIyevyruxR46zkzUZ6uQQIVoPHAulc77R5B8YzwqjkaTvvF+0KMm1nG1E4c/OyeNyCBcyFBiayNeyZTdwRwcruV4avgFxtGv/FS6LcIqOSyUHe0spIwVnLkZRED/H1MyIDp8Io/1HgikkLInlw0TyWRUgJwFc9pi1vhJyjdtRmizAdnGyJQt+ngJYm/CuyJgbkg8/TiPyeupCFNdRqAwebi62UkaHTqDOUighMYP2HAykU1zeKWnZfN2mDOGO4vt2+ATIbwJDEiUPyK8+MIjAyhUWeZ0sLEx4MIyS56IcrCxNWLasKTQiWeoKdeGHuuA6yuO0oC4SkzPl3fplHRh6Te6HPAQEMfnmgnBxKo4QB9k5wbII2QkK4frwuUwXLl+nvPxCcnW04P6iZF8UHZ9Juw9F0+HT8RQcnibvcnJyYH5iI1YEA7Ne/A4zCg69Snu47zl87KS0a7hQIaR5aWzYso3fG0LTJk2Q/qs0TnLfhVnmTu3bSp+zY/c+CggMkn4O+znpA7Nqu/bsF4VIax3JJf+AQM5LPjnUtJd74GZ0LTGRPNzd6ewFX04f922sMDo61uR2q93R/nagdfvyIk1hFFdklu6sFrHcf+w5GCQ751+4FMN9XqGUq+/lWHF7dOH2o+yafyMtiw4euUS5Gg/KyS2k3fsOcH6OcHmGkZura4k0Xr4SRHv3H6SjJ05JeUtd6JVJwrVE6dfPXfSjq6wMZ2XnkC3XQU17O90d2nYBhRl9vJm5KQUFh9J2LuPzvn6Uw/fDHauqExsoc1jE/QOuyBgFODrYczsrOUlx5twFqVtTUxO+/7jMsmM/JYxtShqxPgjjWGRktFhf9u4/JDKRkZFJ7u5uRWmDNfT8RV/uZ/3JvRbGQV15pqaKi3E+y4Czk5OkB3IJC9J5LhfICMY0Xx77IKcoP7z/bgPvOsSydvbCRRnrsN4pPS2D68aXx78scnV1KepvMX6iPK6n3CATJtK79u2nA4eO8rgUwnJcU+oQwAQfZpD3HTwsY3xsbDzZ2NqU2Ig3IDBYZB51gbEefQyeUVrWkT7IEzZwRZv14WcGct2Y83el7VQW0DXwjJNnzoq1Iek61rAZUFR0rLRdTAzY2xXLYFhEJPkcOMK/OU6XLnN7ZZ0AukZpuYN+gm0CkJ6LfpdYx9gn9Qiiqd93QKa2s1507ORpunEjldLS0kXfcHSoWcK1EP3JvgNa3QdyZ2NtTXY1il1wQq6GSzmgn/BluUL9YAxGWSVznlxdXO76xCokAHoR9qgzYzlE20b9XgmCzPAYwHmoKqBPQuZQdsh/aFgYl52P6G+QPfSFSj8P2ZN3Hjgk+Ub7cKvlWqSToqzRZ0ZyW8FWFWhLJ06foes3WK9gGYa86uNGWpr0BT4Hj0jbhPzhvtKIYr0QVtZDkAH/K5TDsu3k5ChtE8Ak1n5uA2g/KB+kphBtnvsp9HO1XJ2LJrDwDmzIjechj5gIwLXbKbv0+FjKz8okr+FjybllW0oO8ifb2vXIvX1X3R1aXPXZSVFHfKjVY8+RW9tOrBfz+O7pTQmXL9L14Cvkyucs7O7+3lvVakE8Kuj9BZ9Ry+ZNpBPwYyGGi0LXTu3p/dnvSAWgQ1+6fBVt5IEfz0LHjPj/D48fKzt8W1hoO18I/I+Ll0jHbF+jBivkGTy4FtLoEcPoyUemyKZ+Kdy4X35rFgu1BX04dzYrhdpOBTNO3y5cTE9Mn0ITxoyUcwowALzy9mzZFPGbTz/WndUCgr/49z8pmRWJVBZcCE0N7hA0XMS1Pdzo1Reeo7q1PXR33xowk4dyJ6JtXDi0VYXBqmZNO2rZrGmR0N4KcKd478OZdPBoKDmz8p/NymtaWo4op4P7NqIZj3Xlciru1LftDaDf/j7F+cjmjsOY6yOHOrTxoBee6EZ13Io79IVLj9HmXZepRRMXUUzjrqUzWcihaePb0pvP9xZSMPuTHazAaZ99PSVTdrc24P9AXOq416BP3h3KhMSGXnhng+T1o1mDRFkFQHa+WnRInvfwmDby/Y/VZ7ljyOb0M0EwMyZba3Mpk4YNavI7+wiJAo6fCaMffz9OsfFacpCckiX3PzmlI40a1Ezu2bDjEi1deVpKNuVGppAvbLaXlZNPXdrVoVee7iHELTE5gz78aq+4GpkYG1JGVi717Fyf5rzan+x0eVOwbc9l+mX5SX5eNlkyIUlLz6Z2LT1oxuNdybOuVsH66Ju9dJBJkXcDJ3G/yskt4PRlUmNPJ3r7xd7UyLNqwRbgBvX9kiOSfuxcbszK3DcfjaSWTYqjPZ04G05zPtkp5ADlnHSd64LLCgNlXEIa1a9TU3Yfr13LlmZwXVyNTGaZsJR9Pa7fyCJTHqwmjm5JT0zuJM8HLvjH0MLfjgkxtbUxFzkBQXx2ehfq2aWB3AOgjc76eDsTsiTyauBAF/1jWRayJN/vvd6fxgxpLnW78PdjUhfXuS4sWKGsYaOtizbN3eitGb0lf8AeJmKLl50Q+axha86DSaZ8Pjm5Aw3p10R7DyvNn/24nzxq1aDs7CxKS02kpBu5ZG9rSi9Mb0IDexSXjV9gCv2w1J/8Q27I9aysfLLlz2emdqKB/bUuXLCUYED/ZekyiudBA8oNZh6bN2kkbVt/E0/0Sy++OVMGvE8/mCv9gD4wyPy4+Ddas2ETefLv0F+gz8Og2MirIb3x0vPUqoVWRjFAffHdjzJxY21lKX2cMQ8QUE4fmTxRDuCjz76iPazQQwnB+3NycmVWt0/P7vQap6+qilgZaHKoMAtBNZJ1J7Qk+9Pv90s/AmumkZGBtLVsrtd6HvY086U+RYQRZHLmR9vJ0aklmZhBCfOXPENZW/j1Z9SgXl25b/P2XfTH8pVSJsjLtaQkUTpfePoJ6tVdO3BC+V/w5TeyCS/GAUxYPfPYI/To1ElyXQEUtPmffkHeDRtIWaSlpouyAQX2uSce4/FgiO7OymHJH8vpz79XSX+Tm5sjZOG9d96g1i2b6+7Q4kOuCyjOjfi9MaxYQ9mGOzA2XZ3z9uvkWb+euNS8v+BTusxKNvIJpQVKO5R7WAImjhstE2k5rEQt+OIbITK//vhNUSAWKKqPPvsijR89kl6d8YyU58eff83vyua6SBOFE+UGJcyDyc5br7x4TzYqRpls3Lqd/9JI+kHWIadQBgf16ysWJkXRBYl4Y/ZcyVP9unVEyc7MzJTx9P1Zb1NHJupQupf8uZzJ+l7uPy2lr0K7aNe6pbQzxT3yzxWraTG3RY0GdaFV+t/jsm3ftrVcV/Dp198LCWrs5SkToGgXUMC9uN3Nfut1bm+eujtvDcjbVz/8JAplBstTLpMNO9YvUE9ol49Nm0x9ub0Bx5lc/bBoCfet15iQ1hD3L9TtIw9PpIfGjpJ7APQF3y/6VawwPbt1YSIVKGQS/fLUSQ/RS88+KfedZQX86x9/FhJkb28vegt+izT98MX/qF2bVnLfqTPn6Kdflwoxgpyjn0AeX3r2KWrBOgMAUrvwl9+4xjSSLtyHeoN+1YHL79UZz96Tfb++/uFn2rxjFzXxbsjjcgL3y9p2AVmY/eZr1LSxt+7OymPpilW0YtVa1hubis4UycQMBH/MyGH0AcsUVCe42v/A/e1BbpOY/EFbg+40ZeJ40RvRh2Ci5+U3Z7HuGCx9ZSaXBWQR1x4aO1r0RvT5AOTox8W/ivxacr3jfVjrBFkfOqh/kZ57jkkQyhkEEfor+h7U65SHJvAxVv7eunMPLWE5RuAllAXeAZlCXTRv2oTefvVFrhsbqevt3CaW/PGX9JtW3MYwaYV975578tGivhH9CmQIY4A2HVrdEao+SCD6KpBVrDMx4rIw4DREnz5Gx7+aT3V69KMOz74uz1FwetHXFLjhbxr4ze/k6KW1TIYd2E3nf/2e8jIzqOd7n5FLizZy/m6iWllOIqKjpUOPiY1jQtKRXnzmSRGwLh07CMPF7NnGrTvot2XLaWC/PtIRjRw6hFK48W3evkMGioae9UURWr56nXRIb7w0g15+/mnq3b0bC244nT53npo28pbn5fDgspvvMeEKQ4dioZtxCQkNo1Nnz0slNmPFQx8QQsxqQDBKW04cWPjwnqb8G7DgJo28ZEDAWpUeXbtorTMsCJUF2DHyik7pzPkLMiDjOMIkCB1Ol47ti6xJt0RBCBOTo0wgrlGfHg1Z0eslpOQGE5Tt+wKotpsdd97aQc/vShx9+dMhcnWyFsVxyri23FgtRJFH/bVridkIbT6gZJ48F0Gp6bms8DelZ6Z3omH9m1C7VrWF7ERGp9Cu/UE0dmgzevaRLnT+UgzaCb35Qi/yqu9IB49fpeaNXFlprynpgHj06daQO16tEhrGCvLJc5HUvLErE6BaPDBbU9/uDUXxOesbQ53b16XXn+tJwwc1oW4d6otihMEMs/+L/zrJg2EazXmtPz3FhKRLhzp03i+WFepYTp+HkAp3VsQH9PJmBdaOjp4Mo0F9GtGsl/vRgJ5e1KltXW7EZpJnUxMjatG0Fo0a3IzfU1d2B4ei3KtrAyEvCmDBWPDdfrF+vMtlN218G0nTtj0B4jrWixV2pA/WJez43ZAVdez6PXFUa1bGjVlBDxIlH2V8s7ZSGu6sgKM+R3AdmJoa0SWuQ9SDviUhJi6Vdu4PpKH9G9NLT/aQ2e1cViLfeL6nlC+sZI0bOos72HYmp/FMNCeNaU0vP9WdunI5h4QlMtkMp9bN3LhDtOU6z6bPfzggFo+3mTg8O70zE+ZadPRUuCitHdvVZnKhI27cscJSBrc5ZGsyE02QxAG9vZhA1eKO3YzbhzX17+VF9WrX5PeEUe9uDaTuBvC5Lu3riQsdygQWrSVM/rDeZ9Yr/ZgsdZC6AtkLvJrIv/OUOgmPuk67mKBAlp6c3IoeH1eLmnjWoBPnEikiJp36dnPjejWk9Mx8+vxnXwqJSKNXHmtGz01rQm1bONDxc9fo4Kkk6tHZk+wc2lAQ1/nnTBJMuc3Nm/UWPTJlklhsMZmBzTw7tmtbpIRhEmPV+o086NalIQNL9hMKTnFbxqwwSM3Lzz3FA+UEmd3GzB6Unt66webvNetp/ZZtNGbEUJrDA3i/3j1EeQlm5RTvVEgMZq8xq9a7Rzce0F7ivnGQKNFbtu+UAaxZkzt0eTEw5v+9Zdd3hCMG7O0spLzbtHAX6xp2r/9o1hCRxV5M3jERAXkHMDmw/0gIBYcnUb26DenFp5+kyTxA9+zeRcoAygIG7+9++kV+M3/OTJrOxKtp40ZiMcIMJMYCKIE1ePCGq9y4USNkwsfP/zI1b9aE2rRsIe9SACsTCCXk5snpU0V5aM9K3LGTp+R5nTq0r9ICaijGA/r2kroAAUhk4tSL04+ZZn1AacEsdGNvbyGGk5hoYHzBmFTTvia1ZUUbSjLqGooO1iTN4PGue+eOonzi9825vjATW8jECxNfGBdHDh1cpDRCkcG414THM4wFIDhQUDq0bSPjBca4BfPm0NCB/eW8q0vZGfu7AZDKQf37isUA6USdvfL8M+LOCIUZY6UCuK6I5SI4hNw4b88yQZzy0Hgh0F6e3Jeam4nlAO5h/fr0ojlvvcbka4RYPXbu8RHLD+oPAOEayHUxduRwITjx165Rj26dRQ/QBywLGEPxfKmL8WNF+cQ4bssKOUhPZftaWMjatm5FfXv1YNmKZCKYK4r81IcnyDnIMfoHRPb8nQk2ZOytl1/gfD4q61aRDugg0BP0lX/M5J84dVqeN2bEMCbOj3K99RN5VhTVL7nvgcUH73tlxtNMfBvSef5dMhPC4YMHsKy4UjTLyOff/ijEfubrL4u8g5ggr+iTOrO8Y2LWhQku5LhhgwZcZyepF/cZ777zOpdn7yJZqsr4U1mchi7D+a/H/eJrLzxLkyeM4zHKSdIHggRiWVUZvRxwRdoL+o7+LHMznnpM2kmHdjz26iwKy1evp7UbN8v73nrlBRo8oK9YWWDRhL6G/hGTyGifUTGxXAfD6fWXnmddqZvcB720aaNGQu4LmQz/wGTy0NHj9PSj0+m1l56Tug0MDpYJdsiHYsmAyxwse7PffFVkAO0Q30+dOStkCqQc7aA/lzsmLo5yv9SF+7V5M99kHbc3de/SSbx3UBcguZ99873U3/uz36LpDz/EBLuBWGQgZ5gIQNldDgikn39bSoePnxRyhPKG3ggrECy/mACATBlyf6vUcWpkOEWfOEQ16jYoZTnRUMSR/ZQSGkxNxk8hU0srurh8Cfmt+JVyubwxrtfu0ZdsalV+0r2yuPs91R0AxQSzJzqql3iwRsfWukVzYdMwZWP2ZPc+H6ms0cOHaiu2lguNGDxQFp4X+U1ygWFWAwUPVgvW6cWk5Y2XXqAneIBCh1QEvqe8JojfVrVxonFBuahbx0MGWmtmpw3q15NBArNdpc2CtwI6YczuPc0dzNOPFR8znn6CRg0bLEJaabAyAbMtlErMUsP6gVn7qeNaiwJx/Gw4ZWZrFQ4oprBwjBnaXAiEfQ1z6tqxPjXzdhGlOi6xONwoZoYxiz5mSDNWEjvKTH2H1rWpQR1t48QsOGZTG9ZzlGc52ltJGqCQNvHWkqGcXAQN0NaDFHk5xa5UhZWFmaTXw62GPBcz61CI3F1qiCKuuP3ASjaW0z/vrQHUuqmbzBo48LtbNHHlTjqNkpK1fsI2VuZUy9mWn6eVCXsmFbC81HG3l09FBqB0gsAhX00buZA1K7wsZmUABTkzM5cmj21DbZq7k7OjjVh8unWqJ2sooMgDsG44OVrztday67crp71fDy9WtOxEqc7MrtqiZhAg1CfKGK5Z5aUNpzCb2qCug+QDVhO4rbVk0tXE24l/oxGLGvIM1ydYb0YMbCrlgzqdOKqVKI3Hz0bI8+DKE8RkYEi/RjSwdyOpl+4sJxNHt+I8pAgRVIB3ow5A9h5/uCM9NLIVNWNS2plJhUKgrC3N5F0gjEgDyKNTTWuRVWdY23R1AfKFMp335kBqyjKE9Q6ITNagXk1xt4OlDEAZGHF6kb7e3erzM8ypPxOSFo3tKSo2k9IytGXsd+U6BYTwwMbXhverze80ow4tHenxCd5iTcrMymWFPIT2+ByQQWAU9z1NuE/CAI7Bvn2b1qJwwK1TAWa0YJqvaV+xtQJtBworlKWWzZsxOXNkRWsY599VyAeAGXe4pkLpgXsYBkfvhp6sjAyUZ4N8KEDfCReACazM1a9bm+rVqS0ztFDeMTBhJvuOIWtRitfPWDAJRJ3VrW0vbcTSUvu9NpN9V/7Ud8MDMGngWddeFCwokpjJhTKtzEhCsXvq0Wkyi4o+G2UEtxYoYmGsDELpAjBrDKUY+YQVAv1tuTLPigQGbEwkQRlD/9yZla+O7duJUhcfj71fKg8oHVBy8U5nR21I6PLei1lYjE+YHcUkFfr//r17slJWRybJMF6hLSF/eBbIDkJAY8yb/vBEmf2EJQQQuedDJ/6lUDxOQYEHmanHZYKxBoo0yg5KPM5X1speVaAdQMFCHtGHQNlEOUFW9d3sFMCSU69OHXrtxedZoe/OMsCkslWLIutibSaA82a+RY9Pe5j7d23f0IwJKsZ9EHIFIBioC8gB3NoE5dQFZpCRnskTxgrRRTmDSGBsDo+I4HZR+YAUKEPIENqWFZNa6CXIZy3OOyYqFNcqyNwoVpA/em+W9A9op3Ap9+K2i4kMEE19QA7wG7TxRyY/JGUCJbcuvwfATDgsZVBWQdZQxvgbSm1hIdYJaGUACjMmKIYNGigEGG5ykCn0U3AdU8oPli0o5LVZNgwMDEVZdXJwEPKN/CkydbeBugCJfXj8GLEKYMJWIaYge5j8rSpgcUB6RwwZRC8+8wS1ZkIHkoN+EoC1Dmv/MNGMSW3IDfpEEDHUC5YOAMhyXn6eWFkxoQyZBoGAVw4sXseYPAL+XL4gdC25jgYP6CMyijY+uH8/IYdwWwNQp8MGDaAP350lhAD9BMq5VfPmYq3CpAQAkgr5gdxDBmDBQh2gLtCH4ByA/j09PV0mZ0DS8az+fXrSrDdeEWKCsgXQxzw2dQo99yTrjnp6I3TJx6Y+XEScyqDc/lP7CetKcmAAHfn8fQpY9xe5d+pO9QYMk4kT6Fr3AtWKnKAg0Lk18fYuGqz0kZScLAQFpsAfFv0i5mEcvyz9U8y6169r3angy4fZInT6n33zA736zhz6ZuFiEf7hQwbKoAdIweOQhli6MZZTU5UEZsSQD7gawHx4uwCp6dKpPXcs7fhoS510R7fOHcT6owhtZYBN15BfY1bo9RUGEIUGdWvKrDr8xWF1SkhMEzeNjTv86e0Pt9Eb72+lL348QBExN0Sph/KtoKBAw2TPnBXNit2QULJ5/DwFKBs8H+8r7gNhYK488HvkB++Hol8aGDS8GjjSBVaQZy3YTq/P20KzPtou61+gFEjd6wEWBEBp4DdDVlaedDyl+2/kC+TD2dGKvD1L7pwPYof6imDiIeD3wxqjvybExMRQyFJ2dj4/vyqlURJKWZf3BKQ5n4kHgPTintzcQl1daBUgnEcBIT36aMjkB4QqOu6GfI+ITpHftG5a0lUElhcnLgOQLJSTgB+J90LeSpdNaeRKfXL7qaAMLM1NhTRgrcl7/9tJb8zbTG++v4Uu+seJy53+7+BuYcmE1sCg2PXOytJYBjSsewAiotNl7U8Tz5KK1IAebvTlvAGcXmcqyLlMsXFQKvPE2vrOex/Q67Pm0oLPv6bAoBAhI+npWsUZgL8zSrf0WgQFSCHKGUqkfl+HCQ4MPpBD9Glp6Rni146BC/2BAihJWitNcV61zzPhgbT4edrJktri+oG0lwE2acRRBUhEslIL5DHBgPffSm5xTyOufwzG5QHKHQZX+H6/9e779PrM92jex5/ygH9Z1oOJbJYC+tjyzgM4DZmGG4M+oABAqYOifLsAAakISA9cKBRrPAArN9KB8auoXTBwXv87xidbWxvuhxPlPBQDyUglxyhl/IGM30/A2gdAwasISBHGGJDoilycQaRsba1pydK/eHx/j1575136/ufF0sagSJeHm/XbKAuMBxYWxRYc9Au2UhfZIgdVBfKAusGzUd6lAWUWXhznfS/R+598Jvl4fea7dIyVWrRd6Ab6gIIHcqm4XZVGXFyC5B3WNH0owS8UMhETFydlcfTECZrzwcfcR6H9fEaX/C+LpQ3uTfrQyr9WV7kfQHkh//rWNOhrtqzgox3fVl1w2mH9bFGBZRgWNbjfxnIZfvPjT0V6IyKtwQMF17XA4KftW/XJGdxu0V8pUfkio7HnXQ5FRsXQB598QW/OmSd91QZxbeS6SsBaWC3ZBEGCq5m2Lt7l++bRHp/9/Cbtu/QhdcHlg3W45QHtYvKE8WINfmfufJozf4FYZkA2Rg4bJFZHwI5JPFzzYAGDvqjojtAlQdowxpTGzboKA66fgpxsOvPTF5Tge4baPPESdX7xbbJ2dWO98t7JTeW12/sECAVmuyoChBuLT2FGB/N3cnLigdtD/HN7desqgg7AJet/H7xHj0+bIt9hcfnwsy/F/xSNFBDxK5bBImABrQjnHfTtSKe+gN8Odu3xoRffeIdefXsOE6x3pZPG8fyrb9G3P/0iDaSqQJaQtmIYyGy6diDjA//zASXPrZaNKJNYMI91BH27e4o1okSEKl0WK69Ml71PGqp8lkVRXZQLlHH5v8OMCNZ9/LrilKz7GNKvMU0a3Zpat3AvN61KkVS+zsq/T+mUSj8GhAjPLprp5uuoB/20aKtAm6e7gUo9Rsm4HpQy0CWnCJwFrazo0qx8Im/6wO9xTn9WXz8xIJQ3he6lFaUf+8z8+PtRWrbmLCsxFjRiUDOaOr6tkJ6y2UEZczr09tbAPXi2Us4gM/rfFeA71lshzxpNLhXmnuf+RSMLfOFCgZli/N29a2exUMC/XwGUIch1RYO+vI8PJFd/QJa2ifTpEiNpZ5SZiJCMKk/Rg3zFNS20dWEozylRNth0MXs3Fab/QprcE7qTVYBh+QSzdBmWhfaGisolNS2dvvp+Ia1YvVZmw0cMHUyTxo2RmVXtb8p5Ab8U7y3v1ZIezrdSjoC2jFHnN+tb7hza9l3Oe8sklmksring6yBi2jrTyiYgf+ulV9vPlE0/SDGeVvbKPYYuD7cq01ulC4uL5y34TFyj27RqJf7+I4cOlRn321FeASStdF3gP21ab6+klLopL7sgaliLgzWo0EkGD+hH0yY9JBZSQFdUJQB51E+jPkCG+Fdaonoz8HMhFy7Ozjx+ww1aa9Hq3LGDWGhxTh9KOm5RZXcZIEOl2gXypi1NOXc7qJCM83m8AxY+dzc3KROUD6xYE8aMkslf3Y1FH9o0aQEZwVFUN3wNeom9fQ0hDHieo6MjNfH2oqkTxwtJUtoA1sN89/MvIgMD+/UVctGhXVvlTSWAV+J8RSWAiayHJ4yh/73/HvXr1ZNiY+No2crVNJuJD4iWAr9Ll5m8fEAvvTFT9EVFd4QuOWvuh+K2VhoV1T/yYWxmTgW5OWRdy4O6vjWfvIeNZcJiTLnpaWTEhMjQpAoePFVAtSMnQHkVB2C2CwdmI7FY/c1XXqC3+Xjz5Rn0zGPTacjA/jLzhoWPMG/CJ3jiuFH06Yfz6Jfvv5Z1LIj9jugtgKGRobBIzHLqD5b4Gy5Q5UmJwqoV4SsPuIYOAs8po1RUATBzg3hh1tQDh7ubHHVqe4g5FOmvNJSd4blw9ZVJ+O/DDUYbIcuQG5Eh2dpYyN9D+zWhN57rJcdbM/rImpFpE9oVueHoo6I6qwwwSKCcQCKw+FmZ2QcKWZHVfi9Z3kod5PP18sohPDqFjp0Mp7Yt3emDNweKKxvWlsClpDxyAhcxGa7KuVYaJsZG/G6kQUviFCA9iFCGxeMx8cWz6EBY1HWRKXc3XfS3OymwW0CpXyPjkmVWZXBviXJRgMhMcJtycdLOQsMlDAgJx4Z9xYA8JSVnykL00vKv1+dXCHTkuK+iwQZWvn2HgqU+Z77Yh0YObCrrlODaVYIQlYax4s6pe67uw93FUixxEbElQ4JejUqnjbsi6FpSuqwVs6thSkYUTX06m9IbL0yVfgeLFWc8/Tg9OmWStFMFNjb8Li46xQ2pKtDPNdwy0OclJFwrMeuJe/ILys4WQ8b0FRws6IQLCWbXTAxTmIgcp8KMpVSYuYE0eYFyjyb/qnzeCUDggAo4RwloFcPyEXAlUKI8we0G7gpYNwP/cCgTUNB0rykBzIID5fUDyntKv6+i91cFkG0oVMo6o9sB0oH+COOKgviEBJabVCG7aAs44MaRmZVZYlYV40t5yiyIDaBVaO8fDDmdSI++Ync7OHHqrLi1vfDUE7IIeVD/PtS7R1cZqytS3pW6QFlVjLtR61pADPHO8sYSAEFxdu7ZRx3btZF1YuNGDpe1YPXr1dXmobQcs2DfLHUuTtrJgLBwrUutAkVvUcocrp5oI3Djev3F50Q/Qh8Fd6fHpz5cZvE/xnv8tqJ8AHev1G6Bctp25aD7YQUJdXBwEHdR6EzPPD5dygN9N46nHplKg/r1kfuUMhR9RK8vgesn3LDQBwFwtcLzEAlMypifh3J+jf9GIAuENocugEiBR44dJ68G9eiDOe/Q+FHDxQ0LAU8wAV+6nYhHC5+qaNyLjo2VCGIYZ55/6jH67otP6KsF85Fw2eMHlkXA0tJCSJjojdAZdZ/QJeHmWaXlAAwzWzsy5rbnOXgkubZsK+cK8/MoLTqCzG3tyQxj3T1A2d78HwSE4madG4QLC8Tge6mY5ACECfyW2SkICYDwvYgX/fZ7H0iEEzBOhNOETyWEBn7cADp8KPqhYRF0wfeSzHYgwgUWScEMqK9YwcSOQR6RIGB+A6GBfyEORP3SB8gTWDqiPiB8Je6H3yMWtVUFPbp2pvdnvUXvvv06vfvWa9pPPuazoCNCT5WEzAghKO0kQtPx0wi9mUfXmZhs3ukvrkhtWrjJeg4Ai5+Bv9aekYhNKDNsjPfn6jO0ZouvRG9SUNSxlV9laDfS2BR1BPcqjU/7W5zTDjjYbT0iEmsVYrjM8iVErc/REIl2pVcVAixyxroP/4B4usrpR6hfKM/4HQAlFe9JZWUaIWURQQwhkfccDJaZ8tIyZleDCRl3Dv6B1yS8MmbnoZQqz0MaEbEL5RDJ6cpmEgX3Nrg24X6QPKBz2zqUw9fWbrko98HdBeFuDx67Kov+sd4DkDIpPSAoZVXqdGWQnpFD0fE35MDCYzwjNi6tKM0AunCUv/J8fBbXBf7Wzq7jgMIFN77T56MI/vERMddpw/ZL3OayqG0LrTsGFr9j3crW3QF00R9hZPMlIMC6rb6ywL15Y71FwvLcsuVeHhB1C+Q4IDBBW3dZOeJqiHIFUBcF/BzkDVHGsDAfYYxPnI3S1q2uXBX5Ut5pYKQlVfgq5SzfiJp42TM5t6A9R2Lo5MVErvNCfm8m/bD0Mv3421EhZEDnNrXFDW/5qg0U4PslabJWUmL8QVq5+k8+t076DAXOTg4ySCC0ryLf+pC0IQ18TZe8ImjTrXWxRF/SqX07uhwYRGs2bJG+BtG70NelpqYJaVIAJT3h2jXaudeHEDUpJeUabdm2jK4EnqR2zVLJgjaTJucMZz5d6gqBLHbsuyL3YU3NLVGYqiU36Yu4gZWcfUOdIUAEXPkQsht9RAK3H2UdG4B8yVFa7vUA5Rt5hzIAF15MMG3dsVsWNfMT5PeA0qeiLPAJUnadf6P0yVh4LdDVdelC1pZ/1RVpuNnh+Yg0lMrjD1yY4C6CNCjuHEC5+dSlRd4pl7STWHDFQQAWkE24bGDjTshOY++G8jMAM7RYq4BQ9Ri/EC1u8/bd4qOvP04BcAnDmhy4nUgIfR53EljZL+3Pj4hVkJXjJ09XuRzKg7JwVxuONkXaA0hGafc3lEFFyjDSgXKAa1JMfDzXY5a4JP7NZRIRFSXPV4BJSNQFFgpDF0BdSD3wgfpR8iR1UY43BupHe0/V844yd3J05D4oWVy34JIEeUW7A5DHgsICbls3ZG0B5AZRtBAtCuks7aevpFFJc2l4M6mABeTgkaMSvhb6BxY3Hz91mtNihJYh97Vt1UL0pJVr14vlCW+BNXLdpm3iAqQosAoQWAIuaJgUwIw62g1kRd8dHSWOa1u4HWLty50A+dPWfcl8il5QzvnKQJ6Jsqvgt86ODhI8A4vmEVAJm5QCCAX94y+/SThyBRj3kFfojdLHsGwhGAmWFGDtDgBXLaxzQltEWGe0L60r3Sn65qfFFMg6H6C4/qHuEWoaa/6wOB1R6OBiWzq9qAu46QWy3hgRGS2yj/5NqYtofsa7Hy6QyI2oI5B1WG3gSQQvGoWoIn0gTAjaoq87QpfEhD7kozS08sfpKUf+nJq2JDN7Rwo/sJtSmZAgylf4ER+KPXOM7L2bkE2tkm7dCPGNiItwZ7sTVKtoXeERURIKs2PbNrIQqTTw27p168gAvHXnblmEikF6w5btsrANgziEBtYTC3MLEUZsaIPIJVu4sA4fPyHhdxEdBD6KGNjh743ILYiag84DnfU1Fgg0yTYtW8pifIQ9/OLbH2nVuo0SHlA6Q27wiICAaCsA7lPyhmcnX78hER78/P1FaBFpBOHyMMj8EzAwaSIKHPYGuRptSucu5dGO/XF04FgYdWrXgh6dPFoW+JGhDdV1N+YBopB2+gRK1CQs5N6887Ishm9Y30HCuiqzhYjQg8hV3TvWk0XkpQHlHVGguneqJwu2EZELbbJfj4Yyu47wsZ3a1ZHF11D88A7suwGleJfPFVE+0VxaNXOTiFIKbKxMJWzxQc6Tr3+cpHPfoSBq2shVFofbsbJ0LSmDr4fSybORstYExAQhiDMy8yRMsGe94n0TECkrKjZVQh+DHOH+85diWZ4cJPIWfocIUdj48RiTO8zeQ2m9eBn7ZyBsX4GkEe5v6HQQoewEvxf3bt59WdKDMMxYVA8cPB7KA2ialAMWkgMIxXrgKPZGMBYXOmV/iNIDFuRMzrG4YbYQQNjcrxcdlnRfCoiTBfWh4cnkcziEAkKuSdmlZ+Ryuri8mUA18XKW+s3PK6B+Pb2ExG1nRbULE1Nc285lH8K/Dw5N5PqIlPVH2BdlSN9GNGFESyFyNkxA7GqYywJ5nyOhdOZiNG3e5c+KUwY9NbWjLI5X2gTKBHKA0L99uje86V4uqAtYX46cCpe6OMx5Os3PxtooBDWAEpzIdbufies53xgJj40oZyCxIDWoB6xJAWlFgIIOTCqw+F5cu/IS6cDJeFai02nkgDpkZ2PKpNyYHGua04nz11he4rhtJNPmvZFyz7SJ3ahnp/qsABhQbZZv5AaE+RCTzTMXAmnztt2sLBygOq7XqW2zXDI1usYj7TWuOzNWHkIpLCJWFrbq732gAAo3IjNh5k6/X8D+KMCwgf1l3QJmuwICA2UfDOx3sWf/AbEuQJlp26oltfROYtJwhvvCYxQUEkkxMf50/PgG2r37b/I5eJRaNKlJjz/cVupLAUJh//zncSGSaJsIAoBNJgXYsLUwhRUo/kRkrrzLTGoO8ztO60hJWUUP1kTILyY+0H6Pn46QyG4IZAALGoCJkd0sp7VcHKl7txEyaVQa8JfGoIY+GXtJIBgAotFkZGZQbk6uRFWEkgYFAGFaoWxACUOkHpAD9M8IXKCdKXSXZ2EvlXZtWssiYwUoe4RpR/QcZR8JpZ0VtS8dFBkGoFj8tGSp7MGCSTLsM4F9WDAOYJKsXVtE3TOX/SVimXRg0a0SwhlWrAOHjsiaon69e7IykS/KashVtNkrohBh4S7+HjdqJI0cMojlWVtGWDSLhc4YU85xfvfsOyBKOxTi1i2ayV45CkBSEWoU4x+iAqFMIBtYQKsssAYQDvejz7+SCbfB/bWRfu4EWDOBmf2DPCZf8PUjnwOHRb6xSaWy5geK4fZde4Q8DR00QM7pA2VtYW4mCiPSf5rHZewrhghHUJwR3AbBDWAhwT45Pyz+VeoCkZKgBKJO9x08JIuSEfgAE3hYv4R9P5SACACIDe5DSO6+vXoWrd2oqK/VlwEFkF+QA+gXiMK1bdduIWLQXbDWCKQAkclQX9jnBDpAIpMDQwNDWVuiLNgGII+IOIcoU0oa9aEsgD528oxs7nyW34l8B4eE8VWNRATEXkFQPK0trUQv2s9tR9LFuhL0KizIh5xA/hTgb5C5A0x6zl+8KL/Db+rUrl0iHUjfxywr0Kv0Za2qQJ0i+tWAPr2KlGSQbqQV6Ne7l7QfoKK64D90o54WkDWUXffOnWS9WmlAVhDAAEo/onGBIIDgrd20hfuNFOqqiwYLcrSb+w60ZxwgL5u375TywEJ6RNwDkYOswDKBdyLKGOp3H/fNaLuIGodw0LBUw+INsnr0+EnuD88ImYF+mcTEHe0TfXfzpsXrZFAXICMIGa+VmRPSB8LiAWsN+ka0H8gU2gVkDxHIYKHBlheYzL5dpEZFUPTxg2RXrwG5dyi5z4m1M5cNy3W4z06KPXWMovi+q7u3koWDE7V5bEaZSF0gc98xSatb26NMtNuqoFqREwgeOjFEmcAAVB6g+CP0HxqiNvqMgVSyhIjkgUEBSAqsLFgkhE4CkbOwSF5C1+kxRwglzGxguZi1gzl0zPAhrIi4S4hG3IsZFoThQ9oQiatV82YSrQeNF+teGnPni8gK+nnDokZE3YE1Bue9vbxEScHCr38K6Mww6zZx7GgyMrYgA0Mz6tOzHz067Smq5d5eCAwOI/NO1KLlcPHJ1JA15ebbUf36jVlRG0DDBw8ic8s6rOe5yaExqCGRplo286IadqxgMbnRPzSFqVxuZlxHzcnB0YPr2JQ863twx9yQjE1syZI70tbNG5GTE3xB3aiJdx2+x4SVfUMuL28aO7wL1fXgMm7UgK9zI9A919DYlho1RJQWe8rJMSATEwuur3r8nqZkaeVAhka2TBjrs5zAHcSY32NNQ/q3p+EDO3C92XGdYSaq+HnGJjWY2NQXP9LcXB4gLaxZqfOkFk0bkblFTcovtOCOJl/O1+b0tGhaX9Lq6uwoctDYuwF3jKyM83ubN/Fi+atF2dkG8u7O7RvRE1P7CYFV3odyqIPnNGvEpNBRe97AkkzNLLhs6pK3p6ekadPOQCZFZ1lpjmECECnHPj72HAwnvys3yLNBA/n9jQwDSbe7mzM19PSgNi08Wf6cZRPBunVYlllGLcxrcPqtqG3LxlLeGjLhdLqL/Jvwu8x54GnXpgl3qs60adclKacRgztwPoxEKRjJf08c05Pbki69fCBUbvOm9ahQY0wIetOwgQc9NnkY9eszmAxNuE3o5MTAGCEYrfh+T2rWrANZWtfTu1byMDb14PbF8uLgTDn5ppyumtzJNaNWLbuQpU09MjWvzeXWiuvPnQo05mTD6R05uC8rgt1EhrwatiKXWk1YNh3I1pbJdKuO5IK65vKlwhuECCMerhbUuqk9mZtpSXYdN2smcPYE55CsnALyqm9LU8d40aD+XbTmdh0QHayptwuXHSJp5UvUOEQxGz20OVmZF/Dzk0SB1+QFkIEmjhWWg1TbOZ4a18/kc6zk80GaG3xfNLeN6xLRCnVlY8UKvyaNf5PGSms2y7Ybvwehx1kh46Ju06Iek6h0yspMYrl0YjLvwANoALVpZkTNvfi3nK+83HRq3siOBvWux7LAlcH9DvbieXRSe85vSXIES6PPkRDuQ/NoUJ/G5FAjj8nHKe2Rd0nST/nBWjKCPOlCB98M2L/G1cWWFTTtRoxYA9SmpXvRGjXoFYi01qJZF2rQoH25yjCUyRYSxcdZ+k47JnXjWVHv07OHKFcIzYsIUFjIDGUU7RWuMlhj6Fm/vgziGDugIEJBAClGn9uGrytuGaLkcH9fi/tnJeb/+s3amWUofgjhDrKBA6452DMLC5FBFDETjllaPAvjA9YQeLCigll0KEbwN9cucNfImIDwxsULULEw20Qij3lzm8PsNwgnJoWwZkn2SuC0IBLlhDEjxHqiAOQWkaaMOQ3wDMDfk8aPkTUELVjB0XcpBLAYG6QLyjLyi74cEbH0STKUGpAdEDlEErvZ2FwZQKlEVC1rK2sZZ5AXRNtEJCModQKWASiLTfi+ivYXwVojKG2WFpZiRWnA9Yq9QVDeUNSw/ghuNSB7uI66wBjckkkaok+hLqAYtWzWTMgd6sLDncuJZUKJpoX2i3SAIKBfhhL5658rRNmD54RS/5AFyABmxhExT7+MMKHgzWnBhD+uI4Qx3LigU0C2URaoF+gWIBcIt4zIoriOYD1KgAs8EzPs0CWg2+gvFtcHiCWUPehJSH8X1lVAfKFIDx80UOQeQJ5AfiBr0JHQJiaMHikyBoVZH0gn6sfBnsfR3DwhmIiihUhU2GNGAbxAMHkL6wHk6HaBfKKc0D6hyymAK2LDBjw2cP4wEYG6WL1hU5m6wOQAAhBABpS6gH6GTQ3xzPImgQAQO0QFRJ+A6Gyo++5dOtPj0yZLWwKQti07dkkZIZwz+h+QTEQBQ6Q3/bKDXgh9DudgOTFnYgG3PUQa1CdIkEvUGzw5UB+IroZn4/cIHYy2pwD5aezdUNKICXH0N0hbK25DiK4GmYdujAX6mAxFG8O7sE8LljQo7q23BRYoE263zs1ak6178QSGAgfvJmTLY7dE5+L/3Dp0oxaTnyBHPl8aiAyJiRuQJX0CXlVUq00YqwpppJx6/TUU5QFZxGtv9W4I553OHpWGNo3aNRX/NBDdISg4RNbgoPNGudyq7IB7US63QlXeqRXhissY5Q9UVvbwbtx7N2T1Tstu7cYtYsrH4KYPDIa1uJOfPmmCDD53E5ihfPGNmawcmNOC998V5Q1l+E+0n1vVRXl1e7O0YjNSTbaP7lsxNJpM/kdrFpd2oUnnh5oyWaq4bG+VX7g0zfxoB6WnZ9PHs4fIRqO3A7hJhYQnMdFoULTh6LdLjtCG7X70yZwh1KVdPd2dJXGz9CEE9Bvvb5HIWbNf6V8yyMUdAuWPo6J3G1gM5nK99aBVXt3eC8DFDZF2jp88JUqL/vvg2oE9GaDE6O9OfjcAlye4aSDk9KLvvpRzN5NdBVVpZzerizUbNsumfs8/9bgoX3cTt2q3lQXco5T1TAoqU0ZVBbwhsJ9QZFRUkbVKAWQAM/rDBvenknP2xbhZndwNOcbzsTM9xmu4KOFdcDP/8NMvxcXn84/miXWgNKoiKzers69++Fm8VRAa+U4sJ5UBXM+Wr1pLYRER5dYF9mSBham0XFQWFdUHxtQZr78tf2N/IKzfqYyOVJn6lTuqILeVaT9Vqdu7CUzsVBSYAYTprTnzxN0SZfifJScqqoaZ8z6kgCtB9Bl3ZJgFUlH9UZ6/fBG4Ld1uB30zgJw898qbYr7+dP488SX/NwELwrHu4n4A6zo+/Hov9e7qSc8/2oX0N+ysLDbuvCS7/7dv7UHNGrnQ1YjrEhCgdXM3mvfmACYWZUND3goHjoXSoj+P09PTOsvGoPcNBiZkaP207kv1wT/RzuDCMev9D4UcYed3EKP7BRBcuMX5X7lC773zpuzp8F8Gar70OhB93EpRvNeAdQDRRo+cOEn9mShhj52zF7CJ63maPnkSPcHk+U4CM9wMcIH7+POvxaoy87WXiq1g9wj/VF3Ayvjsy29w2yjgcW/uXZ/0+y8Ae33N/9/n4kaLIFV3gmrl1qXi3gKL87EbfrfOnSQKkIrqD6Ujrui4F0DnDBIL94pOHdpVLfDCgwC4pMFl6T4AO/fb2JjRoeOh1MTbpWh9UVWATSmdnazpStA1OnUuirAp5MBe3vT45A6ySeXtAAvYu3asR82Z7NzP2TcDk4aVsprcb5TXtvSPewG4jWCNBKJyYUO9+1oPnCW4lMBd7r9OTADUcHn1rn/8k8D7MaEI1yCsmTjv6yfuX5PHj6Wxo4aVuy/c3QLkEm6Bvbp1KeGKda/wT9UFLCDYXR3tEeOesvZFReUBVzS4cmIdD/6+E6iWk/8Q4NMMxdPKWhsMQIWK8oBOGv78aKvwdf03tllNzkHS5Prqvt1boDwRXAD7BWEX/NsFIshhg04s+re1NvtHTPp3CkOrafzPvQk9+aABbhlKVDFlwbgKFTcD+hJEsIMLEiwZd9vV8L+ONF3ERawDuxfWUhWVh0pOVKhQ8d+DJocKs9YRFSTrTqi410A0MAPzshGaVKhQoUKFCn2o0+cqVKj478HAjAwtxkJj1p1QcU/B5Wxg1lP3RYUKFfpABCplnwoVKlSo5ESFChX/VYCgWI4hMqqpO/HfBTYpRVSwlDTtZqJ3G4YWw6S8VVQCWJiPoxzArQeboJW3qeCDCOTndoGIQFfDIyXs6gODCvKLELY/LP5N9vxQoUKFuiBexQOM9OBgyoqNpZxr1yo8jMzNyegeLha8HcTv2kmpfr5k07hkjPArH39Ijj1uMruMga1U+4nbtpVyU1PJwq04XrqKKsDAigyMvUmDvTwKtbs7/xeBDUNfnL2RGtSpSV71726UGgPzPtVyEXx1RMjerRS6azMZW1iSlXPxprP5OdkUfngfXdm0ikJ2b6F43/NUWJAvG6BVFNazuuPcBV9atmot1bCxqXJkJJCaBV98I5vgtW/dmmrUqL7rmPKzsyj+0kWKPXOcTG1rkJl12bRiB/I/V6ySnfU7tmtLlQnxr0LFvxkqOVHxwCLgvdmUsHk9JfnslSNs4VeU7LOPUk4cLzpn0dCLLGuX3TU2LSiIoleuoNiN6+n6qVOUk5RI1nxvRQN9fno6xe3cTmmBV8o98jMzyaKWdqfp8pB8+hTdOH+e0vm9CZs3UKrvRTIwNZPvOUlJZOlRmy48M5UazHhV9wst8m7coEtvvU6B82ZSxC8/UcL2bWTbpj2ZOWh377360w+kyS8g+7bt5LuK24CBsayHIINC7aaD/0GEhifR5l2XqXc3T2rkWbxJ7R0BrlwWA/nj9ncJvhWwA/nS5atk4zJE2blTnDh1hrbt2ksO/Dxs3HY/keB/kU59+wnFnj5G9l5NyLFxMzmP3Zkvb1xJZ3/+inJvpJAJE5f486cp6qgPmdV0IIeG96587yWwc/2ylatlg0uvhlULZw37w7ade+hGair1692D66r6kZOMhHgKP+JDV9b/TZfXLqME37Pk1r5rCdKpAPuOwWqyZftO2bixXt2ye5aoUPFfgurWpeKBRcvvF1KHtZvkcJv6CBmZmZORlTW1Wbq86Lxj1266u3XQaOjii8/ThUcnUWFODtl17ETm7h4Uv2UTHe7WjlIuXNDdWBJZ0dEUOOd1Sj50sNwjPSBAd2f5uHHhPCXu3yeHIafR1Mm56PuNs2d0d5XFxWefIBNWQLofPUc9Tlyk2s/MoPPTJwhpUXF3YWDamevmISKjiknmvQZmhLEHRUXuLojwVFlXGOxMfSvI/h4M7NxuamJYYYQapOlWQNoUFJKluMzdqcUEebhZbkOuhtHSv/6m4NAw3Zmb41b5OO97iVZv2EgRkdG6MxUD9aCf5ztBTuoN8l+zjDLiYsRqoj9JkhjgS75//EwO3k2p2+yPqcfsBdT1zblkZG5BQVvWUGZSou7Oe4+7lV+gZ7cu9NWC+dS1cwfdmbLQtoeyazEgpdjXw8zEhEyMtevGKrNm427W2c1QkJtLlzesoDM/fEbxF06TAb/XEOm8yeTs6BFDmBTb0/rNWykvL093VoWK/yZUy4mKBxo3/Pzoyrw5dP3wQWr393rSGBhSwDuvsmSbkrV3IzLkwUsf0evXUsKmNdR5x35y7NmLbBo1photW1GtkaNJY2xKoZ99RLUfeVx3dzFyk5IocecOar9iDTkPGFTmqNGihe7O8gHLRmF+AcVvXEM5URGUExtNeYnXyG3SVKo9eYrcc/WHr0pYTmDNCfniY+qwfA0Z6DZos27YkJKPHYc2SbaNm1DCrh1CdFTLyV0C3LxMmrBS7c6KTBZrY/eWBGLn9z0Hg8jExIjCo1Jo3VZf2nUgiBIS08mrgSMZGWmV1PCoZNrpc4U27/anU+ejKC0tW/Y+MTMt3kEZGyv6BsRKqOEd+/jeXZcpICiBLC1NyuyvEhyWROu2+dEOfmZcQhpdT8mik+ciqXeXBvzeYsvJpStxtJbTtN0nkJ8VX+JZUPIOnwyjc34x5Hs5lrbuCaDE64V0LbUOrdqSTP5XYsnJ0fG2XG4Cg0No8/ZdtG3nbrrAhAE7Q7s4O8mO0VAwDx89Qdt376WLfpc4/Qn8Cw1FRcfS0ROnKCs7W2aflbEGi41Pnz1H67dso1379vOzQ2UPAydHrfUxNzeP9uw/SPsOHpbnJSWnyPuwBwk2uYOiWNu92G0Szz9y7ASt27SVDhw5RikpN8jVxfmO9poI2LCKru7ZQjXqeYqlxLl56yLLScKlC2JNaTn9GXJr24m7NjOyda/DpMWPUiPDyJXPWTnd/b1KEhITaTeXV0ZGhuxGvmr9Jjpw+CjLyu3nF5u0bd2xi+vpNIWGhUt4e7sadmU2ekX5H+YyXr1hs9RLXPw1sY5Z64XORZ0hrK69nR3/fUjSGp9wTeoVe4DoA1aJQywz6zdvo/2HjlBEVLTcU9PeTnfH3UVhXi6lRkVy3XSkltOepuyU65QeG0V1evSrsK4sLSwoJi5B9jFp2sibarmWtbCoUPFfgUpOVDyQSD55gs5MGEmpZ8+Q28TJ1OjdeWRsbU327dqTY/9BorQHfTCbko4eoVqjxuh+xeRk5d9kUa8BuQwcrDtTDKv6DSjk6wXU4IXXdGeKAXISv2k91Xn8Kd2ZqqEgM5POTh5N7VZuoAYvvioEyJFJzYXHHyb3h6aQEQ9MpclJdmwsxW/eQHWfek53RoukQwfIxNaO7Fq3UcnJvYKhrbh6GZg05k5Lw7pvJh93f+HtKSYEi5adIL/L8bRt32XZ/T067oZYNPp19xLf8/N+0TTvs9105mI02ViZUlTMDdk1PiY+lTq2rk2mJlqCsnT1GVq96QKd9Y2m8MjrrJTnC3k4fCKMmjdxIWcdqfAPiqP5X+6lI3zNzNSIroRco6OnIygrK5f68DuVNSd7DwXRh1/to7CIZH6HEZ2+EMVEKpjcXG2pXm17Jica+nPNWVq+7hyl3CigiFgz2n0ogfwCEiibn7Xv4CFKTUuj7p07VmlPlsNHj9NHn31FlwODhESAqKzbtIXS0zOoTasWZMIE5djJ03Ty7FkmEtf53Tdkd/WMTCjRseRQ04GaNWkkY01OTg4t+WM5fffzL5SdnSNk7+iJk0JSQHYa1KsrmyEeZMXV75I/JSQkijKO36ampdI1VtCxGWlj74aSNuyD8N1Pv9Bvf/3N+S8QYrJ11x4u7yjq0K6N7D0BYD0FiNKVoGBxPQvA55Ug8g+4ImXi4uxcRDyTQgLp9A+fkkurdlSrYzdKYtLh2LQlOTVpLtdNrW3IrUNXcm7WUogJAAITtG0DFTBRajh0NJnb3n0XtKthEfQ9lxvIAfIDBT8iKopJ404hFVIXpSZ/boWw8Aj+/Q6pU2wk6MNEAXXQpJGX7g4mEllZ9POvf9BPvy7lOsum/Pw82sFE1PfSZWrM99W0t5f7QJTOXfSlS5cDhDAmJyfTZiY+waGhUheWllqCgnpH/f+6bLnsPA6yiffuZXLjWb8eubvVkkX1J0+dpROnzxXXma7eLvlrreIg2pUFrCROTVuQU+PmZG5nT9FMLlOjwqluj/5k5VwxkYTlcisT8lq1XGUzOxUq/qtQyYmKBxLmLq7kMfVRVuwfJmtPVhxgqtcdJjY25NS7L9V57ClyYhJiyMoMC578LisighJ37yCPh6cUnVOQsHc3pZ46SXWeeEZ3phh3Sk6AyN8WkWWjZmThUZs0BQWUfOIEJfvsojpPPkeGpqZ09fsvKWrprxSzdhXVnvYomdrZUfiiH6hGxy5k7qp1NcpnxSnow/eo/guvkhkPlio5uccwMCMD47pkYNqaiUp9/g6FMp+Jyt2JqnOVFf/9R0NYYc2iCSNa0dTxbakvE4T2rTzEQgECsIoJR2h4Ms14rCs9O70L9exanxKSMmgvE4UObepQLRetZQK70F8OSqBeXT3pxSe60eC+jWWzxr2Hg8mRn9W2BaxBGvrx9+Pk6x9LT0/rRM9M60LtmOCAEAVfTaK+3TzFYhN0NZE+X3iALCxM6K0ZfeihUa2oWSNXJgQR5B8YTx3a1qYadm6c9kTKyrWl11/5kBXHlrT/8BHq16snvfrCc+TPSmPy9evUuUP7Sm8yiM3lvlm4SGbK33n1JXp8+mRq27olhUdE0sEjR6lb504yMw6Ftk/P7qIcY4b9ielT6NknHqHuXTozMWlMptyeAFhJ/lq1hpo2bkRz3nqNxowYRt4NPWm3z34hNb17dCNzJkA4169XD0pJTRWi8di0yfTo5EnUo1tnJiZeQoiANRs20+r1m2jcqBH05sszaGC/PlJHsPBgplshMX+uXEO//bmcld0zchw/dVoI1eFjx8Uq0K1TR9lBGSTjzM9fUVbyNeow403S8Pfok0fIuUWbYnJiZU3WLrWKiAkQvGcrBW9bT26depDXoBG6s3cX1xKTZMG5MSvaTz82naZOmsB10YrLJ5LzdJblsHOV1/nYcN/cqkUzGtC3N5lwHfn5X5YF4E0aeevuIPI5eIR+WLyEenXvSm++8gINGdiPatjaCqG8npIi9Q49AuQiOiaWxowcTi8+84TUZVZWNu3xOUAe7u5c59pn+jG5WLjkd5bDdvT+7Ldo2KAB3B4chHRhEqAbk+dsJrE/MxlasXotnT53XupLOUCCnLmPhRzeDhC4IOrEYUqLibwlOcGYtGnbDlnz1L1LJ1VfUvGfReWns1SoqCZIDw2lQ11a05GeHeRTOfa1bEAHOzQrce5o707kN/Mt3S+JPCZOYmXTiE6NG0kxG9fLGpPEw4co4KP5dGX269Rw7se6O8siLy2FAv+3oNzj6i+LdHeVD7iXtVmxkZJ89tGxfl3pSK+OlLB1M7X+cy0ZW+lcFXgg6nnKj7rs3K/9bmhITb78kXyfeZT83nyNAt6fS8cH9Sa3qY+TTePG2ntU3D8YOjFX6UmGlg+Toc0M/hytjURlxsQQ61QMq77LN8iCkZGBEIlHJ7an5kwAWjR2JW+daxV0kwlMDL54fwS1Y8KSkJTOCnwh1fOwZ4XZiGLii93O8gsKycXJmkYPaU4etezIztaCunasRx5uNSgqVmuNiYxNoaCQa9SGicq4YS3I3s6CGtZzoAE9veRdyvoOv4A4IUQTR7UWomRj40Dt23agcaOHU3iMCV0IairloDGqTzXt3ahe3TpUp7aHKPqYiXZ1dpIITMhfHivclQWUMRALWDNgpYCyWZ+fPeet1+l/77/HBECr2FlaWojCasvKLlDD1kbeDaUO1xRgofH8d2fSS889Jc+Fq5K9vT25MZG4cSNVLC8Adtq2sbEmK0tLsfJggTW+Y5Ye1hsgPSODdrKy7lDTnolMdzI2Mpb1Dl1Y6UV+T545S3l52rw+PvVhWvbLQlr68/f0+0/Fx19LfqKXn3uaLHRpDNm7jeLOnqDG46aSo3dTJjra3xvqrCrlIfbCGfL94yeycnKlpuOn6s7eC2ikPjpx/pRF542ZfHXp2IFSmcSBKFQVVpzvenVqi5ucey1XsR4ZyAoSLWDBOHLipLhwTRo3mup4uEtggon8N8iBL5MZEBIAZY3nDGXyAsIK2Rg3arjI4amz57gstWtLUJ/GRkYsS1ksU1qr2CAmlQu/+ozGMbGBjFpzH/z6S8/T8l9/lnr6bWFxna34bZE8VwEsK7Ceff3jIibSi+X44ruFtOzv1eWWCQyvRbgF14CrHPKbzrIPC5IKFf9VqORExQMH6wYNRIkvfVjV9aKm3ywqc775/z7X/ZIFnjv/Fj8upvSQy3T92FEK+fRjilj8E6WdO00OvQaS66Cy7l6AuYsL1X3hDTJxcJAjfv3flHc9uei7qZ3W1aA8FPKAe+PSJVmAD3cu++59yK5DN3Kb+DBlx8ZQzJZNFS5wd+rRU9bH1OzZi6waNaY2f64kzxde0l1V8Y/CyJ0MTJpqF9JbjiVDq0fKkBY5TFtoyYty6JGYQlZcsLC3fu3yZ6ChSNWsYUGnz0fSzA+308tzNtLrc7fQ+m1+fJW7bwMHfkBdHUGqS2bmnmRqM16bDj6MbZ4ga9v2lKtpT0ZWD9H1rC6UmeNKXo0GkLkd34e0mnUlU8vmZGDkREYWPeRc/PWGZGFRhxo0ekr7LOSN89is+VjKzjWhuIQMbQIZsBzA4qEsSFYWnYMMcfKrBLhnTRw7mrw867PC9yM9+cIr9MmX39LlgEBq06qlKMj6UBTQihb/Y10B0vPrnyvo+dfeolffnkPvffQJhUVEkhGXuxIQQIH2eeUvmgaRycjMlHUNcz/6lB599gU5Pvjkc3lewrVEJohacmFiYiykxsLCXEiT9m8z+YTFBO47KWEhFLD2L7JycaW63XprXY5YKWVtmfL4PYX5eXJOH0nBV+j0j59RQU4utXnqJbKrU0935d4AboWmpVy3LMy1xAprde4EBfllF7Dncr4io6KZULuJ65sCtIOG3O/n829i4+J1ZzViOTM01K7HA+B6BaJ4jetCkUe4go0fPZJCrobTUy+8Sq+8PZv+ZCKBdgd3MqxjQn2bmphyHVlo64vrqrjeLOReBdevp5Df5ctiGfQP0B6wAAWHXpX1TXcC5BPvhDuiuihexX8ZKjlR8UCjkDvw6DWr6dLMt1jRj6TwH76hoM//J9aVm8HIzIKaffIZtftrJbVd+hc5Dx+lu1I+TOzsqP6TTxcdJvaO5Dx0eNF39/ETdHeWRV56GgV//D4FL5hPoZ9/Ii5iBbk5FLN8GSVs30I3Tp+igqxMMrEqf+FwysULZN3Qm2pPeljWxaio5tAjLXKItYXJi3IoJEZHZMjIg8i0k/xd5rB+klZsd6ZFK5LIxb0/TZk8l55/9gvq2+8plmFP/l03MrQYrn0Pv7fQwJIKqXjRMBRdqN9CEgydyNDIhT8t+V4mNXy/pNW0Dae3Gd9jQQaGjnJOY8hkCS5tpTZOhPLE/95iArikwl9VYIb8w3dn0bNPPErNmzUVxe9dJhQLvvxGXLH0gVlvoKIoYyANC774ms5f8BV3sycemUqPT5ssM+6F5UTu0pWWLp8lYWhgKEQHs/r9+/Skvvy83j2606D+fenpxx6h0cOHFLl/rVi9XsjQS2/OopffmkUv8fEy/41zv/yxXNZshO/fQclX/LntZ9HpRV/TwY9mUujuLdI3hO3bTid//IIyE7HYX4vU2Cg6xcQkIz6G2jzzMtXu3EN35d4BxauUcTHurH5Lo6Knla4DfC+vlkucg7zrZF4ByNWTj0yh9955g0YOGyxkY9W6jfTqO+/SvgOH5B6Qzh9/+Y2ef+UNqS/lQL09+/LrtGXHbrkPaN2qBX303iz6eN5s+cTx6fy59PLzz4gFpzRK5O+WRQdLY54QJhB1FSr+q1DJiYoHFhjUTwztR0k+e8ihd19q/ftKqs+Di3ENOzo7aRRFb1inu/OfBfYiaPfXKmr+zfdUo1MXqtGuA9m2akNWTZqSRd36ZOroJATL47Fndb8oidhVf9P1E8d030oCi/vN1KguDzBYtWJSQDpSUPrIzC6kvT4HxD0JazBGDh1EXTp1oIYN6stsb3nKWkXA/Y4OjuLCgtle+NkrwDoIKHWKJcHDrRZlZmVTUHCIfFeAaFbm5mZUq9ZN/ObvAIlJybRs5RpZJwBXmtlvvELffraABvTpRZu37ZTz+oBrFWbT4dJWHvwuXZbfTBo/RhTUvj27y2ENi0o55WdkaMTn+XnluKKBlMD9CzPbmInHGpfnnnyUnnl8ujwbaxmgVAJtWjan0cOG0sghg2nEkEG6YzCN4nOd2rcjI1BIF3fyHDKaajZpIbP/cP004PxAJ0d0PmMuZyWkcNb1JDq98AtKj46kji/NpIb9i92MysMtdeA7gMJVqiJ7N4P+cxBQoG6d2kIqo6JjdGe1shsQGCjWLrdaSn9nIHILZV5BTFw8RcfGSzQxpS6w1mfF6nVUv25teo4J72cfzhOiApcyBFqA+yDaRNeO7WnU8GHauhpcXG9j+ByiZymA6xXWrOgfICWIOFYeoShRTrcoNLiqpdxIJWtr6yILlQoV/0Wo5ETFA4ukY0dZgo2o5Q8/izsWolc5dOlK9Z96hrw/+JSilhSvA8mMjqLTD42Vw2/G05SfmVb0HUfUb4vo+tH9Rd+Dv/lKfpcVG0NnH5tW5siOiaDQzxeUOX/154Xyu3KBmT8eMCs6rn7/qe7GyqPhiy+T2/CRum8q/m2AvzwUp8SkJDpz/iIlJCbRsROnaM2GTeL6Uagpq5SXM+kvgJuLu5srtWzRXMLzrlizXsjA5SuBtGHLNiEnym9bNm9KzZo2or/XrqcTp85K+FhsULiWlblGDT2pfZvW2hvLxS00sJsA+cW6jq9+WCiLrrHJnuKeA1ep0uFrQRhwHovOER4WyikOZZ2LuYW5KKnIY1hEFEXFxNKSP/4iv8tXJK+l3bfcmHRhbcIxzmv8tUQJTxwTFyfX4KI1qF9fec9XP/wkoXCxozfS+fJbs2nj1h1yH4B1Go9MmUjTHp5A0ybpDv77UT7Xs2snMreypgb9mai8PIs6v/QOdXn9Xer+5vvUYMAwJilmVK/PYGr/9Ktk6ehMuWmpdPbXHyj25BFy79qLHLyaiBXlRmQYpYSHUmbStWLGwECe1m3cQstXrRPF+67j9qu3JMp5DlzeenfvJut7lq9ey2UcIe50y5lcIDJXh7ZtisgJ6v1qeASt27xV6giBDFZzu4iLj6eunTpy/WpfkMhtZvHSZbTo92UUy9fwbFyDvMOKAosY5K5vrx702NRJRXWl1Ntj0x6WRfy3jSqUF1wGEaHMzdWlhCuZChX/NajRulQ8sMB4HPnrQrJp1Y4saxfvqJuXlkahX31GZi6u5DJkqJwzMjcn6xatxMLi2G8guU2YIn8rh/OwUeQ6ekLRd7u2bcnE1lZmMy3q1CW7Dh1LHC4jx5JDT6wdKXnetkVLMtWFuiwNY0tLsm/focKjdChhBfHbtshACotQNg+upQ9E8DK9C7tjq7j/uBIYLNGA2rZqRc2blg1yAMUaChsUYOzrgb0cDhw+IrP+cA1yd3OTKETAzr0+FMtKGtyMlP0bsA/E9l17yNLCkpWv7vI8LAYPCQ0VS8Te/YfowKGj4taCNRN9e/Ygby9PmQXGgnYQky07dpHPwcO0cdsOsrW1pueefEyiW4E0ID1YBIyoVQjliw3koMi1bdVCIj1Bee/Xu6esFUF6c/NyZbE7/OnxKX8zkYDFAusbQACwl4XvJX/ash37YZyUCFmBQSE0etgQGsh5M9NF4gJwPxS6XZx3RO3aumM3XQkKojYtW8hzbG2sJWLYjj0+tNvngFzHxo0Yh7Kzc8WKoSyyB7AY2T8gUCI+HTp6nPO8ncLCI6k/K65gM1icD4sT8o17UBcIrYtVzyg7/f1QbgVYR4ywZsIYh7FYSZJDgyjmxCFybdeJnJpo906K9zsnm/khklfWtWsUuncbBW9bRyE7N1HgptWUl51F7u26FFlZ8rlevvx+IZ29cFEiWyFYwO0gPiFBwiRjUToiRym46OsvkbIQRQuBEGBlwuJt/TpVDlwz5HyW53YXFHJVrBod2rYuEa2rlgvCLBvTnv0HuF73s1zvkzbSsV0beuqx6RIIAf0h5Br7ryCE8PZd+yTKFcINQxYfnjCWzMy0cuLq4iLrRNA+4Ma1x+eg3AvZeHTKwxJO+F4C64YiD/vQDSaS9XoPLHeHeAXYuwUL7iHrWNivQsV/FQaFWM14H6GSExV3E9cOHqDw776i7NhoCceLEL08GpDDgGHk9cZbsn/Ig4K9TetQP/8I3bdihC78gZJ99uq+lQXcw5q8/6Hum4oHCXBfOX/RT8LfYhF4ecBM+OlzF0Txwn4OiHZUr44HhUdESXQqhZwcP3lGFPFurEgqCilmiY8ePyVuTB35PkQtAjDLDOU7Ofm6KEGe9evS5StB1LF9W3m+ApyDxeT6jRtCWPAuhNYFkK6TTJpAbLp27iiRtbDBHRYZQ9lEevB+7AB+0fcSbdi6XQgNZqkVQHlFeNlHp0wq8V4oaGfPX6RETh/ISMMG9cQagWhapREXnyCbIWKhNO5t7NWQOnVsJ5vaAQiJiz1H4CYEl7QWzZrIxAbub8+KMVzY9IH9PRAxCr/DougWXDcIN2vA5AmA0n30+EnZhwUuZU6ONSUcLsIb3ylgCcGmi46Nm1PNBtpyzoiPpfCj+2XshKKrv0gea+5qejVmctJZyBOA/WCee/VNIVE/fvlpuesgKgNYLFBuHm6uEoxAQVBIKJ0+e4F6du8iEbe0pG9X0R4vClDXiHY2ZeJ4cUssDZC6z775gd58+QUaMWSg7qwW+O1xlruLfv5S3iB92FEeljIA5OQI1wH2MLG3s6WL3DZSOd91+D6EIC69uSJkFHIczMQUv8FzQKAVWb6XQH3FXjgt9ejRsRtZ1Cx/vxQEGHht5hyJWPblgvmVDr+tQsW/ESo5UfGvAQbq0jvCP0i44et7y53mVai414Difre7aYTZ3e1zsHxywkoYQsWWJgn/eaAigCpWBpT6uR9/Sl06tqd5M9/Unb070Lr+lUwPrBqY8S9NTgq5ru2YJIwdMayobkFoUf8g2V99/5NY5b759GOxnvzXsW3XHvpx8W+yZ8+YEVqLvwoV/1Wo5ESFChUqVNxTYJiR9TGlmY9O2YXCqo4Ndwfbdu4RV6jnnny8aFPIewkQDhxF9arUcam6xfqXnXt8KDo2VtyxYPkAgZr95mtlQkT/14A1YIhGB0vOzNdfLuG6qELFfxEqOVGhQoUKFSr+JYA7V1pa+m27c90rYG3Skj9X0IWLvhLkwdurIY0dOaxcl6//GrDvCtZZvfHSDFnrpULFfx0qOVGhQoUKFSpU3FMgiAMWpmP9h7mZOSvhDqo+oAOCUSAMsUPNijfzVaHivwSVnKhQoUKFChUqVKhQoaJaQN3n5B4DCz7jEop3+VWhQkX1AyLlIDqT+M6rUKFChQoVKv4xqJaTe4zf//pbQla++sKzZTYQq65AaE6/ywGUk5Mru+iampiIf7AaTUfFvxVwq/hh8a/UomkTGj96hO6sChUqVKhQoeJ+419vOcnIzKNPvj5GP/9+ntIzcnVnbw/gcTk5BZSfX7nZ1c3bd8lOznVr135giAlwNSyc/lyxihb//if9sGiJ7IaMaCIVAXHoEZsdYSbvBuCbvHDJ7/TB/74QovQgAiFTsTAVnyqqP+DrjV2Zf/1zuWyup0KFChUqVKj4Z/CvJycFBYUUGZ1GsXFplJt7Z4piXEI6fb/4NPkcDpdoiTdDcOhV+mvlatm86qFxo3RnHwx4NfSk5598jGa9/rLseoydnbOzs3VXSwLK9+p1m2jRr3/Ipl13BVy4CDUZERkp8fAfRGBjvS++W0hnzl3QnVFRnYHFqFMnTaCmjb3pt2UruK1f011RoUKFChUqVNxPVFtyAlJRFVTknWZrY0YfzOpBLz3Tnmra33q38NLP0SchmZl5dOhYFBOPFLqVd9quvfspMSmZJo4dVbQr862Qf4tZ9srOwt/pbD12z8VuzNgtumWzprK5VkXueFDqLvj5yY7KsBTcDeCZb738An303uwSu0aXRqFe5dxqrQCsOpWx7OTl5+v+qhxQ1uU9F+uMfA4cYmIcoztzE1SQtvLOVWZNhPyunN+Wh8rJSuWeVRno56l0/kq/BRa0yqC8PNxOirH7+Ojhw+h6yg3avqviHflVqFChQoUKFfcO1WbNyb6DYRQYcp3qeNjSRb8ESkzOIldnaxo+qAE19i4Z99vnUDiFhqdQ1w7udPFSAp3zTRB3q34969LwwQ0pMyufNu8IooDAJDI1MSQTE2Nq2MCO+veuR9ZWxZsbgWysXH+ZnBwtqYaNKR08GkU3UnPIrZY1DR3QgLwbauPEnzoby6QkkhISM8nP/xq5cLq8+HlQrtzdbGnsCO8Sz8Ws/ztz5/N9TjR35psS0700EPN9xer1VL9eXfJwc6X1W7ZTfHw8ubi40NSJ46kBnwfy8vJpt88BOsrKf1pamlwfN3I4NfLylOsKMrOyaO/+Q3Ti9BmxdNja2lCPLp2pd4+uZGxsLPds3bGHIqKiWAEbQrVcXeQcfO3XbNxCdWu706B+fYruVYBNs77+8Wd66tFpEpNeQUxsPG3cup1i4uLo0uUALsssatWiGVlxXrFGZejAftSyeTPd3bcGFMwdu/fRsVOnycjQkExNTbkeatGwQf2L4r6DOGzauoOiYmJFSY+OiZFNqxCW8tzFi2RXowZN0ZVd8vXrtGnbLslPbm4up/GyEM/2bVvL7ruWFsVEFfW4e99+lqsjXHYZVLNmTZa7AXKvPlDGazdsIQNDA+rYri1t3r6TroaFkY2NDU0aN0byjzycOneeIqOiKSgklDzr16O6TLAQGAFEbwyXoaGuDYSGhYsSfDUcljgN1atbl4YM6MuyWl+uAwePHCPfS5epM5PFU+cu0JXAQDI3N5e67d+np5STguTrKbSB68Tvkr+0swb16tGwwQPKEDyUx07O77ETpyS/7u7uLMNDS7wXCA2LkB2cYcEC6tapw+nrx/fVk++Vxd79B5nA+svGYmEREVTbw4PbthOd9/WTdI4fNYLatCreGR8uhNv37KM4li0Lrqc+Pbtz2+1ZYmfxvLw8KZtDx05QamqqEOjOHdrTwL695DeAf0Ag+Rw8zHLYVEji2fNaK1b7Nq1p+JCB5bZLWOpefmuW1NGXn3xYQk5UqFChQoUKFfceRnPnzp2n+/u+oCJysnVXCK1cG0DBoddxkxCMcxfiyS8gkbw97cnRwVJ3J9G23aGseAbztSRWehIoNS2XEhOzWLmzpVbNXSg7J48OHImkS1eSKCk5W8hFbl4hKy9uZGVponsKUXpGHi1eeoH2H46gqxGpspYkOzufFfxYCglLoU7t3Fg5MWHlMYX8LieyEpTDpCKHjJnwmJoaShpBSlo2c2LFq1ipvxIcQstXr2XFeiB1KKXgKkhKuk7fL1oipOMiK24hV8M4H2mkYQW6Y7s2nF8HWcex6Pc/6Y8Vq6iQlXcTUxMuE186x0pWwwYNhPwAiDT0x4qV9PuyFaK0W1tb0ZWgYNp34JAo51DOgBWr19H+I0eoa8f2Rb8Fufhx8RLOewErvJ3KkJOQ0DA6fuoMtWvdipo08tadZXJ14wadPnuerjG5gVIM4oCZ53xWGvML8qlxIy9yc3XV3X1rIN1Hjp+ik2fOyvPOnr/IBCiWurMSrsR+x7PhcrN91x6yMDdjRTdKdhlOuHZNrE74bQGXX7fOHSmZyd+iX5fSrn0+QgSRr8joaNrPBAREqBWXCc6BFIAk/rjkN8pi8oE8oOwOHT1OdnZ2JRT2DCZgv/25nHbu9aHLAVfoMhOFG6lpTIxzqE3LFqx0uzFZ9qdA/n0Klw/qE0TC2MiQsvi3zlzmIChoA4EsIx9++qXkE5YqpP8wK9rYiKtZk8ZU016b5137DtDS5X8LAYQlzsjQSH574MhRcnZ0Jm8dSYUb0pffLxSyA8IC5fookw+QssZcb8rzsrNzaOGSpbR85RpJB6xUp8+e43Z0iZo2blRU1iFXw+mTL76m8xd9Zfdm5PHI8RMsfxeZhDUney6bymL95m30F7/P2NiIrnEejnA+w7nuuPCZVPrStcRE6tyxg6zL2n/oKH369XdC8G1trJlMo84OkxHXVYtmTeR5kJVl/LwfF/8qJAV5C2cCBSICawtkFQD5+fGX3yTNcXHxkter4RFCaECUQCZL90cm/J6gkKsUwHWIulLaiQoVKlSoUKHi/qDakJMz5+MoiInJoP4N6K2XOtGQAZ6EidLdPuFkaWlMbVu58nftb2FZOXcxnuxrmNOT01vSY1Nb0uABDahpI0dWWo3J1MSY2vD9o4d5scLtwYrXNVZ8jORvSz1yAiLicyhCFspPn9SMnnmsDQ3sU5+VyhwhKF6edlS/rh15uNlSv171qI6HDSt80aww16bXnu9IA/vWp7YtXcmCCYw+TrHSDuV25NBB1KB++bPMaRkZtGf/AVHMujEpeP3F5+jhCWOpR9cuVKuWq7iCHTt5mr7/+Rfq06MbfTD7bZnxh6Vly87dnOYMsYpwiTLBiKevf/iJ6tT2oAXz5vB9w0SBhKIbH59Avbp3FYUVRAiWEsxEOztplS64sPiw8gdLSvcqkBNbGxshAXi2PyvqIE/vvP4K52EM9eRz7rVqVVjX5QGz4s2aNKIxw4cwqRsgyiZmxPv26lGkMMPVD7PwcOf6/otPJA2nz12gCWNG0Yynn6CAwCCKi4+nUcOGiCUHFiczM1Oa8+ar9Pi0yWLtAHFAfkAmXF2cyc8/gL5e+LNYF+bPmUkPjx8rEZv2saILwghyifcAIIsHmRSEsuLehMnX6y8+T9MnT6R+vXtw2buLxcjLswENGdif824o7m4Tx42hV2c8S/379BLlGgoycOTYSfK/EkiPTJ5ELz33lFgkQJQ2bdvBMleXmjdtLPddZNJwlpXrtlz+M197mR4aO4o869cnnwOHmXDnilIPRXvdpq20ev1GmvzQOJrN+R05dDCTVGv6e+16qfuunTrI8w6yXC5khR1Wsg9mv0OjxIrmSluZ8IG0Kfft4XJev3krvfjMU/Qay+YgTp+JsQm30wti0YLFqrJAeYdFRNIXH39ArZs3E4tH926d6Z3XXqKExCTy9b9MIwYPFIL8GRMTyM38d2eJBbF71050ngk5SF8HJu0gSv9v79yDq6quML4kBANJeJNAEiLI0xRieCmiUsQHlEepMIBUrRYVmdY4dQZHFJRCgQHa4lhkFKFUOqAUxaG1WBVRwyMSCFgaQR7hGR4JkAtEkARBun7r3pPcXO6NIMrkj/1l7uR17j777L3uzPed9a11EJv/eu8Dy6g9/8wY+1z00phet36DbN+Rb/FHVmR/wQGLF/bk6d9l2nhk8xDVu/bu0TXobfERCrrr5eRusnjnvQ4ODg4ODg5XD9Wm5uTc+QtKPK6V27qnSIwKDMQEAiWtfSMl2dydryiMhqTGqci4b3B76XlrqjSoHyNNE2LtO4AT8/5a0VFWcxIVFZkkky1Ja9dIevZIVfJVQ8lKlBLxRH1fLSX9p+0YTxQxLxAdXUMFSU0l8ljGLl5CyFNsbB27C18VsNd0yUiXJ0c/ZlYk7kZDmCGbEOGsNdl2BxzLS8lXp4zgJSYkSELjJrJNiW1hkb9oFxsU9hOf74QVYp84WaLksbVMfO4ZeXzkQ0YqPYRbCchgZCER3vXH8QgKrhHCzc+1a8fYd+YfbMG5VPA+Mg3x8XEBu1LonPxz4ZzxSrwhqvFxsZKoJBUBw9+wwUHy7Uu/t2vTutxexhojZHw+nwkPgGWKu+oPDBuq4jPZ/tZBxcm9A/rbMRDnYNCZrHlykmSOHmUCokH9ehp7CeV77Yk7SK+uql5HtK0F34OF3209usvUCeNM/CDusDKxppDqIypYvToKCDvX1U8FD7EBIM0Ubh8rLrZGBdj4KLwnc4Plj1jgnFiXfvPYyHILIE9mJqbIDmSkd9DP1HEVgQckRa+nccOGlp1BrAKyGOwrGQTsaYjl4UN+IdMmvqBCKd2OuRwwXiM9R31dL64xoXFji3eseOf1Gtlqzo8IualrF7NiMrezZd+oaL3BurZt277TxmI9Mh9/VMY8+VvLnJBN3LevQOrF19X9OSfHVPAA9p81v0MFbptW/gwY63aDvvisYJMMB+ZFlq6kJPz/HRwcHBwcHH48VBtx4uFbFSkeYuvUUiIYr2S71GpKPFA7EBsbrUT9Ys94KCB3ylGqRA0VLxAZD9E1o0zQhLYMPh+YG+fHPhQJpWVnjRRhRakKnJP6hjpK6kPBM0aOKUnlLG8sWSrjJk2RCVOmy+QZfzbyCnnHNgSSmjWVJ5SsIQ5efm2eZI4ZK0+P/73ZkyBj3t1hb8bBQiSiJilH1Qf419cvBsIVJn8fYM3BuhPp1N5ecQw/Ilb5mVcloRXm/RB8MgoISHvwnhL8enXrStNADY6HNq2vNyuTL6QDGbY7xBM1E1XBa+gQqaQrtk5ty+w8N3GKTH9xltX1LH//Q7N3IWqC30WNi1enArh+aixYe0AWzXfiuLRITbUY8EAm55Ff3S8D+t5jv585U2qChnWiVfS4SVNlwuRpZt9CqBCzJ0tK7FiyciOGDpGcDbk2x8cyn5JZr84zkeWJuMsFdTfEiMUK+6tgLggpREaxikb2Lntdjkya9id5Qec2Yep0WZ39mR1bWua/QRGt14Wd7qVXXrNj+D5rzjwTUljHAuFhMOEcEuSeSETIhkOMfl6YH5kpBwcHBwcHh6uLaidOgnkExAWBgFCodCM+cMyl1vJzuL0lhKSUQ4cJFifej5EO5+8R/mWgHsKImL6qRmVRFAyyNZAo7hJjbaIYHavOwJ/1kcxRj8ijSjqbNPYX7AMsWdhmyML8JO0GOVxYKDNeellJ21+N+AFIIGdjXT2Uk/kI8/hu+DMUEOpyUXCFCB7lSoYM91bIMS/WFiJLFsFPmivvFVktrFkekS2HLRXk+ruFGCsaaf7Llr8vi1R0YqcjuzVp/Fh5+IERlnEzkRU4zqADQeiDwXZ5682+RkfVNEEbGk+M5e03x9XU4+qqGLuzV08ZPLC/DNSYIq4yRz8qD/1yuDQM1JJgZXti1EiZPmmC/Z/fP85aJc9OmPyDt0fm2uwaVHTwme7WpbPNbVAg3h+8b5h1b/MyYNTezHp1rmz5crv0uau32cMmP/+sdZfjWiuvgT8+wyLC3iBaETVk8hwcHBwcHByuLqqNOIEnQEywd3nAykUHr6aJcVaYHoxIfCMU2EMYHCKHbetKgGBgHLI4ntUrHLCFYLXBRvN9UTsmRlJTUiw7QqEyBHHIoAH2Qqxk3Jhu5wHbduTLS6/MtfoVahvGPpUps2fOkNTkJPlw5Sdy8HCRHQfBxC6GRcwDRIx5XlNJ/VUAAs/6ebUSobB1VVLJOJfS/pk73hQ7IwgiAaLKixWuLA4ir3k4ECOh58GiROE79Qqcg6wThe6eZcgDheo0FmiWWDmjcqnwt4++IKWl4e++52zYaBkznidDnQdWMQq7WceIiqYS/B8AhJZZy1Tk7Ni1S2PAZ38H1N3Mnvs3+ff7K+x3rqd5SrLFFMXeP+/vj6nB+qIOKaNjB+vyhphd9u57suSdf0rLFqkqDoaa8KWup/i4z7qa/ZBAPBBD2OOINzq+DezXx+bF/Jgn9SYtr0u146mb2rQ5T+7u3UvuHzbE6l+Sk5pZjBKDVyqSyaohWunC5uDg4ODg4HB1UW3ECfUbJ0vOyvIP8mXXHp+SSJ8s/McXsr+gRLp2SlQCVmFXwV4FCYkkUMi2MMamzYWyfuNB+eqrMvGdKJXczw9L7n8L9X8VVp1zOo5n1/IAWTp37oKJpWBQv1K37rU65iHJ0VfBwRLZnFek5NafmfCQrIQX4nu4iqeb+8/ht7mEA0SLgnPsOzylnU5ERUeOWgH4+D9MtS5e1D8A7EdL3lkm02b+xf5ffPy47MzfbSKEzAtCB7Rv00pOnTot/1mx0trY0iVs0ZK3pShQu+KBuoONSs55famkvay0zEj9ho2fy/rcTdaJygPiITkpSQ4cOmQF/nTEooib+phQ0KZ19tz58szzE22sYLAe1BgwPi1uj+i1nlKBh0hYr8cyD7IV3Bm3GgUFP9MZ7NsLflHEWvI7u0YmJyqqht1dp3iapgHYqBa9tVRaXd9S2rb212FQe4H17fVFi60V80EVThSXUyBOR6/0jhXtkM2OpOf+rufRgMTEJpaloNMUc6cDFOviPZulQYP61pWM1sM8sJNakHkLFsoJXXuyNl62w65R4wQ7WQX88Y+ti7mwB8QKtq0581+3OhnWkhhZuPgt62YGsHnRkY11wQZFp7MiJfo0Xhg3cYoseHOJHcd4uzQ+eIjkvAWLbE0oEt9fcND2iTqRywEWKc9C5cX9twEha3umvyPKaDJwy01dLZbpUEfLaOL0xdlzZMofZ+o6+euEsCliraPLWLZeA40QeLI7TSgYy8sU8vnlvKGfY++cAX13EfZo7GKPQzA6ODg4ODg4XF1Um25diIYdO31SWnZOiX+hfJS1V4nJSbmr13Uy/N4068LlIW/rUSk88rUSshRJbHJx3Qndt958e5ssfXeHioejUlp6XsnPedm6vVjWfFYg36h46da5mZJ72rcekHr1rpVbb06RWrX82YHCotOyectRademoXRMq6gtoG1wmY6zOe+IEubD1q44b+sx6ZSeqIStQjwhTDbnfaFEs0R6IDDC2EMg3hDSZCVAt/foHvhrZXBXH+sWRe6r1q4zopu1OtvEyD13/NSKvUGTJo3trjutU9dk58hHSsI/XrXaSBw1B14rYbIFkFEEAB2T1ikpBXFxdSRFBQYPXuSOP8XZc+YvkJVZq2SPkkNwuKhIj98o63I36pqklRdnAwrTIeCIiNU67sdZa+wuPXfngwF5hix/oeS5S6cMI6MeINu0nP37G4t1/z+3u9eQyu35+bJK1+mYzyc3d+1sndAglth9Dhw8ZB3JeG7F9S1bSvb6DUZM6fxEHcYnq9ZaHQNdm1Z88qm1EYagjx75cPkzTCDaZBP+t2WLdS3jwYlcY1q7tjL6kV+b0PSAaIDQ04CA7lqWlYsA2gMXF/tMLNKCF+G2T0kve80cqFmhExpzXv3ZOruuqBrXKCmubZmQm7t1tfoOisTtfbfeonvUzMZmHhuUmGMb7HX7bUbUW1yXKjEaZ7Qj/nTNWhOz+bt36zrdIw+OGFYeg2QYaB6A6CP+OI5YQOT0vbO3jtPcPqNkTBCpCMUsHY/2yRTuZ6R3NPsXRe3Mg2PoPPf11/5M4ekz+gpkDVkfRDbdtrAZDhrQzwQqXbXatW1jmRpim0xaX11PMoE8F4ZnxDA32iWv1P3YvWevdLox3ayLxDTZHfaANeO5OHQg27tvv/49zuKXAnrmj2Dm2SZ0aWvf1v9ZAcQpdVv9+txt9UbB4EGiC1UYsaZ0PrvI1ufg4ODg4ODwI0Lk/9D5iWicxiNbAAAAAElFTkSuQmCC)"
      ],
      "metadata": {
        "id": "KkU0ujgYGSe9"
      }
    },
    {
      "cell_type": "markdown",
      "metadata": {
        "id": "8fz_FrezBezR"
      },
      "source": [
        "#### XGBoost\n",
        "* 그레디언트 부스팅 기반\n",
        "* XGBClassifier 클래스"
      ]
    },
    {
      "cell_type": "markdown",
      "metadata": {
        "id": "zl6nh6DOBd-B"
      },
      "source": [
        "#### LightGBM\n",
        "* LGBMClassifier 클래스"
      ]
    }
  ],
  "metadata": {
    "colab": {
      "provenance": []
    },
    "kernelspec": {
      "display_name": "TensorFlow 2.3 on Python 3.6 (CUDA 10.1)",
      "language": "python",
      "name": "python3"
    },
    "language_info": {
      "codemirror_mode": {
        "name": "ipython",
        "version": 3
      },
      "file_extension": ".py",
      "mimetype": "text/x-python",
      "name": "python",
      "nbconvert_exporter": "python",
      "pygments_lexer": "ipython3",
      "version": "3.6.9"
    }
  },
  "nbformat": 4,
  "nbformat_minor": 0
}