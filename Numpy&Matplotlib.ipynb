{
  "nbformat": 4,
  "nbformat_minor": 0,
  "metadata": {
    "colab": {
      "provenance": []
    },
    "kernelspec": {
      "name": "python3",
      "display_name": "Python 3"
    },
    "language_info": {
      "name": "python"
    }
  },
  "cells": [
    {
      "cell_type": "markdown",
      "source": [
        "# 20240923\n",
        "# 1️⃣ Numpy\n",
        "* ↔ List\n",
        "  * 1차원 대괄호 1개 [1, 2, '1차원']\n",
        "  * 2차원 대괄호 2개 [['2차원',2],[1, 300]]\n",
        "  \n",
        "== 배열\n",
        "* when?\n",
        "  * 리스트로 만든 배열은 크기가 커질수록 성능이 떨어지는 단점 有 → Numpy는 저수준 언어로 다차원 배열을 구현했기 때문에 배열의 크기가 커져도 높은 성능 보장하기 때문에 사용\n",
        "* 특징\n",
        "  * 배열을 이용한 다양한 통계, 수학 함수 제공\n",
        "  * 파이썬 리스트처럼 숫자와 문자열을 함께 담을 수 Xx\n",
        "  * 따라서 딥러닝에서 다루는 데이터는 모두 숫자 (문자 데이터가 있어도 결국 숫자로 바꿔 입력해야)  \n",
        "* 배열 생성 방법\n",
        "  1. ```arrange(시작값, 종료값, 증가값)```\n",
        "  2. ```array(파이썬리스트 or 튜플, dtype=타입)```\n",
        "* 배열 구조 확인\n",
        "  * ```.shape```\n",
        "  * ```.reshape()``` : 배열의 구조 변경, 랭크 조절\n",
        "  * ```.flatten()``` : 1차원으로 변경"
      ],
      "metadata": {
        "id": "npELEjsLZskQ"
      }
    },
    {
      "cell_type": "code",
      "execution_count": 1,
      "metadata": {
        "id": "Q-A4qHjUZkYN"
      },
      "outputs": [],
      "source": [
        "# 넘파이 버전 확인\n",
        "import numpy as np"
      ]
    },
    {
      "cell_type": "code",
      "source": [
        "print(np.__version__)"
      ],
      "metadata": {
        "colab": {
          "base_uri": "https://localhost:8080/"
        },
        "id": "g5hiPixncIXh",
        "outputId": "9dc4e21c-636d-47d9-bf7d-65d0321bd33d"
      },
      "execution_count": 2,
      "outputs": [
        {
          "output_type": "stream",
          "name": "stdout",
          "text": [
            "1.26.4\n"
          ]
        }
      ]
    },
    {
      "cell_type": "code",
      "source": [
        "# 리스트를 이용해 1차원 배열 만들기\n",
        "arr1 = [1,2,3,4,5] # 리스트 선언\n",
        "print(arr1)\n",
        "arr2 = list(range(1, 6, 1))\n",
        "# range 범위(1, 6-1, 1)\n",
        "print(arr2)\n",
        "print(type(arr1))\n",
        "print(type(arr2))"
      ],
      "metadata": {
        "colab": {
          "base_uri": "https://localhost:8080/"
        },
        "id": "doDxQkpMeAvo",
        "outputId": "02703663-f5a6-416c-e0ca-1c7f15238fd5"
      },
      "execution_count": 6,
      "outputs": [
        {
          "output_type": "stream",
          "name": "stdout",
          "text": [
            "[1, 2, 3, 4, 5]\n",
            "[1, 2, 3, 4, 5]\n",
            "<class 'list'>\n",
            "<class 'list'>\n"
          ]
        }
      ]
    },
    {
      "cell_type": "markdown",
      "source": [
        "### 배열 생성"
      ],
      "metadata": {
        "id": "JmO1l3luh9iG"
      }
    },
    {
      "cell_type": "code",
      "source": [
        "'''\n",
        "arrange 함수로 1차원 배열 만들기 (arrange 함수는 1차원만 생성 가능)\n",
        "만약 2차원으로 바꾸고 싶다면 reshape 사용\n",
        "'''\n",
        "\n",
        "# 1. arange 함수를 사용해 배열 생성\n",
        "\n",
        "print(\"=== arange(시작) ===\")\n",
        "arr3 = np.arange(4)\n",
        "print(arr3)\n",
        "print(type(arr3))\n",
        "\n",
        "print(\"=== arange(시작, 끝) ===\")\n",
        "arr4 = np.arange(2, 4)\n",
        "print(arr4)\n",
        "print(type(arr4))\n",
        "\n",
        "print(\"=== arange(시작, 끝, 증강) ===\")\n",
        "arr5 = np.arange(0, 5, 2)\n",
        "print(arr5)\n",
        "print(type(arr5))"
      ],
      "metadata": {
        "colab": {
          "base_uri": "https://localhost:8080/"
        },
        "id": "vyX1crWEfOXL",
        "outputId": "d0c65537-3d11-4291-8fa4-edfdaacd2d22"
      },
      "execution_count": 11,
      "outputs": [
        {
          "output_type": "stream",
          "name": "stdout",
          "text": [
            "=== arange(시작) ===\n",
            "[0 1 2 3]\n",
            "<class 'numpy.ndarray'>\n",
            "=== arange(시작, 끝) ===\n",
            "[2 3]\n",
            "<class 'numpy.ndarray'>\n",
            "=== arange(시작, 끝, 증강) ===\n",
            "[0 2 4]\n",
            "<class 'numpy.ndarray'>\n"
          ]
        }
      ]
    },
    {
      "cell_type": "code",
      "source": [
        "# 2. array 함수를 사용해 배열 생성\n",
        "# 차원 제한 Xx\n",
        "# 1차원\n",
        "ar1 = np.array([1,2,3,4], float)\n",
        "print(ar1)\n",
        "\n",
        "# 2차원 대괄호 2개\n",
        "ar2 = np.array([[3, 4],[5, 6],[5, 5]], float)\n",
        "print(ar2)"
      ],
      "metadata": {
        "colab": {
          "base_uri": "https://localhost:8080/"
        },
        "id": "u0Z8vw09cRyT",
        "outputId": "fb0760d0-6e6c-4132-abe5-6938d075ff62"
      },
      "execution_count": 13,
      "outputs": [
        {
          "output_type": "stream",
          "name": "stdout",
          "text": [
            "[1. 2. 3. 4.]\n",
            "[[3. 4.]\n",
            " [5. 6.]\n",
            " [5. 5.]]\n"
          ]
        }
      ]
    },
    {
      "cell_type": "markdown",
      "source": [
        "### 함수 활용\n",
        "* 속성: shape, dtype, ndim, size\n",
        "* 구조 변경: reshape, flatten, transpose(T)"
      ],
      "metadata": {
        "id": "ZfS6Ardth_jU"
      }
    },
    {
      "cell_type": "code",
      "source": [
        "# 구조, 속성 변경\n",
        "# reshape(행, 열)\n",
        "arr6 = np.arange(12)\n",
        "print(arr6)\n",
        "\n",
        "arr7 = arr6.reshape(4, 3)\n",
        "print(arr7)\n",
        "\n",
        "arr8 = arr7.reshape(2, 2, 3) # 3차원 변환\n",
        "print(arr8)"
      ],
      "metadata": {
        "colab": {
          "base_uri": "https://localhost:8080/"
        },
        "id": "cC1xWIMFftGm",
        "outputId": "4ce3b06d-36c1-4e09-b756-8d642ab8e51a"
      },
      "execution_count": 19,
      "outputs": [
        {
          "output_type": "stream",
          "name": "stdout",
          "text": [
            "[ 0  1  2  3  4  5  6  7  8  9 10 11]\n",
            "[[ 0  1  2]\n",
            " [ 3  4  5]\n",
            " [ 6  7  8]\n",
            " [ 9 10 11]]\n",
            "[[[ 0  1  2]\n",
            "  [ 3  4  5]]\n",
            "\n",
            " [[ 6  7  8]\n",
            "  [ 9 10 11]]]\n"
          ]
        }
      ]
    },
    {
      "cell_type": "code",
      "source": [
        "# 속성\n",
        "print(arr8.shape)\n",
        "print(arr7.shape)\n",
        "print(arr8.size)"
      ],
      "metadata": {
        "colab": {
          "base_uri": "https://localhost:8080/"
        },
        "id": "oBAih1xBjnOk",
        "outputId": "2ce002d1-48f9-4d14-aff3-de27eadf0de7"
      },
      "execution_count": 21,
      "outputs": [
        {
          "output_type": "stream",
          "name": "stdout",
          "text": [
            "(2, 2, 3)\n",
            "(4, 3)\n",
            "12\n"
          ]
        }
      ]
    },
    {
      "cell_type": "code",
      "source": [
        "# flatten() : 1차원으로 바꿈\n",
        "farr = arr8.flatten()\n",
        "print(farr)"
      ],
      "metadata": {
        "colab": {
          "base_uri": "https://localhost:8080/"
        },
        "id": "7zNeSDE_ien6",
        "outputId": "f15744da-6c7a-495e-cc28-13348f7aa914"
      },
      "execution_count": 22,
      "outputs": [
        {
          "output_type": "stream",
          "name": "stdout",
          "text": [
            "[ 0  1  2  3  4  5  6  7  8  9 10 11]\n"
          ]
        }
      ]
    },
    {
      "cell_type": "code",
      "source": [
        "# .transpose(), .T : 행열을 서로 바꿈\n",
        "tarr = arr8.T\n",
        "print(tarr)"
      ],
      "metadata": {
        "colab": {
          "base_uri": "https://localhost:8080/"
        },
        "id": "t5yX0mSvijkW",
        "outputId": "e51c8576-0afc-43e9-9c1c-50e7a49f006e"
      },
      "execution_count": 23,
      "outputs": [
        {
          "output_type": "stream",
          "name": "stdout",
          "text": [
            "[[[ 0  6]\n",
            "  [ 3  9]]\n",
            "\n",
            " [[ 1  7]\n",
            "  [ 4 10]]\n",
            "\n",
            " [[ 2  8]\n",
            "  [ 5 11]]]\n"
          ]
        }
      ]
    },
    {
      "cell_type": "code",
      "source": [
        "tarr2 = arr8.transpose()\n",
        "print(tarr2)"
      ],
      "metadata": {
        "colab": {
          "base_uri": "https://localhost:8080/"
        },
        "id": "1DTID5njis5-",
        "outputId": "cdc8c696-2700-419c-b9bb-ecfefc3fae50"
      },
      "execution_count": 24,
      "outputs": [
        {
          "output_type": "stream",
          "name": "stdout",
          "text": [
            "[[[ 0  6]\n",
            "  [ 3  9]]\n",
            "\n",
            " [[ 1  7]\n",
            "  [ 4 10]]\n",
            "\n",
            " [[ 2  8]\n",
            "  [ 5 11]]]\n"
          ]
        }
      ]
    },
    {
      "cell_type": "markdown",
      "source": [
        "#### ✔️ 주의\n",
        "* ```배열.함수()```의 형태인 거 잊지 말기\n",
        "* 💥 ```함수(배열)``` 아님~!  "
      ],
      "metadata": {
        "id": "0DWRyJUckQE4"
      }
    },
    {
      "cell_type": "markdown",
      "source": [
        "### 배열 인덱싱"
      ],
      "metadata": {
        "id": "1xPlNB0qkvoY"
      }
    },
    {
      "cell_type": "code",
      "source": [
        "print(arr7)"
      ],
      "metadata": {
        "colab": {
          "base_uri": "https://localhost:8080/"
        },
        "id": "nMQ6yhMskM4C",
        "outputId": "0731d011-3fad-442e-ebd9-7d2b90a043af"
      },
      "execution_count": 26,
      "outputs": [
        {
          "output_type": "stream",
          "name": "stdout",
          "text": [
            "[[ 0  1  2]\n",
            " [ 3  4  5]\n",
            " [ 6  7  8]\n",
            " [ 9 10 11]]\n"
          ]
        }
      ]
    },
    {
      "cell_type": "code",
      "source": [
        "print(arr7[1][2])"
      ],
      "metadata": {
        "colab": {
          "base_uri": "https://localhost:8080/"
        },
        "id": "s0JnYMCPkzUW",
        "outputId": "75390485-6736-4537-a3fa-d44214a7b1dd"
      },
      "execution_count": 27,
      "outputs": [
        {
          "output_type": "stream",
          "name": "stdout",
          "text": [
            "5\n"
          ]
        }
      ]
    },
    {
      "cell_type": "code",
      "source": [
        "print(arr7[1:3, 1:2])"
      ],
      "metadata": {
        "colab": {
          "base_uri": "https://localhost:8080/"
        },
        "id": "mOL11CCyk6ae",
        "outputId": "88b777d9-a3b6-480d-c9d7-1bc2116713c2"
      },
      "execution_count": 28,
      "outputs": [
        {
          "output_type": "stream",
          "name": "stdout",
          "text": [
            "[[4]\n",
            " [7]]\n"
          ]
        }
      ]
    },
    {
      "cell_type": "code",
      "source": [
        "print(arr7[:,:])"
      ],
      "metadata": {
        "colab": {
          "base_uri": "https://localhost:8080/"
        },
        "id": "vbX33NXzk95R",
        "outputId": "658c8da1-ef5e-4d44-91c1-89a7921ee663"
      },
      "execution_count": 29,
      "outputs": [
        {
          "output_type": "stream",
          "name": "stdout",
          "text": [
            "[[ 0  1  2]\n",
            " [ 3  4  5]\n",
            " [ 6  7  8]\n",
            " [ 9 10 11]]\n"
          ]
        }
      ]
    },
    {
      "cell_type": "markdown",
      "source": [
        "# 2️⃣ Matplotlib\n",
        "* 데이터 **시각화**를 위한 대표 라이브러리\n",
        "\n",
        "#### plot 차트\n",
        "* 선으로 데이터 변화를 표현\n",
        "* when?\n",
        "  * 시간의 흐름에 따른 데이터의 변화 또는 데이터 간의 변화를 비교할 때 유용  \n",
        "\n",
        "#### scatter 차트\n",
        "* 열(변수)들의 관계를 점으로 표현\n",
        "* when?\n",
        "  * 데이터의 분포 정도를 확인할 때 유용\n",
        "* ```c='색상'``` : 점들의 색상\n",
        "* ```s='크기'``` : 점들의 크기"
      ],
      "metadata": {
        "id": "RgHk_Oa2n4vJ"
      }
    },
    {
      "cell_type": "code",
      "source": [
        "# matpltlib 라이브러리 import\n",
        "import matplotlib.pyplot as plt"
      ],
      "metadata": {
        "id": "ADrDweEKlAHw"
      },
      "execution_count": 32,
      "outputs": []
    },
    {
      "cell_type": "markdown",
      "source": [
        "### plot chart"
      ],
      "metadata": {
        "id": "eqtI7m4Yq2E9"
      }
    },
    {
      "cell_type": "code",
      "source": [
        "# plot : 선 차트\n",
        "data1 = [523, 252, 213, 121, 404, 231, 342, 345, 234]\n",
        "data2 = [323, 212, 322, 141, 124, 221, 442, 245, 434]\n",
        "plt.plot(data1)\n",
        "plt.plot(data2)\n",
        "plt.show()"
      ],
      "metadata": {
        "colab": {
          "base_uri": "https://localhost:8080/",
          "height": 430
        },
        "id": "xtvxJGX8p5aB",
        "outputId": "c2077e65-a490-4e81-d8c9-2222eb4ac976"
      },
      "execution_count": 34,
      "outputs": [
        {
          "output_type": "display_data",
          "data": {
            "text/plain": [
              "<Figure size 640x480 with 1 Axes>"
            ],
            "image/png": "[encoded data removed]"
          },
          "metadata": {}
        }
      ]
    },
    {
      "cell_type": "markdown",
      "source": [
        "### scatter chart"
      ],
      "metadata": {
        "id": "M8xowRFTq4pp"
      }
    },
    {
      "cell_type": "code",
      "source": [
        "plt.scatter(data1, data2)\n",
        "plt.xlabel('data1')\n",
        "plt.ylabel('data2')\n",
        "plt.show()"
      ],
      "metadata": {
        "colab": {
          "base_uri": "https://localhost:8080/",
          "height": 449
        },
        "id": "NW2HMBsYqpY6",
        "outputId": "ec5fc733-29ee-47f3-fa8e-e9e9bd62570a"
      },
      "execution_count": 35,
      "outputs": [
        {
          "output_type": "display_data",
          "data": {
            "text/plain": [
              "<Figure size 640x480 with 1 Axes>"
            ],
            "image/png": "[encoded data removed]"
          },
          "metadata": {}
        }
      ]
    },
    {
      "cell_type": "code",
      "source": [
        "import random\n",
        "x = list(range(10))\n",
        "y = [random.randint(10, 100) for b in x]\n",
        "\n",
        "print(x)\n",
        "print(y)\n",
        "\n",
        "plt.scatter(x, y, c='pink', s=100)\n",
        "plt.xlabel('x')\n",
        "plt.ylabel('y')\n",
        "plt.show()"
      ],
      "metadata": {
        "colab": {
          "base_uri": "https://localhost:8080/",
          "height": 486
        },
        "id": "Leg_Qn8srJH8",
        "outputId": "9e8fac9d-ec64-435a-8ad4-59c19cd9be41"
      },
      "execution_count": 38,
      "outputs": [
        {
          "output_type": "stream",
          "name": "stdout",
          "text": [
            "[0, 1, 2, 3, 4, 5, 6, 7, 8, 9]\n",
            "[31, 11, 31, 58, 27, 91, 59, 87, 39, 84]\n"
          ]
        },
        {
          "output_type": "display_data",
          "data": {
            "text/plain": [
              "<Figure size 640x480 with 1 Axes>"
            ],
            "image/png": "[encoded data removed]"
          },
          "metadata": {}
        }
      ]
    }
  ]
}