{
  "cells": [
    {
      "cell_type": "markdown",
      "metadata": {
        "id": "9nNJydks3wNW"
      },
      "source": [
        "# 확률적 경사 하강법\n",
        "\n",
        "* 점진적 학습 알고리즘\n",
        "1. `fit()`: 훈련 ➡ 처음부터\n",
        "2. `partial_fit`: 점진적으로 훈련 (단, 기존 학습은 유지시킨 채로)\n"
      ]
    },
    {
      "cell_type": "markdown",
      "source": [
        "## 데이터 준비"
      ],
      "metadata": {
        "id": "K8_1wyie336u"
      }
    },
    {
      "cell_type": "code",
      "source": [
        "from google.colab import drive\n",
        "drive.mount('/content/drive')"
      ],
      "metadata": {
        "colab": {
          "base_uri": "https://localhost:8080/"
        },
        "id": "BNTazzO--Xrr",
        "outputId": "030490a5-968c-4b4a-c990-6c55977b5346"
      },
      "execution_count": 3,
      "outputs": [
        {
          "output_type": "stream",
          "name": "stdout",
          "text": [
            "Mounted at /content/drive\n"
          ]
        }
      ]
    },
    {
      "cell_type": "code",
      "execution_count": 4,
      "metadata": {
        "id": "j3z-zKXoRmWB"
      },
      "outputs": [],
      "source": [
        "import pandas as pd\n",
        "fish = pd.read_csv('/content/drive/MyDrive/인공지능 실무/fish_csv_data.csv')"
      ]
    },
    {
      "cell_type": "code",
      "execution_count": 5,
      "metadata": {
        "id": "WAiJVY9nR1fF"
      },
      "outputs": [],
      "source": [
        "fish_input = fish[['Weight','Length','Diagonal','Height','Width']].to_numpy()\n",
        "fish_target = fish['Species'].to_numpy()"
      ]
    },
    {
      "cell_type": "code",
      "execution_count": 6,
      "metadata": {
        "id": "AW6LMW_URpto"
      },
      "outputs": [],
      "source": [
        "from sklearn.model_selection import train_test_split\n",
        "\n",
        "train_input, test_input, train_target, test_target = train_test_split(\n",
        "    fish_input, fish_target, random_state=42)"
      ]
    },
    {
      "cell_type": "code",
      "execution_count": 7,
      "metadata": {
        "id": "1RTAwK_DRutj"
      },
      "outputs": [],
      "source": [
        "from sklearn.preprocessing import StandardScaler\n",
        "\n",
        "ss = StandardScaler()\n",
        "ss.fit(train_input)\n",
        "train_scaled = ss.transform(train_input)\n",
        "test_scaled = ss.transform(test_input)"
      ]
    },
    {
      "cell_type": "markdown",
      "metadata": {
        "id": "3x4OwaSIR50l"
      },
      "source": [
        "# SGDClassifier\n",
        "* 확률적 경사하강법: 랜덤한 값으로 목표 지점까지 가장 빠르게 가는 길을 찾는 방법 == 성능 향상을 목표로\n",
        "* 훈련 세트에서 랜덤하게 하나의 샘플을 선택한 후 가장 빠른 경사를 선택함\n",
        "\n",
        "1. 샘플을 하나씩 추출: 확률적 경사 하강법\n",
        "2. 샘플을 여러 개 추출: 미니 배치 경사 하강법\n",
        "3. 전체 샘플을 한꺼번에 추출: 배치 경사 하강법\n",
        "\n",
        "* 에포크: 훈련 세트를 모두 사용하는 과정\n",
        "\n",
        "* 손실 함수: 나쁜 정도를 평가 == 값이 작을수록 좋음\n"
      ]
    },
    {
      "cell_type": "code",
      "execution_count": 8,
      "metadata": {
        "id": "FSyujXY7sli6"
      },
      "outputs": [],
      "source": [
        "# 사이킷런에서 확률적 경사 하강법을 제공하는 대표적인 분류\n",
        "# 분류 알고리즘에서의 확률 경사 하강법\n",
        "from sklearn.linear_model import SGDClassifier"
      ]
    },
    {
      "cell_type": "code",
      "execution_count": 18,
      "metadata": {
        "id": "KofoXhbwR9yu",
        "colab": {
          "base_uri": "https://localhost:8080/"
        },
        "outputId": "11e66fb6-c8be-4d54-dff3-580313ff3ab3"
      },
      "outputs": [
        {
          "output_type": "stream",
          "name": "stdout",
          "text": [
            "0.773109243697479\n",
            "0.775\n"
          ]
        },
        {
          "output_type": "stream",
          "name": "stderr",
          "text": [
            "/usr/local/lib/python3.10/dist-packages/sklearn/linear_model/_stochastic_gradient.py:744: ConvergenceWarning: Maximum number of iteration reached before convergence. Consider increasing max_iter to improve the fit.\n",
            "  warnings.warn(\n"
          ]
        }
      ],
      "source": [
        "sc = SGDClassifier(loss='log_loss', max_iter=10, random_state=42)\n",
        "sc.fit(train_scaled, train_target)\n",
        "\n",
        "print(sc.score(train_scaled, train_target))\n",
        "print(sc.score(test_scaled, test_target))"
      ]
    },
    {
      "cell_type": "code",
      "execution_count": null,
      "metadata": {
        "colab": {
          "base_uri": "https://localhost:8080/",
          "height": 52
        },
        "id": "duwA4N3eSUk5",
        "outputId": "3d718c7f-e5bb-483b-bb95-4cb12e7825e9"
      },
      "outputs": [
        {
          "name": "stdout",
          "output_type": "stream",
          "text": [
            "0.8151260504201681\n",
            "0.825\n"
          ]
        }
      ],
      "source": [
        "# 확률적 경사 하강법은 점진적 학습이 가능함 SGDClassifier"
      ]
    },
    {
      "cell_type": "markdown",
      "source": [
        "\n",
        "`max_iter=10` ➡  /usr/local/lib/python3.10/dist-packages/sklearn/linear_model/_stochastic_gradient.py:744: ConvergenceWarning: Maximum number of iteration reached before convergence. Consider increasing max_iter to improve the fit.\n",
        "  warnings.warn( 너무 낮은 값이라 알려줌 ➡`max_iter=100` ➡ 경고문 사라짐\n",
        "\n",
        "#### 차이점 요약: (gpt)\n",
        "* 훈련 방식:\n",
        "  * max_iter: 전체 데이터셋을 여러 번 반복하여 훈련.\n",
        "  * partial_fit: 데이터를 배치 단위로 나눠 점진적으로 훈련.\n",
        "\n",
        "* 사용 상황:\n",
        "  * max_iter: 데이터가 충분히 작아서 한 번에 모두 처리할 수 있을 때 사용.\n",
        "  * partial_fit: 데이터가 크거나 실시간 데이터처럼 점진적 학습이 필요한 경우 사용.\n",
        "\n",
        "\n",
        "* 메모리 사용:\n",
        "  * max_iter: 메모리에 데이터셋 전체를 올려야 하기 때문에 큰 데이터셋에선 메모리 부담이 큼.\n",
        "  * partial_fit: 메모리 효율적, 큰 데이터도 배치 단위로 처리 가능."
      ],
      "metadata": {
        "id": "VGzsJ_8WD_TG"
      }
    }
  ],
  "metadata": {
    "colab": {
      "provenance": []
    },
    "kernelspec": {
      "display_name": "TensorFlow 2.3 on Python 3.6 (CUDA 10.1)",
      "language": "python",
      "name": "python3"
    },
    "language_info": {
      "codemirror_mode": {
        "name": "ipython",
        "version": 3
      },
      "file_extension": ".py",
      "mimetype": "text/x-python",
      "name": "python",
      "nbconvert_exporter": "python",
      "pygments_lexer": "ipython3",
      "version": "3.6.9"
    }
  },
  "nbformat": 4,
  "nbformat_minor": 0
}