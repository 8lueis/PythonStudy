{
 "cells": [
  {
   "cell_type": "markdown",
   "metadata": {},
   "source": [
    "### 함수와 오류\n",
    "\n",
    "#### What is function... \n",
    "\n",
    "* 함수\n",
    "\n",
    "어떤 하나의 단위 프로그램으로 만들어둔 것 \n",
    "\n",
    "![Alt text](<YourFile (13).png>)\n",
    "\n",
    "->  사용자 정의 함수 \n",
    ">>> 언제 사용? 반복헤서 사용해야 할 때\n",
    "\n",
    "* What is program\n",
    "\n",
    "어떤 목적을 가진 명령어의 모임 \n",
    "\n",
    "\n",
    "파이썬은 결과가 하나든 여러 개든 함수랑 칭함"
   ]
  },
  {
   "cell_type": "code",
   "execution_count": 1,
   "metadata": {},
   "outputs": [
    {
     "name": "stdout",
     "output_type": "stream",
     "text": [
      "학번: 2104275\n",
      "이름: 기마굥\n"
     ]
    }
   ],
   "source": [
    "# 이름 학번 출력\n",
    "# print() -> 내장 함수, 괄호 내 내용 => 매개 변수 \n",
    "print(\"학번: 2104275\")\n",
    "print(\"이름: 기마굥\")"
   ]
  },
  {
   "cell_type": "code",
   "execution_count": 2,
   "metadata": {},
   "outputs": [
    {
     "name": "stdout",
     "output_type": "stream",
     "text": [
      "0\n",
      "출력 넘버링\n",
      "1\n",
      "출력 넘버링\n",
      "2\n",
      "출력 넘버링\n"
     ]
    }
   ],
   "source": [
    "for i in range(3):\n",
    "    print(i)\n",
    "    print(\"출력 넘버링\")"
   ]
  },
  {
   "cell_type": "code",
   "execution_count": 6,
   "metadata": {},
   "outputs": [
    {
     "name": "stdout",
     "output_type": "stream",
     "text": [
      "다양한\n",
      "학번: 2104275\n",
      "이름: 기마굥\n",
      "문장 아래\n",
      "학번: 2104275\n",
      "이름: 기마굥\n",
      "출력하기\n",
      "학번: 2104275\n",
      "이름: 기마굥\n"
     ]
    }
   ],
   "source": [
    "def printName():\n",
    "    print(\"학번: 2104275\")\n",
    "    print(\"이름: 기마굥\")\n",
    "\n",
    "print(\"다양한\")\n",
    "printName()\n",
    "\n",
    "print(\"문장 아래\")\n",
    "printName()\n",
    "\n",
    "print(\"출력하기\")\n",
    "printName()"
   ]
  },
  {
   "cell_type": "code",
   "execution_count": 8,
   "metadata": {},
   "outputs": [
    {
     "name": "stdout",
     "output_type": "stream",
     "text": [
      "ar 값은 3입니다\n"
     ]
    }
   ],
   "source": [
    "# 매개 변수 부여 \n",
    "def inputAr(ar):\n",
    "    print(\"ar 값은 %d입니다\"%ar)\n",
    "\n",
    "inputAr(3)"
   ]
  },
  {
   "cell_type": "code",
   "execution_count": 9,
   "metadata": {},
   "outputs": [],
   "source": [
    "# p258\n",
    "# p259 259 번 라인ㄴㄴ \n",
    "# 260\n",
    "# c처리 "
   ]
  },
  {
   "cell_type": "code",
   "execution_count": 12,
   "metadata": {},
   "outputs": [],
   "source": [
    "# 두 수를 받아 합을 구하는 함수 \n",
    "def sumAB(a,b):\n",
    "    print(a+b)"
   ]
  },
  {
   "cell_type": "code",
   "execution_count": 13,
   "metadata": {},
   "outputs": [
    {
     "name": "stdout",
     "output_type": "stream",
     "text": [
      "13\n"
     ]
    }
   ],
   "source": [
    "sumAB(3,10)"
   ]
  },
  {
   "cell_type": "code",
   "execution_count": 16,
   "metadata": {},
   "outputs": [
    {
     "data": {
      "text/plain": [
       "9"
      ]
     },
     "execution_count": 16,
     "metadata": {},
     "output_type": "execute_result"
    }
   ],
   "source": [
    "def sumAB2(a,b):\n",
    "    return a + b\n",
    "\n",
    "# 상수를 직접 써주는 \n",
    "# 문제점 : 컴파일러가 출력은 하고 있지만 실제로 출력해 주는 건 x\n",
    "sumAB2(4,5)\n"
   ]
  },
  {
   "cell_type": "code",
   "execution_count": 17,
   "metadata": {},
   "outputs": [
    {
     "name": "stdout",
     "output_type": "stream",
     "text": [
      "9\n"
     ]
    }
   ],
   "source": [
    "# 해결 방법\n",
    "def hap(a,b):\n",
    "    return a+b\n",
    "\n",
    "result = hap(4,5)\n",
    "print(result)"
   ]
  },
  {
   "cell_type": "code",
   "execution_count": 19,
   "metadata": {},
   "outputs": [
    {
     "name": "stdout",
     "output_type": "stream",
     "text": [
      "hellohi\n"
     ]
    }
   ],
   "source": [
    "a = \"hello\"\n",
    "b = \"hi\"\n",
    "\n",
    "print(hap(a,b))"
   ]
  },
  {
   "cell_type": "code",
   "execution_count": 20,
   "metadata": {},
   "outputs": [
    {
     "name": "stdout",
     "output_type": "stream",
     "text": [
      "1.2000000000000002\n",
      "34\n"
     ]
    }
   ],
   "source": [
    "print(hap(2.2,-1))\n",
    "print(hap(11,22)+1)"
   ]
  },
  {
   "cell_type": "code",
   "execution_count": 22,
   "metadata": {},
   "outputs": [
    {
     "name": "stdout",
     "output_type": "stream",
     "text": [
      "50000\n"
     ]
    }
   ],
   "source": [
    "# 두 개의 값을 받아서 둘 중에 큰 값을 반환 == return을 써라 \n",
    "# 1\n",
    "def maxNum(x,y):\n",
    "    return max(x,y)\n",
    "\n",
    "result = maxNum(50000,49999)\n",
    "print(result)"
   ]
  },
  {
   "cell_type": "code",
   "execution_count": 28,
   "metadata": {},
   "outputs": [
    {
     "name": "stdout",
     "output_type": "stream",
     "text": [
      "같은 숫자입니다\n"
     ]
    }
   ],
   "source": [
    "# 2\n",
    "def maxNum2(a,b):\n",
    "    if a > b:\n",
    "        return a\n",
    "    elif b > a:\n",
    "        return b\n",
    "    else:\n",
    "        sameNum = \"같은 숫자입니다\"\n",
    "        return sameNum\n",
    "    \n",
    "\n",
    "result = maxNum2(5,5)\n",
    "print(result)"
   ]
  },
  {
   "cell_type": "code",
   "execution_count": 29,
   "metadata": {},
   "outputs": [
    {
     "name": "stdout",
     "output_type": "stream",
     "text": [
      "4.5\n"
     ]
    }
   ],
   "source": [
    "print(maxNum2(1.2,4.5))"
   ]
  },
  {
   "cell_type": "code",
   "execution_count": 30,
   "metadata": {},
   "outputs": [
    {
     "name": "stdout",
     "output_type": "stream",
     "text": [
      "kk\n"
     ]
    }
   ],
   "source": [
    "print(maxNum2('kk','ka'))\n",
    "# 아스키코드"
   ]
  },
  {
   "cell_type": "code",
   "execution_count": 36,
   "metadata": {},
   "outputs": [
    {
     "name": "stdout",
     "output_type": "stream",
     "text": [
      "3\n"
     ]
    }
   ],
   "source": [
    "# 세 개의 값을 받아서 가장 큰 값을 반환\n",
    "# 1\n",
    "def mNum(a,b,c):\n",
    "    return max(a,b,c)\n",
    "\n",
    "result = mNum(1,2,3)\n",
    "print(result)"
   ]
  },
  {
   "cell_type": "code",
   "execution_count": 37,
   "metadata": {},
   "outputs": [
    {
     "name": "stdout",
     "output_type": "stream",
     "text": [
      "40\n"
     ]
    }
   ],
   "source": [
    "def a(a,b,c):\n",
    "    if a > b:\n",
    "        return a\n",
    "    elif b > c:\n",
    "        return b\n",
    "    else:\n",
    "        return c\n",
    "    \n",
    "result = a(10,20,40)\n",
    "print(result)"
   ]
  },
  {
   "cell_type": "code",
   "execution_count": 35,
   "metadata": {},
   "outputs": [
    {
     "name": "stdout",
     "output_type": "stream",
     "text": [
      "4\n"
     ]
    }
   ],
   "source": [
    "# 4개\n",
    "def num4_max(a,b,c,d):\n",
    "    return max(a,b,c,d)\n",
    "\n",
    "result = num4_max(1,2,3,4)\n",
    "print(result)"
   ]
  },
  {
   "cell_type": "code",
   "execution_count": 39,
   "metadata": {},
   "outputs": [
    {
     "name": "stdout",
     "output_type": "stream",
     "text": [
      "3\n",
      "3\n",
      "3\n",
      "3\n",
      "3\n"
     ]
    }
   ],
   "source": [
    "def xyz(a,b,c):\n",
    "    if a > b:\n",
    "        if a > c:\n",
    "            return a\n",
    "        else:\n",
    "            return c\n",
    "    else:\n",
    "        if b > c:\n",
    "            return b\n",
    "        else: \n",
    "            return c\n",
    "        \n",
    "print(xyz(1,2,3))\n",
    "print(xyz(1,3,2))\n",
    "print(xyz(2,3,1))\n",
    "print(xyz(2,3,1))\n",
    "print(xyz(3,2,1))     "
   ]
  },
  {
   "cell_type": "code",
   "execution_count": 40,
   "metadata": {},
   "outputs": [
    {
     "name": "stdout",
     "output_type": "stream",
     "text": [
      "2\n",
      "None\n",
      "2\n",
      "None\n"
     ]
    }
   ],
   "source": [
    "def xyz2(a,b,c):\n",
    "    if a > b:\n",
    "        max = a\n",
    "    else:\n",
    "        max = b\n",
    "    if c > max:\n",
    "        return max\n",
    "\n",
    "print(xyz2(1,2,3))\n",
    "print(xyz2(3,2,1))\n",
    "print(xyz2(2,1,3))\n",
    "print(xyz2(2,3,1))"
   ]
  },
  {
   "cell_type": "code",
   "execution_count": 43,
   "metadata": {},
   "outputs": [
    {
     "name": "stdout",
     "output_type": "stream",
     "text": [
      "4\n",
      "4\n",
      "4\n",
      "4\n"
     ]
    }
   ],
   "source": [
    "def b(a,b,c,d):\n",
    "    max = a\n",
    "    if b > max: max = b\n",
    "    if c > max: max = c\n",
    "    if d > max: max = d\n",
    "    return max\n",
    "\n",
    "print(b(1,2,3,4))\n",
    "print(b(3,2,1,4))\n",
    "print(b(2,1,3,4))\n",
    "print(b(2,3,1,4))\n",
    "# 요련 식으로 풀어 /"
   ]
  },
  {
   "cell_type": "code",
   "execution_count": 44,
   "metadata": {},
   "outputs": [],
   "source": [
    "# 작은 값 \n"
   ]
  },
  {
   "cell_type": "code",
   "execution_count": 49,
   "metadata": {},
   "outputs": [
    {
     "name": "stdout",
     "output_type": "stream",
     "text": [
      "1\n"
     ]
    }
   ],
   "source": [
    "# 두 개의 평균을 구하자\n",
    "def adv(a,b):\n",
    "    sum_ab = a + b\n",
    "    return sum_ab // 2\n",
    "\n",
    "re = adv(1,2)\n",
    "print(re)"
   ]
  },
  {
   "cell_type": "code",
   "execution_count": 50,
   "metadata": {},
   "outputs": [
    {
     "name": "stdout",
     "output_type": "stream",
     "text": [
      "1.5\n"
     ]
    }
   ],
   "source": [
    "def adv(a,b):\n",
    "    sum_ab = a + b\n",
    "    return sum_ab / 2\n",
    "\n",
    "re = adv(1,2)\n",
    "print(re)"
   ]
  },
  {
   "cell_type": "code",
   "execution_count": 52,
   "metadata": {},
   "outputs": [
    {
     "name": "stdout",
     "output_type": "stream",
     "text": [
      "2\n"
     ]
    }
   ],
   "source": [
    "def adv3(a,b,c):\n",
    "    sumabc = a + b + c\n",
    "    return sumabc \n",
    "\n",
    "re = adv3(1,2,3)c\n",
    "print(re)"
   ]
  },
  {
   "cell_type": "code",
   "execution_count": null,
   "metadata": {},
   "outputs": [],
   "source": [
    "# p265\n",
    "# 266 : 연산자 입력 뭐시기 문제 "
   ]
  }
 ],
 "metadata": {
  "kernelspec": {
   "display_name": "Python 3",
   "language": "python",
   "name": "python3"
  },
  "language_info": {
   "codemirror_mode": {
    "name": "ipython",
    "version": 3
   },
   "file_extension": ".py",
   "mimetype": "text/x-python",
   "name": "python",
   "nbconvert_exporter": "python",
   "pygments_lexer": "ipython3",
   "version": "3.11.5"
  },
  "orig_nbformat": 4
 },
 "nbformat": 4,
 "nbformat_minor": 2
}
