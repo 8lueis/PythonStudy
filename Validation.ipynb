{
  "cells": [
    {
      "cell_type": "markdown",
      "metadata": {
        "id": "GWdmczDirzyW"
      },
      "source": [
        "# 교차 검증과 그리드 서치"
      ]
    },
    {
      "cell_type": "markdown",
      "metadata": {
        "id": "dVNF7yZjyvoO"
      },
      "source": [
        "## 검증 세트\n"
      ]
    },
    {
      "cell_type": "code",
      "execution_count": 1,
      "metadata": {
        "id": "banlvMA6RfnM"
      },
      "outputs": [],
      "source": [
        "import pandas as pd\n",
        "\n",
        "wine = pd.read_csv('https://bit.ly/wine-date')"
      ]
    },
    {
      "cell_type": "code",
      "execution_count": 2,
      "metadata": {
        "id": "abR6QA7qRoKl"
      },
      "outputs": [],
      "source": [
        "data = wine[['alcohol', 'sugar', 'pH']].to_numpy() # 2차원 입력 데이터\n",
        "target = wine['class'].to_numpy() # 1차원 정답 데이터"
      ]
    },
    {
      "cell_type": "code",
      "execution_count": 3,
      "metadata": {
        "id": "auLnVXyMRoeb"
      },
      "outputs": [],
      "source": [
        "from sklearn.model_selection import train_test_split\n",
        "\n",
        "train_input, test_input, train_target, test_target = train_test_split(\n",
        "    data, target, test_size=0.2, random_state=42) # 1차: 훈련 세트와 테스트 세트로 나눔 8:2"
      ]
    },
    {
      "cell_type": "code",
      "source": [
        "print(train_input.shape, test_input.shape)"
      ],
      "metadata": {
        "colab": {
          "base_uri": "https://localhost:8080/"
        },
        "id": "-mp-waEcIpkN",
        "outputId": "f5c214c4-a0bb-4f45-a064-23fd7ab25671"
      },
      "execution_count": 6,
      "outputs": [
        {
          "output_type": "stream",
          "name": "stdout",
          "text": [
            "(5197, 3) (1300, 3)\n"
          ]
        }
      ]
    },
    {
      "cell_type": "code",
      "execution_count": 4,
      "metadata": {
        "id": "E-yV4cCXRqNK"
      },
      "outputs": [],
      "source": [
        "sub_input, val_input, sub_target, val_target = train_test_split(\n",
        "    train_input, train_target, test_size=0.2, random_state=42) # 2차: 5197 데이터를 다시 8:2로 나눔"
      ]
    },
    {
      "cell_type": "code",
      "execution_count": 5,
      "metadata": {
        "colab": {
          "base_uri": "https://localhost:8080/"
        },
        "id": "k29hKbw4R7Ki",
        "outputId": "9277af5a-c181-49ac-a6c9-d0148cff3e63"
      },
      "outputs": [
        {
          "output_type": "stream",
          "name": "stdout",
          "text": [
            "(4157, 3) (1040, 3)\n"
          ]
        }
      ],
      "source": [
        "print(sub_input.shape, val_input.shape)"
      ]
    },
    {
      "cell_type": "markdown",
      "source": [
        "## 교차 검증\n",
        "* 데이터를 여러 번 나누어 검증하는 방법\n",
        "* 번갈아가며 진행됨\n",
        "* 검증 단위: 폴드 (기본 폴드 단위 5-fold)\n"
      ],
      "metadata": {
        "id": "vaw4wRMuJVnv"
      }
    },
    {
      "cell_type": "code",
      "source": [
        "# 의사결정 트리 평가 (훈련 + 검증)\n",
        "from sklearn.tree import DecisionTreeClassifier\n",
        "dt = DecisionTreeClassifier(random_state=42)\n",
        "dt.fit(sub_input, sub_target)\n",
        "\n",
        "print(dt.score(sub_input, sub_target))\n",
        "print(dt.score(val_input, val_target))"
      ],
      "metadata": {
        "colab": {
          "base_uri": "https://localhost:8080/"
        },
        "id": "D9FHjAGfJ_Kf",
        "outputId": "8dca312e-d3f7-427b-b18d-60b37ce6f49e"
      },
      "execution_count": 7,
      "outputs": [
        {
          "output_type": "stream",
          "name": "stdout",
          "text": [
            "0.9971133028626413\n",
            "0.864423076923077\n"
          ]
        }
      ]
    },
    {
      "cell_type": "markdown",
      "source": [
        "* 훈련 0.99\n",
        "* 검증 0.86\n",
        "\n",
        "교차검증으로 둘 차 줄이기?"
      ],
      "metadata": {
        "id": "nU6JTLS6KjrC"
      }
    },
    {
      "cell_type": "code",
      "source": [
        "# 교차 검증: cross_validate (기본 fold: 5)\n",
        "from sklearn.model_selection import cross_validate\n",
        "\n",
        "scores = cross_validate(dt, train_input, train_target)\n",
        "print(scores)"
      ],
      "metadata": {
        "colab": {
          "base_uri": "https://localhost:8080/"
        },
        "id": "VWZZKHiBKthM",
        "outputId": "1aebf231-e950-48d4-908d-d92abb8da405"
      },
      "execution_count": 8,
      "outputs": [
        {
          "output_type": "stream",
          "name": "stdout",
          "text": [
            "{'fit_time': array([0.04059696, 0.0319376 , 0.03711772, 0.05507445, 0.05406189]), 'score_time': array([0.01227403, 0.00180268, 0.00175667, 0.0017941 , 0.00183582]), 'test_score': array([0.86923077, 0.84615385, 0.87680462, 0.84889317, 0.83541867])}\n"
          ]
        }
      ]
    },
    {
      "cell_type": "markdown",
      "source": [
        "{'fit_time': array([0.04059696, 0.0319376 , 0.03711772, 0.05507445, 0.05406189]),\n",
        "\n",
        "'score_time': array([0.01227403, 0.00180268, 0.00175667, 0.0017941 , 0.00183582]),\n",
        "\n",
        "'test_score': array([0.86923077, 0.84615385, 0.87680462, 0.84889317, 0.83541867])}"
      ],
      "metadata": {
        "id": "yJ5_TXQILNOP"
      }
    },
    {
      "cell_type": "code",
      "source": [
        "# 각 훈련 셋을 검증한 모델 평가 점수를 평균 냄\n",
        "import numpy as np\n",
        "print(np.mean(scores['test_score']))\n"
      ],
      "metadata": {
        "colab": {
          "base_uri": "https://localhost:8080/"
        },
        "id": "Sl94K-WkLnV1",
        "outputId": "e13ed1f8-6d8a-4ca7-dde3-e10d16bdd536"
      },
      "execution_count": 9,
      "outputs": [
        {
          "output_type": "stream",
          "name": "stdout",
          "text": [
            "0.855300214703487\n"
          ]
        }
      ]
    },
    {
      "cell_type": "code",
      "source": [
        "# 교차 검증 시 훈련 세트를 섞어서 분할해 주는 분할기 기능\n",
        "# 1. stratifield (Fold: 분류, KFold: 회귀)\n",
        "# 2. 임의의 숫자로\n",
        "from sklearn.model_selection import StratifiedKFold\n",
        "scores = cross_validate(dt, train_input, train_target, cv=StratifiedKFold())\n",
        "print(np.mean(scores['test_score']))"
      ],
      "metadata": {
        "colab": {
          "base_uri": "https://localhost:8080/"
        },
        "id": "T1sXKf0mMB7P",
        "outputId": "ad2a9f0d-a7c7-4683-abfe-3c7c461d5ec5"
      },
      "execution_count": 10,
      "outputs": [
        {
          "output_type": "stream",
          "name": "stdout",
          "text": [
            "0.855300214703487\n"
          ]
        }
      ]
    },
    {
      "cell_type": "markdown",
      "source": [
        "➡ 교차 검증을 통해 평균 성능 점수 계산"
      ],
      "metadata": {
        "id": "DTLye1oFNCXV"
      }
    },
    {
      "cell_type": "code",
      "source": [
        "splitter = StratifiedKFold(n_splits=10, shuffle=True, random_state=42)\n",
        "scores = cross_validate(dt, train_input, train_target, cv=splitter)\n",
        "print(np.mean(scores['test_score']))"
      ],
      "metadata": {
        "colab": {
          "base_uri": "https://localhost:8080/"
        },
        "id": "reHo9ByRNLFn",
        "outputId": "cfbd5b37-9888-498a-f2e4-c1e40dabc339"
      },
      "execution_count": 11,
      "outputs": [
        {
          "output_type": "stream",
          "name": "stdout",
          "text": [
            "0.8574181117533719\n"
          ]
        }
      ]
    },
    {
      "cell_type": "markdown",
      "source": [
        "➡ 위 코드와 데이터 나누는 부분에서 차이 有\n",
        "  * `n_splits=10`: 10개의 폴드로 나누어 교차 검증을 수행\n",
        "  * 위 코드는 기본 값 5로 나누어져 있지만 아래 코드는 10개로 설정되어 있음\n",
        "  * 또 무작위성을 더한 부분이 다름"
      ],
      "metadata": {
        "id": "TR8fCCNsNgBK"
      }
    },
    {
      "cell_type": "markdown",
      "metadata": {
        "id": "Q21W8RsqDsDV"
      },
      "source": [
        "## 하이퍼파라미터 튜닝\n",
        "* 파라미터를 이용해 모델 성능 평가\n",
        "\n",
        "### 그리드 서치\n",
        "* 교차 검증 + 하이퍼파라미터 튜닝 = 그리드 서치\n",
        "* 파라미터 간 모든 가능한 조합을 시도함"
      ]
    },
    {
      "cell_type": "code",
      "source": [
        "from sklearn.model_selection import GridSearchCV\n",
        "params = {'min_impurity_decrease':[0.0001, 0.001, 0.0001],\n",
        "          'max_depth': range(5, 20, 1),\n",
        "          'min_samples_split': range(2, 100, 10)} # 불순도 값을 바꿔서 해보고자\n",
        "gs = GridSearchCV(DecisionTreeClassifier(random_state=42), params, n_jobs=-1)\n",
        "gs.fit(train_input, train_target)\n",
        "\n",
        "dt = gs.best_estimator_\n",
        "print(dt.score(train_input, train_target))"
      ],
      "metadata": {
        "colab": {
          "base_uri": "https://localhost:8080/"
        },
        "id": "3fNU1rD_OWhQ",
        "outputId": "5fe563c6-cc78-4a3c-b3f3-b4d049e43de3"
      },
      "execution_count": 15,
      "outputs": [
        {
          "output_type": "stream",
          "name": "stdout",
          "text": [
            "0.9615162593804117\n"
          ]
        },
        {
          "output_type": "stream",
          "name": "stderr",
          "text": [
            "/usr/local/lib/python3.10/dist-packages/numpy/ma/core.py:2820: RuntimeWarning: invalid value encountered in cast\n",
            "  _data = np.array(data, dtype=dtype, copy=copy,\n"
          ]
        }
      ]
    },
    {
      "cell_type": "code",
      "source": [
        "print(gs.best_params_)"
      ],
      "metadata": {
        "colab": {
          "base_uri": "https://localhost:8080/"
        },
        "id": "bFka7XdKPsPE",
        "outputId": "63f63b06-ad2a-413f-bd3a-658deaedb150"
      },
      "execution_count": 16,
      "outputs": [
        {
          "output_type": "stream",
          "name": "stdout",
          "text": [
            "{'max_depth': 19, 'min_impurity_decrease': 0.0001, 'min_samples_split': 2}\n"
          ]
        }
      ]
    },
    {
      "cell_type": "markdown",
      "source": [
        "모델이 가장 높은 성능을 나타낸 하이퍼파라미터 조합을 보여줌"
      ],
      "metadata": {
        "id": "jr1lkP2lQiNv"
      }
    },
    {
      "cell_type": "code",
      "source": [
        "print(gs.cv_results_['mean_test_score'])"
      ],
      "metadata": {
        "colab": {
          "base_uri": "https://localhost:8080/"
        },
        "id": "R-fzk_pyPzrz",
        "outputId": "b9f3eb1e-1181-48e6-e04f-515d42578632"
      },
      "execution_count": 17,
      "outputs": [
        {
          "output_type": "stream",
          "name": "stdout",
          "text": [
            "[0.85780355 0.85799604 0.85799604 0.85761105 0.85761105 0.85761105\n",
            " 0.85818853 0.85876601 0.85876601 0.85876601 0.85876601 0.85876601\n",
            " 0.85876601 0.85857352 0.85857352 0.85857352 0.85857352 0.85857352\n",
            " 0.85857352 0.85857352 0.85780355 0.85799604 0.85799604 0.85761105\n",
            " 0.85761105 0.85761105 0.85818853 0.85876601 0.85876601 0.85876601\n",
            " 0.85645721 0.8566497  0.8574193  0.85761124 0.85915063 0.85915081\n",
            " 0.85992023 0.86049789 0.86030558 0.86049808 0.85992097 0.85992097\n",
            " 0.85992097 0.85972847 0.86011346 0.86011346 0.86011346 0.86011346\n",
            " 0.86049808 0.86069057 0.85645721 0.8566497  0.8574193  0.85761124\n",
            " 0.85915063 0.85915081 0.85992023 0.86049789 0.86030558 0.86049808\n",
            " 0.85607093 0.85414637 0.85683923 0.85741597 0.86049511 0.85953376\n",
            " 0.8604953  0.86088065 0.86068835 0.86222903 0.86049567 0.86049567\n",
            " 0.86030318 0.86011068 0.86049567 0.85991875 0.85991875 0.85991875\n",
            " 0.86030336 0.86222903 0.85607093 0.85414637 0.85683923 0.85741597\n",
            " 0.86049511 0.85953376 0.8604953  0.86088065 0.86068835 0.86222903\n",
            " 0.86088343 0.85799752 0.8587662  0.85953524 0.86165229 0.86069094\n",
            " 0.86165192 0.86203728 0.85915007 0.86069075 0.86145795 0.86145795\n",
            " 0.86126545 0.86107296 0.86145795 0.86088102 0.86030355 0.86030355\n",
            " 0.86068816 0.86261383 0.86088343 0.85799752 0.8587662  0.85953524\n",
            " 0.86165229 0.86069094 0.86165192 0.86203728 0.85915007 0.86069075\n",
            " 0.86222792 0.86088251 0.85934312 0.86068927 0.86203654 0.86165266\n",
            " 0.86319131 0.86376897 0.86088177 0.86222995 0.86165044 0.86165044\n",
            " 0.86145795 0.86126545 0.86165044 0.8614585  0.86088102 0.86088102\n",
            " 0.86126564 0.86319131 0.86222792 0.86088251 0.85934312 0.86068927\n",
            " 0.86203654 0.86165266 0.86319131 0.86376897 0.86088177 0.86222995\n",
            " 0.86088362 0.86011439 0.85992023 0.86107426 0.86222829 0.86126768\n",
            " 0.86261401 0.86319149 0.86030429 0.86165248 0.86165044 0.86165044\n",
            " 0.86145795 0.86126545 0.86165044 0.8614585  0.86088102 0.86088102\n",
            " 0.86126564 0.86319131 0.86088362 0.86011439 0.85992023 0.86107426\n",
            " 0.86222829 0.86126768 0.86261401 0.86319149 0.86030429 0.86165248\n",
            " 0.86319112 0.86107592 0.86107463 0.86107333 0.86222773 0.86049733\n",
            " 0.86184404 0.86376897 0.86088177 0.86184497 0.86165044 0.86165044\n",
            " 0.86145795 0.86126545 0.86165044 0.8614585  0.86088102 0.86088102\n",
            " 0.86126564 0.86319131 0.86319112 0.86107592 0.86107463 0.86107333\n",
            " 0.86222773 0.86049733 0.86184404 0.86376897 0.86088177 0.86184497\n",
            " 0.86646313 0.86280836 0.86126749 0.86165192 0.86299863 0.86069075\n",
            " 0.86145998 0.86396183 0.86145924 0.86242245 0.86165044 0.86165044\n",
            " 0.86145795 0.86126545 0.86165044 0.8614585  0.86088102 0.86088102\n",
            " 0.86126564 0.86319131 0.86646313 0.86280836 0.86126749 0.86165192\n",
            " 0.86299863 0.86069075 0.86145998 0.86396183 0.86145924 0.86242245\n",
            " 0.86588584 0.86146017 0.86203746 0.86165192 0.86203617 0.86069075\n",
            " 0.86126749 0.86376934 0.86126675 0.86242245 0.86165044 0.86165044\n",
            " 0.86145795 0.86126545 0.86165044 0.8614585  0.86088102 0.86088102\n",
            " 0.86126564 0.86319131 0.86588584 0.86146017 0.86203746 0.86165192\n",
            " 0.86203617 0.86069075 0.86126749 0.86376934 0.86126675 0.86242245\n",
            " 0.86357611 0.86261531 0.86088232 0.86011179 0.86242097 0.86107555\n",
            " 0.86126749 0.86376934 0.86126675 0.86242245 0.86165044 0.86165044\n",
            " 0.86145795 0.86126545 0.86165044 0.8614585  0.86088102 0.86088102\n",
            " 0.86126564 0.86319131 0.86357611 0.86261531 0.86088232 0.86011179\n",
            " 0.86242097 0.86107555 0.86126749 0.86376934 0.86126675 0.86242245\n",
            " 0.86472866 0.86049808 0.86011253 0.8595345  0.86184367 0.86069057\n",
            " 0.86126749 0.86376934 0.86126675 0.86242245 0.86165044 0.86165044\n",
            " 0.86145795 0.86126545 0.86165044 0.8614585  0.86088102 0.86088102\n",
            " 0.86126564 0.86319131 0.86472866 0.86049808 0.86011253 0.8595345\n",
            " 0.86184367 0.86069057 0.86126749 0.86376934 0.86126675 0.86242245\n",
            " 0.86742374 0.86146017 0.86049733 0.85972681 0.86184367 0.86069057\n",
            " 0.86126749 0.86376934 0.86126675 0.86242245 0.86165044 0.86165044\n",
            " 0.86145795 0.86126545 0.86165044 0.8614585  0.86088102 0.86088102\n",
            " 0.86126564 0.86319131 0.86742374 0.86146017 0.86049733 0.85972681\n",
            " 0.86184367 0.86069057 0.86126749 0.86376934 0.86126675 0.86242245\n",
            " 0.86665433 0.86184571 0.85992041 0.86030429 0.86184367 0.86069057\n",
            " 0.86126749 0.86376934 0.86126675 0.86242245 0.86165044 0.86165044\n",
            " 0.86145795 0.86126545 0.86165044 0.8614585  0.86088102 0.86088102\n",
            " 0.86126564 0.86319131 0.86665433 0.86184571 0.85992041 0.86030429\n",
            " 0.86184367 0.86069057 0.86126749 0.86376934 0.86126675 0.86242245\n",
            " 0.86703839 0.86242245 0.85992041 0.86030429 0.86184367 0.86069057\n",
            " 0.86126749 0.86376934 0.86126675 0.86242245 0.86165044 0.86165044\n",
            " 0.86145795 0.86126545 0.86165044 0.8614585  0.86088102 0.86088102\n",
            " 0.86126564 0.86319131 0.86703839 0.86242245 0.85992041 0.86030429\n",
            " 0.86184367 0.86069057 0.86126749 0.86376934 0.86126675 0.86242245\n",
            " 0.8678078  0.86223014 0.85992041 0.86030429 0.86184367 0.86069057\n",
            " 0.86126749 0.86376934 0.86126675 0.86242245 0.86165044 0.86165044\n",
            " 0.86145795 0.86126545 0.86165044 0.8614585  0.86088102 0.86088102\n",
            " 0.86126564 0.86319131 0.8678078  0.86223014 0.85992041 0.86030429\n",
            " 0.86184367 0.86069057 0.86126749 0.86376934 0.86126675 0.86242245]\n"
          ]
        }
      ]
    },
    {
      "cell_type": "markdown",
      "metadata": {
        "id": "d0k9DQTNlaD6"
      },
      "source": [
        "### 랜덤 서치"
      ]
    },
    {
      "cell_type": "code",
      "source": [
        "from sklearn.model_selection import RandomizedSearchCV\n",
        "from scipy.stats import uniform, randint\n",
        "params = {'min_impurity_decrease':uniform(0.0001, 0.001),\n",
        "          'max_depth': randint(5, 20, 1),\n",
        "          'min_samples_split': randint(2, 100, 10)} # 불순도 값을 바꿔서 해보고자\n",
        "          # leaf는 빼도 ㄱㅊ\n",
        "gs = RandomizedSearchCV(DecisionTreeClassifier(random_state=42), params, n_jobs=-1, n_iter=100, random_state=42)\n",
        "gs.fit(train_input, train_target)\n",
        "\n",
        "print(gs.best_params_)\n",
        "\n",
        "print(np.max(gs.cv_results_['mean_test_score']))\n",
        "\n",
        "dt = gs.best_estimator_\n",
        "print(dt.score(train_input, train_target))"
      ],
      "metadata": {
        "colab": {
          "base_uri": "https://localhost:8080/"
        },
        "id": "aVX_quRvQr9h",
        "outputId": "14c00fcf-7c40-4d03-ae77-f430e11a9cb5"
      },
      "execution_count": 18,
      "outputs": [
        {
          "output_type": "stream",
          "name": "stdout",
          "text": [
            "{'max_depth': 10, 'min_impurity_decrease': 0.00044507124802668297, 'min_samples_split': 12}\n",
            "0.8680006663211668\n",
            "0.8895516644217818\n"
          ]
        },
        {
          "output_type": "stream",
          "name": "stderr",
          "text": [
            "/usr/local/lib/python3.10/dist-packages/numpy/ma/core.py:2820: RuntimeWarning: invalid value encountered in cast\n",
            "  _data = np.array(data, dtype=dtype, copy=copy,\n"
          ]
        }
      ]
    }
  ],
  "metadata": {
    "colab": {
      "provenance": []
    },
    "kernelspec": {
      "display_name": "TensorFlow 2.3 on Python 3.6 (CUDA 10.1)",
      "language": "python",
      "name": "python3"
    },
    "language_info": {
      "codemirror_mode": {
        "name": "ipython",
        "version": 3
      },
      "file_extension": ".py",
      "mimetype": "text/x-python",
      "name": "python",
      "nbconvert_exporter": "python",
      "pygments_lexer": "ipython3",
      "version": "3.6.9"
    }
  },
  "nbformat": 4,
  "nbformat_minor": 0
}