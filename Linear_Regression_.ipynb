{
  "cells": [
    {
      "cell_type": "markdown",
      "metadata": {
        "id": "n0vcg6BygNyB"
      },
      "source": [
        "# 선형 회귀\n",
        "* 특성과 타깃 사이의 **관계**를 가장 잘 나타내는 **선형 방정식**을 찾음\n",
        "* 직선 방정식: 특성이 하나인 경우\n",
        "* 선형 회귀가 찾은 관계는 계수 또는 가중치에 저장\n",
        "* 머신러닝에서의 가중치는 방정식의 기울기와 절편\n",
        "\n",
        "# 선형 회귀 알고리즘 Linear Regression\n",
        "1. 임의의 직선을 그음\n",
        "2. 이에 대한 평균 제곱 오차를 구함\n",
        "3. 그 값을 가장 작게 만들 a, b 값을 찾아감\n",
        "\n",
        "* `y = ax + b` : 2개 이상의 독립 변수와 종속 변수 사이의 관계식\n",
        "\n",
        "#### 결과\n",
        "\n",
        "* 직선: 0에 가까운 일직선\n",
        "* 직선: 위에서 아래로 (음수) ➡ 잘 나오지는 Xx\n",
        "* 직선: 아래에서 위로 (최적) ➡ 만들어야 할 모양\n",
        "\n",
        "> ⭐ **독립 변수(입력) x와 종속 변수(정답) y 관계를 표현하는 선형 방정식을 찾고, 찾아낸 방정식을 이용해 새로운 입력 값에 대한 결과를 예측하는 모델링 방법**\n",
        "\n",
        "* 목표: 예측 값과 실제 값 사이의 차이가 가장 작아지는 절편, 기울기 찾기\n",
        "\n",
        "### 단순 선형 회귀 simple linear regression\n",
        "* 하나의 x값으로 y값을 설명할 수 Oo\n",
        "* 특성이 하나\n",
        "\n",
        "### 다중 선형 회귀 multiple linear resgression\n",
        "* x값이 여러 개 필요할 때\n",
        "* 특성이 2개 이상\n",
        "\n",
        "\n",
        "\n",
        "\n"
      ]
    },
    {
      "cell_type": "markdown",
      "metadata": {
        "id": "CgQlTY9VpWeb"
      },
      "source": [
        "## k-최근접 이웃의 한계\n",
        "* 학습한 데이터 범위 내에서만 예측 가능"
      ]
    },
    {
      "cell_type": "code",
      "execution_count": 2,
      "metadata": {
        "id": "HhWInkOKqg6s"
      },
      "outputs": [],
      "source": [
        "import numpy as np\n",
        "\n",
        "perch_length = np.array(\n",
        "    [8.4, 13.7, 15.0, 16.2, 17.4, 18.0, 18.7, 19.0, 19.6, 20.0,\n",
        "     21.0, 21.0, 21.0, 21.3, 22.0, 22.0, 22.0, 22.0, 22.0, 22.5,\n",
        "     22.5, 22.7, 23.0, 23.5, 24.0, 24.0, 24.6, 25.0, 25.6, 26.5,\n",
        "     27.3, 27.5, 27.5, 27.5, 28.0, 28.7, 30.0, 32.8, 34.5, 35.0,\n",
        "     36.5, 36.0, 37.0, 37.0, 39.0, 39.0, 39.0, 40.0, 40.0, 40.0,\n",
        "     40.0, 42.0, 43.0, 43.0, 43.5, 44.0]\n",
        "     )\n",
        "perch_weight = np.array(\n",
        "    [5.9, 32.0, 40.0, 51.5, 70.0, 100.0, 78.0, 80.0, 85.0, 85.0,\n",
        "     110.0, 115.0, 125.0, 130.0, 120.0, 120.0, 130.0, 135.0, 110.0,\n",
        "     130.0, 150.0, 145.0, 150.0, 170.0, 225.0, 145.0, 188.0, 180.0,\n",
        "     197.0, 218.0, 300.0, 260.0, 265.0, 250.0, 250.0, 300.0, 320.0,\n",
        "     514.0, 556.0, 840.0, 685.0, 700.0, 700.0, 690.0, 900.0, 650.0,\n",
        "     820.0, 850.0, 900.0, 1015.0, 820.0, 1100.0, 1000.0, 1100.0,\n",
        "     1000.0, 1000.0]\n",
        "     )"
      ]
    },
    {
      "cell_type": "code",
      "source": [
        "from sklearn.model_selection import train_test_split"
      ],
      "metadata": {
        "id": "AOhlr7o84DdP"
      },
      "execution_count": 6,
      "outputs": []
    },
    {
      "cell_type": "code",
      "source": [
        "train_input, test_input, train_target, test_target = train_test_split(perch_length, perch_weight, random_state=42)"
      ],
      "metadata": {
        "id": "ouS-1yma2sHa"
      },
      "execution_count": 8,
      "outputs": []
    },
    {
      "cell_type": "code",
      "source": [
        "train_input = train_input.reshape(-1, 1)\n",
        "test_input = test_input.reshape(-1, 1)"
      ],
      "metadata": {
        "id": "1dsabRjm21xL"
      },
      "execution_count": 9,
      "outputs": []
    },
    {
      "cell_type": "code",
      "source": [
        "from sklearn.neighbors import KNeighborsRegressor"
      ],
      "metadata": {
        "id": "MPRj3d85zniI"
      },
      "execution_count": 10,
      "outputs": []
    },
    {
      "cell_type": "markdown",
      "source": [
        "### 선형 회귀 알고리즘"
      ],
      "metadata": {
        "id": "3obRpTah8WVu"
      }
    },
    {
      "cell_type": "code",
      "source": [
        "from sklearn.linear_model import LinearRegression"
      ],
      "metadata": {
        "id": "u_BPG-iT4Ogw"
      },
      "execution_count": 11,
      "outputs": []
    },
    {
      "cell_type": "code",
      "source": [
        "# 알고리즘\n",
        "lr = LinearRegression()\n",
        "\n",
        "lr.fit(train_input, train_target)"
      ],
      "metadata": {
        "colab": {
          "base_uri": "https://localhost:8080/",
          "height": 80
        },
        "id": "uF-zsneM8tLA",
        "outputId": "bf6c5482-4cd9-4b85-f33f-b7ea2d992c8a"
      },
      "execution_count": 12,
      "outputs": [
        {
          "output_type": "execute_result",
          "data": {
            "text/plain": [
              "LinearRegression()"
            ],
            "text/html": [
              "<style>#sk-container-id-1 {\n",
              "  /* Definition of color scheme common for light and dark mode */\n",
              "  --sklearn-color-text: black;\n",
              "  --sklearn-color-line: gray;\n",
              "  /* Definition of color scheme for unfitted estimators */\n",
              "  --sklearn-color-unfitted-level-0: #fff5e6;\n",
              "  --sklearn-color-unfitted-level-1: #f6e4d2;\n",
              "  --sklearn-color-unfitted-level-2: #ffe0b3;\n",
              "  --sklearn-color-unfitted-level-3: chocolate;\n",
              "  /* Definition of color scheme for fitted estimators */\n",
              "  --sklearn-color-fitted-level-0: #f0f8ff;\n",
              "  --sklearn-color-fitted-level-1: #d4ebff;\n",
              "  --sklearn-color-fitted-level-2: #b3dbfd;\n",
              "  --sklearn-color-fitted-level-3: cornflowerblue;\n",
              "\n",
              "  /* Specific color for light theme */\n",
              "  --sklearn-color-text-on-default-background: var(--sg-text-color, var(--theme-code-foreground, var(--jp-content-font-color1, black)));\n",
              "  --sklearn-color-background: var(--sg-background-color, var(--theme-background, var(--jp-layout-color0, white)));\n",
              "  --sklearn-color-border-box: var(--sg-text-color, var(--theme-code-foreground, var(--jp-content-font-color1, black)));\n",
              "  --sklearn-color-icon: #696969;\n",
              "\n",
              "  @media (prefers-color-scheme: dark) {\n",
              "    /* Redefinition of color scheme for dark theme */\n",
              "    --sklearn-color-text-on-default-background: var(--sg-text-color, var(--theme-code-foreground, var(--jp-content-font-color1, white)));\n",
              "    --sklearn-color-background: var(--sg-background-color, var(--theme-background, var(--jp-layout-color0, #111)));\n",
              "    --sklearn-color-border-box: var(--sg-text-color, var(--theme-code-foreground, var(--jp-content-font-color1, white)));\n",
              "    --sklearn-color-icon: #878787;\n",
              "  }\n",
              "}\n",
              "\n",
              "#sk-container-id-1 {\n",
              "  color: var(--sklearn-color-text);\n",
              "}\n",
              "\n",
              "#sk-container-id-1 pre {\n",
              "  padding: 0;\n",
              "}\n",
              "\n",
              "#sk-container-id-1 input.sk-hidden--visually {\n",
              "  border: 0;\n",
              "  clip: rect(1px 1px 1px 1px);\n",
              "  clip: rect(1px, 1px, 1px, 1px);\n",
              "  height: 1px;\n",
              "  margin: -1px;\n",
              "  overflow: hidden;\n",
              "  padding: 0;\n",
              "  position: absolute;\n",
              "  width: 1px;\n",
              "}\n",
              "\n",
              "#sk-container-id-1 div.sk-dashed-wrapped {\n",
              "  border: 1px dashed var(--sklearn-color-line);\n",
              "  margin: 0 0.4em 0.5em 0.4em;\n",
              "  box-sizing: border-box;\n",
              "  padding-bottom: 0.4em;\n",
              "  background-color: var(--sklearn-color-background);\n",
              "}\n",
              "\n",
              "#sk-container-id-1 div.sk-container {\n",
              "  /* jupyter's `normalize.less` sets `[hidden] { display: none; }`\n",
              "     but bootstrap.min.css set `[hidden] { display: none !important; }`\n",
              "     so we also need the `!important` here to be able to override the\n",
              "     default hidden behavior on the sphinx rendered scikit-learn.org.\n",
              "     See: https://github.com/scikit-learn/scikit-learn/issues/21755 */\n",
              "  display: inline-block !important;\n",
              "  position: relative;\n",
              "}\n",
              "\n",
              "#sk-container-id-1 div.sk-text-repr-fallback {\n",
              "  display: none;\n",
              "}\n",
              "\n",
              "div.sk-parallel-item,\n",
              "div.sk-serial,\n",
              "div.sk-item {\n",
              "  /* draw centered vertical line to link estimators */\n",
              "  background-image: linear-gradient(var(--sklearn-color-text-on-default-background), var(--sklearn-color-text-on-default-background));\n",
              "  background-size: 2px 100%;\n",
              "  background-repeat: no-repeat;\n",
              "  background-position: center center;\n",
              "}\n",
              "\n",
              "/* Parallel-specific style estimator block */\n",
              "\n",
              "#sk-container-id-1 div.sk-parallel-item::after {\n",
              "  content: \"\";\n",
              "  width: 100%;\n",
              "  border-bottom: 2px solid var(--sklearn-color-text-on-default-background);\n",
              "  flex-grow: 1;\n",
              "}\n",
              "\n",
              "#sk-container-id-1 div.sk-parallel {\n",
              "  display: flex;\n",
              "  align-items: stretch;\n",
              "  justify-content: center;\n",
              "  background-color: var(--sklearn-color-background);\n",
              "  position: relative;\n",
              "}\n",
              "\n",
              "#sk-container-id-1 div.sk-parallel-item {\n",
              "  display: flex;\n",
              "  flex-direction: column;\n",
              "}\n",
              "\n",
              "#sk-container-id-1 div.sk-parallel-item:first-child::after {\n",
              "  align-self: flex-end;\n",
              "  width: 50%;\n",
              "}\n",
              "\n",
              "#sk-container-id-1 div.sk-parallel-item:last-child::after {\n",
              "  align-self: flex-start;\n",
              "  width: 50%;\n",
              "}\n",
              "\n",
              "#sk-container-id-1 div.sk-parallel-item:only-child::after {\n",
              "  width: 0;\n",
              "}\n",
              "\n",
              "/* Serial-specific style estimator block */\n",
              "\n",
              "#sk-container-id-1 div.sk-serial {\n",
              "  display: flex;\n",
              "  flex-direction: column;\n",
              "  align-items: center;\n",
              "  background-color: var(--sklearn-color-background);\n",
              "  padding-right: 1em;\n",
              "  padding-left: 1em;\n",
              "}\n",
              "\n",
              "\n",
              "/* Toggleable style: style used for estimator/Pipeline/ColumnTransformer box that is\n",
              "clickable and can be expanded/collapsed.\n",
              "- Pipeline and ColumnTransformer use this feature and define the default style\n",
              "- Estimators will overwrite some part of the style using the `sk-estimator` class\n",
              "*/\n",
              "\n",
              "/* Pipeline and ColumnTransformer style (default) */\n",
              "\n",
              "#sk-container-id-1 div.sk-toggleable {\n",
              "  /* Default theme specific background. It is overwritten whether we have a\n",
              "  specific estimator or a Pipeline/ColumnTransformer */\n",
              "  background-color: var(--sklearn-color-background);\n",
              "}\n",
              "\n",
              "/* Toggleable label */\n",
              "#sk-container-id-1 label.sk-toggleable__label {\n",
              "  cursor: pointer;\n",
              "  display: block;\n",
              "  width: 100%;\n",
              "  margin-bottom: 0;\n",
              "  padding: 0.5em;\n",
              "  box-sizing: border-box;\n",
              "  text-align: center;\n",
              "}\n",
              "\n",
              "#sk-container-id-1 label.sk-toggleable__label-arrow:before {\n",
              "  /* Arrow on the left of the label */\n",
              "  content: \"▸\";\n",
              "  float: left;\n",
              "  margin-right: 0.25em;\n",
              "  color: var(--sklearn-color-icon);\n",
              "}\n",
              "\n",
              "#sk-container-id-1 label.sk-toggleable__label-arrow:hover:before {\n",
              "  color: var(--sklearn-color-text);\n",
              "}\n",
              "\n",
              "/* Toggleable content - dropdown */\n",
              "\n",
              "#sk-container-id-1 div.sk-toggleable__content {\n",
              "  max-height: 0;\n",
              "  max-width: 0;\n",
              "  overflow: hidden;\n",
              "  text-align: left;\n",
              "  /* unfitted */\n",
              "  background-color: var(--sklearn-color-unfitted-level-0);\n",
              "}\n",
              "\n",
              "#sk-container-id-1 div.sk-toggleable__content.fitted {\n",
              "  /* fitted */\n",
              "  background-color: var(--sklearn-color-fitted-level-0);\n",
              "}\n",
              "\n",
              "#sk-container-id-1 div.sk-toggleable__content pre {\n",
              "  margin: 0.2em;\n",
              "  border-radius: 0.25em;\n",
              "  color: var(--sklearn-color-text);\n",
              "  /* unfitted */\n",
              "  background-color: var(--sklearn-color-unfitted-level-0);\n",
              "}\n",
              "\n",
              "#sk-container-id-1 div.sk-toggleable__content.fitted pre {\n",
              "  /* unfitted */\n",
              "  background-color: var(--sklearn-color-fitted-level-0);\n",
              "}\n",
              "\n",
              "#sk-container-id-1 input.sk-toggleable__control:checked~div.sk-toggleable__content {\n",
              "  /* Expand drop-down */\n",
              "  max-height: 200px;\n",
              "  max-width: 100%;\n",
              "  overflow: auto;\n",
              "}\n",
              "\n",
              "#sk-container-id-1 input.sk-toggleable__control:checked~label.sk-toggleable__label-arrow:before {\n",
              "  content: \"▾\";\n",
              "}\n",
              "\n",
              "/* Pipeline/ColumnTransformer-specific style */\n",
              "\n",
              "#sk-container-id-1 div.sk-label input.sk-toggleable__control:checked~label.sk-toggleable__label {\n",
              "  color: var(--sklearn-color-text);\n",
              "  background-color: var(--sklearn-color-unfitted-level-2);\n",
              "}\n",
              "\n",
              "#sk-container-id-1 div.sk-label.fitted input.sk-toggleable__control:checked~label.sk-toggleable__label {\n",
              "  background-color: var(--sklearn-color-fitted-level-2);\n",
              "}\n",
              "\n",
              "/* Estimator-specific style */\n",
              "\n",
              "/* Colorize estimator box */\n",
              "#sk-container-id-1 div.sk-estimator input.sk-toggleable__control:checked~label.sk-toggleable__label {\n",
              "  /* unfitted */\n",
              "  background-color: var(--sklearn-color-unfitted-level-2);\n",
              "}\n",
              "\n",
              "#sk-container-id-1 div.sk-estimator.fitted input.sk-toggleable__control:checked~label.sk-toggleable__label {\n",
              "  /* fitted */\n",
              "  background-color: var(--sklearn-color-fitted-level-2);\n",
              "}\n",
              "\n",
              "#sk-container-id-1 div.sk-label label.sk-toggleable__label,\n",
              "#sk-container-id-1 div.sk-label label {\n",
              "  /* The background is the default theme color */\n",
              "  color: var(--sklearn-color-text-on-default-background);\n",
              "}\n",
              "\n",
              "/* On hover, darken the color of the background */\n",
              "#sk-container-id-1 div.sk-label:hover label.sk-toggleable__label {\n",
              "  color: var(--sklearn-color-text);\n",
              "  background-color: var(--sklearn-color-unfitted-level-2);\n",
              "}\n",
              "\n",
              "/* Label box, darken color on hover, fitted */\n",
              "#sk-container-id-1 div.sk-label.fitted:hover label.sk-toggleable__label.fitted {\n",
              "  color: var(--sklearn-color-text);\n",
              "  background-color: var(--sklearn-color-fitted-level-2);\n",
              "}\n",
              "\n",
              "/* Estimator label */\n",
              "\n",
              "#sk-container-id-1 div.sk-label label {\n",
              "  font-family: monospace;\n",
              "  font-weight: bold;\n",
              "  display: inline-block;\n",
              "  line-height: 1.2em;\n",
              "}\n",
              "\n",
              "#sk-container-id-1 div.sk-label-container {\n",
              "  text-align: center;\n",
              "}\n",
              "\n",
              "/* Estimator-specific */\n",
              "#sk-container-id-1 div.sk-estimator {\n",
              "  font-family: monospace;\n",
              "  border: 1px dotted var(--sklearn-color-border-box);\n",
              "  border-radius: 0.25em;\n",
              "  box-sizing: border-box;\n",
              "  margin-bottom: 0.5em;\n",
              "  /* unfitted */\n",
              "  background-color: var(--sklearn-color-unfitted-level-0);\n",
              "}\n",
              "\n",
              "#sk-container-id-1 div.sk-estimator.fitted {\n",
              "  /* fitted */\n",
              "  background-color: var(--sklearn-color-fitted-level-0);\n",
              "}\n",
              "\n",
              "/* on hover */\n",
              "#sk-container-id-1 div.sk-estimator:hover {\n",
              "  /* unfitted */\n",
              "  background-color: var(--sklearn-color-unfitted-level-2);\n",
              "}\n",
              "\n",
              "#sk-container-id-1 div.sk-estimator.fitted:hover {\n",
              "  /* fitted */\n",
              "  background-color: var(--sklearn-color-fitted-level-2);\n",
              "}\n",
              "\n",
              "/* Specification for estimator info (e.g. \"i\" and \"?\") */\n",
              "\n",
              "/* Common style for \"i\" and \"?\" */\n",
              "\n",
              ".sk-estimator-doc-link,\n",
              "a:link.sk-estimator-doc-link,\n",
              "a:visited.sk-estimator-doc-link {\n",
              "  float: right;\n",
              "  font-size: smaller;\n",
              "  line-height: 1em;\n",
              "  font-family: monospace;\n",
              "  background-color: var(--sklearn-color-background);\n",
              "  border-radius: 1em;\n",
              "  height: 1em;\n",
              "  width: 1em;\n",
              "  text-decoration: none !important;\n",
              "  margin-left: 1ex;\n",
              "  /* unfitted */\n",
              "  border: var(--sklearn-color-unfitted-level-1) 1pt solid;\n",
              "  color: var(--sklearn-color-unfitted-level-1);\n",
              "}\n",
              "\n",
              ".sk-estimator-doc-link.fitted,\n",
              "a:link.sk-estimator-doc-link.fitted,\n",
              "a:visited.sk-estimator-doc-link.fitted {\n",
              "  /* fitted */\n",
              "  border: var(--sklearn-color-fitted-level-1) 1pt solid;\n",
              "  color: var(--sklearn-color-fitted-level-1);\n",
              "}\n",
              "\n",
              "/* On hover */\n",
              "div.sk-estimator:hover .sk-estimator-doc-link:hover,\n",
              ".sk-estimator-doc-link:hover,\n",
              "div.sk-label-container:hover .sk-estimator-doc-link:hover,\n",
              ".sk-estimator-doc-link:hover {\n",
              "  /* unfitted */\n",
              "  background-color: var(--sklearn-color-unfitted-level-3);\n",
              "  color: var(--sklearn-color-background);\n",
              "  text-decoration: none;\n",
              "}\n",
              "\n",
              "div.sk-estimator.fitted:hover .sk-estimator-doc-link.fitted:hover,\n",
              ".sk-estimator-doc-link.fitted:hover,\n",
              "div.sk-label-container:hover .sk-estimator-doc-link.fitted:hover,\n",
              ".sk-estimator-doc-link.fitted:hover {\n",
              "  /* fitted */\n",
              "  background-color: var(--sklearn-color-fitted-level-3);\n",
              "  color: var(--sklearn-color-background);\n",
              "  text-decoration: none;\n",
              "}\n",
              "\n",
              "/* Span, style for the box shown on hovering the info icon */\n",
              ".sk-estimator-doc-link span {\n",
              "  display: none;\n",
              "  z-index: 9999;\n",
              "  position: relative;\n",
              "  font-weight: normal;\n",
              "  right: .2ex;\n",
              "  padding: .5ex;\n",
              "  margin: .5ex;\n",
              "  width: min-content;\n",
              "  min-width: 20ex;\n",
              "  max-width: 50ex;\n",
              "  color: var(--sklearn-color-text);\n",
              "  box-shadow: 2pt 2pt 4pt #999;\n",
              "  /* unfitted */\n",
              "  background: var(--sklearn-color-unfitted-level-0);\n",
              "  border: .5pt solid var(--sklearn-color-unfitted-level-3);\n",
              "}\n",
              "\n",
              ".sk-estimator-doc-link.fitted span {\n",
              "  /* fitted */\n",
              "  background: var(--sklearn-color-fitted-level-0);\n",
              "  border: var(--sklearn-color-fitted-level-3);\n",
              "}\n",
              "\n",
              ".sk-estimator-doc-link:hover span {\n",
              "  display: block;\n",
              "}\n",
              "\n",
              "/* \"?\"-specific style due to the `<a>` HTML tag */\n",
              "\n",
              "#sk-container-id-1 a.estimator_doc_link {\n",
              "  float: right;\n",
              "  font-size: 1rem;\n",
              "  line-height: 1em;\n",
              "  font-family: monospace;\n",
              "  background-color: var(--sklearn-color-background);\n",
              "  border-radius: 1rem;\n",
              "  height: 1rem;\n",
              "  width: 1rem;\n",
              "  text-decoration: none;\n",
              "  /* unfitted */\n",
              "  color: var(--sklearn-color-unfitted-level-1);\n",
              "  border: var(--sklearn-color-unfitted-level-1) 1pt solid;\n",
              "}\n",
              "\n",
              "#sk-container-id-1 a.estimator_doc_link.fitted {\n",
              "  /* fitted */\n",
              "  border: var(--sklearn-color-fitted-level-1) 1pt solid;\n",
              "  color: var(--sklearn-color-fitted-level-1);\n",
              "}\n",
              "\n",
              "/* On hover */\n",
              "#sk-container-id-1 a.estimator_doc_link:hover {\n",
              "  /* unfitted */\n",
              "  background-color: var(--sklearn-color-unfitted-level-3);\n",
              "  color: var(--sklearn-color-background);\n",
              "  text-decoration: none;\n",
              "}\n",
              "\n",
              "#sk-container-id-1 a.estimator_doc_link.fitted:hover {\n",
              "  /* fitted */\n",
              "  background-color: var(--sklearn-color-fitted-level-3);\n",
              "}\n",
              "</style><div id=\"sk-container-id-1\" class=\"sk-top-container\"><div class=\"sk-text-repr-fallback\"><pre>LinearRegression()</pre><b>In a Jupyter environment, please rerun this cell to show the HTML representation or trust the notebook. <br />On GitHub, the HTML representation is unable to render, please try loading this page with nbviewer.org.</b></div><div class=\"sk-container\" hidden><div class=\"sk-item\"><div class=\"sk-estimator fitted sk-toggleable\"><input class=\"sk-toggleable__control sk-hidden--visually\" id=\"sk-estimator-id-1\" type=\"checkbox\" checked><label for=\"sk-estimator-id-1\" class=\"sk-toggleable__label fitted sk-toggleable__label-arrow fitted\">&nbsp;&nbsp;LinearRegression<a class=\"sk-estimator-doc-link fitted\" rel=\"noreferrer\" target=\"_blank\" href=\"https://scikit-learn.org/1.5/modules/generated/sklearn.linear_model.LinearRegression.html\">?<span>Documentation for LinearRegression</span></a><span class=\"sk-estimator-doc-link fitted\">i<span>Fitted</span></span></label><div class=\"sk-toggleable__content fitted\"><pre>LinearRegression()</pre></div> </div></div></div></div>"
            ]
          },
          "metadata": {},
          "execution_count": 12
        }
      ]
    },
    {
      "cell_type": "code",
      "source": [
        "# 생선 길이가 50일 때의 무게 체크\n",
        "print(lr.predict([[50]]))"
      ],
      "metadata": {
        "colab": {
          "base_uri": "https://localhost:8080/"
        },
        "id": "wlyc5OO79Yzf",
        "outputId": "2b1628f9-40a2-4d93-c8f8-5031dd2ee40b"
      },
      "execution_count": 14,
      "outputs": [
        {
          "output_type": "stream",
          "name": "stdout",
          "text": [
            "[1241.83860323]\n"
          ]
        }
      ]
    },
    {
      "cell_type": "markdown",
      "source": [
        "### 기울기 값 확인\n",
        "* 선형일 때는 y = ax + b가 성립되기 때문에 기울기가 有\n",
        "   * a : 기울기 `.coef_`\n",
        "   * b : 절편 `.intercept_`"
      ],
      "metadata": {
        "id": "MQGqFNtE-cTH"
      }
    },
    {
      "cell_type": "code",
      "source": [
        "print(lr.coef_, lr.intercept_)"
      ],
      "metadata": {
        "colab": {
          "base_uri": "https://localhost:8080/"
        },
        "id": "Yn7T3jmR-VuK",
        "outputId": "ca16522c-fd7d-4a0f-dc1e-2df2cd987702"
      },
      "execution_count": 15,
      "outputs": [
        {
          "output_type": "stream",
          "name": "stdout",
          "text": [
            "[39.01714496] -709.0186449535477\n"
          ]
        }
      ]
    },
    {
      "cell_type": "markdown",
      "source": [
        "![image.png](data:image/png;base64,iVBORw0KGgoAAAANSUhEUgAAAfwAAAFGCAYAAACPAy0AAAAAAXNSR0IArs4c6QAAAARnQU1BAACxjwv8YQUAAAAJcEhZcwAADsMAAA7DAcdvqGQAAJZOSURBVHhe7Z0HgB1V9f/Pvu3pvUES0hN6sYEKghQLKkpVka4oVkTF3v35t4A0C6ggoCCIgqiIKCi9SYcEUkkP6W2Tbe+9//mceWczPHc3fXez73ySu9Pu3Htn3sz93nPblOUVCYIgCIKgW5MpLIMgCIIg6MaE4AdBEARBCRCCn6K5uVlyuZxks1npqi0dpIs0gqeTbZbpY+D7cIB/HKT3B0EQBN2fEHwF4UMoy8rKbN2XXVEQSRs0Nja2pBmK08qxYj+ZTMZcEARBUHpE7l8AYXTrF1H0QkBXxAslFRUVLaJOmtnnaWdZXV1t/jnu5+D8urwgEARBEHR/QvAVF/fKykpZtWqV/OhHP5Jbb721Swq+izlp9XQj/GnSQl5eXm7+Af9Oej0IgiDo/sSwPMUte8Txsccek+OPP15OOOEE+eEPf2jC2pXg58K5pU6aX3rpJXn88cdl+fLl0tDQ0GLtV1VVyeGHHy577733/1jzXpjxwkAQBEHQvQnBVxB8hBOuuOIK+b//+z+54IILzHVFvICCiG/YsEG+/vWvy89//nPb36tXLxNzOiA2NTXJa17zGquxOOSQQ+wcjqXFv7ggEARBEHRPwrxLgXX8yCOPSE1NjRx44IGFvQmUixBLt4zZRlCBfWwX+0mvA4Lsfv3c1uD4loB1vn79ennxxRelvr5e3vKWt8h3v/td+f73vy/f/va35a1vfas89NBD8sQTT7SESRo2Fz7H3Tmsc276/LQfv0620+t+PAiCIOhcQvAVr9aePXu2PPfcczJx4kSZPHmy7XPRdhEDX+c8LGlEEEvZxc1Fz7c5jj/3wzHWWdLpjuMUNGhC+Mtf/rJZkaQ2wmskVqxYIQsWLJAhQ4bIN77xDTnvvPPkIx/5iHz2s5+Vd7/73dYkQRxewPD2ftLj8ZAOjlPgIS0Ox9POawPwz/mOhxMEQRB0XULwFResWbNmWTv4G9/4Rhk+fLjtcxBYBN4doue4kLMsXnfS+zjfBZt29vvvv98Emqr3J5988lVhb45ly5ZZmgcMGGAFFSBswlizZo0JPjUAFGbAw2Z/+jo4x/f5NbAO+MGxz50fY53CQvExX0/fgyAIgqDzKHnBR5Scl19+2SzXvfbaq7AnseJd3JYuXSpPP/203HHHHfKrX/1KfvKTn1j1+QMPPGCCiLhhIfs6sHQx9bjY5xY/IPhUu3/wgx80V9zrPo0LqVNXVycbN260c9JWN9Y6BQHa+G+++Wbr2Afp6wHfdpe+BvC4uIb0NbHfawnSBQWWXjiAdFqDIAiCzqPkBd9FChAqqr+xsh988EFr/77tttvkBz/4gZx99tnygQ98QM444wyrMmffL3/5S/n9738vM2fOtHBc6BBArF4XQcSXcD0uhNIFFHFdu3atCTb9BsaPH/+qavViOAfnUEPAubTlI+7ET8Hk9ttvl/vuu8/8vO9975ODDz7Y1mnrnz59utxzzz3y17/+Vf74xz+a33/9618tfQFImxc6uKa0mLPf084SB1wT10HaSUNxgSEIgiDoXEq+lz6Xj0ghZAjkF7/4RbOGmbTGxRmxRthqa2tN6EaPHi0nnXSStfMPHDhQRo0aZVXqbvEiwn4OBQdqADjvsMMOs97yxOdCicCeddZZJr4/+9nPzMKngEDHwS3h2WeftYIIIk6hpG/fvvLCCy9YnwA48cQT5XOf+5yMHTvW0kcB5vLLL5f58+dbOonf78GIESPk1FNPtSGJrKfhOP0FuK5BgwZZ+lzUuTYKDqSFc/fdd1+Li/sHvgyCIAg6jxiWp3ALEC2EFtHC+qU9HysdoUTYqe5HlB999FF5xzveIb/4xS+so5zjYSCCiB1iunjxYjnnnHOsCQDoRHfxxRebmCKcFDJoZ//whz9sfs4991z53ve+Z4UIx38ewgbfZomQrl69Wr71rW9ZEwNWfu/eve38N7/5zXLyySdbz/2ePXvaOYj2H/7wB7nrrrtkzz33tH4KpJXrnjFjhl0ftQPnn3++fPWrX7XOgDQ1UINBHwAKFRQUKBR84hOfkH79+lm4nH/cccdZLcFll10mH/vYx1oKAxCCHwRB0PmE4CutiSoihkAilggdVvJTTz0lb3jDG8yiPuaYY6RHjx4m3Ig7fh3CYZux8QjnunXrbD/W91FHHWUWMn6wrjn/P//5jyxatMh62NPTfvDgwa8SdpzXCLDu4QP7586dK3feeaeJMeci5vvvv7+tO34ecSLyjNdPg0AzQoAmi/322886EVI4QMQpBHA+hQkKFYT9u9/9rmUkA/uOOOIIm/yHkQbMX0BcuCAIgqBrEIKfwkWxmJ/+9Kfyta99zaxarN/+/fubX2CJBYtgIsIIMNtY0bT177bbbrL77rtbx7wlS5ZYcwAFBfxj4eNoQqC5gHhOOeUUq1mgHwDhERZpSlvMnkaOEz9+fdsLBtDW9aTBj18DPf6pGUDAaaZg1kFqCJi8Z9KkSRbP1VdfbU0Gt9xyi/kFaikQfPo+MA/AhRdeaNcVBEEQdB2irrWACx/CytJBRLFwsfQPPfRQE3tI+/H2au+tTnMA1j3t3PTip5p+zJgxVoXOLH70mr/qqqvkxhtvlCuvvNIsZkTeRdJFOy32OF/Hr4s753ha0mIP6YIBPfkRctLKNs7XiQfwQ9iEN2XKFPn0pz9tIxGYxOfMM8+09nmuY+XKlS21FkA8nAd03PP1IAiCoOsQgl8A0UL4XGQdBMzb86m6d9wfSxdqxBOoXqetnxoBCgkIKNXuWPt03GPYH9Yxc9zjwAsLQLiExdLFnjjYZkk6fNsdcdCpjtoCOuzRJ+Caa66RSy+91AT7k5/8pHzpS1+Shx9+2OLxmgjCQfiBfgoM86PfAv0CKJzss88+LdftzQGkrS1Rp5aAggOkC0VBEARB5xKCryCoiJMLVFqoqKa+9957zeL1NmsHAcRqdsd5iOG0adPMAmabqn0El1oChsZ5hzziBITTBdT3pSEMRJkOdHzBj3Z2hgsi6v/85z+tiv0rX/lKy7BB3GmnnWbbWOhUr1PLgPjffffd1pHQr494vTABhEn1PNX3dCxkpAJ+cIDw4zifgoFDgcNrF3zsv+NxBUEQBJ1LCL6CYDkIoG/TQ5129VdeecUsdaxXevBfd911ctFFF1nnNNrpP/rRj1o1vQvjhAkTrJ3+O9/5jokvQ9aYvQ8xRkSJw61q1l1Y04KP9Z3efuaZZ15Vtc4X/d7//veb5Y4ljqBTuGBqYCx9r8IfOnSo9f7/9a9/bSMLmF+f6yN+hN7jQKTpnIhwUwNB/PhhiQNqIbzAwr1wEHWvBaBGhA6PQRAEQdciOu21AoKJ9XzJJZdY1Tzt91RzY70iaLTN4xB12uXpcMcQOBd0etzT856aAW4vveaPPPJIqyVAUF1kEVLCe9e73mU93BmHTy95wI9X1eMPy/zvf/+7FTgogAACjGjT+59OdjQZMAJg5MiRNryQEQJve9vbrNDSp08fO8ch3LTw+/DAf//733bdzAfQGjfddJMVNCjI4I+heVj77KP24bWvfa1ce+21dq3+aKULVEEQBEHnEIJfgOp5quLpmU7VN8PRVq1aZQLNpDp01qOamx73VO17Jzy2EVOEDysXofbqbYQQsaNg4BSLIFY41jpx8mleagvSfrzNnIIEECYWtMfDMZakweMFRJcaCIb6UTPQGumCB00Kn//85+082v0R9NagMEONAvfkM5/5jC1JD/0D6OBHYeP666+3vgoh+EEQBF2HqNIv8Pzzz5uAMf6cdWbEY9Y9rG5602PZMhSN6nzazLHmDz/8cJsKl2pzBDldTY/YUTNQLPbeZu9gXQ8bNsz2eQ93znfHcZyLJ2EisljyFEJ86eLvME0uhQmOtwVCjCMeagu4Zmou6C/QGqSBtP6///f/rH8A8RIn53rtBXMB0DQAIfRBEARdhxD8AljIjDmng9tvf/tbs7YZe08bPe3eDJ2bM2eOzZ3PjHT0aEcAEUssXNbdwmZfGrY5jgAi3mlLHIGlOh4I06fkBRdMLHDOR1wJC8c6+xwPHzhGTQD+0nEVg38KKX4eIweoFeBa24J4mLSHtny/TtJHVT4O+MCQt+N72EEQBEHnEoKvIJC00TPL3ac+9Sn7iM0ee+xh1jkWNzAfPm3cWPZMkcv0sn/7299MUBFxxA/hwyFyLswuyr7042mxppMf4dCkwBh3cAFnSfpc7Nn2MNxfOiyg0ODnsL45OJ/rpKaCWo63v/3thSOvhjhxFBI4x5fA8ELuHd8Y4HqIG7xQEARBEHQuIfgFEC6E1NvMXbBdsP785z+b5XrQQQfJF77wBVm4cKH11Kf6G7F24XNRLN7GuWA7vs7HZihwIPg4SIdB+KTNawfYnxb91qCanfjSw+eK4bgXVhB8wmU7HXca9nncLOmzkC7s8FU+OvLxMSA6MnIfWwsnCIIg6HhC8BVEFIEExM7FFEfbPG36dOJjLnk+DEMbNlPgMiGPf2ce4XNxc3Fm6Xh4uPQ2jBs3zr5qR8dBeuFT6CBNaT/FYaVhm7gRXuBc4geG53m60gLsfjkX/wg0S6c4DmAf6fD74/g294qOjD4igPDSYQZBEASdRwh+EQgU4uWOCXTouMc8+PROp0of6LBG+7tbxpAWwTS+v7XjiDsFCZoLGEbHvPUuxo6npbXzfR+i6yJPeujchwXOvPekHdJV8C7c0FbYreH+is8pPn9LwwuCIAg6hhD8zcBnYZmm9k1velNLVTWFACbCoX2cHvOImwvp1oLoIsQMZ6P9nCF6FDq8DXxroKCAw9KmAx3WNmlnNj567LOfdLqlv61pDoIgCHY9QvA3g39QhvHnjFGn3Z4x6gzRQ1QZlgfbItAOBQa30ImLsLalKjxtVTMzIGPjaS5gSl5GGIBb9hQMtifNQRAEwa5FTLyzGZhC9uKLLzaBRyARSm4ZQ/gYi06PfvYhtttSjc25kBZ59rkwby2kjUID1fkMjWN6YK6B9DIjnws9hYttSW8QBEGwaxKC3w7cGkTRq/CZ0pZtZtzDsmdSGxd797u1Ikp1Pucg9h6G/yRbGxZp4VzC8nSlw6AgAL6fAsXWxhEEQRDsmoTgb4bNVa+7Ne7L7WF7BT+Nh9VWurguF/0gCIKg+xOCHwRBEAQlQJh3QRAEQVAChOAHQRAEQQkQgh8EQRAEJUAIfhAEQRCUACH4JQJ9M6N/ZhAEQekSgl8CuNgzFI8l4/EZ/x8EQRCUDiH4JYBP7uPj8n1egbD4gyAISocQ/BKAaXRd3LHyfYY9xD8IgiAoDULwSwDEnnn1sez9Az1pSz8IgiDo/oTglwBY85WVlbbO1/9+97vfya9//Wupq6uzfUEQBEH3JwS/BMCax7IH2vP/+Mc/muN7/kEQBEFpEIJfAtBmT9s9UI2P0LMdbfhBEASlQwh+ieHV+wh/9NIPgiAoHULwSwSE3peIPc73BUEQBN2fEPwSoFjYac+PHvpBEASlRQh+iZAWfcSedv0gCIKgdIhcvwSJ6vwgCEqJ6K+UEIJfArT2sIfodyyMiPBvGbQG+zsiU0rH4RMwAUuOeRo9vaWAXy/L9PqOIh2m31dfbm08+Od38/M83I76NgZxtZVm3+/pacvfjoZ40veXuH3b4V6nn+1SJQS/BCh+8RB6n1432HmkMxfud/qes7844+mI38MzQo+bpYsFGaKnwdPLvlKAa/XfJP077Qi43+l3kPBdtLclHu9/4yJGmjuqTw5xeZy+9Gvza2GJS1/zzoQ0pOMGv7csSaf/pvgtZULwSwB/CYD1aMPvHMh80hlkmvRvtDPx+InPh2eyj+fBnwu2fVKmUnlOKPS4KKQt6B2B39O1a9da2MRBx9ltubeeLsLzcKCjnh/S7HGSFk8PSy8AgBdAduR9bAuPi7j5HUkfz+/ChQtt6c84aeE+lcoz3RqR65cY/sDjOiqTKEU8o/PMhcyQfX7f/TfoaMgMyRT9t2dZVVVl+3BuDeE8g+zucJ2IQvp3ceHaUTz++ONy4YUXyvPPP2/bfn+3Fs4jnf4s8Zt1BqTBCy2eBk+XX5endWfDb5UWdHjsscfk61//ujz55JO27Wn1NJYqIfglQPoh56F3Sy7YuaQzFr/v7OvMDIdnYeXKlfLnP/9ZHnjgAZkzZ44sWLDAjmHxI/hk4GSQpZAxco0uBC5c/E7cB9yOAKv+pptukmuuuUaWLFli+4hvW8XHLVngNyP9Oyqt7eHCCsTntRWkgSXpwHX0M+730X9LoID1pz/9SRYvXmzbnh78ljKR65cY/mKyLPWHf2fi95eMhkySdTLJ9evXW0aZzqA7MnNEKP7whz/IRz/6UTn11FPlxBNPlDPPPNM+pkRBAGvf04PfjkxbZ8Dv8vLLL8tll10mn/zkJ+Xb3/623HfffXbdCP+OYMWKFWbZDxw4UIYOHWr7XDi39h30Z6mmpkZWr14t999/v1Vdu9DtbLgvPLsUCLk/s2fPlr/85S+vKshAZz033IcNGzbIzJkzpbq6Wvr27Wv7/X6Trq29592JEPwSIf0ist5RGUQpw332jAaWLl1qwnL99de3tJHze+CHpa8jtOnzwI+1Bhkwx9MUbztkhggaGTSZds+ePeWFF16QL3zhC3LDDTdYWIg+cXE8TToNLD0OL7z4cV96W3j6vNZwP2l/fk3F+317W+A8wsV5eLNmzZIvfelLJvR33HGH/PSnP5Xzzz9fHnzwQTveFul0pAtG6aWvr1u3TlatWmWC7wKUJn1O+jo9XPZxLyEtVoj9xz72MXnkkUda9vtvATxj9BvAyqUmh4IBaXE/FD5nzJhhaUvfE4dtT4O79DNNHsKzTOHxiSeesH1+DH/4b4vWnnG22zunLTxdXkDjmhH8Xr162fOdZlvC705Erl8ieIbgD7xb+cHOhfvshSsy11/+8pdy8803W6YE/AY4MjucZ1z+27DPM13fx7r/ji5gHJs3b57ceeedVrBwv63Rr18/GTJkiHzta1+TW265RS699FLLHLH8X3zxxZawSQfrnhF7+lhn6euedvcHXDMFBj7H7Jk7y9bwsLgO95OOh3OB7daEYkvxtCKepI/fgGu/++67TbRuu+02uyeIMvewPUgXEKYLDes4x/1g4a9Zs8buO4WpNKTH/Tl+H7h/HGObcH1J2jlO+zSFNX++uC7SUl9fb1b36aefLscdd5ycdNJJ5t797nfLhz70Ifn73/9u/p955hn5zGc+Y80NhEFa0gVRHGkgXI75dfoSKEQsWrRIli1bVtiz6brbgzDw5/fLr4tr3Fo4zx1Q68C7MGrUqJYaFY75dXicpUgIfolSyg99R5LO/Mj4sabYV2w9pzM6fhv/fcio8O8ZFY5t38cSESGTp434rLPOsoy8LTifuGl33W233WTw4MHy3ve+V972trdZJknGTZieeXpGyj7PpBEF0uvO93saqUWgcIOg9ujRo0Ug8NManONCT7rA4wU/30XH928tfh1+73/729+ahXrCCSfI5z73OTnggAPk3HPPlauuukre+c53mp/2ICxcQ0ODvPTSS9Yk4tfINTlUvXNPuBfpe4AALV++XF555RULg2Nco6eTY1544zf2aydsmiG8AyAFCfA4Oe/yyy+Xf/zjH/ZcUJgbM2aMFfIo3Fx77bVSV1dn8VJLQKGB35H7gvNw/D573OwnLX4Nvg1cH3jawZetkfbDdfDs8swUvxdbAvfMHUydOtUKIvvvv7+MGDHC9hEPYXMd7aWruxOCHwQ7ETJFz0Dnz59vmfzee+8t/fv3t31AJumZKpkWma9ntmyTQaWFjuPs93CBDJyMk+pb1tuCc7DICMvFFbFhmwyRtmEHEabK+6677rIOUP/5z39MxGkb9UzT0+VpxCF+NBFceeWVJjhAWBxrCxcP0kLBg3gpuPg1cb3Eg+Mecg+2Fg+D66QXN80r48ePl49//OMtosk9YV/v3r1tuzWw1h966CF57rnnLC00kVxwwQXyz3/+s+W+pH93flv2c11Y3tddd531ICfej3zkI/LpT3/aRBe4Rw8//LB84hOfkPe///1y3nnnWc0DVfLE+Zvf/Mb8c96//vUvO8fvMdfGNfL7cC6ij38chRiu9zWveY0VTLjP3EOqvEkn1+FhkFbCpLbnoosusuYO4vLnxK/LfzNIP3Ppa28Lf66pAbr66qutWYXr21YIy6+fmg/SynvGveA6cel0lyx68UEJoS9y/pxzzsmfeuqpec24CnuDHY1mPHnNZApbyX0/44wz8pqh5//85z8X9iZoZpvXDNOWnOfnsmwNFU9z4HGsWrUq/653vSuvGV/+97//ve1rDbUY88cdd1x+jz32yD/wwAO27+mnn85PmjQpf+CBB+anTZtm+4j7zjvvzB9xxBF5tQzzAwcOND+a+eeXLFlifoA0EybPkqdXBcvOIQ7NxG1f+l4UQxh+Pffcc0/+mGOOyb/+9a/Pv+lNb8q/+c1vzn/mM59pSRfh+H3aWvwc0qpim1eLO//rX//a9oEKYf6JJ56wJX7bikMFPv/a1742v+++++a/853v2P0cNWpU/m9/+1vBR/Ib+fnTp0+3a1JByvft2zevIovimOP3OuGEE/Iq+OZXxSr/1re+1fZrodDO0QJI/sgjj8xPnDjR9nFvp0yZklfL3cK4/fbb7dzGxka7P36vi9OvBZT8nnvumX/ve9+bV0HM33jjjfnBgwdbfsDzB2qp2/P54Q9/OH/ooYfaPSKOvfbaqyUeD59rxB/Hv//979s+IN72fm/wtHG9XBf3Uwt3tm9rIS7eL1DLPr/ffvvlJ0+ebL9lGr83bf2upUBY+EGwE9B3y6wNB6uQtsU+ffqYNUmVLNWrP//5z+WLX/yiWW1UK3sHLM2YCmcmnb4YQqeCYp3t3JImfI6xj/Pmzp1r/lUQbdkanIdVx3lYjVThY71jldPm6TUPhEFHLKxNFRd5z3veY9Y9fRBUfM0PViljy2kfpsMf6Ybhw4eLir1dI8OjwK2v1iBNHAfSRWcyLVxYtfr73vc+eeMb32jV0Zyfvi9bC+kjjH//+99mNR911FFy7LHHFo6K/OpXv7Lr5BrBr6eYQYMGyWGHHWa1AT/84Q/td3n7298uKtQFH5uaIYB78c1vftN+Z+Kj+YR9nM/IgJ/97GeiQmzWLv07SB81Bqyr6FoHNO7l6NGjzeK/9dZbre8BvxdQgwDpOP0ZUFFuaZdn+CXV/TTlcA7V8FjCNDXwvALWMf0YqBWgRkoLqZZefus//vGPZvn7b8U654PvA8Li3rH0cIvxe8vzpQUiOfroo0ULFbZvayEsj58aIe4VTVVcH+nmmmi+wE86nSWJ/iBBCUFJmFL5hz70obDwdyIqLObcGsXyOPzww/MVFRVmuWLBTpgwwSw2zfjzKpL5gw8+OH/LLbcUQkgsKKzlc889Nz927Nj87rvvnv/IRz6SV7HKX3/99fnvfe979luq2Jj1TTi1tbX5q6++uhDCJksKywYI80c/+lFeCx75cePGmeVIuFiRmsm/yjLDQrriiivyWhjIqxBbrRBWJdbcRRddZFaZCodZeNReUMsALE8//XTbf9ZZZ5nVCJ6W1nCLGOua+LA4i/1jlbJve6y01atX5z/wgQ/ke/fubRauo4Ufq00gze9+97tbrgXScaXXqR3g9+Sc0047raXmw+8hfrkuh2eB7VmzZpkVr8Kbf+yxxwpH8/nFixebtU94KvhWY6CFHasV0sKI3RsPD2sYKx+/d9xxh+0Dvzdp56hg54cNG5a/+OKLbVsLIPZ7/uIXv7BtuPzyyy1MLcTlteBhab7sssvyNTU1do1eEwDU7GiBzPz/+Mc/LuzdlIZ0WlqD34IwOZ/r49q0AJqfN29eXgsmWxQG+DH8agHMnsmhQ4favcPap1bj/e9/f/4f//iH+SllSry4Uxro71xYS0rDXiL2Unaw40nfZxgwYICNeccKpL0Tix8LSgXarER6yNOJDGtKMyU7B0v685//vFlWWN5YbbTFnnPOOdY57ytf+YpZYlgwWIt0ztJM0ywvzQQtDNLAOvsJFyuQ9l3a2FXwbVszXeupzX7887wQ14EHHmjtzBMnTrS2UKxsrKZLLrnE2lxBCxxm0dPe65YktRicA88++2xLj/f2njd/HrlOzi3u4Aa0vfuz3F5Y7UF6sMhpy8ZKd+i5zn0Eaj6ojQG/j45v0yns9ttvb+kQx2gH2rq5Vq4Ff9xv0sm9Z5t17jdW6KOPPioHHXSQ7LPPPhYe0KN83333Neub9nbmScAf6TziiCPs3rgVz70uThv4fUw7v2fUKvD8UZvAM0itEB0V3/Wud9lx4PcFro9+DlrgEy0YWXykld/FwbqnRgb8OQdfJ25fcj79MqhZ4fnRwqp861vfsr4BvAMs6ZdAB0otkLXUJgDXmc7D2oL3iU6I3G9GWpBWrpn7St8JOmTec889Bd8lit7IoJujL0xhLbGSsBKxwNauXVvYG+xouOduTWAlARbNzJkz8yqOeRXYvAqFWXT8JsWwj/ZhLHEseWoIfvrTn1r7Le7888/Pa8aZv+666/L33ntv/j//+U/+qKOOsrZfrG//zUkDlhPb7gCrG4t0wYIFZr07+E/79WtgSTrIMvr165f/3Oc+Z23Cc+fOzb/uda8zizndNwGrEb+jR4/Oq7AU9rYP94k2Xa4Fi/uVV16xdLKftKhomD+/hq2Fa/jqV79qVi33yMGyPvbYY63dVwXQrGBvr3b8vgDp4F7QFs/vcPfdd7fU3lB78Mwzz5h//HEOtWqedqCGhFoV0sD982vmd1Thy3/3u9+154J2/7PPPtv6UvA8EI6jBQFLL/cYy7UtiJ/fHzZu3JjXgowtcb/85S/zWtC0Y+7n8ccft7h57rCUuVc8U+985zvzTz31lPlxCOuQQw6xfgY///nPC3s3kb5nXB+1GtxbwsZRG0X6uY+DBg2yY1jkxM81cz7489sWfuzBBx+0mjAtXFuNATUQK1assOeId0kLrfkzzzzTag9KlRD8EiD9soTgdwye0bIk43LRd9TisGr8a665prAnAf84BIKOZWRSVN+DV+NSFU9HuzT8lnTGIgP9+te//j+ZpafH3eZIp8P9UxWM2NOJbv369bYPP1Q/U+1MlTjiBVyfd1C79dZbbV9beFp5NgmLwsP+++9vVeuf+MQnTKR/8IMfWJU01+lp21oQVzqi0TnR7x/h0ATCb8F9+8pXvmLV1xSm0vcpfd8QlpEjR1pVMeIOFGoQRe4/nSeJCzjHrw8ouH3zm9+0ZpiTTz7ZCgo07XCvKDB8+tOftmeF+4tgeXMIIPh+3f/973+tcLI5wQfib61QmYbjfn2k/corr7R7/7GPfcyq671TIXgapk6dar8T6fbnmLj890lf9z//+U97Pmn64fop9JB+RJ9CEoUPCjsU9CiAkhbug4fXHn6c8/kd99lnH0tbGsJ9wxveYB1J77///sLe0iOq9INgJ0A1JlWbmmG1VK2y7qxcudKq9alapSMV1Z10nKNjFdWqVNFT5Q7M/sYQN6rdGaJGlblXreo7bEvCpmoU6PylQm3rVAETt6+70wy1peMes8pRbauiKp/97GetYxjNC3SeIx34B6qUiZvqcDr+ETdhM9sbnesYpsbQPVBrzapSVUi2aBIbzdwtHjrN0WRBVSwdChmqxbz/DN1iJjzC8vu5tVDlS1W1irWohW37GCpHswjXRXUy18Y109mQOROAtPFbkj7W6eTIvaE5w6vkX//619v9+/KXv2zDwfx34RwVJGtKoOmGTnpMY0zVMr8n94thkpMmTZJTTjlFVJTsPO4vHc/4TTmf8Kjqd/gtcECa2oPzuV88cwwdZKgdnQKZUZCJd6i251n054LOgFwb1+N+aQYgHJyDX99OV+mnwQ+Ozoc8w3Q2ZEgizUcMAcWxzm9OcwO/O80k/u4A156Otxg/xm/Cs0/TEx0TwY/xPNL0wj3gfStZ9GYG3Rx96AtrYeF3FNxzrJO05ZT+HegIpZmwdXzD8sE6Puyww8yq9WpWhqIdf/zxZsVhCWEtY/FfeOGFViWbBquI6mX80uGKDl5AGgD/VNfefPPNZk1RbUyHOuKkwx6WO+fi6PyHpetV/VhacMMNN1hnKO/s5tfDkur93/3udy0WPs0WdE4kPDqH+T1oC6xXj4c0Uw3L9TOsj+GDWGUqmtZpjLD8urYGTz/3ycHS5J5yvVwHHcZU9O1+3HXXXebHazk4zu9Jcwwd9qguhnR68OuWuF8zHdG8EyPWMFXx73jHO/Iq/tZpUoXbqu5pWgDO9zB9yb0hTBzw7qpIWm0I1vPm4PenlgQLmN/Xf2sc1eAeRjpOh3Wui7jT+/nN3cK/9tprbZ+nD38eVnHagfiowmdIHuEAceDXnwPgHMJIn9sW1ERwPdQY8DsB5wLPE802/P50ei1VwsIvQbbFOgq2Dn23zGEtcr9ZZ4lF+Y1vfENUcG0fHbjoaOSWKxYPFg5g9dF5iw5hdN7zaVBZx59mgmYFEQ7neI0AHc4YhgT+W2NFEi9Tq2LZ/ehHP7JOZ/6REYYKMtzsq1/9qlm3WPpei+AWPhb7Mccc02I9EbZmqJYGrFo6WzG7GdBpCv+AZa0iZuttgfXq1jDWHVaaCqMcfPDBNixPCw9mTXPdHG/LomwPalNIL+mn5oFaDO7v4YcfbsPPuB6sfyx9ZsfD8qUzIr8h+O/J8TPPPNM6YrKPdHOuH+d+gqeR+0inOzqq0RmNToPUqGDVYnESF0Pw+D2A8/0aPVwPi3Xg96azJR3gtNBo+1oD/9xTX+defuc737FOoiqQVtPB7+e1Q0CcOOAYqKjbvfP4wa+V8Lmf4MdZ4vwa8MO2h0dNFjUozITHswLcRxzneJp96elJh+/HgG2G4wHvjT+zLHn2qCFiuCP3is6SJYveqKAE0JfDlpR8P/rRj5rFEcPydh7cbxzWimZyto+hXuedd551WKL9kpoWhkHR3k27MMPRaLvFP85/M0iH47Cdtn7oNEdNAO2UDKlKQ4dBOtKpkOdV+K2GAUsHf7Q/Y+3T9pmerITw09YWzwud/LiOdNpaA0uc9miyGNpOaUPdEWwu3vZgyCMWLkMi6R9BOzwWKtZm+n7PmDHD2tepUTn66KNt6BzHi+/H1uDWaxr6ZjA07z3veY/1y6B2x638zbG19wH/PAPU2vi5TKJE3wH6TaT7ChSHzTaOZ80d8Cxwf/iN6RQH3CNfeq1Aa/jwP873a+YcD7sYj9/fg9Z+C2pMCPOqq66ybY5T48QzT00Iv33x0NNSIyz8INgJ6LtlFghLB0uDL6Z96lOfsjncaZtnClX80C6M9Y5FqRnbq6wswMJyK68Yj4M2yrFjx9oEPOn59DWDMyuKYUm0yTIJDG3JtJe/5S1vsYl1aNckDtqOHdKP43zioJ3bLbJ02loDq5Z2bSxH2q8Z4rUj2Fy87UHtA5P5PPXUU3bvuRasbqxv7i33neukpgQrmN9GRcNqZTjOfWB7W8AadivZoeaD8LhX3Gcs1LVrk48qpZ+btthSP6Qb+N2oGeAePv3009Z3YcKECVZzxO9Enw4mwaHGIY0/i16T4eHRxwBrGviNSTv3iWvyc9pKI/civXQ87GIIh3tE+FqQKOx9tX/iA66DPhJMdPTBD35QLr74YquNYdgkz3xb71FJoDcyKCEodYeFv/PBGqE2RTOpFssFi4N7nm5/Z7gS7ZhYk0xzSi9yn/KW8zi/GPalHeECvbo1gyOHtfZd9nsYrLNMQ/qA9k0VfqsZYKIfwC9Wusfh1+DhFYeVxv1guTExEEPzmOynM/FrIE0M+dIClvU89+vwNKfxGg2sYr923h+WWwvn+HkeD30EGDGAla0FAqvxwQrfUginOM2tgZ/i66OGh+mS6buwaNEiSwvPDFMpMzwQWgubfX4vgJETWM8MM/RplP15LI4zDbUqDMWj/wC1Sh5uW/79OPefPg6+j21+U2phGM7Hs08fCaY6Zp1rZMIoevB7unxZipRraf+bCH9QGuhLYpOM6Mtj04F6e2OwY3GLSN8xc1gVONqg3aqhTZkey1j1tJ3TQ5v2+uHDh1ubNf45l98MWHcIn/04wuMY1jl9ATQztY+/HH/88RafWz4O5/g+4mAdC1wzerMAaeOmTd/bZz3t+PM0sN0WmtGbo0aA66CH9iGHHNLSVtsZkG7Sz33h4zjUamChss+v0deBda6fa6B/QfF9wG0Nft84j3vDNlPl0p5MWvzTtfRd4Fh799fZmnT4b45TwbPPKDPZDSNC/vrXv9oUz08++aS84x3vsE/qej+S4vDZJm1+P+inQXrpC0IfCyYOYj/X6PEVhwE+9S2jUziHPiBt+YX0fmpLgDyMCXV4h6iRodaCY1wffRPoU0J/F0aR0B8ESJfXVJQiIfglBi9qCP7OxzMUX7oIgmfoiDOdxshc+S2oTv3vf/9r84ojkOlMiXXOYZneD4TH70lG5kKN0NJBiX3Ey7nAuZ75cwzIJBE1qrrJQJl/nBnYEH7CBY83HXd6PY2nheNUVzPMC7H3eDsDj5d75evcF9IE6fsD7i99b1kH97s1EBbOfwvCY4kw8Ttxv6l29vghvb49pNPt10QnO543hlKqhWyzGzKrIt90QIyhtfjTYXFfKGQi1qQfwef5A66Tgmhb18Azytz5nEeBh6Yup61ziDt9DTi+MUHzFZ0t3/zmN9u3Cs4++2xrjuEbDzRZeIGNNPl5/uyXGmV68ckvGJQElH5pQ2a8KmKDBRPsHNKvFpkjGRUZDZkPS3po065OAYzfgV7LZIB81hTLD3/uFzyjK4bflMzVxYttMkbP6IozUA/Hl/ilfwHpwPLDCv7IRz5ibdkcA/efTkNxuA4ZK3Cc+AnDw+ksSLOn26+Z38TT5sfS6w7X49fSnoi1B2F6GL4E4vN1fmf8efpaw8Mppq394Mf8ucDRDo5Fz9wP1AJhZfN7I8TFYbHt+zz9OC+8pNPqzyK439auhWPF53H9rfl1SIPHSbhs09+A+RooNFOoJP1eAwB+Dv79/hK3v1OlRgh+iUEmlxZ8MvegY+GVw5FxYZ3QYQ+rmgyX+fZd7MmknM1lhJ4Bgp/n+53i7WI4jhBAaxn/1pBOy/aEszPw9GxtunbkdaTDYh129j3yeGBHxOXXkF7i/Fn1/a1RfKw9v2nwB+l42yPtP9D7oDdk01MQdHtC8DsfXjmsDreEsK4RWixyrC1w65OMKjKrIAh2BG2bDUG3JMp3nQ+/AWLuvwUiT5U+VjVCj3WfrhYNgiDYEYTglxhhLXY+/AYu+Ah6eulWvQu/V48GQRBsL5GbBEEHg7DjEHZfxwH7qO4HrHz2+3YQBMH2EIJfYriwBJ0D9x/LHZe29N2Sd6ueXsSsB0EQ7ChC8EsMRCboPLj/WO4+LIht/01c6NPV+L4vCIJgewnBD4JOBlEvLoixnRb+IAiC7SVylCAIgiAoAULwgyAIgqAECMEPgiAIghIgBD8IgiAISoAQ/BIjhuUFQRCUJiH4JUZxb/AgCIKgNAjBD4IgCIISIAQ/CIIgCEqAEPwgCIIgKAFC8IMgCIKgBAjBD4IgCIISIAS/xIhheUEQBKVJCH6JEcPygiAISpMQ/CAIgiAoAULwgyAIgqAECMEPgiAIghIgBD8IgiAISoAQ/CAIgiAoAULwgyAIgqAECMEPgiAIghIgBD8IgiAISoAQ/CAIgiAoAULwS4yYWjcIgqA0CcEvMWJq3SAIgtIkBD8IgiAISoAQ/CAIgiAoAULwgyAIgqAECMEPgiAIghIgBD8IghKgvdEpHEsd3+xAltY9JKFsOpZsB0HXIQS/BKGnfvTWD7olKGyusMyz0qyu6dVLhqYW1JhFVvfl7Lj61//5rDo2WWZzktNwcuqT0Gwt36THN0q+qcECYD8hN+lak57UqGE12rroUl0hniDobELwgyDoXlhZFoltTWkLBd3C4TIV/zKT7ETS8xx2Zwv9Z/4oKDSo2KvQN9fpepOUae7JWVousBCaNTvdmK+QJWtzMvXlFTJ/2Xqp1wM5Det/khEEnUAIfhAE3QSUWeW3TMW5TJUWRZYK3V25yUm57lcFRsUzmPEq09kyyagqI8qNun+Detmorl69ZTP8UdHe2CBljXVSnq/XIDKSq6yRBl02aDxY8SvW5uX5qfVy1x1r5be/niU3X/+szHhxmYab1xix9SkSBEHnEoIfBEG3IWf2ugqyOV1XvTbHMRVzLHL7R4FAj+fLynU/BYFKLQNkVNCzWkRoMpFukgarnm+q0GyypqeUVfSSfK6n5pq9pS5fJcs3VshL80TuuHu1/PLq2XLNb56Thx+ZLpUVOXnDa8fLnmOHSa0WLihQlFnVQRB0LmX5mGu1pGhubpZPf/rTsnHjRrn00kuld+/ehSNBsOuDjL86Q6PKnj2bLGyq6fmLvcMRXEb/WBkAa7xMXYaW/bxuVeuZ1eYbGurzsnBFXl6au1JmvLRcFs5vkPqNORk0sFYmTugtk8bXyh6795YhfSupS5C8mv9WoVChG6H5QScTgl9ihOAH3RkX8ATWsPM37d2kuYngi1r1dNKzPbpJLUCZKn+ZZCWXa5ZMpoes11PnLm+U6Yua5aXZDTJv2lppWlsnvfvWy8jRVTJh4kAZP3agDOlXJdUaRqHhQDJagMg3azjUGlRVheAHnU4IfokRgh90X8jKaJfXJf8tZ2NECu32rLMPFVZBp22e7RyCX95ihWPko/8bm/OyRpV+7oJ18tyLy2XWghWyamOjZMqrZY8BA2W/8cNk/IQaGTSsTGrKqTNo0LPqtQhRKRVSrYGUSTnV+V7YyNB6GoofdC4h+CVGCH7QfSEro4Ocij6d8PK00Wcko0puOq+HTehN8NWbtekn7f2cmdU/dXV5mbOgXqa9vEamzl4jcxeuUpHPydjd+8jkPXrK3hP6y4TRfaQ2k5zrffzZKtN4kx4ESHuFBk+HQd0AtD70PuhkQvBLjBD8oDuTa9LsTJUba72sAls9KQDkNJvLqQBnMjUq/GrR616senrYr2rOyZKVTTJ12hp57vkVsmxpg1rneRnQLyMTxwyQSWMHyu4j1Jrvm5FqDTcjWT1fw9Vw8tbzP4WeZypP4MTCqu3nTxB0LiH4JUYIftBt0ZzMJszB5KYRvZwheg26u6EwVr5K12tVezPS0JCXJUtyMmPhWnlu4Xx5edEyWbsqK/17D5EpY3aXcSN6yvjdKmTkkAqpqVK1Lgh2oxYOaJsvx4zPs//VSu46nzjGA5AYNklQEHQuIfglRgh+0J3JqbKTo1mmVq5/y5gbL2sV7Q25ClmxslHmLVwt06aukRkz1sjyukapGFgjY8b2kH3G9JFJuw+Q3QZVS29rl1c0iByarRtlZU262SRlWdroC/0CCq4My963wZbZguATVnTTDzqfEPwSIwQ/6L7kJZvfaAKfKeuh2+WyUQsAK1blZJFa8y/NWC9z5i+RRcuWSFO+TkbsPkT223OkTBw5UIYPrpD+vRKRz+c5P+ndT1MAlJfRDKDibbpuvtSxxnph26rzC9t2GusFWkz/IOg8QvBLDBf8+vp6E/xevXoVjgTBDsRyFRfBTbBFlfqr0J22vw09LBjYSZCKb7v3TevY002yQf+u2VApy5Y0qhW/Vqa+sEyWLm2UfFmlDBhULpP3GSzjJ9fK4MG1MqS2XHrredYUkFGJ16Ql/fxpBGjUcFlSbVApFWU1eLL9icvocQoCRdfjKcqnqvE9sUHQiYTglxjZbLZF8C+55JIQ/GD78RzERa0lR0Es2Sg4VfTkEEKYiCTlAXIgqs1t5FrioYBulCfnNKun5lxWytRT0g/e9NnWqCzn/Lr6vMxf2SBT59UlIr9oiR7Iy6D+tTJmVH+ZNGE3GT1Shb5feSGExkJKPD1JXEkS+EvRgn74wHEEnj3sT4odmyx84Bxfh/R6EHQ+Ifglhgt+Q0OD/OQnPwnBD7aP4twjrX32xz3o0qayoxCgAospXRBZB9E2GbVdKrR5lfZk/JyKfU6yuWYpr1B7OlOh/qyfvGzUYJetzclLsxtl2kurZfpLc2TDuvUyZHA/Gb17P5kwVoV+/AAZMiAj1RpttYVGmrDesdIpLlSpQ/SDoHsTgl9ihOAHO4TWcg0VanITOq87eMOxy4az2bR2bBU8FerxW7Ih3aRvu52l/8uylZJvUvFXc76sOvFb35iXZeuaZe7StfL87Fdk6py1smxNrZSV95BJwzOy96gamTBugAwdXCO1ek6llhmseFEwzJkav4yP7FjhQ8NkYh7zEQTdmxD8EiMEP9ghWK6RiHKi3QhnsumuoK8t4A1pNe8Gdjo+8M3Ydl1Tqz6fo9OcbmWwxyvN8m9Qt3pjTuYu2CjT52yQF2cslaXL1qrV3yBDh1XL3vuOVJEfKnsMqpD+tUmfeItf/5RbwBqvrhOslTF0m6zP1mkbYBkE3ZwQ/BIj2vCDHUJruYaNO09gjdbvpK97glnZyWphX/IN+sR3ss/0V//SGW6j/l2p1vzCZY3y0ksrZPq0FbJ8aYPkmsutXX7imP4yZWI/GT2yUgb0KZPqDO38TXo+s+tpTKi9dQzIaCGC1BC6picVWaHFIHFB0M0JwS8xQvCDHYVlHPqnRSupJrfsBBHX1UJ1PT5MbvMq5XyrVv/zedq8+qdSnU54zSrwTG0LqvHyyrKczFhQJ8/MfUUWLFota5bWSd+qPrLXmGGyz4TeMn5kDxncr0x61CTh6YOtURM/HfsIRQsRpC2TVNfbOges70CSLm96SPwHQfcnBL/EQPDPP/98E3yq9Hv27Fk4EgRbDplGYpsnVnvGspFEvhFdquUh+UiNHuOrdLlqPawCXK52f6ZZRb5JspkKPata6tTLyo3NMmtugzz7/DqZNadONm7ISY/qerXg+8jkCX1k/KheMmJAhfSlXZ4iBIqdlC0KIPIattXd66YJekHVWWoBhIIHLk2L1yDo5oTglxgI/mc/+1mbeCcEP9hW0Fl6yQM2dLkJcLNqrlruWV22WPesJhY2Y9uziG6mSvigDUWCxctz8vKCepk1b7VMn7VIlq5cK5U9esnwkSNkwu4D5ICR1TJ0YEb6qDVPiP6VeitkaKzJR2oySYe8Qk7WYrF7EnTJIXf89X80H9AEEIIflAIh+CVGWPjBjuB/BR9dVQnPIfhqZZeXJ9PcqsfyKl1Xod+oZ9RrdrNR7fN5c+tk3ozVMmNqo8x/uU6fyybZbbda2XOvWpk4qa+M2K2XDOhRJlo00DDVaS7Fd3GaMyrTGTr44ZpNrCvwldMiByUIVe604FMJ4BncpoyOvgNsIfh4o+AQkh90f0LwS4wQ/GBHgOBja4Pa2CaXJpmanWRzuq0lAPygwbi19XmZuzovMxfXyezZC2XB7FekaX2zDO7dR8aMGCR7jR8s40b1MGu+vFwFuXmjmvBlkiuv0XCQdZoNCFGPWbSJYJdpQYJmA9uyAxWaEN2XJC0R/cIqkMakoyBQuc8/LyEEQfcmBL/ECMEPdgzIJpPQUrWOjCY2fjNaqvqJ9V/XnJfl61Tk522QGXPWyPwF62T5sg1SVdUgkycOkikq8mN2q5Gh/aulbyWV8yrmTXx2NlHpvJYaGhlEr5uV+qecIgYR2DS4lVYgsJaDjJ5nH7ahaMEkOgzKS8Q9vTRacrtUieBVHoKg+xKCX2KkBf/iiy+OXvq7CrylWytMLeckFdgptdPdHEgHWJwNFEfG8YIfFoWJa5IOcElbOlqP0C9dnZPpc1fLtFmrZeb8lbJsTYP0Ukt+wqDess/IPjJpYl/pr5Y8tQCVFQg5ARKeLlXsy/QAhYh8LiflmSbNpHKSy2G5I+RJuigTeAr5Ul0y5/2mivqWY7amzpJeWNp6gcJhc0HQzQnB3wJymvFY1aGZE5pf6C3D+T7fztiY365NCP4uSMsrqs+f/vcKaeBIWqvsCWSne9IdubJm3UScC6KqZ9DybZ3e+MCL7dLjaiVnGbuugltWhqVcCFkFN8NwN3q/59SSzjer9iKxFdIgNdKsYdTn8jJ/YU6mvVgns+ask8WLl0lT02oZOrRGpkwZJlMmDZMxg6tlQLW+M5omuyQNngWJTarZk3H7JDr5i3Rj8ZME3ULwOVBIltOyiyr/Ql1+IfjC38IJlBJsmSyM1OEg6O6E4LeDCzmkxR3S+ykQsI3gd3XRjyr9XRB71nD6bKk4IY1ssXR46tAte/r0YOHxtB0IfZ56cBVEbOCkzVqfVRVQergnfhFLCgbJuVjZWWszz0tFRm1w9ulRPhvLvpyK/aqmclmwPCuz5q2SadNfkZfn1ktjQ08ZMqS/jBtVK3uOK7d2+UF9MlKpRQO0uKyM2fO2BhIXihwEO4IQ/HZAyMFF3Lcdbh2Cz3HWXfS7MiH4uyDpNzQl+GmQRHccayz4MjteLVv7/Kta4Yl+qi888qhi4Os6j3ZGj7ErZ7PSNaklrgUEm3a2Urcy9qGajfqMr1yXk/nzNsq8qY3y8uyVsqZuhVT2zMrQkbWy116jZfTIfjYpTp8KetnnrMo+YzUHGjr1+EEQdAoh+FuIi71b9IC4I6Au+sB6VyYEfxfF31J9vFhNNjfttKevsMkix0x2urTWcH1cbcgaj236dTcxZ6m70WM9ZHpMYHoSzQBZDaFRd6zckJdZi7LyzIurZer0Olm7tF6GVVTKHiOqZeJevWXC5F4ycIha8hoI1fD2oRxNQTn/aH/PlifD5ULvg6DTCMHfDF5dnxb1NBxHRCsqKrq82EMI/i4Kb2nh8aJaPtkBWOMtBwpLOrwl++yRLLiWIAqn26tfWEfkbVY8XVIu2KhubUNe5r9SLy+8uFhmzFopS5fht6cMHjxAJo/pKfuOq5ZRIyqkptZClQoVcybJLcur4NORLq8iz/j4vAq+xhGCHwSdSwj+ZkAguUUIOjQ3N9ssdevWrZMePXpIv379bD/C39Wr84HrYaY977QXgr+LwFua6KrChpnrBccBdSbgiL0uOQz6TJaVZ9TiT0azJb4Z2Z5VxzIJJy9V0iAVsr4pL0tWNshLMxpl9ssNMn/hGlm7do0M6JuTKRMHyz5Thskeu1dL757Mfr9Bz+dchL1SysuYAEclvyknFV57wJ9C0qJGPwg6lx0i+ASB4LVlBSMy7HcLGP+se9Tbahm3db6Lb/o46zj2r127VubPny8DBgyQYcOGtRxnuXLlSvODkPs5fpz9q1atkl/+8pfyr3/9S3bffXc59thj5eijj7be7sQLHjfn+X3BdQXSFn700t+F4FFueYTY8B73BWyVd0+dPnu5LM9fcoC2+MJkdXYWPeF1r/pMAmzIZ2Tx6qzMWLBeXnzxFZk3e5k0bMjIyqVrZdjgQfL2o/eR/faplIF96ddPDBs0jI3qsuqowq+SSqlR0a8yq77Q18+cjaSzuNloqYsIgqATKP+mUljfahA1BMQFra6uTmbNmiXTp083QV28eLHU1NSYqGAZ47e8vNy+xf73v/9dpk2bJqNGjbKwOO5WNGzYsEGamhgClDeB5hxgGxElHOJ85ZVX5MYbb9SM6kULi/gIC9EFF1yPm3R9//vflx/+8Ie2feCBB7ZUx69evdq+IPfSSy/J/vvvL5WVlRYGECb+se6vv/56ue222+Spp56Se++919K67777tljLhOWFjvT96Qpw/7j33Nu3ve1tUlXF8KugK2Naro/PpieooKa2ipTqEbXsUda8ijet5zl99rDsweSdw7lmXedZrLJ2+aV1ZfLc3Dq57+klcs+ji+Xhx+bLslfWyLjRg+V1+w2Xx+79gyyf+4Cc/J6DZNzIfmr/JzUCWeK03vY9NbSeuq9aXaXYJ2mpysfxgZxyTSOFDfoDqLO49V8QBJ3Ddln4Lr44xPGvf/2rfO973zPhROQRyOHDh1sV8hvf+Ebzz74ZM2bIGWecIWPGjJErrrjCrGkE/bnnnpP777/fjmNJI7LspyDBeW9961vlk5/8pNTW1lr8iOjzzz8vH/zgB6V3795yww03mOiTHnDBJV5EHev9ggsukD/96U9ywgknyGmnnSZveMMbpLo6GSpEAeSkk06SvfbaS371q1+1WO2cny5AUGhYvny5if3ll18uc+fOlY9//ON27X379jV/jt/eriL43A8+j8t9pQ0/LPyuj7+gdKpL9JLn281o/tIPnlootgpT0Kg/29Q/lbrOaUyKs2Z9Vha+0iDTZiyXF2Yul6Wr1Lc+2kMHl8mkMX1kzwnDZezI3tJUn5dzTv+IPPvEY3Ltr6+Sw454PaGZRc8/ryUA/iaWPxBrUo+Ar8Q3W0yww5iBTYX6IAg6luQd3UZc7N0yRzywdE8//XQTlXPOOccEGYHFH6INWOPz5s2TcePGtQjOY489Jh/5yEfka1/7mlnQt99+u9x6663yl7/8RZ5++mkTVcAiTVvMCBfV01jeWK3gVeoO6cPPVVddZYUSRP3HP/6xHHbYYVZQoWABhIG1TgHACwEO8XmYe+yxh7zmNa+Rj33sYxbOxIkT5brrrpNbbrnFjhfjhYYg2G7sMUqefZZUqOMQVL5E16yHaK/HG74Q/uUb8/Lsy43yz4fWyHU3z5Xrb5wu992/UJrr8nLwviPlzOP3k/NO2l9OPnyCHLRHb+mnr2lNRVZqemalqpcWJ3on8TXmGrXASN1AVg33rJTnGY1PcSOBOK3goXuSwXgcKdc9jBUgq0nCCYKgc9guwXdhdTHDiqdK/Itf/KKceuqpJv4IdGNjowkuVjsWPO3fWNt0evPCwpIlS2TZsmVy3HHHmdV/3nnnmeWPmGI5/+EPf5CPfvSj1kzw3//+Vx555BELz+PHueCz7gLtljnxIs5Y76Svf//+dhy8IILYr1+//lVNAn6NXjWPeAPbpJ+aAmowuEbSuGDBAjsOXVnou2q6gnZwvSz8dIhrzqrwE5s6sauTw/W6smB5vTz0zGK5+fZZcvUN0+SGW2bIvMVZ2WPscDnxfQfIeWcfICcfO0xeP7lKhteo/d2g52shgGF8FeX67lTqjqoNki2nzb5JCxL1kinT94D3KkenPcRfXZ6v1iXvBXEn1j/vFE1iWkDXZTlV/tuX3QRBsJ1s9xvowghYy17djnjSuW3NmjUm7meffba8733vsw5jd999t4lsWnQOOeQQ+d3vfif/7//9P/nQhz4ko0ePNuv/5JNPtir+f/7zn1YQwDrH4YfwacN3Cz3d5u6Cz5Imht///vfWxk6TADULCLSLt6cDsWedggPHHQolXCdh+fVy3ON9xzveIW9605us5oIaDYewcFwr53Ylulp6grbhl7LqfLCNZMUeWz2AtPJU1jfnZdGyjfL09LVyw19fkZ/d8LLceNsseWnWEtlt9xo55YSx8vGzxsqpxw+RNx1UI8MGZqUiXy+5bJM0Z5olW5WVpqoGyTLFbsN6qWhqlJpcRnrkqYqvlGrpIeVlNfpgayE9Xyn5rNr3VqWgCWHqXWs0SByfrtXiiE3mU5bVtHrVQxAEncZ2Cb6LGUvEE6vXRZRObXSm22233WTo0KFmmQ8ePNiq7Y866qgWqx//OPwdeuih1vOd/VTx0y5PmzzV+w899JDcc889MnPmTBPst7zlLVa1TqHAq/nThY80FBj+8Y9/yOte9zrrB0B8pNtFnPQDS8Se+HG01f/73/+25gSOIfDeJ8Cr/Nk3cOBAmTRpkhUsaKoA/BB2CGv3hifHHU9+0nJN73Uce5Jnq8WDmuE2613aHC+sJofzNqVtYXfLOU4SDO305SrM5aI2tyzZkJNnXl4vd963UH5727Ny7U3/laeeWihV5TVy+Bv3krNPfa2ccdJEOeaQATJxeEb6VTeq3b1BJbxJKrW0YJ+jVbHPVTarlqtIayGiqjwj5U1lUlGfkapsoWNnc4Vkm5KOgXzvPvkqnR5jrJ095qQOoU8uDjs/CIKuw3YJvgss4oZDSNk3depUs8bpbEdHOKrlace/9tprTfD33ntvE9wVK1bYePZ0OEBhgOr6Pn36WE0B4b75zW+23vW06998880t1j41Cl7d7la5i6wvX3jhBRPjKVOmWDMB8aWtbo+fGgL2kSY6ANIHgSp7mhKefPJJ84e179eJX5ZsEy7bXLPDtscRdFP0kdWfv0WX+Ua82sfmtHio+9UDj7V6YLY7xD7fpO+LWuM2+50+8/R6b9INP6dZ13O8C5xTcB4MDht62ca8vLCwXv7x6HL5zZ+my89/+5T88+HFsqFskOx74AT56Acmy+fPGC2nHNlf9htVLYNrqFgHhuPxBfsqFfZqdbrUIxXq+FetFjzHRPfny6uksSxjfQPsTNV3et6TtrzuMp236gWOI/5JuMSUdM7T94pDLMyfuiAIOo0d8gqmBROxpIc7Qv/617/ejrH9xBNP2JA5cKucTnLpwgIOEG6EnnMRftrbEWja4f/2t79Ztf/nPvc5+eMf/2h+sLYR3HSVfhosdI7RTABesIC0KOOHan/E/dvf/rYNB6Q24r777rMaAuJy56Lv8dMc4NtAmOl4gu4JVe0ZfWwzKt6MQkPyEkFNBM8sfoalmQe13yvV9q/Wwqk+qs3lKu9ljfqs0A6uy+ZGqciqZJYhmFqA4BvvFY1meTfojrUa/pyVOXngqXVy4y3z9b16Uf5660xZsbhR9ps4Uk48doqceeIY+cA7RsoBE3rIgJ7Jp2etW58+i4SZPOlunbsK07pOxzo62CXPr+1nmB3PeuGZTsRbE0EjP0UPti1AX9FCsIXh4drBlL8gCDoTf7u3CRfqtBX7+OOPmxCPHTvWOsl96UtfMsFlGB4d8u68804TVcTVe8O76LpAsk6BgBoALGbEHH80E/zgBz+woXD0A6CTH+Hgl+YCHHjBwdNFOz/rPiIgLcSs+zZD6piMB6Gn5uD//u//5Ctf+Yo1ScyZM8eq+R3C83hII9eI2NM04RBu+rqCbkhZs/7GVGPTkU1fKBXsipxKfh75RPyQRrX7y7KSVdFvUk8btZTQoAeaVDyT8elNahPjEmFuala/erxZhb9OLeb5G8rkkTmr5Q//fEF+ft1/5KZbH5f5C1bLmJGD5Lhjpsjp750sp71rtBy1Xy+Z2LdeessaLYg02fPJh3BMbQvPYVvPYvF+nlt35S74iu6xfUEQ7Hpsl+A7ZABu2T7wwAOycOFC61RHR7bPfOYzJtCvfe1rrQc7lj8CjNW+zz77tHTyAxfQQYMGWRs9gk/NwDHHHGMz2jFZDlXtNA1cffXVNv5+yJAhFheFCXrNQ3GG5L33KTQAx9OZn8dLwQIHjDigIyHpwx9podYBOJ9z/Hw6FD766KPWdMGEPZA+7u3+QXeDqu0Nki9focbyWn2b9DlDW/WnRvzLKQDoDuznxPKtVFehFnxWqrWQQOV3xmamU2s7U6XWfEaaKvJSX14ui+tEHpu1Xm76xzL52dVz5frr5skTj9dJr9695YijxsnpZ0zW5343OerwXrL3+Iz0q22W8qZGKWuo0mQwIU7S0RTHs+duS+EZx3lfF/Dzi9+vIAh2DXaI4JMReCZAj3wEG7EHLPAPfOAD1oHvz3/+s1n6++23n01Ug5ADgghY6gglBQPCoDMcQ/CoYn/44Yfl4IMPllNOOUVOPPFEmzCHTn1M7MN4eNraSUM6LZ5BYaETB80D4P6Ii3XP0Gif99nyRowYYQUEhJ72fy8sAOfi8L9o0SIrgDCskJnrqNlwP12Zrp6+XYWsijhd4PgcbRbxz2ihMENfEi3w8Vg36bPVrOKbU+HUe16p1n61Wt3V1ARoIYA29OZMjazL1ciKhmqZvrhc7nxwjfzyxhfk2t8/Ifc//IJkshvlzQfuLh9634FyzvtfI29702gZP7xK+lTm9AUmrmYtNDTrg20lDHVJk5M7L3DynPu7saXgP33O1p4fBEHXYbsE3zMDMhUHi5tJaRDZNAgpPfCx7DnOOHt62QNWhAsQvfm/8Y1vWHU6NQW089Njn/1Y6vjDvfzyyzYsj6Fw3jcAWsuQ9txzT+sXwNh9quvB/aWFjwKGCzaFD0ScggqCTxheGADEnrRdeeWVcscdd9gIA+YeIFP1GgWPI91BMOg+aNFSBb9WmqSfuh4qu1Ts1+sPv1HfrGTIJh3v1JOJP+PX8VGWKdeHgilrymSDPn4zFuXknkcb5Dd/WCS/vn6m3PWPObJ2eYO8Zq9Rcs4p+8jHT58oJ759gLx+SoUM61EmtXpOBeFltcCQq9X3r0ZyZdWSI0wtBOTKEX+e61c/f7yn6ee9mPQx/KddMa3t6wjaS39XY0vvdRB0FNs1lz74i+9LPkaDJU4HOax79iO2S5cutXn2GSKH1UwPfESV41ggbn1Qbc7QNl4IagKw3CkcMNYdK5v9+GU2vh/96Ec21I4hcf4CcYx1wvI0ERc1BQ8++KAN82OUgB9HnDmHzJD0APsRfjrq0XQwefJkmznQCygeLh0IuX2k/1vf+paJPhCeO3D/XQHuDf0oGE4Yc+lvH/yqPHX6JKmtrmKbpcqenu/MOk/BtEnKKnRNBTeXUanX54HhdOvUul+yrkmem71B/nnfOrnrngXywrQVsmZNnew2tEqOeOMIefvhI+WN+wyQ8cN6SN+a8uQ78zz7Gm6FrluXQH2urIO8ORX0Muuep+vUHOA2CXb6GWzrefT3BngfmCCLQvfxxx/f0j8G8JP2uyPwwkhx2Lxbnj/gh/d1RxagiYtwPXzCTS95T4iPdae9uD3tnOfnuH8PF8c1QXthBcGOZrvm0ucB5kXxIHh4Wcexn4eal4Uq+e9+97s2KQ0d3BDuT33qU3Luuee2DKvDH+cRpo+DR4yw3ik4gPtjMh+Gyj3zzDNmgVMw8EyBNDDdrhc2gCVT9H74wx+2ZgBm2qNZgIKA49dCYYQZ85ioh/4IdMLjq3L0EfAXH3/PPvusnHXWWdbHgMmEvvOd77yqBqCrwn2i8ELtxKWXXtrSkTHYNvL6POiDq46e6TxHuko5r5yOd81UtuuGFlRVldeoOT9/cVamzl4tM+cskiWLlqv818jI4QNlzMh+MnFcHxk1okYG9KbYAHquBqhvBW9qso3Lu4Crs8gQehUoXXM4TG3CtkDYCCszSFIrRuGaQm/xe+7v1/aSzjN4v3C8a4TP88o2UKvGNvs5vqPw+HEeLuvE6+lCwD0fgraunfT5Ofjx/AIIg31cB6SPBUFHsF1Pm7+I4C8HDzQPMesODzjieuSRR1p7O0PYEErEnjZ/quW9QxwgnFSvI86c66Vlf8n4Gh+FhwMOOMA6/oFnEOAvFHg63vWud8lll11mcdKRkAIDVfF0IGTeAMJza58JfvgwDpP0IIrMEEjYXqjA6sGi5xr4NO4nPvEJS3P6fgQlQk4tteYmzen1t9dVLO6MPn42KU6+Wtbla2Ta0ia57b75ctUN0+Sa30+T/9w3Sxrr83LoG8fKuWfsKeedPk5OecdAef2kChneu1nFPhm/36TPboMKfaMG2mTj4VUQEffCc54M0leBIQ05FRnix+lumg/4lyb9Tm4OnnMEjkJ3a6Lk79qOgHTheH9w/v66uJMO37cj43X8vvh1preJz9O3OTyP8utg3Y0Ezvfr8EKM7w+CjmKHVemDvxzA0o8x1O2II46Qd7/73SbezF6HACPofCwHS5oe8QyL8/N5KRzC4eVzwUVoGfrHXP0ILmHSpk9bP6MAqH5EgIvTgpVCAYEagLvuuss6ETKDH2ExxI/JfahRoHBCeimc0DzBi8mLS9zUUPziF7+Qn/70pzJ+/Hi56KKLrGc+fjzD6MpwL7xK/+1vf3tU6W8n+UZ9xtW6z6hJXlbRLFk1ENfqozt7SaM8O61BHnpktdz77/ky9YVF+nw0yfixPeTow0bJ0W/cTQ6aMlBGDqiRHvrcZPT3yGe1YIuAa5DN+rw2aaGB2eqpqucfk+iW6T6eZT5Ba1a/+rXP0VpqdL8WDhg+n/jZcufi488wS0af0CmVKn363qThnB0FYRGfv6ekhXcdcfR4WBa7HUX63SVeNx7YjxHgQk360veoLTiOI68gryFPITzeOYdw0kZKEHQE2y34/pLygBc/vOmHnKpjquJ/9rOfmUWPqDIhD23773//+01Y0y+Sh8eSl5B4vJRPVT7T7SJW1BZ4ez5z8TNenk6B9LLnfF5Y8BeMvgUIO4UFXmim6uWlfM973mP9AYhvwoQJctBBB1ktg5/rmQLpZcY/OvTxqV2GBgJpJL7ie9DV4FpC8HcgtM1XlUldrkwWrRJ57uU1ct9jC+TfD8yX519YI2vXNMqo4X3kyDePk2PfOloOPmCITB5WKwN6ZOxrc2U5Zn3Ud4XMv7xSnzF9xml/R9w1+HL9w1NPZTKVzbwh+ma0rCXqrkd4X6x6ISkE6IOof7Ycnm1cGua6QPCp4fLhqv587+jnnPfLw+Rd4rnk3eX9pCaOwjx+6AzMMww7Kg0eDuHiuA/kUb/97W+tszB5hvcfAvy3Fjf7SCP5DP2FmCCMfhAYH/QdIlzPR9LntxZWEOwMtqsNH9Kns87Dy9JLyg7bCD4iiTDTNs5MfLSrM5sdIEKe6fjL4RCmh+ft8VTHO7yU1BJQDY94U6vgL5+HS9o8fKCfABPmIPh0/PMCBXHhL30NZD689FzDNddcYzUK9EOgcx/+/NrT19wVIa3dow2/tcd2CzLO9Gkt3qn85oBm5LZdHI6fpM+2/d3E6ua8TFORf3HmWnl5bqMsWLhRlblSRu5eLeP2GCxTxtfK6GEZ6amPVnWuSTI5Co+VkldxZs58Jt7Jq6qzTsj2TbmspkPDpZMeWlDGbHvlFFzVysyp1atOj1qySA/dB3IZDStD7UCzGf4VupPCxP9cShuk313eGwT3y1/+snV2/c1vfmMjbNzPzoD3K/3ukAYm2mIKbcSTd5hOpj/5yU/sXfV3e0dAWFybh0dhngm36B/E8GFGDfGe4MfvQVv3geO8Y8wZwue4abJE7GlOpNbQjwPx7az7GQStsd2C7xAMLv0Ap7d5oRFU2sqx0BFkBJ/x9sBLV/wiFSfNjzG0jtL33//+d3tp+K49E+VQZe8d8bxmgePpzIH1tOi3RnG8bHOOXw8vLNV1xMU+trk2vwYovo70dmfigk9hh08Z75KCb78PApn+nbi//K6F+6yLTcXF5Ih51512Ok795FUo85lm3V14XlRyGUJHL3fkn/HtGND6A6qfCmnQ1bVNeVm8vFlemrlcpr9E57tVkm/OybChw2Xc2KEyeeIAGdBX5Obf3yD/uONWqVSxLsvSzq8FT5toB8Fn0tus/SN8mzs/rwVS/WcxW1u8Pneq3vlMk2RpmCc9fLiGL9Vh7+t63qr1CwUHvY4yrkd3ZVTsy/g6XeF2bI70O8IzguA/9dRTZtmnO8b6c+zvg78b6ffK1/HPuleHA+ezTsGZ4a4U/IkrXSjH0a+GL1v+5z//saY+5tCg5o1RMz7HRzp81tPnEwf7gP3ptBFXcZyssyQsJgqj4pM5Q+ifw+gcL5D4PQLC4pxi2E/NBNfIdzzoM8REYgwjprmRdJG+dCfAIOgIdpjgbw8kobUXpz04x6fMLR7z35HwcqczE8evyY91FchsEHxqNbCWdiXBV9tT9Yt7rPeUp9adY9XbLNnNP0RcRcoqw3F6nNP9PPtp2MEna1RUVdwry6vVP+3ligpwWYYhdmWyQS3uV5bn5cU5as3PXirzFq+TNesaZVDvKpkyZrBMHtdPxo7pKQP7VlgP+3Xr18ivrvqF3HHH7ZKpVKGgkT9D84mGTYafelZ2Bm09dzyTrb1rng2wRPSAWqyRI0dawRCxTT/fhI9fHOtp8UvvB541hJJtljyD1BrQl+fzn/+8FSbwTxgsiZ9Os0zYRcGaybWoYqfZj9rBMWPGtMTh7x9xEy7bxMG2p8lFmm2Hc/DPcXdAQQOhp92dmjy+zAn4pVDgVfseN+d5mn0bfIlxctppp9m1YuVzTQg957ifIOgoOlTwPSp/0P2F84xheyBsD39HhNce6ReddeJL30aui31kNH68q7zcpG1XFHz9dfVf0h8D8cZSRpWtJlyx24vL4E8F1YS+UR1WHqJN3/dK2+KXQtJx5Vn9LbP6WzJ5vf6GZdV6Pl+E02MN6n/1+rzMnrtOpk1rlNkzN8ryZRukR21OhbBK9txzoAphHxk4MCO1lUmxgvIDFe7lZU2ysW6t1Ot9blJLvaKiWjJamGjOqmVXoc9D6nnZGaSfxzQ8h8XPIn5dJN3qZZv2e/rIIPZMW40/D9ffARfTrYF5OfjGBn14sNjpFOjhsSRMOt9SGKAfAfuoFqc5kKY8f69wwNILKaSdbdKJVY64skR46ZOTPtfPYd3fYUbfUMChSp4vewL3hPNIHyOEKIxQIKADMH2BOJf3ivNZB9b93lC4oWmAPjNY+XSA5Hjx7xAEO5sOFXx/Ef1FYJuHflsefM71Jef7i5wOf2eRjttfduL0lx1IBxkNx7AK0sc6Exf8Xa1KHxlHhHFJxbc+N/rk4ozCI0QVdyL4+lzoMasJ13vPUDaOYPMj9VSHI87WKY5zCUddoz46q1Tk5y3MyQsvrZHps5bJ0hVr9fctk5G7DZC9Jw2RiXvUyvD+Gendg5P1HD2V0PmFy/V3z9AmkFPhNEHZVG1blNRdCn/PeH7S7+zy5cutzZvnHSHnufLpqLHOKTDwHlCVjTjSoZYwEFbEj1Eup59+uoVVDE1/NCtQOMXSpukuXQ3Oft4rhNvTUwxxMa8GHf+oWj/wwAMtrThIXwti/t73vteaG2nG8H4LpJ8mAJojqeqn0yvpYDIwOgvTQZjrJg9wSx88H3r66aetYzJpYWQQn+n2vCMIOpJOqdInyvQLWry9JXAOzl8az5C2Npxtgbg8frcSeOGZSZBx/j49L+AXx8vfEWnbHC74u56Fr/ey4LiLnlUitDhI/lIkAPWV03uOSa+rZdZ7vUkdkq9WoFn9OLF6gzX1eVmxMq+Zfr1MfWGVLFxYJ/lcmQwaUiMTJ/eSSROrZNSIWumrIl+hEl+lQk4beRNfpSvXZ4908AxqNOX0tNeAsfn1EdFVLZ7wYZxmfV5UA5gBjwP2NOg6z9GWwPPTlt/0sW15ztLhss575ft8yT6vAcD5qJvrrrvO/CCKiD7Pe9p65plD+BF9rHpGw/AMMi017eVnnnmmWeC8Q5yHwHIe18E+zuez2+z3eBBjwvO46IRKEwSjaOgVTydepvkmvV/4whfsWf/1r39tk2U5hMt1+P2iAExHRQoj1C4QNnFSYKdgQyddCg+M8qEGghoDtl3APRxfJ2yYP3++FWp8ODHzkeCHa9nZxkkQpOnwIqZnHv7Au9ta/KXy832d/Tsbf5nTaaftj0yMDAXLhZccPHMMth/9hfWBTZxvb5I21vWZsGWyzig186DeEW/hq3RW8U4NQLPUNTfJrGV1cudjK+RXf1glP71+hdx+90pZ3ZCVAw8eIGecM0o+/rHd5Pi395PXjO+RzGOvAVbkKyWrQl8va6Uxt0Yt+jq17BukvEwLdmT6FDK0sIH5z7j5DAnRNCD2jokDrrC+Ja49v+lj4M9msdscvD/+bkJxHC7kQLU2ljcCyLwafNiKuSsQS4akMUMl1dlU2/O1TEQTYXZcwLG+GfpHGO985zttSfU3FjTrzLWBhUz7N3GcfPLJdg5iiaVNuFjeJ510kh1jqCyf5mY/6UX0PT7g+lj3awIKCljuFCToYAekzf0w8+af/vQn6xxMemjioJnBhytC+v6m1/FD50QmF2PSLkgXNIKgo+hQJSrORHx9WwQxHZavd6S4unXgcZOB8JU/2vfI9Oj4wwQ9WP3plzudmbJMb0PxdpCQiHmDPrAb1IpuVKeZd07vU15/f4afWZs+7beaSedpvyeTV38ZXeeQ3v58eUa1uFoWramVe59skhtue1muvPpJ+etfXpAVy1bI6FEV8t7jhsrZZ+0uxx87SPYdXy1DanPSq0wtT+LONkomlzVRz2mAZZkaqa3sJRVlVRq4ijsfvC2rNofY28+ofpPfHvGgMOq9CHYuxNmaawt/5rxamm3f19q5PKdY2lSBM3SOqm2sYwq9tLMzyRbD6PiqJWKH0NG7no9QUbsExMU6tQIUBOiJj/AyCRZizTYiScGCdm+2KUhT5Y7YOoR966232jvI0DfOvfnmm+Wll16y4y701BJAOp/gOuC5556zKnvS550CuWaukXD4IiaWPv0N+NbH7NmzrbBBjR54mBQu/F6RRwA1Dl7b4B/vAk9DEHQUHfrEpTOO9Pq2QKbk5/PibE9YWwtxkVEQL0teZDrwUCV4zjnnWObE9Ly0GfKtfqwNehmTifhLXizs6QwW0usBJFZ74lw0U/dIVxmylkf4VWxpO8+qVZ/T+53VW76yMS9PzKiTG+6YK1dcM1Vu/NNcmTotL0MG7C7vPnKSfOSUUXLW+/rJ0Qc1ydh+603kazWuChVyydWoU1Hnt7M2gqxUZio1Bnr0q82f76mFgJ66VKFXy56fLpntjoQpumR4nR7UfVxHKt1dhOJ3iG1/VovxY/hH9BDFNLwPLnZw//33W8GXYbhUwyPAVPHjB9GnYEBNAO3mCDXulltukZtuusn2UW3OtyroPMgwXsbFUy3u7wgjCb761a9ar3pqFphym4KEi6unJV274NfqVeqIOn0PCAuLnON+/cw4SIGAmgw+vEWbPLDkmxrg1+xpSp/PvvS9BfbFOx50NK2/0cFm8YyCl5oXnZI+GRfi7hN28OVAvuNPFScfCmI6XmoBPDNIZw5ecGgtcwgUxq831arrpbqJ0Op9yjRIrmy9GvZ10pxplEa9dzk15/NlVONWyKrGCnl6QZP8/p6V8vPfzZBf3zBV7n94kdTWlMmRhw2X008eIx89dQ859rChsteIahmqet0jn5Vq/S2qtbCQUccvlNXfw+axL6vUsOk0poVVaZJMvt5qE6wDYH7Tb9by87EsrFsnQtKcbHZrvDAAWOhMY41VjrUPiLFb21jN9COhHZwCAY7hd9QGMJEWjs5+VLUj4HSQQ3SBOCg8INC0keMXYWYMPE0NiLfXJgDvl1P8jjEigXeQIYDpZgsKJvfdd5+Fwwe3mEiHGgXC5l2mMELnRK8VSdeO+PtNupkBFLD2gbiCoKMJwd9GyDA8A8HCcbFmkhCsD4b10O5HFSdVmmQafFWPGgCsF6wJCg1uBRAezgsCnlkEaTSTVmHFites1SSUKXNU9q0Cny739Xrb5izMyn2PrJYb/zxbfvH7R+XO+5+R9Q2NctCBI+W0k/aXc0+dIu9960A5aEKlDFDxr2hSOW7MSb5Zw27sIaKFinyWanr+51XsVSxwGoVJNgJvQ/l0R3G+jY7wk+JYx7V4so3UsvvigkoVPZ/ERqT59gR47ZY/+2n8uWeZFmhElap/3iUfIkg4CCz+KHSzpJ2dKncKDMTJfk9L2gJPw3mEz3vs02m7INM8QO0EhXeq+7H2qWWgyY6CBn0JGE0AXtAhDpYeBrUATA1MoYUwgHff70MQdBT/+8YFm8VfaH+pWbpV4C8wmRIWDZ8FZlZA/zQv39injR+L5IYbbjBrgXPILMgE/HzC3JnsihkNKSYLtf53ask3S4263iryvWXBygp56JmlcuOtU+XqG5+WP/79BZk1d5lMmDBATnjvZDnjg5PlxGOHycH71MqQ2oxUItaNGmYDoepvWU7zDDu9SUDJqOAwVa3GQr/+ll/ECh1q6edrdIMaBV3VN8nSxTwAzHpXpuKC03MT617FQP0mo/V37m/bFfDnC8HHyufbFD6rpr87+Cl+ztmHAKffKWAb65twKFSz7YKJUPPuYN3zOV/ePTr8AU0OxXEU430IKBDQXyAN1jnHSBP9BJjulxoIPpfNEEPa8nm/sfxd8L32j/RTsGdkArUBdER0wfe0+30Kgo4gBH8b4GXF8WJ7FZ6/wCzJOFiSSZCB0OuXqn6GBVEtSAbyt7/9zYSfGgA6BJFxcI5nGpvLpLaXnR3+DgfhrVwjZVXqypMpeJaszMtzLzbLX+9YI9f9bp7ccMtMefy5RVLVv1yOfM9EOff0A+Tct+0p79x3uIzvVyF0r+I3atawchUNkq2sl3x1k33ljrZ52t2zlfobWh88vT+6g9F8FXna8pvVNekL06TirueX6++sekT/AB/7nwz5a9T1hoJjnUIE4LHgujk8/w6CTzU8IulCyHFc8XPO8w+8A7wj9HvhuxnUll133XXWmY5vZSDivFv4S0P1O+JNGz6jAoDfG/9QHJ+vky7CIk3pTnWcy/vLTJ5Y+gztYxuxJw7/iiDvNWlE9B3CY0ghhQFq9CZOnGgjDWj6I1wcfoqvIQh2Jtv9tbxShJfUBZ51X3qGgnMrxY+TUdBOifjvtddelskwbvjJJ5+02cT4QAhVh5zDHP1YKcUQDuCnGD+Wpi1/DD8ic6PPQXGHqxaKgysKCqtVs2hbU1vNlq8+SU/43yS9Cj/DrfaWdXWOdWy3uOmjXyYr6jMya1GDPPnsKnng4cVy/wNzZdHCOunZs0b222+EvO3ocfLGN+wmE0b3kuG9VeTz+huoDjPBjhrxZnXnylS06XyngftnZvlQjW4knfzUL2PlNTu2eM2Lpq7lk7RKUsvAb80xTzXHkuMJetzCwLpPZex2Pd0Xf+ZxtM/TLs+EN+zH0X5PVTht7cccc4yJJ88q7xTvBet02GPcO0vejccff9za2WkW4HPUPsVtupDMkjb9ww8/3ASffTjms+cdw8L2efiBY0ChnfCpHaDtn495ERbwHlJgoCBBwYU0+Vcm8UsTAIUT/DAxELV4QNqo/v/2t79thQg+A86wQb8+8gfweIKgI+iUiXdKEc+YHKwRhvAxEQfzbCP+QHUlGRaWDJkhPZOBn4lMh4yGDINtz7BYdwfF+9NVowg9tQp0Qmpz4h2CcdUlKHdKImnuwUWOw1Rb44lrVEvOrFldxbFbl4XkafqSddVi89ZMOnWddHu02IKEhGtszMuiZTl5Zs56mTF/g8yZNU/q61bLiOF9ZeK4QTJx/FAZtVsvGdCLgXFERUR6vzXijFvUpMHgaPKPXcluX9tUdNl0DEisLgpiD0kxJ7ni5Kwk5DSbzn91aKUCz54/i+DvAJawT2LDyBZquvw44IcvOTIrHQUF2spp/vLpdhFRr1kDrzkABJ84eU9YR4hpY6c/DV/RpJkNseUczvd3krZ/ptKlQEGnW2oTHN4ZCin49x78fm2kmethnUI9Fjxh8tEfpgKmQM9oHdLshQHO8fviyyDoCMLC7yDSGQQZDhkD1XxY/Az3wfpnH9OUMiMXbf0PPfSQWQe0feLI5DjXMynP8DxclmRkPs2nZybuHzhniyx84HR1iDG4nBViVUe4yCp/qcZV16J5hZPT57KueTPJyjOGPososytnXfAqVFAr1RP/6jTvX7gmJ0/Oqpc7Hlkqf713rkx7canm6HmZNGGwHPamUXLoIaPloH2HyIjB1dKrKhF7tS0tPPu0LJFy7YU0JCThY3G79Z14SDz52qtOYcvu5SaX/Eu2Xr1v0z/f775KjWIxS29jcWNVM4kN7fI8o/4cs47wMhkPbfFMeUu1OJ/FvfDCC+3rdfjBL4LOeTzXOLb9XfPw6HCH0DN2n2MeV9ofVfOMw0eoGTpIrUS6UOBi7ufhgGPUAuB4P9mmgEE6qTHAqse6Zxw+pOP0MFgPgo4gBL+D8BfcX3YyIkSXjIIhPmRITBpCRyAyH3oNk3FQLUiVJMOa8EfGA5zrYXnGQWGA/Z4JugNf4nezgq9erYq94NIUsqhXuUQ88ewCCrqtipu0YdM+rtfOJDiFDm0ZqtTzut5Epzj1WlGlacrImjqR6XM3ykNPLJa7H54ljzyzQJasbZJhuw+QI14/TA577RB53QH9ZNzIHtK/Z4WJOvUXqveS50M4mvBNQq6OwIMugRdKEUbmyGfkCl/KO/TQQ00ogSXPJjVPOAq/fGgHCxsrmZn4sKiZhMc/T+2FBEiLKPtYcpwmAC8E+7vgcbGN9U18NB/Qo56w6WDnhWw/z8P3+Dws9rOPmjomIKLATmGG+QMoqLgfvwcelq8HQUcQgt+BkLmkX3IyCM9MgEyHzAEhxrJhPnA6PWEp0OaJX775jz/CcgsE6AnNlL60izJuGchcHI8D/5sTfM6ifznLTQKf/P0fl3hQf4ltnbdx8IkZj7gnjvZydblmdVS56klMN0vP+MoaWdtULtPn1cu/H10td/5nqdx172yZu2CNDBpQI286aIS8/dDRcuRr+8ueI2tleL8KqanQsDUostzqco1Vr4nOdbS7889uiTrSZ56CLgPPH889zx3CyjZt5ummJX+2aXaihzvV7TzTNHMx2Q2CynPO8Fev2nfRd+fvGuvgzz9LjnkcbPs+qvFpQqNwQUGcOf8pKPi5kA6neD8FESYF4hO+1NwxtTDp9vS1dk56Owh2NtGG3wFwi3G83GkRJjPyfWQ4gHWe5tFHH7W5yOmljOCfeuqp8slPftLaNsHbKenwR+9hagquuuqqlnCLMxXioQ2fav+2vpZHCukFz1mJQ86T9ZYiQIvpX9iru+2In2RbFBv4x1Zid/O3MZeRtbTL1+Vl1pw1MvOlJbJg3grJNuVkUD8t9IwdJGNH95exo3rK4L56RhKlZMnUtbBAevI2hE7X6Y1Hgm1qO7X11cK3T+ZyTmFX0DXw9wAQc2bg4/mlI523b7tYI8Y879/73vdsnnyEl6p2PtjD8/zFL37RLH/8ECbCD+l3jbD8OO8IcRKuFxI45qIPvqRzIP6pVeO4U/zugu9jmw6G9AOgEyJTDdNxkDj8Pffw02n0fUHQEYTgdxD+gqchY/OX3o+RgfhP4pkN7fgM3SMTYS5xPuBBhkdvYffDsD4sdqo86YxHGJ7Zpa14F/z2Ou2RhSGnpCgRaUSWver+53FRX3m17vlYjB5Cd1HonFr0hKFZt7rk7KweX74mJzNnN8i0eatl+sJVsnrlGunXMy97jhks+04cIGNH9JJh/aqlkmCb9QRLCBsaSgUREBKCr0vE376Qg7KrYxrcPNvmxVYtPUGXwN8BnnFEMP1O+LsALtQIM81aTJmLRY9/CgZ0aqV937+Wh/N3CIc/D9+d72fp8XsckD7W2j5g3fHw3A+O9n864J5wwgk21TbHOJd31NfBCwBB0NGE4Hcifutbe/nJHHw/S/zefvvtJtL07qfj0ic+8Qmz+BknjFVC1SjVkFj4ZFqEUZy5bIngkyyyJk5LrGvdsilkEwm36njMaILFU7Zcco3Jl+E4VlaetXHqaj/JRi0MrNzYLPOWrJep0zfI9FkbZe36jPSsaZThQ7IyefxQmbBHbxX5SumpKm8d7zROayrAWfU/67pM77NLYskOoFhCs8KrFT70vmvS1rPPfn/e/RgjWnDsow8LfVzStBVWmnR47h88rvR6egnp9fbgfcN5gaGYdDxB0BmE4HdxyECwRNxK5yMfzMlPNT8d+5ixjyp+xgjz+VCqIvkQCdteNZrGBb+9Kv0WYWVhRgliTyU/Iq+ZH4JvVeh6xB6fjDQ1NkqmivbOKtPiDY15mTM/J9NnrpaZc5fKywuXWEfAYSNHyMTJo2TPkVUyZkBGevcsszHyWkTQfxQoCJaKfxx/9Z+lQfEnlQgKy2TSmwRf0xTaGldOCEEQBIFmmSH4XRN+FhwWerHlQA9l2j+Z3YtexbQZ0nbIR0poy2fmL3r7ezUpYThbYuGbWhacPR1Y9i2WNIKvaVLRz6mYJp37MlKvftZo6WDlyqwsmL1GXnhyubyyMCPl+RoZNKBSJkyokElTesmQYbXSp1dOavWcfENSGKGqPptp0gIBs+Ij+oh9hQp2lVr7lUnFgkZv1fMF/baaewQ/2SyA5Cf/WKfAwL9g14XnHvwZ9veC5zos5SDYOkLwdwHI9Dxzo5OTW/tTp061CUqYwIRqTqo7mfWLns0M8UPU8ZvOGLdI8MEei8J5qSeE7JfRd3yDDB1u0j8r67Ly/Lx6mTprpSxbvFTWr1wvNXp07/F7yL6Td5fRQytkSL8yqahSy7uZ79irK6+S5jKaAXRVHV+foxYhn2vUDXbQFKEFHL5OZx/LSdJi7fKppP0vXh3AMqknCHZdPHvyZ7h4OwiCLScEv4vi1jkOkfe2eBwz7t1773021zhV8/9Uy/7ue+628xg/fPnll8tpp51m24STbsdvEfx6FfxL2uq0h5TT1S75x0h3nhIklGp5vki3fG1O5i5qkhemL5epLy6SDevzWujoJSNU3CdPGix7T+4jA3uVJ2Pkketss1nqGcx0AlGVb67ImZCXawmiPKeWW1ZjoA3Bmgz0fzLWTkOgFgGoEWCbv75MwZOMsxKBrej/V/kIdlFC6INg+wnB76LQbg+ZTLkKn2Zy+ivxU2V0fenSV+STn/yE/Ovuf1mv5UYtEKxdt1ayzVmbIeyb3/y2vOXQw+x8wkHwvUq0WYXXLfxLzMJnOFQip6aRKpK5smbhH9XqfN2NKns6zNc35mXh4kaZOmOJzFtUJ4uWbpB19VkV+V5ywJj+stfYwTJ0WIXU9EzsakLN5pqTOezZUKGnT4Fl2ZqO8ky9RlcoEtDT35/EQp5O3m5j9m2QII0HiaW/qSBCwAXPgFcPAwpegl2b4iwqRD8Ito0Q/M7Gb38hEytIb4tucdiMXIXOaxjI9RvWyCOPPijTZ8+QhmyjlFWWS2VVlVRWVsuek/eWfaccILWVNZJncho0UQNpouNfdaU0ZRvks5+/QNbXrZNLLr5Y+vbsox7U9FbhTDroqfCqBm/UtZxUyoZsXl5ZlpM5c5pk9qzVMm/eKo1/hQwZVClTJg6WCeMHytjRfaRftUpwIdEsbFXTnbcGeC4vaa9nv11Ojtn2VMhtP8OW6GFfwK+3ZZXCj59ZOGig5rrdcqKSXi/2HgRBUMKE4Hcmduf99qvgFrQL3d20N3EFadP9VINjfSOUVL4jqJssXqxyC0P/MF99uRYkWGazKt9V5dLQ2CAXXniBrFu/Ti699BLp1bO3NNNHgHO1NJFXp0a7LFydldnz1sqLM5bLvIVrZP2Gcqmt6SFjRg+QfSf2ksljqmRgz3KpypDaRnVMGJSIehAEQdD1CMHvTIruvAt+8Q/igg/NepSvrJfrHiQ2g3GuBrB9jEaxioJyFflyLRhk8K1FgVylSTEWfHNjs3zhs5+V9evr5PJf/ExqelVbB7wGPX0pM98tXCcLZtXJvOfXypIli6Vnv4yMmzxQxk0cJKNHDZTB/SukpgzbPy+V+XKb4jafzUuGmXJC74MgCLosIfidTerue3N0MqwsgV2223apkOtfZqwDjGsbo06Ht8I+F3wmv7HiAQcQZjvAnOE5+dRnPicbG8vl4ssvkmYV6XlLmuT5Gavk+ZnrZYVa9rXNORnXr1omTeihYt9XhgyvlhoV9Jxs1GIGH7spk3ItRFTmq62wkWvUYkVNmYo+KQiCIAi6IiH4nY3ffdXjZJW/yVoi7y0HjHyzbie1+CbsLDHu0X2bY0d/zjIbxsceCgKFIX12sELqtLTwha9crCLfIKeceqasXF0vs+aslDVrGmyq0imThsuEkdUycUS5DOyf1CvkNIxyDS+Xa7BwM1KlD47a+M16nMKG+gkLPwiCoGsTgt8VKOh6QiLUm5we8F/IOtapSZ2ls5tuZyrUeC+XbJm6fMZGu9H1DcGvUGG2/vAq9g26tkHDWLK0WabNXCV3/uMZeWXpBhmx+x4ysF+VjNujp+w1caCMG10rvappzWdS3CYNibZ9NduzCDuO4HRJ3OYQ+7w0Z5kUaNNIgCAIgqDrEYLf5bA6erPMAV1FxpNvzSvW613FOE91fVbKVPDzGVrU+UhNhZ6Z9HbnPNrlV6/Py8yFDTLj5TUyb84SadhYLy/PnCEDetXKie87UiaM6y1DB2akphB8MndeMn+edeTTf8yTI7nC8ED+U3uAxV/WrL40PVoIYFY8hvAFQRAEXZMQ/E7Gb34i7ICgJ1Xx+sfE1Ia0FcapN9s+kXImpVFrP2Piy9kqzGqN019+XVNe5r7SKM9PXy0vzVomC5esk949esrIYb1l7G695LYbr5Y+1Q1y0f/7kvTsQcM7cSZpoZMfk9ICoTLUrmUeGyC+DAUCOgQmowTwXyHV+jca8YMgCLoqIfidTIuOFpYu+LSb20/D1LIqpWg6bfV02KNzH5+Dpwa9Sh11Aes25mXlmo0y6+V18tyLi+TlheslW9ZL+vSrksnjqmT/PYfLqOE9zQb/0ue+K3Wr1soVl35Xever1gCJRw+oiCez7DHBTWVLmpIv5hUoqD+fumENuefkCk0j/4IgCIKuSQh+J+M33yetKXS7t1Wq53FJESABEcax3ajeFr+Sk9lz62TGrHUyffrLeJGBA2tk7NgBMmH8MBk1olqG9kaQFT2Jr9t9+vyvytq6Brnipz+UnlaXj43OVLoM0GOSG+JOOvkl1fScXZD/QkJYtKRJD3m6giAIgq5JCH4n0yKa/GGjIPjNaspnMeUrkol07JA6mtNXrsrJgoWrZNr0Vwrfly+Xnj16yKiRPWXSuD4ycWxPGT44I2q7q5DnJd9UJnktHZSVl0lOzfXzv3ChrNqwXi677GLpVVNrodL6X2Yz7qkrKzgTevoHVKtL2uetMgCn65sKKSkXBEEQdElC8LscCH4i9vS6p+McIr9qfbMsXb5eZi1olOde2igLFy3TssFq2WPUANlr0kgV+b4yfFCl1KpGI9E5Pdma29WAb1SjnaF5VZUi9RvXy+c/f740NNTJxT/he/j9JY9fvkjHk2BPg56oam7D+XCZ5FO4HOKvOTzbqIHEi0UUgh8EQdBlCcFvF8QXXOZezaa9OPXL0DUVTp8Rh/ZwWroR7Rbnt9sEM2vt9GUVSbW5WfQF0cS+Xt+clwWLG2XmnBUyY/ZiWbBohWRzVTJ8+CgZrUK/7561stuQSulRiTWPDc5QuiYT77LCZ2Wbsir+aLGKNh/VrW9cJ1/+wgXSUFcnP/zxRdKz7yCNjPj1StIXyDrJocZflxQ+kp1JQ4NBev0cOhaa8gdBEARdkRD8dtkk+Fi4bG3ag8C6+OktxNRVZc1nq1T7dDvTJE35jZJVSznDF+HyGalQEWaMPL3vEOB8FoFWv5XVKvCVFge97OcvapaZLy+TOQs2yLwF62XV6vXSf1A/mTRpkOw1updMGN5DBvRN2uX58ejMR3qSj+ywB9hIBDi9J6txJl/Lq5dL1MLv2atPchDwiCc/AZIgUqQPpvkfj0EQBEEXIgS/PbgzBRHEwvVNZB/5t0lu2LQDJrnqDyteT1FhbxlLT5W4Wvz5DFX1tsuM4aSrXIUWDETW1OVk/vx6efHFV2TmzFWyZs0G6dO3SsaNGyoTJwyU3XfrYTPf1Wrgleo/EXes8iTALf1kqH8Pv94+j0uVfs/CkSAIgqA7E4LfHtwZbg9a+io93WTnJ9XayUGq4bHZK1WN7aM29H0r3F1q2NXml0abja5c6nX/mo15WbK8WaZPXyWzZi2U1cs3SEV5hYwc3lf2njRYxo7uLYP6V0of5qnXc/lobd6q62utjd6nzd2aGe5c8Pke/k/se/i9CkeCIAiC7kwIfptwWxiihqNtPhFqmwCnoPdmpVMeQO9Z14XdTPXaqJ7yWhBgelvmoS9Xy59jiPwCFfnn5qyRqbM2yvIlKyXXvFGGDqmRSRMGyPgxg2XU8BoTedrcbSobwmpmSl11GQ2xihZ79ue32LJ3QvCDIAhKkxD8NkHVN6pD8OkAV6UWe0Wy2++YCjud2igL0DkvZ+Y835Jj/jm+WU8re4Vs0HOWLM3JrDkNMu3F5dbDvjlbL/37VcmYPfrLhHGDZYxa8316YckX0KAqVMvL9dxcswp7jj4DupO6/MpkIh7zlvr5tkT8Q/CDIAhKkxD8NuG2IPasqmVPhzzEnkZ4hBVlRuBVkZlTHoFPxqoz+p2ueGXSkBWZvyQrT7+wRp55YamsWNkovWrLZK/xfWXfyX1l3KhaGdCnWiooNOhZzeqf2nlaCJhJj2hw9POjBoHCBUPt6D9QXqjG959va9vwQ/CDIAhKixD8dqANHoueO8RtQlTRVT5aI+Uq8Ay9yzD8DkVGiKvVVcna+rxMm90gDz25UubOW6f7GmXksAoV+cGy95R+MrBvhQq2NRBIBWETD+ej2dbjT/fpqgm/Ln0MPA6Zp94gkfutJwQ/CIKgNAnBb4fkK3EIMIKrgp9plrKKZmnKNug+vh5XrWKcjK+nAn/BKzl5cfYamT59uSyYu0JFvVwmTthN9t93sIzavUL69i6TGg3SxZs/jOArtAQomO8aaRk1C+xk0B8z7SXD+hxq9c37NuCCX19fL5dcQi/9EPwgCIJSIAS/PTCvTXdpn2+UrFrqtM4z63xGeujfStnYlJdFC7Ly0tSV8rQK/eK6JundIysHjO8vhxwwVHYfUivVVckY/mb906zhlatpj5VO2N7JPxnUpwUKJs6xpgQippNglToVfWbPUWwinG0175Ww8IMgCEqTEPw2QY2x5OmOVyYbc83SqMqcydSqHJfL2rqszJ2zTl56YYXMmbFKmusrZOTYXrLXa4bKHqN7yKC+5VKjQp7J5aSSnv1aMLA7rWJdVqEFAF02q2mftY6BjRoiH6qp0r+VydfpcvhvKQ0UqvupAWC57Yofgh8EQVCahOC3SUHwc1nJl1ephV4pa7MiC1fkZPqsOnlh2nxZsnCZ9K6tlbGjBsu+ew6XyeOqpU8tiqzCSggaBNKsN9mc9b5jHcFmMh512bIGjQmrXoVeBd8+Mos3qgQ4V4PLa8EgTzW/fdCG2gUG622b6IfgB0EQlCYlJfhcaCLHrZHcBqx5J+kqVyYbGvIyZ2GDPDttpbwws06Wr9oofftVy95795G9J/eXEUOrpVclXfbyUt6s55tY67n2dToseQQdsc6q9a5+rNd/hW6Wq7WfMT8eq7XnOyb09B5IGhKoayi3ugAEv+0raY8Q/CAIgtKkZASfi8wixOr4Vo0Z3KrBGdZpM7fqdRw6XWmt6WsQ+nkN8szTi+XFaXP1nKzsvvsQ2XvPETJubH8ZPCgjNXY+jtnw81JlYl4QYxVyq5W3kL2vfWGsvfvDhE9rd3rd/HNmsuQfU/lQC7CthOAHQRCUJiVk4atc0i6uqs/wujzt6mVZtbCTQXXJZ2yY175cFi/NyUuz1ssTz8+XV5avkx7V5TJlXH85YO9hMmpED+ldmxE16FtIJJmufFTMM7feq1S7SxGCHwRBUJqUjuDnmiXfzLfoVNhV8LPqMmrqY3djza9tKJcFi+vl2WnL5bnn62X1qmYZPkJkrz17yl4Th8ruw6ukRzn2tRruWkJgHL2hd49qd4dBel0ZF/wYlhcEQVBalI7gq2Wfpw6/AsFvUntcrXmpluWrczJjVlamvtigyyWysWmZ7LZHrey3/0jZW636oX0zUqUazl3igziVGYbPpSkIvOt819b7sPCDIAhKlJIR/ELzvbXRN+gVL12RlRemrZFnnlkuCxdkpaamn4wf31MOPLBCxoytlN41Yn3maXEvy+cko04NfMk2Nan456WiotKaBcymtzlvddVdFyYEPwiCoDQpGcFn0rx1zTmZv2SdPPvcOnniyTpZtzYrg4fUyJQ9e8mUCX1kzO7VMrAGC14FXEsHtPGby2ft+/Y2z70KJkKfyRSGxtmYeCr6lV1I8KNKPwiCoLRArUoCLnT12rzc85+X5b77n5IBg7Jy3PFj5dQP7SHvOHqw7Du+RsW+WTLZZsltzEmOD9ZnbVS8WvYVkimvUjGvUGueKXU1NJ8Mn1lyaNTv4kKfhk6LW/MN/SAIgmDXp2RyffS4X1VGDtlvD/nQSW+Q098/QQ59bY2MHJyXWr5Ba5X9KHhVIugm4Ponn3ziNnEq+uU1Uob4m4dkoJ19PocP6bxqEH3XxcV+S7+wFwRBEOz6lI7gN4v0V81+3ZS+cuj+g2VkH5Gasnqp1ANqv6t002M/IznT/AYpq9mows74eTrsIezu8FehLvFvx81RaGBoX9enRFpxgiAIghSlV69L2zwfnm9qkMpcs9SqiDNhDtLNaPpm/ddU1ijN6rDaWyho5CapxDrm9jHuPnHsC5s5CIIg6IqUjoXPlfJdWbNuyyVTXqubVSb+mTyD9LDZdd0sdT5JW81pUqaiz7fuygrV9UlFvgalm7gyPqiTckEQBEHQFSkZwc9lmqSpar26eslVNKv1rhZ5vlLFu1pFu0LKchmb475C91Xma8wlk+g0qqrTx5/peZhNL6/+LUgz922dMkJSox8EQRAEXZKSEXxa163Sns51to1Gl6nlrrcAyzzlsNpxiS3vcEaRoqcPB0EQBEEXpmQEn0/KVkovdbVSIeU2iY51VrehdQWHgKeX9oce+Yy5xyXt9HY87fx8O2fXITrvBUEQlA67mERtO3SnS0bVU1GPSqdIize0HGbFlTztIYXvbuVQVyeG5QVBEJQOJSP4QRAEQVDKhOAHQRAEQQkQgh8EQRAEJUAIfhAEQRCUACH4QRAEQVAChOCXMDEsLwiCoHQIwS9hYlheEARB6RCCHwRBEAQlQAh+EARBEJQAIfhBEARBUAJ0uOB7RzGW7oIgCILtI52fpvPXtGvvWLFrz+/2Hgs6hw4XfO8oxtJdEATBrk6xuHW0S+en6fw17do7Vuza87u9x7aF9LUWb6fd9hzr7nSKhV+KN7orEvc+CHYc2yJo7fnd2mPF+Wp3c1yzO0hvp932HOvudIqFX4o3uisS9z4Idiz+TqXzt/Zce3639diu4LaF1goBO9p1d6LTXhAEQdChtFYI6Aquu9Ohgl8KJaiuTnl5eYurqqoq7A2CIAi6O2Uqwh2mws3NzTJ16lSZPXu2CQ5Ru/hUVFRYCSuTyZjzEhfrrbGlJTLiaMtf+pjfhtb8tnesmPbiK6Ytv5sLY0vCx086nFwuZwJfV1cnV1xxhf0Wn/rUp6Rnz56SzWbND/h5wfbR2j1M/x7t/cZ+blvHnfZ+p7aObS7MYgiHZ2dHsC3pbQv8t3bOtsTR3j3ZmjjY3178W0N7cbTFtpzTGvjnN2/tWU2vF1N8rL14OVZ8nHPZ19bz1lZ4+E8f83BaI32MdRwawz7yxz333FPGjh1rxwkXhz7hrzvQoYK/evVqueyyy+Taa6+1bUTebzawXllZaa74WDH+Y3VX2rq29q65tWPs8xeCB7qxsVEWLFhg+8aMGdPm/e3Ax6Lbwj3e2Wzt78d+XPGzkt5XvN7WdbT2vLWHh9Va3FuLP9PFEDYufcy3t/b3aCtdbcXbXhxthdUahNXW9cHWpqst2kvT1qR3W9iW8Fu7FsJp7161B+GhMX6/a2tr5ayzzjJDCJEnr0SHCBt/uF2dDhV8buB///tfeeaZZ1p+JG4s+M13a5+l/xit0db+7sSOunb8u6uvr5ebbrpJNmzYIKeddpr06NGjzUwq2D4687629VrvyDRtbVikqa10tbaf57Ut/23Rnv/i9Hr47Z3T1rHW9ntY6XRvSRytsbX+24M0tEZbcezIuHdkWG2xLXEU3xPCwNB83eteJ/vuu2+LuFP7id/uYuV3qODzwnWHUtKuRvF9v+CCC2TVqlVy5ZVX2kMeBEEQJDQ0NNiSvJG8s7uIPXSo+nLTKF94GYMlNxTn+9OO/cGOwe8lDzPrXr0fBNtKa+/strpdjdauwV3x8a5KOo1p11F0ZtxtQd7oTcrA0vWpO9Dh5rbfvPSyrdKTW6X+MBS7jj5W7Nrzu73HtoXisNLOO+axjtBzz9u7v8H2k76X6Xubdu0dK3bFfjdHW+dtqdvceTuS1sLvbNcWnnfhWltP7/PtjnDpONOuNb+44uPpc9Kkt4uPpWnvvNYgDyp22wLxbItrDfa7IeT+yCe3NW1djQ638L3N3ttGvCRVTPoGs96a6+hjxa49v9t7bEfCy+z3ndKrW/fsD3Yexb9pa669Y8Wu2O/maOu8LXWbO69UQQDceV+j4vXOcK39RrjW/KYd6U6nnXNc7HDQ2nqxKz7W1WktjVw7+SP3wWFfd6HDLXzgZiI8fiNZFrtg62ntPuK41+kHmMIWL7g/8K2dEwSbo7Xnpju5Uqa1+7EtriNoLd4tdcWkCz3kka352ZXpFMEPugbd7WEOgiAI2iYEPwiCIAhKgBD8IAiCICgBQvCDIAiCoAQIwS9B2uqwEgRBEHRfQvBLhF1hmEwQBEGw8wjBD4IgCIISIAQ/CIIgCEqAEPwgCIIgKAFC8IMgCIKgBAjBL1Gil34QBMEmNvcNgB3d8Xlz8e0MQvBLhLTA+3qIfhAEOxP/Ep9/qIuPdi1fvlzq6+t32Me7PJy0gPo6jm+HNDc3v+qLoaxznvsB/ODYTqcZWPev6KX9+LnFpMNta53z0+noCELwS5QQ+yAIOgLyGv9415NPPinf/OY35cEHH3zVB72cbRE+wuG8tHCm8zc/nj6G830uvHy5Fb8IOvs8fX4eH9Nhv38j3wsArVEcR9p5fBz3D/SwzbGdTQh+CdMRD1gQBKULYobAeV7z/PPPy7XXXiuzZs2y7R2BCykCjUM8cX7MhdUF3C109oGLLulkiaCz9DS7f85nP0LPelufdndIA2F6ujjX0+Bhsy8d584mBD8IgiDYqbjAbdy4UXr16iVDhgyx7R0BogppwXQhRWA53tTUZPtJh6fFxRhYeqGA89KFAN+PW7Jkifz4xz+WP/7xjy1xtIWfA4TjVrw7PzddQNnZhOAHQRAEOw0XTNiwYYNUVVVJTU2Nbe8IXFhdOF2s6SuwYMECE1f2OW6Zs3/FihVy7733yi233CK33XabCfkf/vAHeeCBB+x8Tzd+CXvGjBly9dVXy8033yzr16+3Y23hgk4NAXi6iL+ystLWvSDgfnc2IfglCg9wEATBzoR8BlFL017esy3C5+ek41m9erX8/Oc/l5/85Ce27lXm+CF+LwAg7h/60Ifk4x//uHzsYx+Tz3zmM/LZz35WTjrpJPnRj34kK1euNNFPn4OAz507V9asWWPbrYF/v07iJQw6Kj733HNy1113yUsvvWS1Dl5YCcEPdiod9YAFQRC4+CFuVOuvWrXKth3EsK6uzqxmBHrevHny3//+1yzpp556yoQagUwLqcO2i73na5zPuSzdoscPx/18lmPGjJGzzjrLOhJeeumlcvHFF9vyda97ndx0003y+OOPm18Xe2omuIZXXnlF1q5da/u8EIGlnk5H2gHX9cMf/lBOPfVUOfPMMy19QHh+3s4mBL+E8QcxCIJgZ+FiCBMnTpSGhga57rrrrPPe5ZdfLl//+tflO9/5jlnWZ5xxhpx88sly3HHHyXve8x4TYgQfUUR0vfob8cT6BsSS41STs4Rp06bJ4sWL5TWveY307dvX9nGeHyccCgJHHnmkfPnLXzbrHqv+xBNPlPe9730myhRMpk+fbv4dTwd4wYFwSQNhevgUXCgUULBxfxQW3vSmN8nrX/96K8xQuHj22WftnI7Ki0PwSxh/EIMgCHYG5DFpMTvwwAPlne98pzz22GNywQUXyPe//3256qqrrOqdJVXdiOfo0aPlXe96l3z1q1+VY445xs5FGKkFuOGGG+Scc86RT33qU/L0009bAYL969ata7GUEXvixoJ32Pb0+DriTZ8C8N740L9/f/PnVrzj56VxwacAMXv2bKshOP/88y2Nn/70p+Vvf/ub+evXr5+ce+65dvyoo46ytD/yyCN2DIrD3RmUaSSR65cQlEJ50XhJ6G3as2fPwpEgCIIdC/kNoorMeJs11vcTTzxhVnptba2J6hVXXCHDhw+XSy65RCZMmGD5Eha7W9OAtUwBgVoBBJYwsZipNUB0saD79OkjAwYMMCH917/+Jddcc40ce+yxdr5b4F4A8TA8fZ5WjnMeNQ7UMCDaDlX873//+61w8Je//EX22WcfW/dmA66D83xUALz5zW+WX/3qV5ZOwD8FmR/84AcWNtfcUYSFHwRBEOwUEE/ElCUOQUUk6ShHBzks3r333tv8YMm/4Q1vkIEDB0p1dbWJM/txCOiVV15pwknVO80Bb3zjG62HPe7RRx+15e2332497bGeEfR0gYHwgPAQXY6TJoSefd6xj/4ECDvru+22m53THvgDai1+97vfWZynn366pfW1r32tFXBmzpxpfoB4Bg8ebOsvvPCC1U544WNnE4IfBEEQ7BRcZAGL3UUtLcQIJZPZHHTQQYU9iYji8M9y/vz5cv3118uoUaPkS1/6kpxyyinWPj9o0CCzkhFa3O9//3urMj/ggAPsXIQUEHVfB+LHkT4vWPhxOvoxI+Aee+wh+++/v+1z0ulyCIc2e3r8M7EQTQ0/+9nPrFDDnANpa5+CBlALgfAz9I+miPR92pmE4Jco6Qc2CIJgZ0Feg+D6ehra2rGm6VhHMyNV8X//+9+t3fu+++6z4W9AE8DUqVPlLW95i0yePLnFOkdsx44dK1OmTDE3adIk2WuvvaR3797mJy22xO2Ocx3WXfiByXVobqAmYuTIkS3nAIJNOtOFF6CD34svvmjx0f+A5oc77rjD0oy4U3gAj5frpfmB5oxFixbZvnR4O4sQ/BIl/cAHQRDsDBBdRNLzGwSaKmwsaKrlv/CFL9i4dETv29/+tg2Rw2JnXDzV/Vj1jHf3YXzDhg2zJeESDuEW52WIr3+cx+e7d4s+Tfq89Dr+EF8683mHPo4TFunGKqd2gT4HDsfp6EdhgA6IjDL45Cc/aYJOJ0UKJYTp8SD29DnAul+6dKnt6wgrPwS/hEk/5EEQBDsa8pi00CKYdBr+4Ac/KF/84hflz3/+s1XT77nnnjJ06FBrw3/b295m7fQnnHCCDWFDHL1zMW3ztIfjmEWP8Hv06GHHHKrK8Y/o+9A9wC+FgLaE1S1sxJmOdoSDIHs+SaGEantqGCiM0JwAhInYU4XPkELCJ20I+oc//GETftbTcXNN1BIQPrUJHUX00i8xqFqLXvpBEHQE3vMdKx+xoxf7RRddZL3rDznkEBuq5mKPKJIfeec5/LtVzHA9CgmMyaeTH1XiDz/8sBx22GHWo96r3oHl//3f/8nXvvY1G+NPT3sXe9Lj4RfDMdKJENOOT00BTQT4ZUpgOgYyex+dCxlyRzx+fR4ezQELFy602gBGIFCYoUrf00Ya8M/4++OPP94+IkTnPmo2OoKw8IMgCIKdAkJHuzYiyzoWPMPqEH6q7RFx2t4Re4SR3vkIolvCCCQO4f3e975nY/OpUqdtnA51hDFixAjz66LLuRQgYM6cOSbcDmG7+BbDMdKJWNPmPn78eOtPQCdBLHXiR8zpZHjnnXe2iDfxIvxs0+RA58ODDz7Y0pcWewoTrcXdVnp2BiH4QRAEwU4B8XUxZJ22b0Qbyx7o3c54dNq5P/rRj9oMfExeA5yDmLqlf/TRR1vvdzrD0amPCXg4z4+Diz4FBIbU0dnv5Zdftn0elvtpDY5R6ADG8dPH4Je//KU1JdCPgMIDU+LS34Bah3RYfp0O654uX1JAANLhtJeeHU0IfhAEQbBTQOjSHd/SS8Bapkr+mWeeMWv6wgsvtFnqHnzwQfOHMLqIso01v99++1nbPhP0IKAurAiug+Azqx9T49JvADgffy6+m4Pmhbe+9a3WCe83v/mNDfujDZ+mCHrkU+0PXjDx2gNPTzoujlN7kL4WtjkHy7+jCMEPgiAIdgoIGqLtFq0vETyq+rHW6aWOlc8namnLxiqn2p+56DcH4eMID1xg+d4+NQlY60zE4x3j2qpWdwjHhfrQQw+Vyy67TE477TT7mA5ND7TlI/S77757yzf9PW6ujbQA5/u1c9ydXz/9BFj3AkBHEYIfBEEQdDgIJ+Pu6XjHB2uYlY4pZ9nm4zJ0gAPEc3PC6KLrYs421jlt6XfffbcN/QPCaS+stCh7WA4jA+gISL8A2vSpaaBWwc9hPV3L0Br4JVx6+NPbnzZ+Cg8dRQh+CeMvSRAEQUfDlLOMU2cIHu3tCCGWL8PsEE4XXnDLuT3S/oHhdXwFjyFz3/3ud+X+++83i5+q9LZwkWeZLhiQTqr2mbqXaXOZT99rFyiYrFixwuInT3VRbwuujT4MFBroI8CsgNDeOTuKEPwSpiMesCAIgtagpz0Cj6UMCCXj5hFQLGAfMlws5MV4PuZii6C6WNPRD1HFkqaAwTH8tIUfY5kuZNx2223Wfs/8/fQxIH0Mbf73v/9t27feequdQ1pw7RVQOIafI444Qs477zybwIf0tpeuHUUIfokSYh8EQWeB8CLuTEDjH5JhOBw97xlfz8Q3PpMdbf3tVcMDx8nTXHR9m0LD2WefbbP6Mfudi21bcMzPd+hL8NOf/tQEHquc+fFpimB8P8MKGZ/PB3/ARbu9OPBDWBRkSN/m+hXsSELwS5SOKE0GQRC0BsKLW7ZsmbXX00sfAaWNnEl0EFKq9hH79qxlcJF30fSwXbgZJcD89nSy21zBwUnnj8zYxzS+VOszFv/II4+0wgMf6eGTt3zFj+GB3gzRXhyeJuYdwC9iz3Jz17ijiJn2SgweyphpLwiCzua3v/2tfOMb3zDBQ9yZupae8J/73Oeshz3ShPC6kOI6A+JnfgDG3zNlLgUImgjoXMhUugwPBE+vL7eErfG7IwjBLzFC8IMg6AowHI/Jbagex4pmylws5TFjxpi4k0fRyQ4rGFHsKCu4LbDyqZGg6YHaAp88qDU6Wsi3lBD8EiMEPwiCzgYR997y/j14qrm9Kj5t1bON6ywLvy1cOouFnSp79nVFwY82/BKmKz6QQRB0f1zIEUeMDhz7aLMHt+YxTKCz8yovdLjItyX2XZ0Q/BLGH9ogCIKOBKFE7MmDWKaFnn0upF4L0JE92TdHOh3FafK0d9WCQAh+idJVXp4gCEoTF0dEHmF3kWQ/zqv0KRCw7Aoi6mlzl8a3u6rYQwh+idKVH8ogCLo35D+IvAu550dsUwBI50+sexV/Z+FpdOeFEdYdP9aVCcEPgiAIuiQurl2FXUHU2yMEPwiCIAhKgBD8IAiCICgBQvBLmF25aioIgiDYOkLwS5jiXqZBEARB9yUEv0QJsQ+CICgtQvBLlKjOD4IgKC1C8IMgCIKgBAjBL1GiSj8IgqC0CMEvUaJKPwiCoLQIwS9hQvSDIAhKhxD8Eiaq9YMgCEqHEPwgCIIgKAFC8IMgCIKgBAjBD4IgCIISIAS/RIn2+yAIgtIiBD8IgiAISoAQ/BIlhuQFQRCUFiH4QRAEQVAChOAHQRAEQQkQgh8EQRAEJUAIfgkT7fhBEASlQwh+icKwvBiaFwRBUDqE4AdBEARBCRCCXwKkrXmW5eXlVp0fVfpBEASlQwh+iVBcfR9iHwRBUFqE4Jco0X4fBEFQWoTgB0EQBEEJEIJfIhRX4UeVfhAEQSkh8v8B4RXogPiUrT8AAAAASUVORK5CYII=)"
      ],
      "metadata": {
        "id": "AHIfWUCn_Dw3"
      }
    },
    {
      "cell_type": "markdown",
      "source": [
        "### 그래프를 그려서 분포 확인"
      ],
      "metadata": {
        "id": "xbsDxQCJ_G5W"
      }
    },
    {
      "cell_type": "code",
      "source": [
        "import matplotlib.pyplot as plt"
      ],
      "metadata": {
        "id": "cepJ5bro-9bK"
      },
      "execution_count": 16,
      "outputs": []
    },
    {
      "cell_type": "code",
      "source": [
        "# 산점도\n",
        "plt.scatter(train_input, train_target)\n",
        "\n",
        "# 15에서 50까지 1차 방정식 그래프 그림\n",
        "plt.plot([15, 50], [15 * lr.coef_ + lr.intercept_, 50*lr.coef_ + lr.intercept_])\n",
        "\n",
        "# 50cm 농어 데이터\n",
        "plt.scatter(50, 1241.8, marker=\"^\")\n",
        "plt.xlabel(\"length\")\n",
        "plt.ylabel(\"weight\")\n",
        "plt.show()"
      ],
      "metadata": {
        "colab": {
          "base_uri": "https://localhost:8080/",
          "height": 449
        },
        "id": "jGBX2YT-_OU2",
        "outputId": "b6fafc20-acf6-405d-b32f-1d6cac1dd9ca"
      },
      "execution_count": 18,
      "outputs": [
        {
          "output_type": "display_data",
          "data": {
            "text/plain": [
              "<Figure size 640x480 with 1 Axes>"
            ],
            "image/png": "[encoded data removed]"
          },
          "metadata": {}
        }
      ]
    },
    {
      "cell_type": "code",
      "source": [
        "print(lr.score(train_input, train_target))\n",
        "print(lr.score(test_input, test_target))"
      ],
      "metadata": {
        "colab": {
          "base_uri": "https://localhost:8080/"
        },
        "id": "BsFXitR1_RVp",
        "outputId": "1cafb57e-f70f-4968-e1e1-9f61f0764e97"
      },
      "execution_count": 19,
      "outputs": [
        {
          "output_type": "stream",
          "name": "stdout",
          "text": [
            "0.939846333997604\n",
            "0.8247503123313558\n"
          ]
        }
      ]
    },
    {
      "cell_type": "markdown",
      "source": [
        "* 훈련: 0.93\n",
        "* 테스트: 0.82\n",
        "\n",
        "과대적합이라 볼 것인가? 적합하다고 볼 것인가? ➡ 문제점 발생\n",
        "\n",
        "* why? 선형인 데이터에 직선을 그렸기 때문에 오차가 발생한 데이터가 존재함\n",
        "* 이 오차 범위를 줄이면 됨\n",
        "* how? 선형 회귀의 방법 중 다항 회귀 사용"
      ],
      "metadata": {
        "id": "1R-7eESsAkz-"
      }
    },
    {
      "cell_type": "markdown",
      "source": [
        "### 다항 회귀 Ploynomial Regression\n",
        "* (42, 1) (14, 1)이었더 걸 (42, 2) (14, 2)로 바꿔 두 개의 값을 함께 넣을 것\n",
        "* 열이 두 개가 된 것 (제곱한 값, 기본 값)"
      ],
      "metadata": {
        "id": "lxhaU6mqBOoQ"
      }
    },
    {
      "cell_type": "code",
      "source": [
        "train_poly = np.column_stack((train_input ** 2, train_input))\n",
        "test_poly = np.column_stack((test_input ** 2, test_input))"
      ],
      "metadata": {
        "id": "9syJvQs2__u3"
      },
      "execution_count": 20,
      "outputs": []
    },
    {
      "cell_type": "code",
      "source": [
        "print(train_poly.shape, test_poly.shape)"
      ],
      "metadata": {
        "colab": {
          "base_uri": "https://localhost:8080/"
        },
        "id": "ZhN7tBdSCtgL",
        "outputId": "92f43ad6-3b13-4e5c-f2f8-da0e72bc114a"
      },
      "execution_count": 22,
      "outputs": [
        {
          "output_type": "stream",
          "name": "stdout",
          "text": [
            "(42, 2) (14, 2)\n"
          ]
        }
      ]
    },
    {
      "cell_type": "code",
      "source": [
        "lr = LinearRegression()\n",
        "lr.fit(train_poly, train_target) #변경된 값으로 학습\n",
        "\n",
        "print(lr.predict([[50**2, 50]])) # 50을 제곱한 값, 50일 때의 값 == 특성 두 개 이상 === 다항 회귀"
      ],
      "metadata": {
        "colab": {
          "base_uri": "https://localhost:8080/"
        },
        "id": "Tgt3QRmjCzjg",
        "outputId": "e0b55344-8ca4-47df-b9a2-4930206ddeed"
      },
      "execution_count": 23,
      "outputs": [
        {
          "output_type": "stream",
          "name": "stdout",
          "text": [
            "[1573.98423528]\n"
          ]
        }
      ]
    },
    {
      "cell_type": "code",
      "source": [
        "print(lr.coef_, lr.intercept_) # 기울기와 절편 확인"
      ],
      "metadata": {
        "colab": {
          "base_uri": "https://localhost:8080/"
        },
        "id": "Y6XLkKJzDKP1",
        "outputId": "ebda2449-958c-40e2-cc15-69679284b0bd"
      },
      "execution_count": 24,
      "outputs": [
        {
          "output_type": "stream",
          "name": "stdout",
          "text": [
            "[  1.01433211 -21.55792498] 116.0502107827827\n"
          ]
        }
      ]
    },
    {
      "cell_type": "code",
      "source": [
        "print(lr.score(train_poly, train_target))\n",
        "print(lr.score(test_poly, test_target))"
      ],
      "metadata": {
        "colab": {
          "base_uri": "https://localhost:8080/"
        },
        "id": "WD4ju697EDsv",
        "outputId": "3cac4180-80b0-43ce-cf6c-34addab73177"
      },
      "execution_count": 27,
      "outputs": [
        {
          "output_type": "stream",
          "name": "stdout",
          "text": [
            "0.9706807451768623\n",
            "0.9775935108325122\n"
          ]
        }
      ]
    },
    {
      "cell_type": "markdown",
      "source": [
        "* 훈련: 0.97\n",
        "* 테스트: 0.97\n",
        "\n",
        "➡ **비등비등해진 결과**값을 알 수 있음\n",
        "\n",
        "그러나 소숫점으로 봤을 때에는 과소적합이라 볼 수 Oo"
      ],
      "metadata": {
        "id": "G6fub7wUEUZj"
      }
    },
    {
      "cell_type": "markdown",
      "source": [
        "### 분포도"
      ],
      "metadata": {
        "id": "uL5AaomNDTrt"
      }
    },
    {
      "cell_type": "code",
      "source": [
        "# 직선 그리기 위한 정수 배열\n",
        "point = np.arange(15, 50)\n",
        "\n",
        "# 훈련 세트의 산점도\n",
        "plt.scatter(train_input, train_target)\n",
        "\n",
        "# 15~49의 방정식 그래프 (기울기와 절편은 위 코드 셋 결과 값)\n",
        "plt.plot(point, 1.01*point**2 - 21.6*point + 116.06)\n",
        "\n",
        "# 50cm 농어 데이터\n",
        "plt.scatter(50, 1574, marker=\"*\")\n",
        "plt.xlabel(\"length\")\n",
        "plt.ylabel(\"weight\")\n",
        "plt.show()"
      ],
      "metadata": {
        "colab": {
          "base_uri": "https://localhost:8080/",
          "height": 449
        },
        "id": "TLAL23-nDOEg",
        "outputId": "7462258e-3a09-47c2-f3ef-184c641f0340"
      },
      "execution_count": 25,
      "outputs": [
        {
          "output_type": "display_data",
          "data": {
            "text/plain": [
              "<Figure size 640x480 with 1 Axes>"
            ],
            "image/png": "[encoded data removed]"
          },
          "metadata": {}
        }
      ]
    }
  ],
  "metadata": {
    "colab": {
      "provenance": []
    },
    "kernelspec": {
      "display_name": "TensorFlow 2.3 on Python 3.6 (CUDA 10.1)",
      "language": "python",
      "name": "python3"
    },
    "language_info": {
      "codemirror_mode": {
        "name": "ipython",
        "version": 3
      },
      "file_extension": ".py",
      "mimetype": "text/x-python",
      "name": "python",
      "nbconvert_exporter": "python",
      "pygments_lexer": "ipython3",
      "version": "3.6.9"
    }
  },
  "nbformat": 4,
  "nbformat_minor": 0
}