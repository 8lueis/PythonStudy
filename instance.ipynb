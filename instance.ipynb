{
 "cells": [
  {
   "cell_type": "markdown",
   "metadata": {},
   "source": [
    "### 1128\n",
    "###### 417? "
   ]
  },
  {
   "cell_type": "code",
   "execution_count": 4,
   "metadata": {},
   "outputs": [
    {
     "name": "stdout",
     "output_type": "stream",
     "text": [
      "속도 0 색상 black 대수 2\n",
      "속도 0 색상  대수 3\n"
     ]
    }
   ],
   "source": [
    "class Car:\n",
    "    c = ''\n",
    "    s = 0\n",
    "    count = 0\n",
    "    def __init__(self, x='', y=0):\n",
    "        self.c = x\n",
    "        self.s = y\n",
    "        # self.count += 1\n",
    "        Car.count += 1\n",
    "    def speedup(self,n):\n",
    "        self.s += n\n",
    "    def speeddown(self,n):\n",
    "        self.s -= n\n",
    "        if self.s < 0:\n",
    "            self.s = 0\n",
    "    def carprt(self):\n",
    "        print(\"속도\", self.s, \"색상\", self.c, '대수', self.count)\n",
    "    \n",
    "\n",
    "#class method 호출\n",
    "x = Car() \n",
    "# self만 있을 때는 괄호 안에 넘겨주는 값이 없어도 됨 \n",
    "\n",
    "y = Car('black')\n",
    "''' self.count += 1\n",
    "# self는 instace 변수이기 때문에 자기 class에서만 가능 \n",
    "class 변수로 바꾸기 -> Car.count\n",
    "'''\n",
    "y.carprt() \n",
    "z = Car('white', 30)\n",
    "x.carprt()"
   ]
  },
  {
   "cell_type": "markdown",
   "metadata": {},
   "source": [
    "p418\n",
    "* self.으로 할 건지 Car.으로 할 건지\n",
    "\n",
    "#### class 상속\n",
    "#### method overloading"
   ]
  },
  {
   "cell_type": "code",
   "execution_count": 10,
   "metadata": {},
   "outputs": [
    {
     "name": "stdout",
     "output_type": "stream",
     "text": [
      "속도 60 색상 red 대수 1\n",
      "속도 100 색상 blue 대수 1 4 인승\n",
      "속도 88 색상 green 대수 2\n"
     ]
    }
   ],
   "source": [
    "class Car:\n",
    "    c = ''\n",
    "    s = 0\n",
    "    count = 0\n",
    "    def __init__(self, x='', y=0):\n",
    "        self.c = x\n",
    "        self.s = y\n",
    "        # self.count += 1\n",
    "        Car.count += 1\n",
    "    def speedup(self,n):\n",
    "        self.s += n\n",
    "        if self.s > 150:\n",
    "            self.s = 150\n",
    "    def speeddown(self,n):\n",
    "        self.s -= n\n",
    "        if self.s < 0:\n",
    "            self.s = 0\n",
    "    def carprt(self):\n",
    "        print(\"속도\", self.s, \"색상\", self.c, '대수', self.count)\n",
    "\n",
    "'''\n",
    "상속 \n",
    "class 클래스명(부모클래스):\n",
    "\n",
    "method 재정의 가능 \n",
    "'''\n",
    "class Sedan(Car):\n",
    "    def speedup(self,n):\n",
    "        self.s += n\n",
    "        if self.s > 200:\n",
    "            self.s = 200\n",
    "    def __init__(self, x='', y=0, z=4):\n",
    "        self.c = x\n",
    "        self.s = y\n",
    "        self.d = z\n",
    "    def carprt(self):\n",
    "        print(\"속도\", self.s, \"색상\", self.c, '대수', self.count ,self.d, \"인승\")\n",
    "class Truck(Car):\n",
    "    def speedup(self,n):\n",
    "        self.s += n\n",
    "        if self.s > 100:\n",
    "            self.s = 100\n",
    "\n",
    "x = Car('red' , 60)\n",
    "x.carprt()\n",
    "x.speedup(100)\n",
    "\n",
    "w = Sedan('blue', 100)\n",
    "w.carprt()\n",
    "w.speedup(200)\n",
    "\n",
    "s = Truck('green', 88)\n",
    "s.carprt()\n",
    "s.speedup(100)"
   ]
  },
  {
   "cell_type": "markdown",
   "metadata": {},
   "source": [
    "416\n",
    "* super method\n"
   ]
  },
  {
   "cell_type": "code",
   "execution_count": 12,
   "metadata": {},
   "outputs": [
    {
     "ename": "IndentationError",
     "evalue": "expected an indented block after function definition on line 28 (2377431246.py, line 33)",
     "output_type": "error",
     "traceback": [
      "\u001b[1;36m  Cell \u001b[1;32mIn[12], line 33\u001b[1;36m\u001b[0m\n\u001b[1;33m    class Truck(Car):\u001b[0m\n\u001b[1;37m                     ^\u001b[0m\n\u001b[1;31mIndentationError\u001b[0m\u001b[1;31m:\u001b[0m expected an indented block after function definition on line 28\n"
     ]
    }
   ],
   "source": [
    "class Car:\n",
    "    c = ''\n",
    "    s = 0\n",
    "    count = 0\n",
    "    def __init__(self, x='', y=0):\n",
    "        self.c = x\n",
    "        self.s = y\n",
    "        # self.count += 1\n",
    "        Car.count += 1\n",
    "    def speedup(self,n):\n",
    "        self.s += n\n",
    "        if self.s > 150:\n",
    "            self.s = 150\n",
    "    def speeddown(self,n):\n",
    "        self.s -= n\n",
    "        if self.s < 0:\n",
    "            self.s = 0\n",
    "    def carprt(self):\n",
    "        print(\"속도\", self.s, \"색상\", self.c, '대수', self.count)\n",
    "\n",
    "'''\n",
    "상속 \n",
    "class 클래스명(부모클래스):\n",
    "\n",
    "method 재정의 가능 \n",
    "'''\n",
    "class Sedan(Car):\n",
    "    def speedup(self,n):\n",
    "    # def __init__(self, x='', y=0, z=4):\n",
    "\n",
    "    # def carprt(self):\n",
    "    #     print(\"속도\", self.s, \"색상\", self.c, '대수', self.count ,self.d, \"인승\")\n",
    "class Truck(Car):\n",
    "    def speedup(self,n):\n",
    "        self.s += n\n",
    "        if self.s > 100:\n",
    "            self.s = 100\n",
    "\n",
    "x = Car('red' , 60)\n",
    "x.carprt()\n",
    "x.speedup(100)\n",
    "\n",
    "w = Sedan('blue', 100)\n",
    "w.carprt()\n",
    "w.speedup(200)\n",
    "\n",
    "s = Truck('green', 88)\n",
    "s.carprt()\n",
    "s.speedup(100)"
   ]
  },
  {
   "cell_type": "markdown",
   "metadata": {},
   "source": [
    "Date class"
   ]
  },
  {
   "cell_type": "code",
   "execution_count": 15,
   "metadata": {},
   "outputs": [
    {
     "name": "stdout",
     "output_type": "stream",
     "text": [
      "2023년 11월 28일\n",
      "2023년 11월 29일\n",
      "2023년 11월 28일\n"
     ]
    }
   ],
   "source": [
    "class Date():\n",
    "    yy = mm = dd = 0\n",
    "    def __init__(self, y, m, d):\n",
    "        self.yy = y\n",
    "        self.mm = m\n",
    "        self.dd = d\n",
    "    def prt(self):\n",
    "        print('%4d년 %2d월 %2d일'%(self.yy, self.mm, self.dd))\n",
    "\n",
    "today = Date(2023, 11, 28)\n",
    "today.prt()\n",
    "\n",
    "tomorrow = today\n",
    "tomorrow.dd += 1\n",
    "tomorrow.prt()\n",
    "\n",
    "yes = today\n",
    "yes.dd -= 1\n",
    "yes.prt()"
   ]
  },
  {
   "cell_type": "code",
   "execution_count": 19,
   "metadata": {},
   "outputs": [
    {
     "name": "stdout",
     "output_type": "stream",
     "text": [
      "2023년 11월 28일\n",
      "2023년 11월 28일\n",
      "2023년 11월 29일\n",
      "2023년 11월 29일\n",
      "2023년 11월 27일\n",
      "2023년 11월 27일\n"
     ]
    }
   ],
   "source": [
    "class Date():\n",
    "    yy = mm = dd = 0\n",
    "    def __init__(self, y, m, d):\n",
    "        self.yy = y\n",
    "        self.mm = m\n",
    "        self.dd = d\n",
    "    def prt(self):\n",
    "        print('%4d년 %2d월 %2d일'%(self.yy, self.mm, self.dd))\n",
    "\n",
    "def dateprt(d):\n",
    "    print('%4d년 %2d월 %2d일'%(d.yy, d.mm, d.dd))\n",
    "today = Date(2023, 11, 28)\n",
    "today.prt()\n",
    "dateprt(today)\n",
    "\n",
    "tomorrow = Date(today.yy, today.mm, today.dd)\n",
    "tomorrow.dd += 1\n",
    "tomorrow.prt()\n",
    "dateprt(tomorrow)\n",
    "\n",
    "yes = Date(today.yy, today.mm, today.dd)\n",
    "yes.dd -= 1\n",
    "yes.prt()\n",
    "dateprt(yes)"
   ]
  },
  {
   "cell_type": "code",
   "execution_count": 21,
   "metadata": {},
   "outputs": [
    {
     "name": "stdout",
     "output_type": "stream",
     "text": [
      "김땡땡님  22세  2002년  1월 13일\n"
     ]
    }
   ],
   "source": [
    "class Date():\n",
    "    yy = mm = dd = 0\n",
    "    def __init__(self, y, m, d):\n",
    "        self.yy = y\n",
    "        self.mm = m\n",
    "        self.dd = d\n",
    "    def prt(self):\n",
    "        print('%4d년 %2d월 %2d일'%(self.yy, self.mm, self.dd))\n",
    "\n",
    "class Person(Date):\n",
    "    name = ''\n",
    "    age = 0\n",
    "    birth = Date(0, 0, 0)\n",
    "    def __init__(self, n, y, m, d):\n",
    "        self.name = n\n",
    "        self.birth.yy = y\n",
    "        self.birth.mm = m\n",
    "        self.birth.dd = d\n",
    "        self.age = today.yy - y \n",
    "    def prt(self):\n",
    "        print('%s님 %3d세  %4d년 %2d월 %2d일'%(self.name, self.age ,self.birth.yy, self.birth.mm, self.birth.dd))\n",
    "\n",
    "\n",
    "today = Date(2023, 11, 28)\n",
    "a = Person('김땡땡', 2002, 1, 13)\n",
    "a.prt()\n"
   ]
  },
  {
   "cell_type": "markdown",
   "metadata": {},
   "source": [
    "p417"
   ]
  },
  {
   "cell_type": "code",
   "execution_count": 30,
   "metadata": {},
   "outputs": [
    {
     "name": "stdout",
     "output_type": "stream",
     "text": [
      "10 길이의 선이 생성\n",
      "25 길이의 선이 생성\n",
      "25 길이의 선 삭제\n",
      "선의 길이 -> 10\n",
      "선의 길이 -> 25\n",
      "35\n",
      "35\n",
      "s2가 길어요\n",
      "10 길이의 선 삭제\n",
      "25 길이의 선 삭제\n"
     ]
    }
   ],
   "source": [
    "class Line:\n",
    "    length = 0\n",
    "    def __init__(self, len):\n",
    "        self.length = len \n",
    "        print(self.length, '길이의 선이 생성')\n",
    "    def __repr__(self):\n",
    "        return '선의 길이 -> '+str(self.length)\n",
    "    def __add__(self, other):\n",
    "        return self.length + other.length\n",
    "    def __It__(self, other):\n",
    "        return self.length < other.length\n",
    "    def __gt__(self, other):\n",
    "        return self.length > other.length\n",
    "    def __eq__(self, other):\n",
    "        return self.length == other.length\n",
    "    def __del__(self):\n",
    "        print(self.length ,\"길이의 선 삭제\")\n",
    "s1 = Line(10)\n",
    "s2 = Line(25)\n",
    "\n",
    "'''\n",
    "prt method 재정의 \n",
    "def __repr__(self):\n",
    "    return '선의 길이 -> '+str(self.length)\n",
    "    -> 출력 방법 달라짐 \n",
    "'''\n",
    "print(s1)\n",
    "print(s2)\n",
    "# s1.prt()\n",
    "# s2.prt()\n",
    "\n",
    "\n",
    "'''\n",
    "s1.prt()는 \n",
    "def prt(self):\n",
    "    print('선의 길이 -> ', self.length) \n",
    "\n",
    "    \n",
    "class 간 덧셈 Xx -> 가능하게 하는 method \n",
    "s = s1 + s2\n",
    "def __add__(self, other):\n",
    "'''\n",
    "s = s1 + s2 \n",
    "print(s)\n",
    "print(s1 + s2)\n",
    "\n",
    "if s1 < s2:\n",
    "    print('s2가 길어요')\n",
    "elif s1 > s2:\n",
    "    print('s1이 길어요')\n",
    "else:\n",
    "    print('같아요')\n",
    "\n",
    "''' \n",
    "위 class도 class 간 if Xx \n",
    "def __It__ 추가 \n",
    "'''\n",
    "\n",
    "del(s1)\n",
    "del(s2)"
   ]
  },
  {
   "cell_type": "code",
   "execution_count": 40,
   "metadata": {},
   "outputs": [
    {
     "name": "stdout",
     "output_type": "stream",
     "text": [
      "김땡땡님  21세  2002년  1월 13일\n",
      "김땡땡님 21세 2002년 1월 13일\n",
      "이땡떙님  20세  2003년  2월 10일\n",
      "이땡떙님 20세 2003년 2월 10일\n",
      "김땡땡 나이 더 많음\n"
     ]
    }
   ],
   "source": [
    "class Date():\n",
    "    yy = mm = dd = 0\n",
    "    def __init__(self, y, m, d):\n",
    "        self.yy = y\n",
    "        self.mm = m\n",
    "        self.dd = d\n",
    "    def prt(self):\n",
    "        print('%4d년 %2d월 %2d일'%(self.yy, self.mm, self.dd))\n",
    "\n",
    "class Person(Date):\n",
    "    name = ''\n",
    "    age = 0\n",
    "    birth = Date(0, 0, 0)\n",
    "    def __init__(self, n, y, m, d):\n",
    "        self.name = n\n",
    "        self.birth.yy = y\n",
    "        self.birth.mm = m\n",
    "        self.birth.dd = d\n",
    "        self.age = today.yy - y \n",
    "    def prt(self):\n",
    "        print('%s님 %3d세  %4d년 %2d월 %2d일'%(self.name, self.age ,self.birth.yy, self.birth.mm, self.birth.dd))\n",
    "    def __It__(self, other):\n",
    "        return self.age < other.age\n",
    "    def __gt__(self, other):\n",
    "        return self.age > other.age\n",
    "    def __eq__(self, other):\n",
    "        return self.age == other.age\n",
    "    def __repr__(self):\n",
    "        return self.name +'님 '+ str(self.age)+ '세 ' + str(self.birth.yy) +'년 '+ str(self.birth.mm)+ '월 ' + str(self.birth.dd)+'일'\n",
    "\n",
    "today = Date(2023, 11, 28)\n",
    "a = Person('김땡땡', 2002, 1, 13)\n",
    "a.prt()\n",
    "print(a)\n",
    "aa = Person('이땡떙', 2003, 2, 10)\n",
    "aa.prt() \n",
    "print(aa)\n",
    "\n",
    "if a.age > aa.age:\n",
    "    print(a.name+' 나이 더 많음')\n",
    "elif a.age < aa.age:\n",
    "    print(aa.name+'더 많음')\n",
    "else:\n",
    "    print('동갑임')"
   ]
  },
  {
   "cell_type": "markdown",
   "metadata": {},
   "source": [
    "안 한 건 넘어감 "
   ]
  }
 ],
 "metadata": {
  "kernelspec": {
   "display_name": "Python 3",
   "language": "python",
   "name": "python3"
  },
  "language_info": {
   "codemirror_mode": {
    "name": "ipython",
    "version": 3
   },
   "file_extension": ".py",
   "mimetype": "text/x-python",
   "name": "python",
   "nbconvert_exporter": "python",
   "pygments_lexer": "ipython3",
   "version": "3.11.6"
  }
 },
 "nbformat": 4,
 "nbformat_minor": 2
}
