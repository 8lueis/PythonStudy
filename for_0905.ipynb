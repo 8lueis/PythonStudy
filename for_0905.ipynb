{
 "cells": [
  {
   "cell_type": "code",
   "execution_count": 1,
   "metadata": {},
   "outputs": [
    {
     "name": "stdout",
     "output_type": "stream",
     "text": [
      "1 2 3 4 5 6 7 8 9 10 "
     ]
    }
   ],
   "source": [
    "for i in range(1,11):\n",
    "  print(i, end=\" \")"
   ]
  },
  {
   "cell_type": "code",
   "execution_count": 2,
   "metadata": {},
   "outputs": [
    {
     "name": "stdout",
     "output_type": "stream",
     "text": [
      "3\n"
     ]
    }
   ],
   "source": [
    "#숫자 다섯 자리의 숫자를 받아서 평균 구하기 #1\n",
    "num = [1,2,3,4,5]\n",
    "sum = 0\n",
    "\n",
    "for i in num:\n",
    "  sum = sum + i\n",
    "\n",
    "result = sum // 5\n",
    "\n",
    "print(result)\n"
   ]
  },
  {
   "cell_type": "code",
   "execution_count": 3,
   "metadata": {},
   "outputs": [
    {
     "name": "stdout",
     "output_type": "stream",
     "text": [
      "2\n"
     ]
    }
   ],
   "source": [
    "#숫자 다섯 자리의 숫자를 받아서 평균 구하기 #2\n",
    "sum = 0\n",
    "for i in range(5):\n",
    "  sum = sum + i\n",
    "\n",
    "result = sum // 5\n",
    "\n",
    "print(result) #0, 1, 2, 3, 4"
   ]
  },
  {
   "cell_type": "code",
   "execution_count": 4,
   "metadata": {},
   "outputs": [
    {
     "ename": "ValueError",
     "evalue": "invalid literal for int() with base 10: ''",
     "output_type": "error",
     "traceback": [
      "\u001b[1;31m---------------------------------------------------------------------------\u001b[0m",
      "\u001b[1;31mValueError\u001b[0m                                Traceback (most recent call last)",
      "Cell \u001b[1;32mIn[4], line 5\u001b[0m\n\u001b[0;32m      2\u001b[0m \u001b[39msum\u001b[39m \u001b[39m=\u001b[39m \u001b[39m0\u001b[39m\n\u001b[0;32m      4\u001b[0m \u001b[39mfor\u001b[39;00m a \u001b[39min\u001b[39;00m \u001b[39mrange\u001b[39m(\u001b[39m5\u001b[39m):\n\u001b[1;32m----> 5\u001b[0m   x \u001b[39m=\u001b[39m \u001b[39mint\u001b[39;49m(\u001b[39minput\u001b[39;49m()) \u001b[39m#input의 기본 값은 string임\u001b[39;00m\n\u001b[0;32m      7\u001b[0m   \u001b[39msum\u001b[39m \u001b[39m=\u001b[39m \u001b[39msum\u001b[39m \u001b[39m+\u001b[39m x \u001b[39m#sum += x\u001b[39;00m\n\u001b[0;32m      9\u001b[0m \u001b[39mprint\u001b[39m(\u001b[39m\"\u001b[39m\u001b[39m입력한 숫자들의 평균 값은 \u001b[39m\u001b[39m%d\u001b[39;00m\u001b[39m입니다\u001b[39m\u001b[39m\"\u001b[39m\u001b[39m%\u001b[39m(\u001b[39msum\u001b[39m \u001b[39m/\u001b[39m\u001b[39m/\u001b[39m a))\n",
      "\u001b[1;31mValueError\u001b[0m: invalid literal for int() with base 10: ''"
     ]
    }
   ],
   "source": [
    "#데이터 다섯 개를 입력 받아 평균 구하기\n",
    "sum = 0\n",
    "\n",
    "for a in range(5):\n",
    "  x = int(input()) #input의 기본 값은 string임\n",
    "\n",
    "  sum = sum + x #sum += x\n",
    "\n",
    "print(\"입력한 숫자들의 평균 값은 %d입니다\"%(sum // a))\n"
   ]
  },
  {
   "cell_type": "code",
   "execution_count": null,
   "metadata": {},
   "outputs": [],
   "source": [
    "#5단 곱셈\n",
    "for i in range(1, 10):\n",
    "  print(\"5 x %d = %d\"%(i,5*i))"
   ]
  },
  {
   "cell_type": "code",
   "execution_count": null,
   "metadata": {},
   "outputs": [],
   "source": [
    "for i in range(1, 10):\n",
    "  print(\"5 x %d = %2d\"%(i,5*i))"
   ]
  },
  {
   "cell_type": "code",
   "execution_count": null,
   "metadata": {},
   "outputs": [],
   "source": [
    "#6단 곱셈\n",
    "for i in range(1, 10):\n",
    "  print(\"6 x %d = %2d\"%(i,6*i))"
   ]
  },
  {
   "cell_type": "code",
   "execution_count": null,
   "metadata": {},
   "outputs": [],
   "source": [
    "#모든 곱셈\n",
    "for i in range(2, 10):\n",
    "  print(\"--- %d단 ---\"%i)\n",
    "  for j in range(1, 10):\n",
    "    print(\"%d x %d = %d\"%(i,j,i*j))"
   ]
  },
  {
   "cell_type": "code",
   "execution_count": null,
   "metadata": {},
   "outputs": [],
   "source": []
  }
 ],
 "metadata": {
  "kernelspec": {
   "display_name": "Python 3",
   "language": "python",
   "name": "python3"
  },
  "language_info": {
   "codemirror_mode": {
    "name": "ipython",
    "version": 3
   },
   "file_extension": ".py",
   "mimetype": "text/x-python",
   "name": "python",
   "nbconvert_exporter": "python",
   "pygments_lexer": "ipython3",
   "version": "3.11.5"
  },
  "orig_nbformat": 4
 },
 "nbformat": 4,
 "nbformat_minor": 2
}
