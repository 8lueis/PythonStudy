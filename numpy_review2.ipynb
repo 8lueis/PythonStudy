{
 "cells": [
  {
   "cell_type": "markdown",
   "metadata": {},
   "source": [
    "### Numpy "
   ]
  },
  {
   "cell_type": "code",
   "execution_count": 1,
   "metadata": {},
   "outputs": [],
   "source": [
    "import numpy as np"
   ]
  },
  {
   "cell_type": "code",
   "execution_count": 5,
   "metadata": {},
   "outputs": [
    {
     "name": "stdout",
     "output_type": "stream",
     "text": [
      "[-1  1 -1  2  0]\n",
      "['김철수' '김이철' '철이임']\n"
     ]
    }
   ],
   "source": [
    "# numpy16\n",
    "name = np.array(['홍길동','김철수','임꺽정','김이철','철이임'])\n",
    "\n",
    "# name array에서 '철'이라는 char를 find\n",
    "print(np.char.find(name, '철'))\n",
    "# true -> return index\n",
    "# false -> return -1 \n",
    "\n",
    "# '철'이 있는 문자 자체를 출력 \n",
    "print(name[np.char.find(name, '철')!=-1])"
   ]
  },
  {
   "cell_type": "markdown",
   "metadata": {},
   "source": [
    "np.char.find() \n",
    "* 반환 형태 : index -> 찾는 문자가 있는 문자만 반환하는 게 아닌, 모든 배열의 인덱스를 반환하기는 함 \n",
    "* But '철'이 없으면 -1을 인덱스로 반환, True인 경우에는 그 문자 자체의 인덱스를 반환 ex. 철(0)이임, 김철(1)수, 김이철(2) "
   ]
  },
  {
   "cell_type": "code",
   "execution_count": 9,
   "metadata": {},
   "outputs": [
    {
     "name": "stdout",
     "output_type": "stream",
     "text": [
      "['철이임' '김철수' '철이임' '임꺽정' '홍길동']\n"
     ]
    }
   ],
   "source": [
    "print(name[np.char.find(name, '철')])"
   ]
  },
  {
   "cell_type": "markdown",
   "metadata": {},
   "source": [
    "### index (test 出)\n",
    "#### append \n",
    "* 마지막 index에 배열 추가 \n",
    "#### insert \n",
    "* 두 번째 파라미터에 입력된 위치에 배열 추가\n",
    "#### delete \n",
    "* 함수를 이용해 원하는 부분 삭제 \n",
    "> 💫💫💫💫array는 값의 변경에 영향을 받지 않고 처음 선언된 값으로 진행됨 \n",
    "#### 해결 방법 \n",
    "1. inplace = True \n",
    "2. 다시 새로운 변수로 받은 후 사용 "
   ]
  },
  {
   "cell_type": "code",
   "execution_count": 11,
   "metadata": {},
   "outputs": [
    {
     "name": "stdout",
     "output_type": "stream",
     "text": [
      "[ 11  22  33  44  55 100 200]\n",
      "[11  1  2 22 33 44 55]\n",
      "[22 44 55]\n"
     ]
    }
   ],
   "source": [
    "arr = np.array([11, 22, 33, 44, 55])\n",
    "\n",
    "print(np.append(arr, [100,200]))\n",
    "# 기본 array 마지막 index에 100, 200 추가 \n",
    "print(np.insert(arr, 1, [1,2]))\n",
    "# 기본 array 1번 index에 1,2 추가\n",
    "\n",
    "print(np.delete(arr,[0,2]))\n",
    "# 기본 index에서 0번, 2번 값 삭제 "
   ]
  },
  {
   "cell_type": "markdown",
   "metadata": {},
   "source": [
    "#### where(조건, if true return, if false return)\n",
    "* 특정 조건을 만족하는 값을 선택하고자 하는 용도 \n",
    "* 출력 결과 : **index**\n",
    "\n",
    "#### select(조건, 바꾸고 싶은 내용)"
   ]
  },
  {
   "cell_type": "code",
   "execution_count": 12,
   "metadata": {},
   "outputs": [
    {
     "name": "stdout",
     "output_type": "stream",
     "text": [
      "(array([0, 4, 7, 8], dtype=int64),)\n",
      "['B' 'A' 'A' 'A' 'B' 'A' 'A' 'B' 'B']\n"
     ]
    }
   ],
   "source": [
    "arr = np.array([11,130,400,288,10,299,103,49,20])\n",
    "\n",
    "print(np.where(arr < 100)) # 출력 결과: index\n",
    "print(np.where(arr >= 100, 'A', 'B')) # true -> A, false -> B"
   ]
  },
  {
   "cell_type": "code",
   "execution_count": 15,
   "metadata": {},
   "outputs": [
    {
     "name": "stdout",
     "output_type": "stream",
     "text": [
      "['C' 'B' 'A' 'A' 'C' 'A' 'B' 'C' 'C']\n",
      "['C' 'B' 'A' 'A' 'C' 'A' 'B' 'C' 'C']\n"
     ]
    }
   ],
   "source": [
    "print(np.select([arr > 200, arr > 100, arr > 0],['A','B','C']))\n",
    "\n",
    "conList = [arr > 200, arr > 100, arr > 0]\n",
    "choiceList = ['A','B','C']\n",
    "\n",
    "print(np.select(conList,choiceList))"
   ]
  },
  {
   "cell_type": "markdown",
   "metadata": {},
   "source": [
    "#### sort\n",
    "* array 값 정렬 \n",
    "\n",
    "#### argsort\n",
    "* sort한 후 index return\n",
    "> tip: arg가 붙으면 대부분 return 값이 index\n",
    "\n",
    "1. 44, 33, 22, 55, 11 정렬\n",
    "2. 11, 22, 33, 44, 55 \n",
    "3. 2번의 각자 위치를 반환 \n",
    "    \n",
    "    ex. 11은 4번이었으니 현재 위치(0)에 4 반환\n"
   ]
  },
  {
   "cell_type": "code",
   "execution_count": 17,
   "metadata": {},
   "outputs": [
    {
     "name": "stdout",
     "output_type": "stream",
     "text": [
      "[11 22 33 44 55]\n",
      "[55 44 33 22 11]\n",
      "[4 2 1 0 3]\n"
     ]
    }
   ],
   "source": [
    "arr = np.array([44,33,22,55,11])\n",
    "\n",
    "print(np.sort(arr))\n",
    "print(np.sort(arr)[::-1]) # 역정렬\n",
    "\n",
    "# 값 Xx index 값 반환\n",
    "print(np.argsort(arr))"
   ]
  },
  {
   "cell_type": "markdown",
   "metadata": {},
   "source": [
    "#### 기초 통계용 함수 \n",
    "* argmin(): 가장 작은 값의 index\n",
    "* argmax(): 가장 큰 값의 index\n",
    "* std(): 표준 편차\n",
    "* median(): 데이터를 정렬 했을 때 가운데 값 \n",
    "* mean(): 값의 평균"
   ]
  },
  {
   "cell_type": "code",
   "execution_count": 18,
   "metadata": {},
   "outputs": [
    {
     "name": "stdout",
     "output_type": "stream",
     "text": [
      "min, max\n",
      "11\n",
      "88\n",
      "argmin, argmax\n",
      "4\n",
      "5\n",
      "std\n",
      "24.93602926601498\n",
      "median\n",
      "38.5\n"
     ]
    }
   ],
   "source": [
    "import numpy as np\n",
    "\n",
    "arr = np.array([22,33,44,55,11,88])\n",
    "\n",
    "print(\"min, max\")\n",
    "print(arr.min())\n",
    "print(arr.max())\n",
    "\n",
    "print(\"argmin, argmax\")\n",
    "print(arr.argmin())\n",
    "print(arr.argmax())\n",
    "\n",
    "print(\"std\")\n",
    "print(arr.std())\n",
    "\n",
    "print(\"median\")\n",
    "print(np.median(arr))"
   ]
  },
  {
   "cell_type": "markdown",
   "metadata": {},
   "source": [
    "#### numpy 응용 \n",
    "1. 점수가 가장 작은 값을 구하기\n",
    "2. 점수가 80점 이상인 값을 구하기\n",
    "3. 점수가 50점 이상 80 이하인 값을 구하기\n",
    "4. 점수의 평균을 구하기\n",
    "5. 점수의 총합을 구하기"
   ]
  },
  {
   "cell_type": "code",
   "execution_count": 19,
   "metadata": {},
   "outputs": [
    {
     "name": "stdout",
     "output_type": "stream",
     "text": [
      "20\n",
      "[100  96]\n",
      "[60 50]\n",
      "65.2\n",
      "326\n"
     ]
    }
   ],
   "source": [
    "score = np.array([60, 50, 20, 100, 96])\n",
    "\n",
    "print(np.min(score)) # or score.min()\n",
    "print(score[score >= 80])\n",
    "print(score[(score >= 50) & (score <= 80)])\n",
    "print(score.mean())\n",
    "print(score.sum())\n"
   ]
  },
  {
   "cell_type": "markdown",
   "metadata": {},
   "source": [
    "#### numpy 응용\n",
    "6. 국어 점수가 40점 이하인 데이터를 삭제\n",
    "7. 국어 점수가 50점 이상인 데이터에 가산점 10%를 부여\n",
    "8. 국어 점수 top 2를 구하기\n",
    "9. 국어 점수가 70점 이상이면 '합격', 아니면 '불합격'으로 국어\n",
    "점수와 함께 출력"
   ]
  },
  {
   "cell_type": "code",
   "execution_count": 21,
   "metadata": {},
   "outputs": [
    {
     "name": "stdout",
     "output_type": "stream",
     "text": [
      "[100  58  94  68]\n",
      "[110  28  63 103  74]\n",
      "[103 110]\n",
      "110 합격\n",
      "28 불합격\n",
      "63 불합격\n",
      "103 합격\n",
      "74 합격\n"
     ]
    }
   ],
   "source": [
    "kor = np.array([100, 28, 58, 94, 68])\n",
    "\n",
    "#1. 국어 점수가 40점 이하인 데이터 삭제\n",
    "print(np.delete(kor, np.where(kor<=40)))\n",
    "# kor 배열에서 40 이하인 값의 index에 있는 값을 delete\n",
    "\n",
    "#2. 국어 점수가 50점 이상인 데이터에 가산점 10% 부여\n",
    "# 1번에서 삭제한 값이 2번에서는 그대로인 걸 알 수 있음 \n",
    "kor[kor >= 50] = kor[kor >= 50] * 1.1\n",
    "print(kor)\n",
    "# 50점 이상인 값 = 50점 이상인 값 X 1.1 \n",
    "\n",
    "# 하지만 2번에서 재정의를 함 \n",
    "# kor = kor * 1.1 식으로 완전히 값을 refrash 해 준 것 \n",
    "# 즉 변수를 다시 적은 것이니 이 1.1이 곱해진 대로 3, 4번이 진행\n",
    "\n",
    "#3. 국어 점수 top2 구하기\n",
    "sorted_kor = np.sort(kor)\n",
    "print(sorted_kor[-2:])\n",
    "# 정렬 후 마지막 두 개 값 출력 \n",
    "\n",
    "#4. 국어 점수 70점 이상 -> 합격, 아니면 불합격 (점수와 함께 출력)\n",
    "for i in range(len(kor)):\n",
    "    if kor[i] >= 70:\n",
    "        print(kor[i], '합격')\n",
    "    else:\n",
    "        print(kor[i], '불합격')"
   ]
  },
  {
   "cell_type": "markdown",
   "metadata": {},
   "source": [
    "#### 2차원 array 💫💫💫💫💫💫💫💫\n",
    "> [행, 열] \n",
    "\n",
    "\n",
    "> [[]] : 2차원 array\n",
    "\n",
    "* [:] 슬라이싱 주의!! n:m-1 범위인 거 잊지 말기!!"
   ]
  },
  {
   "cell_type": "code",
   "execution_count": 26,
   "metadata": {},
   "outputs": [
    {
     "name": "stdout",
     "output_type": "stream",
     "text": [
      "[[ 1  2  3]\n",
      " [ 7  5  2]\n",
      " [10  1  8]\n",
      " [ 6  3  4]]\n",
      "data.shape ==>  (4, 3)\n",
      "data[1] ==>  [7 5 2]\n",
      "data[1,1] ==>  5\n",
      "data[[0,2,3]] ==>\n",
      "  [[ 1  2  3]\n",
      " [10  1  8]\n",
      " [ 6  3  4]]\n",
      "data[1:3, 1] ==>  [5 1]\n",
      "data[1:,[0,2]] ==>  [[ 7  2]\n",
      " [10  8]\n",
      " [ 6  4]]\n"
     ]
    }
   ],
   "source": [
    "data = np.array(([[1,2,3],[7,5,2],[10,1,8],[6,3,4]]))\n",
    "print(data)\n",
    "print(\"data.shape ==> \",data.shape)\n",
    "print(\"data[1] ==> \",data[1])\n",
    "print(\"data[1,1] ==> \",data[1,1])\n",
    "print(\"data[[0,2,3]] ==>\\n \",data[[0,2,3]])\n",
    "print(\"data[1:3, 1] ==> \",data[1:3, 1])\n",
    "print(\"data[1:,[0,2]] ==> \",data[1:,[0,2]])"
   ]
  },
  {
   "cell_type": "code",
   "execution_count": 28,
   "metadata": {},
   "outputs": [
    {
     "name": "stdout",
     "output_type": "stream",
     "text": [
      "[[ 1  2  3]\n",
      " [ 7  5  2]\n",
      " [10  1  8]\n",
      " [ 6  3  4]]\n",
      "=========\n",
      "+2\n",
      "[[ 3  4  5]\n",
      " [ 9  7  4]\n",
      " [12  3 10]\n",
      " [ 8  5  6]]\n",
      "=========\n",
      "+=2\n",
      "[[ 1  2  3]\n",
      " [ 9  7  4]\n",
      " [10  1  8]\n",
      " [ 6  3  4]]\n"
     ]
    }
   ],
   "source": [
    "data = np.array(([[1,2,3],[7,5,2],[10,1,8],[6,3,4]]))\n",
    "\n",
    "print(data)\n",
    "print(\"=========\")\n",
    "\n",
    "print(\"+2\")\n",
    "print(data + 2)\n",
    "\n",
    "print(\"=========\")\n",
    "print(\"+=2\")\n",
    "data[1] += 2 # 1번 array만 +2\n",
    "print(data)"
   ]
  },
  {
   "cell_type": "markdown",
   "metadata": {},
   "source": [
    "#### axis = 0: 행\n",
    "#### axis = 1: 열"
   ]
  },
  {
   "cell_type": "code",
   "execution_count": 29,
   "metadata": {},
   "outputs": [
    {
     "name": "stdout",
     "output_type": "stream",
     "text": [
      "[1 2 3 4 5 6 7 8]\n",
      "==========\n",
      "[[1 2]\n",
      " [3 4]\n",
      " [5 6]\n",
      " [7 8]]\n",
      "==========\n",
      "[[1 2 5 6]\n",
      " [3 4 7 8]]\n",
      "==========\n"
     ]
    }
   ],
   "source": [
    "ax = np.array([[1,2],[3,4]])\n",
    "ay = np.array([[5,6],[7,8]])\n",
    "\n",
    "# None -> 1차원으로 이어버림 \n",
    "print(np.append(ax, ay, axis=None))\n",
    "print(\"==========\")\n",
    "\n",
    "# ax의 1행, 2행 ay의 1행, 2행\n",
    "print(np.append(ax, ay, axis=0))\n",
    "print(\"==========\")\n",
    "\n",
    "# axis = 1인 경우 ax를 일단 배치하고 ay 추가... 뭐?\n",
    "print(np.append(ax, ay, axis=1))\n",
    "print(\"==========\")"
   ]
  },
  {
   "cell_type": "code",
   "execution_count": 32,
   "metadata": {},
   "outputs": [
    {
     "name": "stdout",
     "output_type": "stream",
     "text": [
      "[ 2  7  5  2 10  1  8  6  3  4]\n",
      "[[7 5 2]\n",
      " [6 3 4]]\n",
      "[[2]\n",
      " [5]\n",
      " [1]\n",
      " [3]]\n",
      "[ 1  1  2  2  3  3  4  5  6  7  8 10]\n"
     ]
    }
   ],
   "source": [
    "data = np.array(([[1,2,3],[7,5,2],[10,1,8],[6,3,4]]))\n",
    "\n",
    "\n",
    "print(np.delete(data,[0,2]))\n",
    "# 축 정보가 없어서 그냥 전체에서 0, 2번째 삭제\n",
    "'''\n",
    "\n",
    "np.delete 함수는 NumPy 배열에서 지정된 위치의 요소를 제거하고\n",
    " 나머지 요소를 새로운 배열로 반환합니다. \n",
    " 그러나 주의해야 할 중요한 점은 np.delete 함수가 다차원 배열의 \n",
    " 일차원 버전을 반환한다는 것입니다.\n",
    "\n",
    "data = np.array([[1, 2, 3], [7, 5, 2], [10, 1, 8], [6, 3, 4]])\n",
    "그리고 np.delete(data, [0, 2])를 실행하면 \n",
    "[0, 2] 위치의 요소가 제거된 결과가 반환됩니다.\n",
    " data 배열의 일차원 버전인 [1, 2, 3, 7, 5, 2, 10, 1, 8, 6, 3, 4]에서\n",
    " [0, 2] 위치에 있는 요소인 [1, 3]이 제거되고 \n",
    " 나머지 요소만을 반환합니다. \n",
    "따라서 결과는 [2, 7, 5, 2, 10, 1, 8, 6, 3, 4]가 됩니다.\n",
    "'''\n",
    "print(np.delete(data,[0,2], axis=0))\n",
    "print(np.delete(data,[0,2], axis=1))\n",
    "print(np.sort(data, axis=None))"
   ]
  },
  {
   "cell_type": "code",
   "execution_count": 34,
   "metadata": {},
   "outputs": [
    {
     "name": "stdout",
     "output_type": "stream",
     "text": [
      "[[ 1  2  3]\n",
      " [ 7  5  2]\n",
      " [10  1  8]\n",
      " [ 6  3  4]]\n",
      "52\n",
      "[24 11 17]\n",
      "[ 6 14 19 13]\n",
      "----------\n",
      "[6.   2.75 4.25]\n",
      "[2.         4.66666667 6.33333333 4.33333333]\n"
     ]
    }
   ],
   "source": [
    "data = np.array(([[1,2,3],[7,5,2],[10,1,8],[6,3,4]]))\n",
    "\n",
    "print(data)\n",
    "print(data.sum())\n",
    "print(data.sum(axis=0)) #열별 합\n",
    "print(data.sum(axis=1)) #행별 합\n",
    "\n",
    "print(\"----------\")\n",
    "\n",
    "print(data.mean(axis=0))\n",
    "print(data.mean(axis=1))"
   ]
  },
  {
   "cell_type": "code",
   "execution_count": 35,
   "metadata": {},
   "outputs": [
    {
     "name": "stdout",
     "output_type": "stream",
     "text": [
      "[[ 1  2  3]\n",
      " [ 7  5  2]\n",
      " [10  1  8]\n",
      " [ 6  3  4]]\n",
      "10\n",
      "6\n",
      "[2 1 2]\n",
      "[2 0 0 0]\n",
      "========\n",
      "1 2 3\n",
      "7 5 2\n",
      "10 1 8\n",
      "6 3 4\n"
     ]
    }
   ],
   "source": [
    "data = np.array(([[1,2,3],[7,5,2],[10,1,8],[6,3,4]]))\n",
    "\n",
    "print(data)\n",
    "print(np.max(data))\n",
    "print(data.argmax()) #1차원으로 세우고 6번\n",
    "print(data.argmax(axis=0))\n",
    "print(data.argmax(axis=1))\n",
    "print(\"========\")\n",
    "\n",
    "for a,b,c in data:\n",
    "    print(a,b,c)"
   ]
  },
  {
   "attachments": {
    "image.png": {
     "image/png": "[encoded data removed]"
    }
   },
   "cell_type": "markdown",
   "metadata": {},
   "source": [
    "![image.png](attachment:image.png)\n",
    "* 열 중심이다 == 세로로 줄세워진 값들이 다시 array 형태로 되는 것 (주의. 열 크기 만큼만 행이 생김)"
   ]
  },
  {
   "cell_type": "markdown",
   "metadata": {},
   "source": [
    "#### 다양한 수학 연산\n",
    "* abs: 절대 값 (absolute)\n",
    "* sqrt: 제곱근\n",
    "* square: 제곱 "
   ]
  },
  {
   "cell_type": "code",
   "execution_count": 36,
   "metadata": {},
   "outputs": [
    {
     "name": "stdout",
     "output_type": "stream",
     "text": [
      "[[-1.2 -1.3  0.3]\n",
      " [ 0.9  0.4  0. ]\n",
      " [ 0.5  0.3 -1. ]\n",
      " [ 0.7 -3.1  0.8]\n",
      " [ 0.4  1.2  0.5]]\n",
      "[[1.2 1.3 0.3]\n",
      " [0.9 0.4 0. ]\n",
      " [0.5 0.3 1. ]\n",
      " [0.7 3.1 0.8]\n",
      " [0.4 1.2 0.5]]\n",
      "[[       nan        nan 0.54772256]\n",
      " [0.9486833  0.63245553 0.        ]\n",
      " [0.70710678 0.54772256        nan]\n",
      " [0.83666003        nan 0.89442719]\n",
      " [0.63245553 1.09544512 0.70710678]]\n",
      "[[1.44 1.69 0.09]\n",
      " [0.81 0.16 0.  ]\n",
      " [0.25 0.09 1.  ]\n",
      " [0.49 9.61 0.64]\n",
      " [0.16 1.44 0.25]]\n"
     ]
    },
    {
     "name": "stderr",
     "output_type": "stream",
     "text": [
      "C:\\Users\\juhaj\\AppData\\Local\\Temp\\ipykernel_18916\\909679266.py:6: RuntimeWarning: invalid value encountered in sqrt\n",
      "  print(np.sqrt(arr))\n"
     ]
    }
   ],
   "source": [
    "arr = np.array([[-1.2, -1.3, 0.3], [0.9, 0.4, 0],\n",
    "                [0.5, 0.3, -1], [0.7, -3.1, 0.8], [0.4, 1.2, 0.5]])\n",
    "\n",
    "print(arr)\n",
    "print(np.abs(arr))\n",
    "print(np.sqrt(arr))\n",
    "print(np.square(arr))"
   ]
  },
  {
   "cell_type": "markdown",
   "metadata": {},
   "source": [
    "* exp: 지수 함수\n",
    "* log: 상용 로그\n",
    "* axp: 자연 로그\n",
    "* log10: 이진 로그"
   ]
  },
  {
   "cell_type": "code",
   "execution_count": 37,
   "metadata": {},
   "outputs": [
    {
     "name": "stdout",
     "output_type": "stream",
     "text": [
      "[[-1.2 -1.3  0.3]\n",
      " [ 0.9  0.4  0. ]\n",
      " [ 0.5  0.3 -1. ]\n",
      " [ 0.7 -3.1  0.8]\n",
      " [ 0.4  1.2  0.5]]\n",
      "[[0.30119421 0.27253179 1.34985881]\n",
      " [2.45960311 1.4918247  1.        ]\n",
      " [1.64872127 1.34985881 0.36787944]\n",
      " [2.01375271 0.0450492  2.22554093]\n",
      " [1.4918247  3.32011692 1.64872127]]\n",
      "[[        nan         nan -1.2039728 ]\n",
      " [-0.10536052 -0.91629073        -inf]\n",
      " [-0.69314718 -1.2039728          nan]\n",
      " [-0.35667494         nan -0.22314355]\n",
      " [-0.91629073  0.18232156 -0.69314718]]\n",
      "[[        nan         nan -0.52287875]\n",
      " [-0.04575749 -0.39794001        -inf]\n",
      " [-0.30103    -0.52287875         nan]\n",
      " [-0.15490196         nan -0.09691001]\n",
      " [-0.39794001  0.07918125 -0.30103   ]]\n"
     ]
    },
    {
     "name": "stderr",
     "output_type": "stream",
     "text": [
      "C:\\Users\\juhaj\\AppData\\Local\\Temp\\ipykernel_18916\\3575169431.py:6: RuntimeWarning: divide by zero encountered in log\n",
      "  print(np.log(arr))\n",
      "C:\\Users\\juhaj\\AppData\\Local\\Temp\\ipykernel_18916\\3575169431.py:6: RuntimeWarning: invalid value encountered in log\n",
      "  print(np.log(arr))\n",
      "C:\\Users\\juhaj\\AppData\\Local\\Temp\\ipykernel_18916\\3575169431.py:7: RuntimeWarning: divide by zero encountered in log10\n",
      "  print(np.log10(arr))\n",
      "C:\\Users\\juhaj\\AppData\\Local\\Temp\\ipykernel_18916\\3575169431.py:7: RuntimeWarning: invalid value encountered in log10\n",
      "  print(np.log10(arr))\n"
     ]
    }
   ],
   "source": [
    "arr = np.array([[-1.2, -1.3, 0.3], [0.9, 0.4, 0],\n",
    "                [0.5, 0.3, -1], [0.7, -3.1, 0.8], [0.4, 1.2, 0.5]])\n",
    "\n",
    "print(arr)\n",
    "print(np.exp(arr))\n",
    "print(np.log(arr))\n",
    "print(np.log10(arr))"
   ]
  },
  {
   "cell_type": "markdown",
   "metadata": {},
   "source": [
    "* sign: 부호\n",
    "* ceil: 올림\n",
    "* floor: 내림 "
   ]
  },
  {
   "cell_type": "code",
   "execution_count": 38,
   "metadata": {},
   "outputs": [
    {
     "name": "stdout",
     "output_type": "stream",
     "text": [
      "[[-1. -1.  1.]\n",
      " [ 1.  1.  0.]\n",
      " [ 1.  1. -1.]\n",
      " [ 1. -1.  1.]\n",
      " [ 1.  1.  1.]]\n",
      "[[-1. -1.  1.]\n",
      " [ 1.  1.  0.]\n",
      " [ 1.  1. -1.]\n",
      " [ 1. -3.  1.]\n",
      " [ 1.  2.  1.]]\n",
      "[[-2. -2.  0.]\n",
      " [ 0.  0.  0.]\n",
      " [ 0.  0. -1.]\n",
      " [ 0. -4.  0.]\n",
      " [ 0.  1.  0.]]\n"
     ]
    }
   ],
   "source": [
    "print(np.sign(arr))\n",
    "print(np.ceil(arr))\n",
    "print(np.floor(arr))"
   ]
  },
  {
   "cell_type": "code",
   "execution_count": 39,
   "metadata": {},
   "outputs": [
    {
     "name": "stdout",
     "output_type": "stream",
     "text": [
      "[[-1.2 -1.3  0.3]\n",
      " [ 0.9  0.4  0. ]\n",
      " [ 0.5  0.3 -1. ]\n",
      " [ 0.7 -3.1  0.8]\n",
      " [ 0.4  1.2  0.5]]\n",
      "[[-0.93203909 -0.96355819  0.29552021]\n",
      " [ 0.78332691  0.38941834  0.        ]\n",
      " [ 0.47942554  0.29552021 -0.84147098]\n",
      " [ 0.64421769 -0.04158066  0.71735609]\n",
      " [ 0.38941834  0.93203909  0.47942554]]\n",
      "[[-0.83365461 -0.86172316  0.29131261]\n",
      " [ 0.71629787  0.37994896  0.        ]\n",
      " [ 0.46211716  0.29131261 -0.76159416]\n",
      " [ 0.60436778 -0.99594936  0.66403677]\n",
      " [ 0.37994896  0.83365461  0.46211716]]\n",
      "##########\n",
      "[[False False False]\n",
      " [False False False]\n",
      " [False False False]\n",
      " [False False False]\n",
      " [False False False]]\n",
      "[[ True  True False]\n",
      " [False False False]\n",
      " [False False  True]\n",
      " [False  True False]\n",
      " [False False False]]\n",
      "###########\n",
      "[[False False False]\n",
      " [False False False]\n",
      " [False False False]\n",
      " [False False False]\n",
      " [False False False]]\n"
     ]
    },
    {
     "name": "stderr",
     "output_type": "stream",
     "text": [
      "C:\\Users\\juhaj\\AppData\\Local\\Temp\\ipykernel_18916\\4186659295.py:17: RuntimeWarning: divide by zero encountered in log\n",
      "  print(np.isnan(np.log(arr)))\n",
      "C:\\Users\\juhaj\\AppData\\Local\\Temp\\ipykernel_18916\\4186659295.py:17: RuntimeWarning: invalid value encountered in log\n",
      "  print(np.isnan(np.log(arr)))\n"
     ]
    }
   ],
   "source": [
    "import numpy as np\n",
    "\n",
    "arr = np.array([[-1.2, -1.3, 0.3], [0.9, 0.4, 0],\n",
    "                [0.5, 0.3, -1], [0.7, -3.1, 0.8], [0.4, 1.2, 0.5]])\n",
    "\n",
    "print(arr)\n",
    "print(np.sin(arr))\n",
    "\n",
    "\n",
    "print(np.tanh(arr))\n",
    "\n",
    "print(\"##########\")\n",
    "\n",
    "print(np.isnan(arr))\n",
    "#각 성부이 NaN인 경우 True, 아니면 False\n",
    "\n",
    "print(np.isnan(np.log(arr)))\n",
    "\n",
    "print(\"###########\")\n",
    "\n",
    "print(np.isinf(arr))\n",
    "# 각 성분이 무한대인 경우 True, 아니면 False\n"
   ]
  },
  {
   "cell_type": "code",
   "execution_count": null,
   "metadata": {},
   "outputs": [],
   "source": []
  }
 ],
 "metadata": {
  "kernelspec": {
   "display_name": "venv",
   "language": "python",
   "name": "python3"
  },
  "language_info": {
   "codemirror_mode": {
    "name": "ipython",
    "version": 3
   },
   "file_extension": ".py",
   "mimetype": "text/x-python",
   "name": "python",
   "nbconvert_exporter": "python",
   "pygments_lexer": "ipython3",
   "version": "3.11.6"
  }
 },
 "nbformat": 4,
 "nbformat_minor": 2
}
