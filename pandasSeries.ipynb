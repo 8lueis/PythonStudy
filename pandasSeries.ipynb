{
 "cells": [
  {
   "cell_type": "markdown",
   "metadata": {},
   "source": [
    "# Pandas\n",
    "\n",
    "* NumPy를 내부적으로 활용 가능 (NumPy의 특징을 그대로 가짐)\n",
    "* 데이터 분석에 특화된 데이터 구조 제공 \n",
    "* 다양한 데이터 분석 함수 제공 \n",
    "* 데이터베이스에 쉽게 연결 가능 \n",
    "\n",
    "### Pandas의 주요 구성 요소 \n",
    "* DataFrame\n",
    "* Series\n",
    "* Index \n"
   ]
  },
  {
   "cell_type": "code",
   "execution_count": 1,
   "metadata": {},
   "outputs": [],
   "source": [
    "#pandas install (as pd -> pd라고 간단하게 부르겠다)\n",
    "import pandas as pd\n",
    "import numpy as np"
   ]
  },
  {
   "cell_type": "markdown",
   "metadata": {},
   "source": [
    "### Series data 생성 "
   ]
  },
  {
   "cell_type": "code",
   "execution_count": 3,
   "metadata": {},
   "outputs": [
    {
     "name": "stdout",
     "output_type": "stream",
     "text": [
      "0    1\n",
      "1    2\n",
      "2    3\n",
      "3    4\n",
      "dtype: int64\n",
      "a    1\n",
      "b    2\n",
      "c    3\n",
      "d    4\n",
      "dtype: int64\n"
     ]
    }
   ],
   "source": [
    "a = pd.Series([1,2,3,4])\n",
    "print(a)\n",
    "\n",
    "b = pd.Series([1,2,3,4], index=['a','b','c','d'])\n",
    "print(b)"
   ]
  },
  {
   "cell_type": "code",
   "execution_count": 4,
   "metadata": {},
   "outputs": [
    {
     "name": "stdout",
     "output_type": "stream",
     "text": [
      "<class 'pandas.core.series.Series'>\n",
      "<class 'pandas.core.series.Series'>\n"
     ]
    }
   ],
   "source": [
    "#type 확인\n",
    "print(type(a))\n",
    "print(type(b))"
   ]
  },
  {
   "cell_type": "markdown",
   "metadata": {},
   "source": [
    "#Series 속성\n",
    "* index \n",
    "* values"
   ]
  },
  {
   "cell_type": "code",
   "execution_count": 5,
   "metadata": {},
   "outputs": [
    {
     "name": "stdout",
     "output_type": "stream",
     "text": [
      "RangeIndex(start=0, stop=4, step=1)\n",
      "[1 2 3 4]\n",
      "Index(['a', 'b', 'c', 'd'], dtype='object')\n",
      "[1 2 3 4]\n"
     ]
    }
   ],
   "source": [
    "print(a.index)\n",
    "print(a.values)\n",
    "print(b.index)\n",
    "print(b.values)"
   ]
  },
  {
   "cell_type": "markdown",
   "metadata": {},
   "source": [
    "### 인덱싱 & 슬라이싱 \n",
    "* Series의 index 번호와 index 명으로 접근 가능"
   ]
  },
  {
   "cell_type": "code",
   "execution_count": 6,
   "metadata": {},
   "outputs": [
    {
     "name": "stdout",
     "output_type": "stream",
     "text": [
      "2\n",
      "2\n",
      "a    1\n",
      "c    3\n",
      "dtype: int64\n",
      "b    2\n",
      "d    4\n",
      "dtype: int64\n"
     ]
    }
   ],
   "source": [
    "#인덱싱\n",
    "print(b['b'])\n",
    "print(b[1])\n",
    "\n",
    "#떨어진 두 개 이상의 값 인덱싱\n",
    "print(b[['a','c']])\n",
    "print(b[[1,3]])"
   ]
  },
  {
   "cell_type": "code",
   "execution_count": 7,
   "metadata": {},
   "outputs": [
    {
     "name": "stdout",
     "output_type": "stream",
     "text": [
      "a    1\n",
      "b    2\n",
      "dtype: int64\n",
      "a    1\n",
      "b    2\n",
      "c    3\n",
      "dtype: int64\n",
      "c    3\n",
      "d    4\n",
      "dtype: int64\n",
      "a    1\n",
      "b    2\n",
      "c    3\n",
      "dtype: int64\n",
      "a    100\n",
      "b    100\n",
      "c    100\n",
      "d      4\n",
      "dtype: int64\n"
     ]
    }
   ],
   "source": [
    "#슬라이싱\n",
    "print(b[0:2])\n",
    "print(b[:-1])\n",
    "print(b[-2:])\n",
    "print(b['a':'c'])\n",
    "\n",
    "#값 바꾸기\n",
    "b['a':'c']=100\n",
    "print(b)"
   ]
  },
  {
   "cell_type": "markdown",
   "metadata": {},
   "source": [
    "### Series 값 변경\n",
    "* 추가 및 업데이트 -> 인덱스 사용\n",
    "* 삭제: drop 함수 사용"
   ]
  },
  {
   "cell_type": "code",
   "execution_count": 8,
   "metadata": {},
   "outputs": [
    {
     "name": "stdout",
     "output_type": "stream",
     "text": [
      "0    1\n",
      "1    2\n",
      "2    3\n",
      "3    4\n",
      "dtype: int64\n"
     ]
    }
   ],
   "source": [
    "print(a)"
   ]
  },
  {
   "cell_type": "code",
   "execution_count": 9,
   "metadata": {},
   "outputs": [
    {
     "name": "stdout",
     "output_type": "stream",
     "text": [
      "0      1\n",
      "1      2\n",
      "2    500\n",
      "3      4\n",
      "dtype: int64\n"
     ]
    }
   ],
   "source": [
    "#값 업데이트\n",
    "a[2]=500\n",
    "print(a)"
   ]
  },
  {
   "cell_type": "code",
   "execution_count": 10,
   "metadata": {},
   "outputs": [
    {
     "name": "stdout",
     "output_type": "stream",
     "text": [
      "0      1\n",
      "1      2\n",
      "2    500\n",
      "3      4\n",
      "4    100\n",
      "dtype: int64\n"
     ]
    }
   ],
   "source": [
    "#값 추가\n",
    "a[4]=100\n",
    "print(a)"
   ]
  },
  {
   "cell_type": "code",
   "execution_count": 18,
   "metadata": {},
   "outputs": [
    {
     "data": {
      "text/plain": [
       "0      1\n",
       "1      2\n",
       "2    500\n",
       "dtype: int64"
      ]
     },
     "execution_count": 18,
     "metadata": {},
     "output_type": "execute_result"
    }
   ],
   "source": [
    "#값 삭제\n",
    "a.drop(3)"
   ]
  },
  {
   "cell_type": "markdown",
   "metadata": {},
   "source": [
    "* Series 함수\n",
    "> Series size, shape, unique, count, value_counts 함수 \n",
    "\n",
    "* size: 개수 반환\n",
    "* shap: tuple 형태로 shape 반환\n",
    "* unique: 유일한 값만 ndarray로 반환\n",
    "* mean: NaN을 제외한 평균\n",
    "* value_counts: NaN을 제외하고 각 값들의 빈도를 반환 \n"
   ]
  },
  {
   "cell_type": "code",
   "execution_count": 19,
   "metadata": {},
   "outputs": [
    {
     "name": "stdout",
     "output_type": "stream",
     "text": [
      "0     1.0\n",
      "1     1.0\n",
      "2     2.0\n",
      "3     2.0\n",
      "4     2.0\n",
      "5     3.0\n",
      "6     3.0\n",
      "7     5.0\n",
      "8     6.0\n",
      "9     7.0\n",
      "10    NaN\n",
      "dtype: float64\n"
     ]
    }
   ],
   "source": [
    "s = pd.Series([1,1,2,2,2,3,3,5,6,7,None])\n",
    "print(s)"
   ]
  },
  {
   "cell_type": "code",
   "execution_count": 21,
   "metadata": {},
   "outputs": [
    {
     "name": "stdout",
     "output_type": "stream",
     "text": [
      "len:  11\n",
      "size:  11\n",
      "shape:  (11,)\n",
      "unique:  <bound method Series.unique of 0     1.0\n",
      "1     1.0\n",
      "2     2.0\n",
      "3     2.0\n",
      "4     2.0\n",
      "5     3.0\n",
      "6     3.0\n",
      "7     5.0\n",
      "8     6.0\n",
      "9     7.0\n",
      "10    NaN\n",
      "dtype: float64>\n"
     ]
    }
   ],
   "source": [
    "print(\"len: \",len(s))\n",
    "print(\"size: \",s.size)\n",
    "print(\"shape: \", s.shape )\n",
    "print(\"unique: \", s.unique)"
   ]
  },
  {
   "cell_type": "code",
   "execution_count": 22,
   "metadata": {},
   "outputs": [
    {
     "name": "stdout",
     "output_type": "stream",
     "text": [
      "<bound method Series.count of 0     1.0\n",
      "1     1.0\n",
      "2     2.0\n",
      "3     2.0\n",
      "4     2.0\n",
      "5     3.0\n",
      "6     3.0\n",
      "7     5.0\n",
      "8     6.0\n",
      "9     7.0\n",
      "10    NaN\n",
      "dtype: float64>\n"
     ]
    }
   ],
   "source": [
    "print(s.count)"
   ]
  },
  {
   "cell_type": "code",
   "execution_count": 24,
   "metadata": {},
   "outputs": [
    {
     "data": {
      "text/plain": [
       "2.0    3\n",
       "1.0    2\n",
       "3.0    2\n",
       "5.0    1\n",
       "6.0    1\n",
       "7.0    1\n",
       "Name: count, dtype: int64"
      ]
     },
     "execution_count": 24,
     "metadata": {},
     "output_type": "execute_result"
    }
   ],
   "source": [
    "s.value_counts()"
   ]
  }
 ],
 "metadata": {
  "kernelspec": {
   "display_name": "Python 3",
   "language": "python",
   "name": "python3"
  },
  "language_info": {
   "codemirror_mode": {
    "name": "ipython",
    "version": 3
   },
   "file_extension": ".py",
   "mimetype": "text/x-python",
   "name": "python",
   "nbconvert_exporter": "python",
   "pygments_lexer": "ipython3",
   "version": "3.11.4"
  },
  "orig_nbformat": 4
 },
 "nbformat": 4,
 "nbformat_minor": 2
}
