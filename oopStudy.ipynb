{
 "cells": [
  {
   "cell_type": "markdown",
   "metadata": {},
   "source": [
    "#### 객체 지향 프로그램 "
   ]
  },
  {
   "cell_type": "markdown",
   "metadata": {},
   "source": [
    "* 12장 \n",
    "* 지금까지 배운 건 구조형 프로그램\n",
    "* 객체 : 상태 + 동작  \n",
    "* 인스턴스 변수 + 메서드 \n",
    "* 메서드 : 객체의 동작을 나타내는 부분 \n",
    "\n",
    "##### class\n",
    "* 객체에 대한 설계도 \n",
    "* 객체 지향에서 SW의 기본 단위 \n",
    "* SW를 만듦 -> class를 하나씩 만들어나가는 과정임\n",
    "> class 클래스명: "
   ]
  },
  {
   "cell_type": "code",
   "execution_count": 1,
   "metadata": {},
   "outputs": [
    {
     "name": "stdout",
     "output_type": "stream",
     "text": [
      "<class '__main__.Car'>\n"
     ]
    }
   ],
   "source": [
    "class Car:\n",
    "    c = ''\n",
    "    s = 0\n",
    "\n",
    "print(Car)\n",
    "# 설계도이기 때문에 print로 내용을 알 수 Xx "
   ]
  },
  {
   "cell_type": "code",
   "execution_count": 2,
   "metadata": {},
   "outputs": [
    {
     "name": "stdout",
     "output_type": "stream",
     "text": [
      "meow 1\n"
     ]
    }
   ],
   "source": [
    "class Cat:\n",
    "    c = ''\n",
    "    s = 0\n",
    "\n",
    "x = Cat()\n",
    "x.c = 'meow'\n",
    "x.s = 1\n",
    "\n",
    "print(x.c, x.s)"
   ]
  },
  {
   "cell_type": "code",
   "execution_count": 5,
   "metadata": {},
   "outputs": [
    {
     "name": "stdout",
     "output_type": "stream",
     "text": [
      "white 100\n"
     ]
    }
   ],
   "source": [
    "class Car:\n",
    "    c = ''\n",
    "    s = 0\n",
    "\n",
    "x = Car()\n",
    "x.c = 'white'\n",
    "x.s = 100\n",
    "\n",
    "print(x.c, x.s)"
   ]
  },
  {
   "cell_type": "code",
   "execution_count": 7,
   "metadata": {},
   "outputs": [
    {
     "name": "stdout",
     "output_type": "stream",
     "text": [
      "black 200\n"
     ]
    }
   ],
   "source": [
    "y = Car()\n",
    "y.c = 'black'\n",
    "y.s = 200\n",
    "x.s = 500 # 외부에서 값 정의하는 건 객체로 만들 필요가 없음 \n",
    "print(y.c, y.s)"
   ]
  },
  {
   "cell_type": "code",
   "execution_count": 16,
   "metadata": {},
   "outputs": [
    {
     "name": "stdout",
     "output_type": "stream",
     "text": [
      "속도 100 색상 pink\n",
      "110\n",
      "100\n",
      "0\n"
     ]
    }
   ],
   "source": [
    "class Car:\n",
    "    c = ''\n",
    "    s = 0\n",
    "    def speedup(self,n):\n",
    "        self.s += n\n",
    "    def speeddown(self,n):\n",
    "        self.s -= n\n",
    "        if self.s < 0:\n",
    "            self.s = 0\n",
    "    def carprt(self):\n",
    "        print(\"속도\", self.s, \"색상\", self.c)\n",
    "    \n",
    "\n",
    "#class method 호출\n",
    "x = Car() \n",
    "x.s = 100\n",
    "x.c = 'pink'\n",
    "# self만 있을 때는 괄호 안에 넘겨주는 값이 없어도 됨 \n",
    "x.carprt()\n",
    "x.speedup(10)\n",
    "print(x.s)\n",
    "x.speeddown(10)\n",
    "print(x.s)\n",
    "x.speeddown(200)\n",
    "print(x.s)"
   ]
  },
  {
   "cell_type": "markdown",
   "metadata": {},
   "source": [
    "p 401 \n",
    "###### 학번, 이름, 생년월일(연도 4, 월 2, 일 2) "
   ]
  },
  {
   "cell_type": "code",
   "execution_count": 19,
   "metadata": {},
   "outputs": [
    {
     "ename": "TypeError",
     "evalue": "'str' object is not callable",
     "output_type": "error",
     "traceback": [
      "\u001b[1;31m---------------------------------------------------------------------------\u001b[0m",
      "\u001b[1;31mTypeError\u001b[0m                                 Traceback (most recent call last)",
      "\u001b[1;32mc:\\Users\\juhaj\\OneDrive\\문서\\2023 김하경\\python실무\\oopStudy.ipynb Cell 9\u001b[0m line \u001b[0;36m1\n\u001b[0;32m     <a href='vscode-notebook-cell:/c%3A/Users/juhaj/OneDrive/%EB%AC%B8%EC%84%9C/2023%20%EA%B9%80%ED%95%98%EA%B2%BD/python%EC%8B%A4%EB%AC%B4/oopStudy.ipynb#X11sZmlsZQ%3D%3D?line=13'>14</a>\u001b[0m i\u001b[39m.\u001b[39mname \u001b[39m=\u001b[39m \u001b[39m'\u001b[39m\u001b[39m김하경\u001b[39m\u001b[39m'\u001b[39m\n\u001b[0;32m     <a href='vscode-notebook-cell:/c%3A/Users/juhaj/OneDrive/%EB%AC%B8%EC%84%9C/2023%20%EA%B9%80%ED%95%98%EA%B2%BD/python%EC%8B%A4%EB%AC%B4/oopStudy.ipynb#X11sZmlsZQ%3D%3D?line=14'>15</a>\u001b[0m i\u001b[39m.\u001b[39mbirth \u001b[39m=\u001b[39m \u001b[39m'\u001b[39m\u001b[39m20020113\u001b[39m\u001b[39m'\u001b[39m\n\u001b[1;32m---> <a href='vscode-notebook-cell:/c%3A/Users/juhaj/OneDrive/%EB%AC%B8%EC%84%9C/2023%20%EA%B9%80%ED%95%98%EA%B2%BD/python%EC%8B%A4%EB%AC%B4/oopStudy.ipynb#X11sZmlsZQ%3D%3D?line=16'>17</a>\u001b[0m i\u001b[39m.\u001b[39;49mnum()\n",
      "\u001b[1;31mTypeError\u001b[0m: 'str' object is not callable"
     ]
    }
   ],
   "source": [
    "class info:\n",
    "    stdNum = ''\n",
    "    name = ''\n",
    "    birth = ''\n",
    "    def num(self):\n",
    "        print(\"당신의 학번은: \",self.stdNum)\n",
    "    def name(self):\n",
    "        print(\"당신의 이름은 \", self.name)\n",
    "    def birt(self):\n",
    "        print(\"당신의 생년월일은(00000000)\",self.birth)\n",
    "    \n",
    "i = info()\n",
    "i.num = '2104275'\n",
    "i.name = '김하경'\n",
    "i.birth = '20020113'\n",
    "\n",
    "i.num()\n",
    "    "
   ]
  },
  {
   "cell_type": "markdown",
   "metadata": {},
   "source": [
    "###### 만 나이 계산 "
   ]
  },
  {
   "cell_type": "code",
   "execution_count": 25,
   "metadata": {},
   "outputs": [
    {
     "name": "stdout",
     "output_type": "stream",
     "text": [
      "오늘은 2023년 11월 21일입니다.\n",
      "당신의 나이는 21살입니다.\n"
     ]
    }
   ],
   "source": [
    "class Person:\n",
    "    birth = ''\n",
    "    def prt(self):\n",
    "        print()\n",
    "    def age(self):\n",
    "        t = int(input(\"오늘 날짜를 8글자로 입력\"))\n",
    "        ty = t // 10000\n",
    "        tt = t % 10000\n",
    "        tm = tt // 100\n",
    "        td = tt % 100\n",
    "        print(\"오늘은 %d년 %d월 %d일입니다.\"%(ty, tm, td))\n",
    "         \n",
    "        b = int(self.birth)\n",
    "        by = b // 10000\n",
    "        bt = b % 10000\n",
    "        bm = bt // 100\n",
    "        bd = bt % 100 \n",
    "        a = ty - by \n",
    "        if bt >= tt:\n",
    "            a -= 1\n",
    "        print('당신의 나이는 %d살입니다.'%a)\n",
    "i = Person()\n",
    "# 순서 주의 -> 생성자를 만든 후 아래 객체 값 조정 \n",
    "i.birth = '20020113'\n",
    "i.age()"
   ]
  },
  {
   "cell_type": "markdown",
   "metadata": {},
   "source": [
    "#### 생성자 정의 "
   ]
  },
  {
   "cell_type": "code",
   "execution_count": 26,
   "metadata": {},
   "outputs": [
    {
     "name": "stdout",
     "output_type": "stream",
     "text": [
      "속도 60 색상 Red\n",
      "속도 80 색상 White\n"
     ]
    },
    {
     "data": {
      "text/plain": [
       "'\\n위 코드를 위해서는 이렇게 설정을 해 줘야 함 \\n    def __init__(self ,x = 0, y = 0):\\n        self.c = x\\n        self.s = y\\n\\nx=0, y=0은 받은 값이 없을 때의 default 값임 \\n'"
      ]
     },
     "execution_count": 26,
     "metadata": {},
     "output_type": "execute_result"
    }
   ],
   "source": [
    "class Car:\n",
    "   \n",
    "    # 생성자 -> __init__ \n",
    "    # class 이름과 같아야 함 \n",
    "    def __init__(self ,x = 0, y = 0):\n",
    "        self.c = x\n",
    "        self.s = y\n",
    "    def speedup(self,n):\n",
    "        self.s += n\n",
    "    def speeddown(self,n):\n",
    "        self.s -= n\n",
    "        if self.s < 0:\n",
    "            self.s = 0\n",
    "    def carprt(self):\n",
    "        print(\"속도\", self.s, \"색상\", self.c)\n",
    "    \n",
    "\n",
    "#class에 바로 매개 변수 넘기기 \n",
    "x = Car('Red', 60) \n",
    "x.carprt()\n",
    "y = Car('White', 80)\n",
    "y.carprt()\n",
    "'''\n",
    "위 코드를 위해서는 이렇게 설정을 해 줘야 함 \n",
    "    def __init__(self ,x = 0, y = 0):\n",
    "        self.c = x\n",
    "        self.s = y\n",
    "\n",
    "x=0, y=0은 받은 값이 없을 때의 default 값임 \n",
    "'''"
   ]
  },
  {
   "cell_type": "code",
   "execution_count": 28,
   "metadata": {},
   "outputs": [
    {
     "name": "stdout",
     "output_type": "stream",
     "text": [
      "오늘은 2023년 11월 21일입니다.\n",
      "당신의 나이는 21살입니다.\n"
     ]
    }
   ],
   "source": [
    "class Person:\n",
    "    def __init__(self, i = 0):\n",
    "        self.birth = i\n",
    "    def age(self):\n",
    "        t = int(input(\"오늘 날짜를 8글자로 입력\"))\n",
    "        ty = t // 10000\n",
    "        tt = t % 10000\n",
    "        tm = tt // 100\n",
    "        td = tt % 100\n",
    "        print(\"오늘은 %d년 %d월 %d일입니다.\"%(ty, tm, td))\n",
    "         \n",
    "        b = int(self.birth)\n",
    "        by = b // 10000\n",
    "        bt = b % 10000\n",
    "        bm = bt // 100\n",
    "        bd = bt % 100 \n",
    "        a = ty - by \n",
    "        if bt >= tt:\n",
    "            a -= 1\n",
    "        print('당신의 나이는 %d살입니다.'%a)\n",
    "i = Person('20231121')\n",
    "# 순서 주의 -> 생성자를 만든 후 아래 객체 값 조정 \n",
    "i.birth = '20020113'\n",
    "i.age()"
   ]
  },
  {
   "cell_type": "markdown",
   "metadata": {},
   "source": [
    "###### 학번, 이름, 중간, 기말, 총점을 처리 (5명) \n",
    "* 생성자로 학번, 이름 \n",
    "* 중간, 기말은 입력\n",
    "* 총점은 중간, 기말의 결과물로 "
   ]
  },
  {
   "cell_type": "code",
   "execution_count": 48,
   "metadata": {},
   "outputs": [
    {
     "name": "stdout",
     "output_type": "stream",
     "text": [
      "중간 점수:  10 기말 점수:  20 총점:  30\n",
      "중간 점수:  30 기말 점수:  40 총점:  70\n",
      "중간 점수:  50 기말 점수:  60 총점:  110\n",
      "중간 점수:  70 기말 점수:  80 총점:  150\n",
      "중간 점수:  90 기말 점수:  10 총점:  100\n"
     ]
    }
   ],
   "source": [
    "class Info:\n",
    "    def __init__(self, n=0, na=''):\n",
    "        self.stnum = n\n",
    "        self.stname = na\n",
    "    \n",
    "    def score(self):\n",
    "        first = int(input(\"중간고사 점수 입력: \"))\n",
    "        last = int(input(\"기말고사 점수 입력: \"))\n",
    "        result = first + last\n",
    "        print(\"중간 점수: \",first,\"기말 점수: \",last, \"총점: \",result)\n",
    "\n",
    "n = Info(2104275, 'kim')\n",
    "n.score()\n",
    "\n",
    "n2 = Info(220222, 'lee')\n",
    "n2.score()\n",
    "\n",
    "n3 = Info(231023, 'park')\n",
    "n3.score()\n",
    "\n",
    "n4 = Info(102837, 'lim')\n",
    "n4.score()\n",
    "\n",
    "n5 = Info(123345, 'jung')\n",
    "n5.score()\n"
   ]
  },
  {
   "cell_type": "code",
   "execution_count": 40,
   "metadata": {},
   "outputs": [
    {
     "name": "stdout",
     "output_type": "stream",
     "text": [
      "중간 점수: %d 기말 점수: %d \n",
      " 총점: %d\n"
     ]
    },
    {
     "ename": "TypeError",
     "evalue": "unsupported operand type(s) for %: 'NoneType' and 'tuple'",
     "output_type": "error",
     "traceback": [
      "\u001b[1;31m---------------------------------------------------------------------------\u001b[0m",
      "\u001b[1;31mTypeError\u001b[0m                                 Traceback (most recent call last)",
      "\u001b[1;32mc:\\Users\\juhaj\\OneDrive\\문서\\2023 김하경\\python실무\\oopStudy.ipynb Cell 17\u001b[0m line \u001b[0;36m1\n\u001b[0;32m     <a href='vscode-notebook-cell:/c%3A/Users/juhaj/OneDrive/%EB%AC%B8%EC%84%9C/2023%20%EA%B9%80%ED%95%98%EA%B2%BD/python%EC%8B%A4%EB%AC%B4/oopStudy.ipynb#X30sZmlsZQ%3D%3D?line=16'>17</a>\u001b[0m s1\u001b[39m.\u001b[39mf \u001b[39m=\u001b[39m \u001b[39mint\u001b[39m(\u001b[39minput\u001b[39m(\u001b[39m\"\u001b[39m\u001b[39m기말고사 점수: \u001b[39m\u001b[39m\"\u001b[39m))\n\u001b[0;32m     <a href='vscode-notebook-cell:/c%3A/Users/juhaj/OneDrive/%EB%AC%B8%EC%84%9C/2023%20%EA%B9%80%ED%95%98%EA%B2%BD/python%EC%8B%A4%EB%AC%B4/oopStudy.ipynb#X30sZmlsZQ%3D%3D?line=17'>18</a>\u001b[0m s1\u001b[39m.\u001b[39mtotal()\n\u001b[1;32m---> <a href='vscode-notebook-cell:/c%3A/Users/juhaj/OneDrive/%EB%AC%B8%EC%84%9C/2023%20%EA%B9%80%ED%95%98%EA%B2%BD/python%EC%8B%A4%EB%AC%B4/oopStudy.ipynb#X30sZmlsZQ%3D%3D?line=18'>19</a>\u001b[0m s1\u001b[39m.\u001b[39;49mscore()\n",
      "\u001b[1;32mc:\\Users\\juhaj\\OneDrive\\문서\\2023 김하경\\python실무\\oopStudy.ipynb Cell 17\u001b[0m line \u001b[0;36m1\n\u001b[0;32m     <a href='vscode-notebook-cell:/c%3A/Users/juhaj/OneDrive/%EB%AC%B8%EC%84%9C/2023%20%EA%B9%80%ED%95%98%EA%B2%BD/python%EC%8B%A4%EB%AC%B4/oopStudy.ipynb#X30sZmlsZQ%3D%3D?line=9'>10</a>\u001b[0m \u001b[39mdef\u001b[39;00m \u001b[39mscore\u001b[39m(\u001b[39mself\u001b[39m):\n\u001b[1;32m---> <a href='vscode-notebook-cell:/c%3A/Users/juhaj/OneDrive/%EB%AC%B8%EC%84%9C/2023%20%EA%B9%80%ED%95%98%EA%B2%BD/python%EC%8B%A4%EB%AC%B4/oopStudy.ipynb#X30sZmlsZQ%3D%3D?line=10'>11</a>\u001b[0m     \u001b[39mprint\u001b[39;49m(\u001b[39m\"\u001b[39;49m\u001b[39m중간 점수: \u001b[39;49m\u001b[39m%d\u001b[39;49;00m\u001b[39m 기말 점수: \u001b[39;49m\u001b[39m%d\u001b[39;49;00m\u001b[39m \u001b[39;49m\u001b[39m\\n\u001b[39;49;00m\u001b[39m 총점: \u001b[39;49m\u001b[39m%d\u001b[39;49;00m\u001b[39m\"\u001b[39;49m)\u001b[39m%\u001b[39;49m(\u001b[39mself\u001b[39;49m\u001b[39m.\u001b[39;49mm, \u001b[39mself\u001b[39;49m\u001b[39m.\u001b[39;49mf, \u001b[39mself\u001b[39;49m\u001b[39m.\u001b[39;49mtot)\n",
      "\u001b[1;31mTypeError\u001b[0m: unsupported operand type(s) for %: 'NoneType' and 'tuple'"
     ]
    }
   ],
   "source": [
    "class Info:\n",
    "    def __init__(self, x=0, y=''):\n",
    "        self.stnum = x\n",
    "        self.stname = y\n",
    "        self.m = 0\n",
    "        self.f = 0\n",
    "        self.tot = 0\n",
    "    def total(self):\n",
    "        self.tot = self.m + self.f\n",
    "    def score(self):\n",
    "        print(\"중간 점수: %d 기말 점수: %d \\n 총점: %d\")%(self.m, self.f, self.tot)\n",
    "    \n",
    "\n",
    "\n",
    "s1 = Info(1, 'kim')\n",
    "s1.m = int(input(\"중간고사 점수: \"))\n",
    "s1.f = int(input(\"기말고사 점수: \"))\n",
    "s1.total()\n",
    "s1.score()"
   ]
  },
  {
   "cell_type": "markdown",
   "metadata": {},
   "source": [
    "과제 \n",
    "1. 다섯 개의 값 \n",
    "2. 데이터의 파일은 아래 형식\n",
    "\n",
    "> 학번, 이름, 중간고사점수, 기말고사점수\n",
    "\n",
    "> 2104275, kim hakyung, 100, 80\n",
    "\n",
    "3. 파일 이름은 자유롭게 -> 읽기만 하고 write 할 필요는 Xx \n",
    "4. 읽은 값을 모두 출력하도록 \n",
    "    \n",
    "    a. 국영수 점수 구했던 것처럼 하면 됨\n",
    "5. 손으로 직접 작성해서 제출 (캡처도 가넝~) 순서도 필요 xX\n",
    "6. 출력 결과 보고 바로 작성해도 됨"
   ]
  }
 ],
 "metadata": {
  "kernelspec": {
   "display_name": "Python 3",
   "language": "python",
   "name": "python3"
  },
  "language_info": {
   "codemirror_mode": {
    "name": "ipython",
    "version": 3
   },
   "file_extension": ".py",
   "mimetype": "text/x-python",
   "name": "python",
   "nbconvert_exporter": "python",
   "pygments_lexer": "ipython3",
   "version": "3.11.6"
  }
 },
 "nbformat": 4,
 "nbformat_minor": 2
}
