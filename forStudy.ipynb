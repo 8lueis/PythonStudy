{
 "cells": [
  {
   "cell_type": "markdown",
   "metadata": {},
   "source": [
    "#for문\n",
    "'''\n",
    "for문-1\n",
    "for i in range(숫자):\n",
    "\n",
    "for문-2\n",
    "for i in 리스트변수:\n",
    "for i in range(len(리스트변수)):\n",
    "\n",
    "'''"
   ]
  },
  {
   "cell_type": "code",
   "execution_count": 2,
   "metadata": {},
   "outputs": [
    {
     "name": "stdout",
     "output_type": "stream",
     "text": [
      "[2, 4, 6]\n",
      "[8, 10, 12]\n"
     ]
    }
   ],
   "source": [
    "#변수 a, b에 2배 담기 \n",
    "#방법 1\n",
    "a = [1,2,3]\n",
    "b = [4,5,6]\n",
    "a1 = []\n",
    "b1 = []\n",
    "\n",
    "for i in range(len(a)):\n",
    "    a1.append(a[i]*2)\n",
    "    b1.append(b[i]*2)\n",
    "\n",
    "print(a1)\n",
    "print(b1)"
   ]
  },
  {
   "cell_type": "code",
   "execution_count": 6,
   "metadata": {},
   "outputs": [
    {
     "name": "stdout",
     "output_type": "stream",
     "text": [
      "[2, 4, 6]\n",
      "[8, 10, 12]\n"
     ]
    }
   ],
   "source": [
    "#방법2\n",
    "a = [1,2,3]\n",
    "b = [4,5,6]\n",
    "a1 = []\n",
    "b1 = []\n",
    "\n",
    "for i,j in zip(a,b):\n",
    "    a1.append(i*2)\n",
    "    b1.append(j*2)\n",
    "\n",
    "print(a1)\n",
    "print(b1)"
   ]
  },
  {
   "cell_type": "markdown",
   "metadata": {},
   "source": [
    "### enumerate() 함수\n",
    "리스트의 index와 값 접근"
   ]
  },
  {
   "cell_type": "code",
   "execution_count": 8,
   "metadata": {},
   "outputs": [
    {
     "name": "stdout",
     "output_type": "stream",
     "text": [
      "(0, 'a')\n",
      "(1, 'b')\n",
      "(2, 'c')\n"
     ]
    }
   ],
   "source": [
    "#enumerate() 함수\n",
    "\n",
    "#보통 리스트 형태\n",
    "a = ['a','b','c']\n",
    "\n",
    "#enumerate 활용\n",
    "for i in enumerate(['a','b','c']):\n",
    "    print(i)\n"
   ]
  },
  {
   "cell_type": "markdown",
   "metadata": {},
   "source": [
    "### dictionary 접근"
   ]
  },
  {
   "cell_type": "code",
   "execution_count": 12,
   "metadata": {},
   "outputs": [
    {
     "name": "stdout",
     "output_type": "stream",
     "text": [
      "{'이름': '이명헌', '나이': 18, '성별': '남'}\n",
      "---------------------\n",
      "dict_keys(['이름', '나이', '성별'])\n",
      "---------------------\n",
      "dict_values(['이명헌', 18, '남'])\n",
      "---------------------\n",
      "dict_items([('이름', '이명헌'), ('나이', 18), ('성별', '남')])\n"
     ]
    }
   ],
   "source": [
    "dic1 = {\n",
    "    '이름':'이명헌',\n",
    "    '나이':18,\n",
    "    '성별':'남'\n",
    "}\n",
    "\n",
    "print(dic1) #전체 내용 출력\n",
    "print(\"---------------------\")\n",
    "print(dic1.keys()) #키 값만 출력\n",
    "print(\"---------------------\")\n",
    "print(dic1.values()) #밸루 값만 출력\n",
    "print(\"---------------------\")\n",
    "print(dic1.items()) #키 + 밸루 출력 "
   ]
  },
  {
   "cell_type": "code",
   "execution_count": 13,
   "metadata": {},
   "outputs": [
    {
     "name": "stdout",
     "output_type": "stream",
     "text": [
      "['서울', '서울', '부산', '부산']\n"
     ]
    }
   ],
   "source": [
    "#데이터 정제 \n",
    "'''\n",
    "주소를 입력 받으면 다양한 형태로 입력 받는다. \n",
    "하지만 공통점으로 지역 이름이 있기 때문에\n",
    "이를 활용해 데이터 정제를 진행할 수 있다.\n",
    "'''\n",
    "#입력 받은 데이터 (실제로는 무수히 많을 것 -> 반복문 쓰는 게 좋음)\n",
    "inputAdress={\n",
    "    '서울':['서울시','서울특별시'],\n",
    "    '부산':['부산시','부산광역시','부산직할시']\n",
    "}\n",
    "\n",
    "#비교 대상이 될 데이터\n",
    "pointData=['서울','서울시','부산광역시','부산직할시']\n",
    "\n",
    "for i,j in enumerate(pointData): #i와 j에 각각 pointData의 인덱스와 값 할당\n",
    "    for k,v in inputAdress.items(): #k와 v에 각각 inputAdress 키 값과 밸루 할당 \n",
    "        if j in v: #만약에 inputAdress의 값에 pointData의 값이 있으면\n",
    "            pointData[i]=k #pointData의 [i]값에 k의 키 값(서울, 부산)을 할당\n",
    "\n",
    "print(pointData) #최종적으로 서울, 부산으로 정제된 데이터만 남게 됨"
   ]
  },
  {
   "cell_type": "code",
   "execution_count": null,
   "metadata": {},
   "outputs": [],
   "source": []
  }
 ],
 "metadata": {
  "kernelspec": {
   "display_name": "Python 3",
   "language": "python",
   "name": "python3"
  },
  "language_info": {
   "codemirror_mode": {
    "name": "ipython",
    "version": 3
   },
   "file_extension": ".py",
   "mimetype": "text/x-python",
   "name": "python",
   "nbconvert_exporter": "python",
   "pygments_lexer": "ipython3",
   "version": "3.11.4"
  },
  "orig_nbformat": 4
 },
 "nbformat": 4,
 "nbformat_minor": 2
}
