{
 "cells": [
  {
   "cell_type": "markdown",
   "metadata": {},
   "source": [
    "## Numpy\n",
    "* c 언어로 구현된 파이썬 라이브러리 \n",
    "* 고성능의 수치 계산 수행\n",
    "* Numerical Python \n",
    "* pandas, matplotlib 기반 \n",
    "* 기본적으로 array라는 단위로 데이터 관리 "
   ]
  },
  {
   "cell_type": "code",
   "execution_count": 1,
   "metadata": {},
   "outputs": [],
   "source": [
    "# 설치 방법\n",
    "import numpy as np"
   ]
  },
  {
   "cell_type": "code",
   "execution_count": 3,
   "metadata": {},
   "outputs": [
    {
     "name": "stdout",
     "output_type": "stream",
     "text": [
      "(5,)\n",
      "int32\n",
      "(5,)\n",
      "float64\n"
     ]
    }
   ],
   "source": [
    "# numpy#1, 2\n",
    "\n",
    "'''\n",
    "list (<-> array)ㅜ\n",
    "array가 list보다 더 효율적인 연산이 가능한 형태 \n",
    "'''\n",
    "data1 = [1,2,3,4,5]\n",
    "data2 = [1,2,3.5,4,5]\n",
    "\n",
    "arr1 = np.array(data1)\n",
    "print(arr1.shape)\n",
    "print(arr1.dtype)\n",
    "\n",
    "arr2 = np.array(data2)\n",
    "print(arr2.shape)\n",
    "print(arr2.dtype)"
   ]
  },
  {
   "cell_type": "code",
   "execution_count": 5,
   "metadata": {},
   "outputs": [
    {
     "name": "stdout",
     "output_type": "stream",
     "text": [
      "[0. 0. 0. 0. 0. 0. 0. 0. 0. 0.]\n",
      "[[0. 0. 0. 0. 0.]\n",
      " [0. 0. 0. 0. 0.]\n",
      " [0. 0. 0. 0. 0.]]\n",
      "[1. 1. 1. 1. 1. 1. 1. 1. 1.]\n",
      "[[1. 1. 1. 1. 1. 1. 1. 1. 1. 1.]\n",
      " [1. 1. 1. 1. 1. 1. 1. 1. 1. 1.]]\n",
      "[0 1 2 3 4 5 6 7 8 9]\n",
      "[3 4 5 6 7 8 9]\n"
     ]
    }
   ],
   "source": [
    "# numpy3\n",
    "print(np.zeros(10))\n",
    "print(np.zeros((3,5)))\n",
    "\n",
    "print(np.ones(9))\n",
    "print(np.ones((2,10)))\n",
    "\n",
    "print(np.arange(10))\n",
    "print(np.arange(3,10))"
   ]
  },
  {
   "cell_type": "code",
   "execution_count": 6,
   "metadata": {},
   "outputs": [
    {
     "name": "stdout",
     "output_type": "stream",
     "text": [
      "(2, 3)\n",
      "(2, 3)\n",
      "====================\n",
      "+\n",
      "[[11 13 15]\n",
      " [17 19 21]]\n",
      "-\n",
      "[[-9 -9 -9]\n",
      " [-9 -9 -9]]\n",
      "*\n",
      "[[10 22 36]\n",
      " [52 70 90]]\n",
      "/\n",
      "[[0.1        0.18181818 0.25      ]\n",
      " [0.30769231 0.35714286 0.4       ]]\n"
     ]
    }
   ],
   "source": [
    "import numpy as np\n",
    "\n",
    "arr1 = np.array([[1,2,3],[4,5,6]])\n",
    "print(arr1.shape)\n",
    "\n",
    "arr2 = np.array([[10,11,12],[13,14,15]])\n",
    "print(arr2.shape)\n",
    "print(\"====================\")\n",
    "\n",
    "print(\"+\")\n",
    "print(arr1 + arr2)\n",
    "print(\"-\")\n",
    "print(arr1 - arr2)\n",
    "print(\"*\")\n",
    "print(arr1 * arr2)\n",
    "print(\"/\")\n",
    "print(arr1 / arr2)"
   ]
  },
  {
   "cell_type": "code",
   "execution_count": 7,
   "metadata": {},
   "outputs": [
    {
     "name": "stdout",
     "output_type": "stream",
     "text": [
      "0\n",
      "[4 5 6 7 8 9]\n",
      "9\n",
      "=================\n",
      "12\n",
      "[ 4  8 12]\n"
     ]
    }
   ],
   "source": [
    "arr1 = np.arange(10)\n",
    "print(arr1[0])\n",
    "print(arr1[4:])\n",
    "print(arr1[-1])\n",
    "print(\"=================\")\n",
    "\n",
    "arr2 = np.array([[1,2,3,4],[5,6,7,8],[9,10,11,12]])\n",
    "print(arr2[2,3])\n",
    "print(arr2[:,3])"
   ]
  },
  {
   "cell_type": "code",
   "execution_count": 8,
   "metadata": {},
   "outputs": [
    {
     "name": "stdout",
     "output_type": "stream",
     "text": [
      "[ 1  2  3  4  5  6  7  8  9 10]\n",
      "[1 3 5 7 9]\n"
     ]
    }
   ],
   "source": [
    "#1~10 1씩 증가\n",
    "arr1 = np.arange(1,11,1)\n",
    "print(arr1)\n",
    "\n",
    "#1~10 2씩 증가\n",
    "arr2 = np.arange(1,11,2)\n",
    "print(arr2)"
   ]
  },
  {
   "cell_type": "code",
   "execution_count": 10,
   "metadata": {},
   "outputs": [
    {
     "name": "stdout",
     "output_type": "stream",
     "text": [
      "[ 2  1  1  9 10]\n",
      "[[9 9]\n",
      " [5 2]\n",
      " [8 4]]\n"
     ]
    }
   ],
   "source": [
    "# int random number\n",
    "arr3 = np.random.randint(1, 11, size=5)\n",
    "print(arr3)\n",
    "\n",
    "arr4 = np.random.randint(1,11,size=(3,2))\n",
    "print(arr4)"
   ]
  },
  {
   "cell_type": "code",
   "execution_count": 11,
   "metadata": {},
   "outputs": [
    {
     "name": "stdout",
     "output_type": "stream",
     "text": [
      "rand\n",
      "[0.92274726 0.73572025 0.06578039 0.47477243 0.106921  ]\n",
      "[[0.19428626 0.38492504 0.95649168]\n",
      " [0.93135686 0.9546575  0.15428816]]\n",
      "randn\n",
      "[-0.86008071 -0.52383662  0.51631481  0.50006435 -0.33981647]\n",
      "[[-1.3934632  -1.43635835 -1.35424255]\n",
      " [ 0.07438047 -1.7719601  -0.39539805]]\n",
      "choice\n",
      "[5]\n",
      "[2 1 4 5 9]\n"
     ]
    }
   ],
   "source": [
    "import numpy as np\n",
    "\n",
    "print(\"rand\")\n",
    "print(np.random.rand(5))\n",
    "print(np.random.rand(2,3))\n",
    "\n",
    "print(\"randn\")\n",
    "print(np.random.randn(5))\n",
    "print(np.random.randn(2,3))\n",
    "\n",
    "print(\"choice\")\n",
    "print(np.random.choice([1,2,3,4,5],1))\n",
    "print(np.random.choice(np.arange(1,11),5))"
   ]
  },
  {
   "cell_type": "code",
   "execution_count": 16,
   "metadata": {},
   "outputs": [
    {
     "name": "stdout",
     "output_type": "stream",
     "text": [
      "unique()🔽🔽🔽\n",
      "[2 3 4 5 7]\n",
      "return_index=True🔽🔽🔽\n",
      "(array([2, 3, 4, 5, 7]), array([0, 1, 2, 3, 5], dtype=int64))\n",
      "return_index=True 두 개의 값으로 나눠서 🔽🔽\n",
      "[2 3 4 5 7]\n",
      "[0 1 2 3 5]\n",
      "return_counts🔽🔽🔽\n",
      "(array([2, 3, 4, 5, 7]), array([2, 2, 3, 1, 1], dtype=int64))\n",
      "return_inverse🔽🔽🔽\n",
      "(array([2, 3, 4, 5, 7]), array([0, 1, 2, 3, 2, 4, 2, 0, 1], dtype=int64))\n"
     ]
    }
   ],
   "source": [
    "# numpy #8\n",
    "a = np.array([[2,3,4],[5,4,7],[4,2,3]])\n",
    "\n",
    "print(\"unique()🔽🔽🔽\")\n",
    "print(np.unique(a))\n",
    "\n",
    "print(\"return_index=True🔽🔽🔽\")\n",
    "print(np.unique(a,return_index=True))\n",
    "\n",
    "print(\"return_index=True 두 개의 값으로 나눠서 🔽🔽\")\n",
    "v, c = np.unique(a, return_index=True)\n",
    "print(v)\n",
    "print(c)\n",
    "\n",
    "print(\"return_counts🔽🔽🔽\")\n",
    "print(np.unique(a, return_counts=True))\n",
    "\n",
    "print(\"return_inverse🔽🔽🔽\")\n",
    "print(np.unique(a, return_inverse=True))"
   ]
  },
  {
   "cell_type": "code",
   "execution_count": 31,
   "metadata": {},
   "outputs": [
    {
     "name": "stdout",
     "output_type": "stream",
     "text": [
      "[[2 3 2]\n",
      " [4 2 3]]\n",
      "~~~~~~~~~~~~~~~~~~~~~\n",
      "[[2 3]\n",
      " [2 3]\n",
      " [3 2]]\n"
     ]
    }
   ],
   "source": [
    "\n",
    "a = np.array([[2,3,2],[2,3,2],[4,2,3]])\n",
    "print(np.unique(a, axis=0))\n",
    "\n",
    "print(\"~~~~~~~~~~~~~~~~~~~~~\")\n",
    "\n",
    "b = np.array([[2,3,2],[2,3,2],[3,2,3]])\n",
    "print(np.unique(b, axis=1))"
   ]
  },
  {
   "cell_type": "code",
   "execution_count": 20,
   "metadata": {},
   "outputs": [
    {
     "name": "stdout",
     "output_type": "stream",
     "text": [
      "================== num10.py ==================\n",
      "[1 2 3 4 5]\n",
      "[1 2 3 2 1]\n",
      "1 1\n",
      "2 2\n",
      "3 3\n",
      "4 2\n",
      "5 1\n"
     ]
    }
   ],
   "source": [
    "print(\"================== num10.py ==================\")\n",
    "v, c = np.unique([1,2,2,3,3,3,4,4,5], return_counts=True)\n",
    "print(v)\n",
    "print(c)\n",
    "\n",
    "for i, j in zip(v,c):\n",
    "    print(i,j)"
   ]
  },
  {
   "cell_type": "code",
   "execution_count": 28,
   "metadata": {},
   "outputs": [
    {
     "name": "stdout",
     "output_type": "stream",
     "text": [
      "arr1 🔽🔽🔽 \n",
      " [[11 22]\n",
      " [33 44]\n",
      " [55 66]]\n",
      "arr1.size ==> 6\n",
      "arr1.shape ==> (3, 2)\n",
      "~~~~ transpose ~~~~~ \n",
      "T 🔽🔽🔽 \n",
      " [[11 33 55]\n",
      " [22 44 66]]\n",
      "T.shape==> (2, 3)\n"
     ]
    }
   ],
   "source": [
    "arr1 = np.array([[11,22],\n",
    "                 [33,44],\n",
    "                 [55,66]])\n",
    "print(\"arr1 🔽🔽🔽 \\n\",arr1)\n",
    "print(\"arr1.size ==>\",arr1.size)\n",
    "print(\"arr1.shape ==>\",arr1.shape)\n",
    "\n",
    "# 전치행렬 \n",
    "print(\"~~~~ transpose ~~~~~ \")\n",
    "print(\"T 🔽🔽🔽 \\n\",arr1.T)\n",
    "print(\"T.shape==>\",arr1.T.shape)"
   ]
  },
  {
   "cell_type": "code",
   "execution_count": 29,
   "metadata": {},
   "outputs": [
    {
     "name": "stdout",
     "output_type": "stream",
     "text": [
      "int32\n",
      "float32\n",
      "None\n",
      "[[11. 22.]\n",
      " [33. 44.]\n",
      " [55.  0.]]\n"
     ]
    }
   ],
   "source": [
    "arr1 = np.array([11,22,33,44,55])\n",
    "print(arr1.dtype)\n",
    "\n",
    "arr1 = arr1.astype(np.float32)\n",
    "print(arr1.dtype)\n",
    "\n",
    "arr2 = arr1.resize(3,2)\n",
    "print(arr2)\n",
    "\n",
    "arr3 = arr1.reshape(-1,2)\n",
    "print(arr3)"
   ]
  },
  {
   "cell_type": "code",
   "execution_count": 36,
   "metadata": {},
   "outputs": [
    {
     "name": "stdout",
     "output_type": "stream",
     "text": [
      "int32\n",
      "float32\n",
      "resize ==>  None\n",
      "reshape ==>\n",
      "  [[11. 22.]\n",
      " [33. 44.]\n",
      " [55.  0.]]\n"
     ]
    }
   ],
   "source": [
    "# numpy#12\n",
    "arr1 = np.array([11,22,33,44,55])\n",
    "print(arr1.dtype)\n",
    "\n",
    "arr1 = arr1.astype(np.float32)\n",
    "print(arr1.dtype)\n",
    "\n",
    "arr2 = arr1.resize(3,2)\n",
    "print(\"resize ==> \",arr2)\n",
    "\n",
    "arr3 = arr1.reshape(-1,2) \n",
    "# 행은 알아서 맞추면서 남은 공간은 0으로, 열은 2\n",
    "print(\"reshape ==>\\n \",arr3)"
   ]
  },
  {
   "cell_type": "code",
   "execution_count": null,
   "metadata": {},
   "outputs": [],
   "source": [
    "import numpy as np\n",
    "\n",
    "arr1 = np.array([11,22,33,44,55])\n",
    "print(arr1)\n",
    "\n",
    "arr2 = arr1[[True, True, False, True, False]]\n",
    "print(arr2)\n",
    "\n",
    "# boolean indexing\n",
    "print(arr1 > 30)\n",
    "print(arr1[arr1 > 30])"
   ]
  },
  {
   "cell_type": "code",
   "execution_count": 37,
   "metadata": {},
   "outputs": [
    {
     "name": "stdout",
     "output_type": "stream",
     "text": [
      "김철수\n",
      "김철이\n"
     ]
    }
   ],
   "source": [
    "name = np.array(['홍길동','김철수','임꺽정','김철이','이활'])\n",
    "\n",
    "for n in name:\n",
    "    if '철' in n:\n",
    "        print(n)"
   ]
  },
  {
   "cell_type": "code",
   "execution_count": null,
   "metadata": {},
   "outputs": [],
   "source": []
  }
 ],
 "metadata": {
  "kernelspec": {
   "display_name": "venv",
   "language": "python",
   "name": "python3"
  },
  "language_info": {
   "codemirror_mode": {
    "name": "ipython",
    "version": 3
   },
   "file_extension": ".py",
   "mimetype": "text/x-python",
   "name": "python",
   "nbconvert_exporter": "python",
   "pygments_lexer": "ipython3",
   "version": "3.11.6"
  }
 },
 "nbformat": 4,
 "nbformat_minor": 2
}
