{
 "cells": [
  {
   "cell_type": "markdown",
   "metadata": {},
   "source": [
    "# 1114 \n",
    "* 한 줄 입력 Entry\n",
    "* 여러 줄 입력 text "
   ]
  },
  {
   "cell_type": "code",
   "execution_count": 3,
   "metadata": {},
   "outputs": [],
   "source": [
    "from tkinter import *\n",
    "a = Tk()\n",
    "a.geometry(\"300x300\")\n",
    "# eval -> 괄호에 있는 수식을 계산 후 결과를 줘라 \n",
    "def cc(event):\n",
    "    r.configure(text=str(eval(e.get())))\n",
    "    # text는 str만 받을 수 있기 때문에 \n",
    "Label(a, text=\"수식을 입력하세요.\").pack()\n",
    "e = Entry(a)\n",
    "# return을 치면 cc라는 함수를 처리해라 \n",
    "e.bind(\"<Return>\", cc)\n",
    "e.pack()\n",
    "r = Label(a, text='')\n",
    "r.pack()\n",
    "\n",
    "a.mainloop()"
   ]
  },
  {
   "cell_type": "markdown",
   "metadata": {},
   "source": [
    "위 결과를 변형\n",
    "1. delete\n",
    "2. text \n"
   ]
  },
  {
   "cell_type": "code",
   "execution_count": 5,
   "metadata": {},
   "outputs": [],
   "source": [
    "from tkinter import *\n",
    "from tkinter.simpledialog import *\n",
    "a = Tk()\n",
    "a.geometry(\"300x300\")\n",
    "# eval -> 괄호에 있는 수식을 계산 후 결과를 줘라 \n",
    "def cc(event):\n",
    "    r.configure(text=str(e.get())+\" = \"+str(eval(e.get())))\n",
    "    # text는 str만 받을 수 있기 때문에 \n",
    "    e.delete(0, END) \n",
    "    # 입력한 값 지워지게 \n",
    "Label(a, text=\"수식을 입력하세요.\").pack()\n",
    "e = Entry(a)\n",
    "# return을 치면 cc라는 함수를 처리해라 \n",
    "e.bind(\"<Return>\", cc)\n",
    "e.pack()\n",
    "r = Label(a, text='')\n",
    "r.pack()\n",
    "\n",
    "a.mainloop()"
   ]
  },
  {
   "cell_type": "markdown",
   "metadata": {},
   "source": [
    "##### 계산기 만들기 \n",
    "###### 조건\n",
    "제목: 계산기 \n",
    "* 수식을 넣는 Entry 창 color: yellow\n",
    "* 버튼 789 \\n 456 \\n 123 형태로 들어감 \n"
   ]
  },
  {
   "cell_type": "code",
   "execution_count": 8,
   "metadata": {},
   "outputs": [],
   "source": [
    "from tkinter import *\n",
    "from tkinter.simpledialog import *\n",
    "a = Tk()\n",
    "a.geometry(\"300x300\")\n",
    "e = Entry(a, bg=\"yellow\")\n",
    "e.grid(row=0, column=0)\n",
    "\n",
    "b1 = Button(a, text=\"7\")\n",
    "b1.grid(row=1, column=0)\n",
    "b2 = Button(a, text=\"8\")\n",
    "b2.grid(row=1, column=1)\n",
    "b3 = Button(a, text=\"9\")\n",
    "b3.grid(row=1, column=2)\n",
    "b4 = Button(a, text=\"+\")\n",
    "b4.grid(row=1, column=3)\n",
    "b5 = Button(a, text=\"c\")\n",
    "b5.grid(row=1, column=4)\n",
    "\n",
    "a.mainloop()"
   ]
  },
  {
   "cell_type": "markdown",
   "metadata": {},
   "source": [
    "위 코드 문제점 \n",
    "* 0행 0번째가 1행 0번째와 맞추려고 모양이 다름 "
   ]
  },
  {
   "cell_type": "code",
   "execution_count": 8,
   "metadata": {},
   "outputs": [],
   "source": [
    "from tkinter import *\n",
    "from tkinter.simpledialog import *\n",
    "a = Tk()\n",
    "a.geometry(\"300x300\")\n",
    "e = Entry(a, bg=\"yellow\")\n",
    "e.grid(row=0, column=0, columnspan=5)\n",
    "\n",
    "b1 = Button(a, text=\"7\", width=3)\n",
    "b1.grid(row=1, column=0)\n",
    "b2 = Button(a, text=\"8\", width=3)\n",
    "b2.grid(row=1, column=1)\n",
    "b3 = Button(a, text=\"9\", width=3)\n",
    "b3.grid(row=1, column=2)\n",
    "b4 = Button(a, text=\"+\", width=3)\n",
    "b4.grid(row=1, column=3)\n",
    "b5 = Button(a, text=\"c\", width=3)\n",
    "b5.grid(row=1, column=4)\n",
    "\n",
    "a.mainloop()"
   ]
  },
  {
   "cell_type": "markdown",
   "metadata": {},
   "source": [
    "* 공통점 묶기 "
   ]
  },
  {
   "cell_type": "code",
   "execution_count": 10,
   "metadata": {},
   "outputs": [],
   "source": [
    "from tkinter import *\n",
    "# from tkinter.simpledialog import *\n",
    "\n",
    "\n",
    "def c(k):\n",
    "    if k == \"=\":\n",
    "        result = eval(e.get())\n",
    "        e.delete(0, END)\n",
    "        e.insert(END, str(result))\n",
    "    elif k == \"c\":\n",
    "        e.delete(0, END)\n",
    "    else:\n",
    "        e.insert(END, k)\n",
    "\n",
    "a = Tk()\n",
    "a.geometry(\"300x300\")\n",
    "e = Entry(a, bg=\"yellow\")\n",
    "e.grid(row=0, column=0, columnspan=5)\n",
    "bs = ['7', '8', '9', '+', 'c',\n",
    "      '4', '5', '6', '-', '=',\n",
    "      '1', '2', '3', '*', ' ',\n",
    "      '0', ' ', ' ', '/', ' ']\n",
    "\n",
    "i = 0\n",
    "for b in bs:\n",
    "    btn = Button(a, text=b, width=3, command=lambda x=b: c(x))\n",
    "    btn.grid(row=i // 5 + 1, column= i % 5)\n",
    "    i += 1\n",
    "\n",
    "\n",
    "a.mainloop()"
   ]
  },
  {
   "cell_type": "code",
   "execution_count": 27,
   "metadata": {},
   "outputs": [
    {
     "data": {
      "text/plain": [
       "0"
      ]
     },
     "execution_count": 27,
     "metadata": {},
     "output_type": "execute_result"
    }
   ],
   "source": [
    "5 % 5"
   ]
  },
  {
   "cell_type": "markdown",
   "metadata": {},
   "source": [
    "* 함수 c\n",
    "    * = -> 결과 출력 (eval -> 계산기처럼 입력 창에 결과 출력 ==> insert 사용)\n",
    "    * c -> 입력한 값 지우기 -> delete 사용 \n",
    "    * 다 아니라면 입력 받은 값들 출력\n",
    "> e.grid(row=0, column=0, columnspan=5)\n",
    "\n",
    "\n",
    "* columnspan -> 5개의 칸을 한 개로 묶겠다 \n",
    "\n",
    "\n",
    "    \n",
    "> btn = Button(a, text=b, width=3, command=lambda x=b: c(x))\n",
    "\n",
    "\n",
    "* bs의 값이 b에 하나하나 할당되고 그 b의 값을 lambda를 사용해 x에 순서대로 할당\n",
    "* 할당한 값이 c라는 함수의 인자 값 k로 이동 \n",
    "* 그 k는 결국 x이자 b인 값임! 즉 bs의 값들 중 click 된 값이 k에 할당되어... 있음 \n",
    "\n",
    "그럼 결국 e가 실질적으로 드러나는 값들이고 나머지는 이 값들을 보여주기 위한 과정의 변수들이란 느낌인 듯"
   ]
  },
  {
   "cell_type": "markdown",
   "metadata": {},
   "source": [
    "##### 11장 \n",
    "* 입력: 키보드 -> input\n",
    "* 출력: 모니터 -> print"
   ]
  },
  {
   "cell_type": "code",
   "execution_count": 18,
   "metadata": {},
   "outputs": [
    {
     "name": "stdout",
     "output_type": "stream",
     "text": [
      "김하경\n"
     ]
    }
   ],
   "source": [
    "result = input(\"이름 입력: \")\n",
    "print(result)"
   ]
  },
  {
   "cell_type": "code",
   "execution_count": 27,
   "metadata": {},
   "outputs": [
    {
     "name": "stdout",
     "output_type": "stream",
     "text": [
      "안녕\n",
      "하세\n",
      "용\n"
     ]
    }
   ],
   "source": [
    "# file \n",
    "# abc라는 이름의 file을 읽기만(r) 하겠다\n",
    "a = open('abc.txt', 'r', encoding=\"utf-8\")\n",
    "# print 해 줘야 파일의 내용이 나옴 \n",
    "print(a.read())\n",
    "# open을 해 줬으면 닫아줘야 합니다 \n",
    "a.close()"
   ]
  },
  {
   "cell_type": "code",
   "execution_count": 29,
   "metadata": {},
   "outputs": [
    {
     "name": "stdout",
     "output_type": "stream",
     "text": [
      "안녕\n",
      "\n"
     ]
    }
   ],
   "source": [
    "# read <-> readline (한 줄만 출력)\n",
    "a = open('abc.txt', 'r', encoding=\"utf-8\") \n",
    "print(a.readline())\n",
    "a.close()"
   ]
  },
  {
   "cell_type": "code",
   "execution_count": 29,
   "metadata": {},
   "outputs": [
    {
     "name": "stdout",
     "output_type": "stream",
     "text": [
      "안녕\n",
      "하세\n",
      "용"
     ]
    }
   ],
   "source": [
    "a = open('abc.txt', 'r', encoding=\"utf-8\") \n",
    "print(a.readline(), end='')\n",
    "print(a.readline(), end='')\n",
    "print(a.readline(), end='')\n",
    "a.close()"
   ]
  },
  {
   "cell_type": "code",
   "execution_count": 37,
   "metadata": {},
   "outputs": [
    {
     "name": "stdout",
     "output_type": "stream",
     "text": [
      "안녕\n",
      "\n",
      "하세\n",
      "\n",
      "용\n"
     ]
    }
   ],
   "source": [
    "a = open('abc.txt', 'r', encoding=\"utf-8\") \n",
    "b = a.readlines()\n",
    "for i in b:\n",
    "    print(i)\n",
    "a.close()"
   ]
  },
  {
   "cell_type": "code",
   "execution_count": 4,
   "metadata": {},
   "outputs": [],
   "source": [
    "# 이름이 없는 file은 만든 후 내용을 적을 수 있음 \n",
    "# 'w' \n",
    "a = open('bcd.txt', 'w', encoding=\"utf-8\") \n",
    "a.write('새로 만든 file\\n')\n",
    "a.write('새로 만든 file\\n')\n",
    "a.write('새로 만든 file을 수정하면 해당 값이 수정됨')\n",
    "\n",
    "# print는 안 했기 때문에 file 내용 자체만 변경 \n",
    "a.close()"
   ]
  },
  {
   "attachments": {
    "image-2.png": {
     "image/png": "[encoded data removed]"
    },
    "image.png": {
     "image/png": "[encoded data removed]"
    }
   },
   "cell_type": "markdown",
   "metadata": {},
   "source": [
    "![image.png](attachment:image.png)\n",
    "![image-2.png](attachment:image-2.png)"
   ]
  },
  {
   "cell_type": "markdown",
   "metadata": {},
   "source": [
    "#### append"
   ]
  },
  {
   "cell_type": "code",
   "execution_count": 6,
   "metadata": {},
   "outputs": [],
   "source": [
    "\n",
    "a = open('bcd.txt', 'a', encoding=\"utf-8\") \n",
    "a.write('새로 만든 file new\\n')\n",
    "a.write('새로 만든 file new \\n')\n",
    "\n",
    "\n",
    "# print는 안 했기 때문에 file 내용 자체만 변경 \n",
    "a.close()"
   ]
  },
  {
   "cell_type": "code",
   "execution_count": 8,
   "metadata": {},
   "outputs": [
    {
     "name": "stdout",
     "output_type": "stream",
     "text": [
      "새로 만든 file\n",
      "새로 만든 file\n",
      "새로 만든 file을 수정하면 해당 값이 수정됨새로 만든 file new\n",
      "새로 만든 file new \n",
      "새로 만든 file new\n",
      "새로 만든 file new \n",
      "\n"
     ]
    }
   ],
   "source": [
    "\n",
    "a = open('bcd.txt', 'r', encoding=\"utf-8\") \n",
    "b = a.read()\n",
    "print(b)\n",
    "a.close()"
   ]
  },
  {
   "cell_type": "markdown",
   "metadata": {},
   "source": [
    "##### file에 학번 이름을 적고 이 내용을 출력하는 프로그램 "
   ]
  },
  {
   "cell_type": "code",
   "execution_count": 22,
   "metadata": {},
   "outputs": [
    {
     "name": "stdout",
     "output_type": "stream",
     "text": [
      "학번: 2104275 \n",
      "이름: 김하경\n"
     ]
    }
   ],
   "source": [
    "a = open('aaa.txt', 'w', encoding='utf-8')\n",
    "a.write('학번: 2104275 \\n')\n",
    "a.write('이름: 김하경')\n",
    "a.close()\n",
    "b = open('aaa.txt', 'r', encoding='utf-8')\n",
    "print(b.read())\n",
    "b.close()"
   ]
  },
  {
   "cell_type": "code",
   "execution_count": 23,
   "metadata": {},
   "outputs": [],
   "source": [
    "# p 352 \n",
    "# inputfile... \n",
    "# 확장자명 없어도 문제는 아님\n",
    "# 영문, 숫자일 때는 encoding 필수 아님 \n"
   ]
  },
  {
   "cell_type": "code",
   "execution_count": null,
   "metadata": {},
   "outputs": [],
   "source": []
  },
  {
   "cell_type": "markdown",
   "metadata": {},
   "source": [
    "# 여기부터"
   ]
  },
  {
   "cell_type": "code",
   "execution_count": 26,
   "metadata": {},
   "outputs": [
    {
     "name": "stdout",
     "output_type": "stream",
     "text": [
      "abc file이 존재하지 Xx\n"
     ]
    }
   ],
   "source": [
    "# 357 \n",
    "# 해당 file이 있는지 없는지 알 수 있는 \n",
    "import os \n",
    "fn = input(\"file 이름을 입력: \")\n",
    "if os.path.exists(fn):\n",
    "    b = open(fn, 'r', encoding='utf-8')\n",
    "    print(b.read())\n",
    "    b.close()\n",
    "else:\n",
    "    print(fn, \"file이 존재하지 Xx\")\n"
   ]
  },
  {
   "cell_type": "code",
   "execution_count": 37,
   "metadata": {},
   "outputs": [
    {
     "name": "stdout",
     "output_type": "stream",
     "text": [
      "100 99 90 289 96.33333333333333\n",
      "70 80 20 170 56.666666666666664\n",
      "1 2 3 6 2.0\n",
      "55 60 70 185 61.666666666666664\n",
      "48 38 100 186 62.0\n"
     ]
    }
   ],
   "source": [
    "t = open('test.txt', 'r', encoding='utf-8')\n",
    "w = open('result.txt', 'w', encoding='utf-8')\n",
    "\n",
    "while True:\n",
    "    x = t.readline()\n",
    "    if x == '': break\n",
    "    s=0\n",
    "    for a in x.split():\n",
    "        a = int(a)\n",
    "        s += a\n",
    "    print(x.rstrip(), s, s/3)\n",
    "    w.write(x.rstrip()+' '+str(s)+' '+str(s/3)+'\\n')\n",
    "\n",
    "# test file 내용을 test1으로 복사하기 1️⃣\n",
    "ro = open('test.txt', 'r', encoding='utf-8')\n",
    "o = open('test1.txt', 'w', encoding='utf-8')\n",
    "o.write(ro.read())\n",
    "\n",
    "# test file 내용을 test1으로 복사하기 2️⃣-> 줄 단위로 읽어도 됨 while \n",
    "\n",
    "o.close()\n",
    "t.close()\n",
    "w.close()"
   ]
  },
  {
   "cell_type": "markdown",
   "metadata": {},
   "source": [
    "aaa.txt 내용을 bbb.txt로 복사하기"
   ]
  },
  {
   "cell_type": "code",
   "execution_count": null,
   "metadata": {},
   "outputs": [],
   "source": [
    "t = open('aaa.txt', 'r', encoding='utf-8')\n",
    "w = open('bbb.txt', 'w', encoding='utf-8')\n",
    "\n",
    "x = t.read()\n",
    "w.write(x)\n",
    "\n",
    "t.close()\n",
    "w.close()"
   ]
  },
  {
   "cell_type": "code",
   "execution_count": null,
   "metadata": {},
   "outputs": [],
   "source": []
  }
 ],
 "metadata": {
  "kernelspec": {
   "display_name": "Python 3",
   "language": "python",
   "name": "python3"
  },
  "language_info": {
   "codemirror_mode": {
    "name": "ipython",
    "version": 3
   },
   "file_extension": ".py",
   "mimetype": "text/x-python",
   "name": "python",
   "nbconvert_exporter": "python",
   "pygments_lexer": "ipython3",
   "version": "3.11.6"
  }
 },
 "nbformat": 4,
 "nbformat_minor": 2
}
