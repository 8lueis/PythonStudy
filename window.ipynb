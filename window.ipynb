{
 "cells": [
  {
   "cell_type": "markdown",
   "metadata": {},
   "source": [
    "#### window"
   ]
  },
  {
   "cell_type": "code",
   "execution_count": 2,
   "metadata": {},
   "outputs": [],
   "source": [
    "# 윈도우를 쓰기 위함\n",
    "from tkinter import *\n",
    "a = Tk()\n",
    "# 창 이름 변경 \n",
    "a.title(\"window\")\n",
    "# 가로x세로 길이 설정 -> 늘릴 수 있음\n",
    "a.geometry(\"500x500\")\n",
    "# 늘리지 않도록\n",
    "# 둘 다 써 줘야 함 TRUE, FALSE로 구분 (생략 Xxn)\n",
    "a.resizable(width= FALSE, height= FALSE)\n",
    "# 창 안에 내용 넣기 -> 만들어만 둔 거고 창에는 Xx\n",
    "# width, height -> 배경 색상 크기 \n",
    "label1 = Label(a, text=\"hello~~~~\", font=(\"sans\",30),fg=\"white\", bg=\"blue\",width=100, height=200)\n",
    "label2 = Label(a, text=\"안녕~~~~~~\", font=(\"굴림체\",30),fg=\"white\", bg=\"orange\",width=100, height=200)\n",
    "# label1 내용을 창에 넣어라 -> 순서 정하는 부분이 됨\n",
    "label1.pack()\n",
    "label2.pack(side=LEFT)\n",
    "\n",
    "a.mainloop()"
   ]
  },
  {
   "cell_type": "code",
   "execution_count": 24,
   "metadata": {},
   "outputs": [],
   "source": [
    "a = Tk()\n",
    "# 창 이름 변경 \n",
    "a.title(\"학번 이름 출력하기\")\n",
    "a.resizable(width= FALSE, height= FALSE)\n",
    "a.geometry(\"200x200\")\n",
    "label3 = Label(a, text=\"학번: \", font=(\"고딕\",10))\n",
    "label4 = Label(a, text=\"2104275\", font=(\"고딕\",10),fg=\"white\", bg=\"orange\")\n",
    "\n",
    "label5 = Label(a, text=\"이름: \", font=(\"고딕\",10))\n",
    "label6 = Label(a, text=\"김하경\", font=(\"고딕\",10),fg=\"white\", bg=\"blue\", anchor=SE)\n",
    "\n",
    "label3.pack()\n",
    "label4.pack(side=LEFT)\n",
    "label5.pack()\n",
    "label6.pack(side=LEFT)\n",
    "\n",
    "a.mainloop()"
   ]
  },
  {
   "cell_type": "code",
   "execution_count": 29,
   "metadata": {},
   "outputs": [],
   "source": [
    "a = Tk()\n",
    "# 창 이름 변경 \n",
    "a.title(\"학번 이름 출력하기\")\n",
    "a.geometry(\"200x200\")\n",
    "label3 = Label(a, text=\"Python \\n C \\n Java\", font=(\"sans\",10),fg=\"white\", bg=\"blue\",width=30, height=30)\n",
    "label4 = Label(a, text=\"program\", font=(\"sans\",10),fg=\"white\", bg=\"orange\",width=30, height=20)\n",
    "\n",
    "label3.pack(side=LEFT)\n",
    "label4.pack(side=LEFT)\n",
    "\n",
    "a.mainloop()"
   ]
  },
  {
   "cell_type": "markdown",
   "metadata": {},
   "source": [
    "#### button 만들기"
   ]
  },
  {
   "cell_type": "code",
   "execution_count": null,
   "metadata": {},
   "outputs": [],
   "source": [
    "from tkinter import messagebox\n",
    "def fa():\n",
    "    print(\"button 만들기\")\n",
    "    messagebox.showinfo\n",
    "a = Tk()\n",
    "# 창 이름 변경 \n",
    "a.title(\"학번 이름 출력하기\")\n",
    "a.geometry(\"600x200\")\n",
    "btn1 = Button(a, text=\"Python \\n C \\n Java\", font=(\"sans\",10),fg=\"white\", bg=\"blue\",width=30, height=30, command=fa)\n",
    "btn2 = Button(a, text=\"program\", font=(\"sans\",10),fg=\"white\", bg=\"orange\",width=30, height=20)\n",
    "btn3 = Button(a, text=\"quit\", font=(\"sans\",10),fg=\"white\", bg=\"black\",width=10, height=10, command=quit)\n",
    "\n",
    "btn1.pack(side=LEFT)\n",
    "btn2.pack(side=LEFT)\n",
    "btn3.pack(side=LEFT)\n",
    "\n",
    "a.mainloop()"
   ]
  },
  {
   "cell_type": "code",
   "execution_count": 15,
   "metadata": {},
   "outputs": [],
   "source": [
    "# checkbox\n",
    "from tkinter import messagebox\n",
    "def abc():\n",
    "    if x.get()==0:\n",
    "        messagebox.showinfo('','check button off')\n",
    "    else: \n",
    "        messagebox.showinfo('','check button on')\n",
    "win = Tk()\n",
    "win.geometry(\"300x200\")\n",
    "x = IntVar()\n",
    "c = Checkbutton(win, text=\"click 하세요\", variable=x, command=abc)\n",
    "c.pack(side=LEFT)\n",
    "win.mainloop()"
   ]
  },
  {
   "cell_type": "code",
   "execution_count": 28,
   "metadata": {},
   "outputs": [
    {
     "name": "stdout",
     "output_type": "stream",
     "text": [
      "C On\n"
     ]
    }
   ],
   "source": [
    "# checkbox\n",
    "from tkinter import messagebox\n",
    "def abc():\n",
    "    if x.get()==0:\n",
    "        print(\"C Off\")\n",
    "    else: \n",
    "        print(\"C On\")\n",
    "\n",
    "def py():\n",
    "    if pyy.get()==0:\n",
    "        print(\"Python Off\")\n",
    "    else:\n",
    "        print(\"Python On\")\n",
    "def java():\n",
    "    if jaa.get()==0:\n",
    "        print(\"Java Off\")\n",
    "    else:\n",
    "        print(\"Java On\")\n",
    "# def fb():\n",
    "#     str=''\n",
    "#     if x.get()==1:str+=\"C\"\n",
    "#     if pyy.get()==1:str+=\"Python\"\n",
    "#     if jaa.get()==1:str+=\"Java\"\n",
    "#     messagebox.showinfo(str+\" 선택\")\n",
    "win = Tk()\n",
    "win.geometry(\"300x200\")\n",
    "x = IntVar()\n",
    "pyy = IntVar()\n",
    "jaa = IntVar()\n",
    "\n",
    "labelcheck = Label(win, text=\"사용 가능한 언어를 선택하세요.\")\n",
    "p = Checkbutton(win, text=\"Python\", variable=pyy, command=py)\n",
    "c = Checkbutton(win, text=\"C\", variable=x, command=abc)\n",
    "j = Checkbutton(win, text=\"Java\", variable=jaa, command=java)\n",
    "\n",
    "\n",
    "\n",
    "labelcheck.pack()\n",
    "p.pack()\n",
    "c.pack()\n",
    "j.pack()\n",
    "\n",
    "win.mainloop()"
   ]
  },
  {
   "cell_type": "code",
   "execution_count": 29,
   "metadata": {},
   "outputs": [
    {
     "name": "stdout",
     "output_type": "stream",
     "text": [
      "Python On\n",
      "C On\n",
      "Java On\n",
      "C On\n"
     ]
    }
   ],
   "source": [
    "# checkbox\n",
    "from tkinter import messagebox\n",
    "def abc():\n",
    "    if x.get()==0:\n",
    "        print(\"C Off\")\n",
    "    else: \n",
    "        print(\"C On\")\n",
    "\n",
    "def py():\n",
    "    if pyy.get()==0:\n",
    "        print(\"Python Off\")\n",
    "    else:\n",
    "        print(\"Python On\")\n",
    "def java():\n",
    "    if jaa.get()==0:\n",
    "        print(\"Java Off\")\n",
    "    else:\n",
    "        print(\"Java On\")\n",
    "# def fb():\n",
    "#     str=''\n",
    "#     if x.get()==1:str+=\"C\"\n",
    "#     if pyy.get()==1:str+=\"Python\"\n",
    "#     if jaa.get()==1:str+=\"Java\"\n",
    "#     messagebox.showinfo(str+\" 선택\")\n",
    "win = Tk()\n",
    "win.geometry(\"300x200\")\n",
    "x = IntVar()\n",
    "pyy = IntVar()\n",
    "jaa = IntVar()\n",
    "\n",
    "labelcheck = Label(win, text=\"사용 가능한 언어를 선택하세요.\")\n",
    "p = Radiobutton(win, text=\"Python\", variable=pyy, command=py, value=1)\n",
    "c = Radiobutton(win, text=\"C\", variable=x, command=abc, value=2)\n",
    "j = Radiobutton(win, text=\"Java\", variable=jaa, command=java, value=3)\n",
    "\n",
    "\n",
    "\n",
    "labelcheck.pack()\n",
    "p.pack()\n",
    "c.pack()\n",
    "j.pack()\n",
    "\n",
    "win.mainloop()"
   ]
  },
  {
   "cell_type": "code",
   "execution_count": 31,
   "metadata": {},
   "outputs": [
    {
     "name": "stdout",
     "output_type": "stream",
     "text": [
      "(1, 2, 3)\n",
      "(1, 2, 3)\n",
      "(1, 2, 3)\n",
      "(1, 2, 'x')\n",
      "(1, 2, 'x')\n",
      "(4, 4, 4)\n",
      "(1, 1, 3)\n",
      "(1, 1, 'x')\n",
      "(1, 1, 3)\n",
      "(3, 11, 11)\n",
      "(3, 11, 11)\n",
      "(3, 11, 11)\n"
     ]
    }
   ],
   "source": [
    "def mmm(x, y, z):\n",
    "    if x > y:\n",
    "        if x > z:\n",
    "            max = X\n",
    "            if y > z:\n",
    "                mid = y \n",
    "                min = z\n",
    "            else: \n",
    "                mid = z\n",
    "                min = y \n",
    "        else:\n",
    "            max = z\n",
    "            mid = x \n",
    "            min = y \n",
    "    else: \n",
    "        if y > z:\n",
    "            max = y \n",
    "            if x > z:\n",
    "                mid = x \n",
    "                min = z \n",
    "            else:\n",
    "                mid = z \n",
    "                min = x \n",
    "        else:\n",
    "            max = z \n",
    "            mid = y \n",
    "            min = x \n",
    "    return min, mid, max \n",
    "\n",
    "print(mmm(1,2,3))\n",
    "print(mmm(1,3,2))\n",
    "print(mmm(2,1,3))\n",
    "print(mmm(3,1,2))\n",
    "print(mmm(3,2,1))\n",
    "print(mmm(4,4,4))\n",
    "print(mmm(1,1,3))\n",
    "print(mmm(3,1,1))\n",
    "print(mmm(1,3,1))\n",
    "print(mmm(11,3,11))\n",
    "print(mmm(11,11,3))\n",
    "print(mmm(3,11,11))"
   ]
  },
  {
   "cell_type": "code",
   "execution_count": 32,
   "metadata": {},
   "outputs": [
    {
     "name": "stdout",
     "output_type": "stream",
     "text": [
      "(1, 2, 3)\n",
      "(1, 2, 3)\n",
      "(1, 2, 3)\n",
      "(1, 2, 3)\n",
      "(1, 2, 3)\n",
      "(4, 4, 4)\n",
      "(1, 1, 3)\n",
      "(1, 1, 3)\n",
      "(1, 1, 3)\n",
      "(3, 11, 11)\n",
      "(3, 11, 11)\n",
      "(3, 11, 11)\n"
     ]
    }
   ],
   "source": [
    "# 모범 답안 \n",
    "def mmm(x,y,z):\n",
    "    if x > y:\n",
    "        max = x \n",
    "        min = y \n",
    "    else: \n",
    "        max = y \n",
    "        min = x \n",
    "    if z > max:\n",
    "        mid = max \n",
    "        max = z \n",
    "    elif z < min:\n",
    "        mid = min\n",
    "        min = z\n",
    "    else:\n",
    "        mid = z\n",
    "    return min, mid, max\n",
    "print(mmm(1,2,3))\n",
    "print(mmm(1,3,2))\n",
    "print(mmm(2,1,3))\n",
    "print(mmm(3,1,2))\n",
    "print(mmm(3,2,1))\n",
    "print(mmm(4,4,4))\n",
    "print(mmm(1,1,3))\n",
    "print(mmm(3,1,1))\n",
    "print(mmm(1,3,1))\n",
    "print(mmm(11,3,11))\n",
    "print(mmm(11,11,3))\n",
    "print(mmm(3,11,11))"
   ]
  },
  {
   "cell_type": "code",
   "execution_count": null,
   "metadata": {},
   "outputs": [],
   "source": []
  }
 ],
 "metadata": {
  "kernelspec": {
   "display_name": "Python 3",
   "language": "python",
   "name": "python3"
  },
  "language_info": {
   "codemirror_mode": {
    "name": "ipython",
    "version": 3
   },
   "file_extension": ".py",
   "mimetype": "text/x-python",
   "name": "python",
   "nbconvert_exporter": "python",
   "pygments_lexer": "ipython3",
   "version": "3.11.6"
  }
 },
 "nbformat": 4,
 "nbformat_minor": 2
}
