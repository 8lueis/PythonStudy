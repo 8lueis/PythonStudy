{
 "cells": [
  {
   "cell_type": "markdown",
   "metadata": {},
   "source": [
    "#### 1107 수업\n",
    "##### messagebox\n",
    "* 응답을 요구하는 GUI 요소(대화 상자)\n",
    "* 확인하고 넘어가도록 할 때 사용 \n",
    "> from tkinter import messagebox-> 종류 일곱 개 有\n",
    "* messagebox.showinfo() : !, 확인 버튼 \n",
    "* messagebox.askquastion() : ?, 확인, 취소 \n",
    "##### 입력 위젯 Entry\n",
    "* 한 줄 입력이면 Entry \n",
    "* 값을 읽어서 활용해야 하는 건 변수를 붙여야 하는데 Entry도 마찬가지\n",
    "* get\n",
    "* insert\n",
    "##### text 위젯 \n",
    "* "
   ]
  },
  {
   "cell_type": "code",
   "execution_count": null,
   "metadata": {},
   "outputs": [],
   "source": [
    "from tkinter import *\n",
    "a = Tk()\n",
    "Label(a, text=\"아이디\").pack(side=\"left\")\n",
    "x = Entry(a)\n",
    "x.pack(side=\"left\")\n",
    "\n",
    "a.mainloop()"
   ]
  },
  {
   "cell_type": "markdown",
   "metadata": {},
   "source": [
    "🔽 update : 확인 버튼을 click 했을 때 처리되는 program 🔽"
   ]
  },
  {
   "cell_type": "code",
   "execution_count": null,
   "metadata": {},
   "outputs": [],
   "source": [
    "from tkinter import *\n",
    "a = Tk()\n",
    "def ff():\n",
    "    print(\"아이디 : \", x.get())\n",
    "Label(a, text=\"아이디\").pack(side=\"left\")\n",
    "x = Entry(a)\n",
    "x.pack(side=\"left\")\n",
    "y = Button(a, text=\"출력\", command=ff)\n",
    "y.pack()\n",
    "a.mainloop()"
   ]
  },
  {
   "cell_type": "markdown",
   "metadata": {},
   "source": [
    "* 입력한 값을 출력한 후 input 창에서 지워지게 하기 \n",
    "> x.delete(0,END)\n",
    "* 기본 값 지정 값으로 채워주기\n",
    "> x. insert(0, '210')"
   ]
  },
  {
   "cell_type": "code",
   "execution_count": null,
   "metadata": {},
   "outputs": [],
   "source": [
    "from tkinter import *\n",
    "a = Tk()\n",
    "def ff():\n",
    "    print(\"아이디 : \", x.get())\n",
    "    # x.delete(0, END)\n",
    "    x.insert(0, '210')\n",
    "    \n",
    "Label(a, text=\"아이디\").pack(side=\"left\")\n",
    "x = Entry(a)\n",
    "x.pack(side=\"left\")\n",
    "y = Button(a, text=\"출력\", command=ff)\n",
    "y.pack()\n",
    "a.mainloop()"
   ]
  },
  {
   "cell_type": "markdown",
   "metadata": {},
   "source": [
    "* 패스워드"
   ]
  },
  {
   "cell_type": "code",
   "execution_count": null,
   "metadata": {},
   "outputs": [],
   "source": [
    "from tkinter import *\n",
    "a = Tk()\n",
    "def ff():\n",
    "    print(\"아이디 : \", x.get())\n",
    "    x.delete(0, END)\n",
    "    print(\"비밀번호 :\", z.get())\n",
    "    z.delete(0, END)\n",
    "Label(a, text=\"아이디\").pack()\n",
    "x = Entry(a)\n",
    "x.pack(side=BOTTOM)\n",
    "Label(a, text=\"비밀번호\").pack()\n",
    "z = Entry(a)\n",
    "z.pack(side=BOTTOM)\n",
    "y = Button(a, text=\"출력\", command=ff)\n",
    "y.pack()\n",
    "a.mainloop()"
   ]
  },
  {
   "cell_type": "markdown",
   "metadata": {},
   "source": [
    "geometry(\"300x300+300+100\")\n",
    "* 300 300 사이즈에서 300 100 위치에서 시작해 주세요"
   ]
  },
  {
   "cell_type": "markdown",
   "metadata": {},
   "source": [
    "red \\n orange \\n...\n",
    "\n",
    "출력하기 "
   ]
  },
  {
   "cell_type": "code",
   "execution_count": 23,
   "metadata": {},
   "outputs": [],
   "source": [
    "from tkinter import *\n",
    "a = Tk()\n",
    "a.geometry(\"300x300+300+100\")\n",
    "Label(a, text=\"red\", fg=\"red\").pack()\n",
    "Label(a, text=\"orange\", fg=\"orange\").pack()\n",
    "Label(a, text=\"yellow\", fg=\"yellow\").pack()\n",
    "Label(a, text=\"green\", fg=\"green\").pack()\n",
    "Label(a, text=\"blue\", fg=\"blue\").pack()\n",
    "Label(a, text=\"navy\", fg=\"navy\").pack()\n",
    "Label(a, text=\"purple\", fg=\"purple\").pack()\n",
    "a.mainloop()"
   ]
  },
  {
   "cell_type": "code",
   "execution_count": 24,
   "metadata": {},
   "outputs": [],
   "source": [
    "from tkinter import *\n",
    "a = Tk()\n",
    "cL = ['red', 'orange', 'yellow', 'green', 'blue', 'navy', 'purple']\n",
    "for i in cL:\n",
    "    Label(a, text=i, fg=i).pack()\n",
    "    Button(a, background=i).pack()\n",
    "a.mainloop()"
   ]
  },
  {
   "cell_type": "markdown",
   "metadata": {},
   "source": [
    "위 버튼을 text 오른쪽에 놓고 싶을 때는 pack 대신 grid로 행, 열 위치 조정 후 사용 가능 "
   ]
  },
  {
   "cell_type": "code",
   "execution_count": 29,
   "metadata": {},
   "outputs": [],
   "source": [
    "from tkinter import *\n",
    "a = Tk()\n",
    "cL = ['red', 'orange', 'yellow', 'green', 'blue', 'navy', 'purple']\n",
    "dr=0\n",
    "for i in cL:\n",
    "    Label(a, text=i, fg=i).grid(row=dr, column=0)\n",
    "    Button(a, background=i, width=5).grid(row=dr, column = 1)\n",
    "    dr += 1\n",
    "a.mainloop()"
   ]
  },
  {
   "cell_type": "code",
   "execution_count": 1,
   "metadata": {},
   "outputs": [
    {
     "name": "stdout",
     "output_type": "stream",
     "text": [
      "아이디 :  \n",
      "비밀번호 : \n"
     ]
    }
   ],
   "source": [
    "from tkinter import *\n",
    "a = Tk()\n",
    "def ff():\n",
    "    print(\"아이디 : \", x.get())\n",
    "    x.delete(0, END)\n",
    "    print(\"비밀번호 :\", z.get())\n",
    "    z.delete(0, END)\n",
    "\n",
    "Label(a, text=\"아이디\").grid(row=0, column=0)\n",
    "x = Entry(a)\n",
    "x.grid(row=0, column=1)\n",
    "Label(a, text=\"비밀번호\").grid(row=1, column=0)\n",
    "z = Entry(a)\n",
    "z.grid(row=2, column=1)\n",
    "y = Button(a, text=\"출력\", command=ff)\n",
    "y.grid(row=3, column=1)\n",
    "a.mainloop()"
   ]
  },
  {
   "cell_type": "markdown",
   "metadata": {},
   "source": [
    "##### game\n",
    "* 버튼 9개\n",
    "* click 시 o -> x -> o...\n",
    "* click 시 yellow -> green -> y...\n"
   ]
  },
  {
   "cell_type": "code",
   "execution_count": null,
   "metadata": {},
   "outputs": [],
   "source": [
    "from tkinter import *\n",
    "def ck(i):\n",
    "    global player\n",
    "    b = list[i]\n",
    "    if b['text']!='  ':return \n",
    "    b['text']='  '+player+'   '\n",
    "    if player=='A':\n",
    "        b['bg'] = 'blue'\n",
    "        player = 'B'\n",
    "    else:\n",
    "        b['bg']='red'\n",
    "        player = 'A'\n",
    "a = Tk()\n",
    "player = 'A'\n",
    "list = []\n",
    "for i in range(9):\n",
    "    w = Button(a, text=\"   \", command=lambda k=i:ck(k))\n",
    "    w.grid(row=i//3, column=i%3)\n",
    "    list.append(w)"
   ]
  },
  {
   "cell_type": "markdown",
   "metadata": {},
   "source": [
    "p322 하단 menu\n",
    "### Menu"
   ]
  },
  {
   "cell_type": "code",
   "execution_count": 2,
   "metadata": {},
   "outputs": [],
   "source": [
    "from tkinter import *\n",
    "\n",
    "a = Tk()\n",
    "x = Menu(a)\n",
    "a.configure(menu=x)\n",
    "\n",
    "y=Menu(x)\n",
    "x.add_cascade(label='파일', menu=y)\n",
    "y.add_command(label='열기')\n",
    "y.add_separator()\n",
    "y.add_command(label='종료')\n",
    "a.mainloop()"
   ]
  },
  {
   "attachments": {
    "image.png": {
     "image/png": "[encoded data removed]"
    }
   },
   "cell_type": "markdown",
   "metadata": {},
   "source": [
    "![image.png](attachment:image.png)"
   ]
  },
  {
   "cell_type": "code",
   "execution_count": 3,
   "metadata": {},
   "outputs": [],
   "source": [
    "'''\n",
    "열기를 누르면 file이 열리도록...은 pass \n",
    "submenu를 눌렀을 때 어떻게 처리할 건지 만들 수 있다~ 근데 코드는 안 하넹 \n",
    "p325 \n",
    "int로 str으로 읽어들이는 방법이 있음 -> 사용하려면 tkinter.simpledialog\n",
    "'''\n",
    "from tkinter import *\n",
    "from tkinter.simpledialog import *\n",
    "a = Tk()\n",
    "a.geometry(\"300x300\")\n",
    "# 최댓값, 최솟값 정해줄 수 있음 \n",
    "x = askinteger('창 내용','주사위 숫자 (1~6) 입력', minvalue=1, maxvalue=6)\n",
    "t = Label(a, text=\"입력한 값은 \"+str(x))\n",
    "t.pack()\n",
    "a.mainloop()"
   ]
  },
  {
   "attachments": {
    "image-2.png": {
     "image/png": "[encoded data removed]"
    },
    "image.png": {
     "image/png": "[encoded data removed]"
    }
   },
   "cell_type": "markdown",
   "metadata": {},
   "source": [
    "* minvalue, maxvlaue를 넘어갔을 시 ->\n",
    "![image.png](attachment:image.png)\n",
    "* 범위 내의 숫자를 입력했을 시 ->\n",
    "![image-2.png](attachment:image-2.png)"
   ]
  },
  {
   "cell_type": "markdown",
   "metadata": {},
   "source": [
    "위 프로그램을 Entry로 바꿔서 출력하기"
   ]
  },
  {
   "cell_type": "code",
   "execution_count": 9,
   "metadata": {},
   "outputs": [
    {
     "name": "stdout",
     "output_type": "stream",
     "text": [
      "입력한 값은 \n",
      "입력한 값은 \n",
      "입력한 값은 4\n"
     ]
    }
   ],
   "source": [
    "from tkinter import *\n",
    "from tkinter.simpledialog import *\n",
    "a = Tk()\n",
    "a.geometry(\"300x300\")\n",
    "\n",
    "def en():\n",
    "    print(\"입력한 값은 \"+y.get())\n",
    "\n",
    "y = Entry(a)\n",
    "y.pack()\n",
    "\n",
    "b = Button(a, text=\"출력\", command=en)\n",
    "\n",
    "b.pack()\n",
    "\n",
    "a.mainloop()"
   ]
  }
 ],
 "metadata": {
  "kernelspec": {
   "display_name": "Python 3",
   "language": "python",
   "name": "python3"
  },
  "language_info": {
   "codemirror_mode": {
    "name": "ipython",
    "version": 3
   },
   "file_extension": ".py",
   "mimetype": "text/x-python",
   "name": "python",
   "nbconvert_exporter": "python",
   "pygments_lexer": "ipython3",
   "version": "3.11.6"
  }
 },
 "nbformat": 4,
 "nbformat_minor": 2
}
