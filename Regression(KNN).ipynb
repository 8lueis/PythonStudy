{
  "cells": [
    {
      "cell_type": "markdown",
      "metadata": {
        "id": "sVpG_9Bqf2yD"
      },
      "source": [
        "# k-최근접 이웃 회귀\n",
        "\n",
        "* 회귀\n",
        "  * 임의의 수치를 예측\n",
        "  * 타깃 값도 임의의 수치가 됨\n",
        "  * K-최근접 이웃 회귀: 가장 가까운 이웃 샘플들의 타깃 값을 평균으로 만들어 예측\n",
        "* 결정계수(R2)\n",
        "  * 회귀 문제 성능 측정 도구\n",
        "  * 1에 가까울수록 良 0에 가까울 수록 惡\n",
        "  * 과대 적합: 훈련 세트 성능이 테스트 성능보다 훨씬 높을 때 발생 (훈련에 치우침)\n",
        "  * 과소 적합: 과대와 반대 (더 복잡한 모델 사용해야)\n",
        "\n",
        "  ![image.png](data:image/png;base64,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)"
      ]
    },
    {
      "cell_type": "markdown",
      "metadata": {
        "id": "i5J2cFzCrDWT"
      },
      "source": [
        "## 데이터 준비"
      ]
    },
    {
      "cell_type": "code",
      "execution_count": 22,
      "metadata": {
        "id": "fL3wuWxD0cH6"
      },
      "outputs": [],
      "source": [
        "import numpy as np"
      ]
    },
    {
      "cell_type": "code",
      "execution_count": 2,
      "metadata": {
        "id": "np5j0UTtJNI_"
      },
      "outputs": [],
      "source": [
        "perch_length = np.array(\n",
        "    [8.4, 13.7, 15.0, 16.2, 17.4, 18.0, 18.7, 19.0, 19.6, 20.0,\n",
        "     21.0, 21.0, 21.0, 21.3, 22.0, 22.0, 22.0, 22.0, 22.0, 22.5,\n",
        "     22.5, 22.7, 23.0, 23.5, 24.0, 24.0, 24.6, 25.0, 25.6, 26.5,\n",
        "     27.3, 27.5, 27.5, 27.5, 28.0, 28.7, 30.0, 32.8, 34.5, 35.0,\n",
        "     36.5, 36.0, 37.0, 37.0, 39.0, 39.0, 39.0, 40.0, 40.0, 40.0,\n",
        "     40.0, 42.0, 43.0, 43.0, 43.5, 44.0]\n",
        "     )\n",
        "perch_weight = np.array(\n",
        "    [5.9, 32.0, 40.0, 51.5, 70.0, 100.0, 78.0, 80.0, 85.0, 85.0,\n",
        "     110.0, 115.0, 125.0, 130.0, 120.0, 120.0, 130.0, 135.0, 110.0,\n",
        "     130.0, 150.0, 145.0, 150.0, 170.0, 225.0, 145.0, 188.0, 180.0,\n",
        "     197.0, 218.0, 300.0, 260.0, 265.0, 250.0, 250.0, 300.0, 320.0,\n",
        "     514.0, 556.0, 840.0, 685.0, 700.0, 700.0, 690.0, 900.0, 650.0,\n",
        "     820.0, 850.0, 900.0, 1015.0, 820.0, 1100.0, 1000.0, 1100.0,\n",
        "     1000.0, 1000.0]\n",
        "     )"
      ]
    },
    {
      "cell_type": "code",
      "source": [
        "import matplotlib.pyplot as plt"
      ],
      "metadata": {
        "id": "N-QaRkH5l0_J"
      },
      "execution_count": 3,
      "outputs": []
    },
    {
      "cell_type": "code",
      "source": [
        "plt.scatter(perch_length, perch_weight)\n",
        "plt.xlabel('length')\n",
        "plt.ylabel('weight')\n",
        "plt.show()"
      ],
      "metadata": {
        "colab": {
          "base_uri": "https://localhost:8080/",
          "height": 449
        },
        "id": "YI407rM7l_B7",
        "outputId": "d891bd5a-1b0e-4978-807a-083c09af26bb"
      },
      "execution_count": 4,
      "outputs": [
        {
          "output_type": "display_data",
          "data": {
            "text/plain": [
              "<Figure size 640x480 with 1 Axes>"
            ],
            "image/png": "[encoded data removed]"
          },
          "metadata": {}
        }
      ]
    },
    {
      "cell_type": "markdown",
      "source": [
        "➡ 길이가 길면 무게도 무거워지는 그래프임을 알 수 있음"
      ],
      "metadata": {
        "id": "H1TeFH8Hmb67"
      }
    },
    {
      "cell_type": "markdown",
      "source": [
        "### 훈련, 테스트 세트로 나누기"
      ],
      "metadata": {
        "id": "TUh5x7BBmUgG"
      }
    },
    {
      "cell_type": "code",
      "source": [
        "from sklearn.model_selection import train_test_split"
      ],
      "metadata": {
        "id": "G16eOaM9mMQg"
      },
      "execution_count": 5,
      "outputs": []
    },
    {
      "cell_type": "code",
      "source": [
        "train_input, test_input, train_target, test_target = train_test_split(perch_length, perch_weight, random_state=42)"
      ],
      "metadata": {
        "id": "qbBsHh9JmpAT"
      },
      "execution_count": 6,
      "outputs": []
    },
    {
      "cell_type": "code",
      "source": [
        "print(train_input.shape, test_input.shape)"
      ],
      "metadata": {
        "colab": {
          "base_uri": "https://localhost:8080/"
        },
        "id": "BKb62sBJm3Mk",
        "outputId": "124c3ef4-ba08-4ffa-9787-4e456bd2fe47"
      },
      "execution_count": 7,
      "outputs": [
        {
          "output_type": "stream",
          "name": "stdout",
          "text": [
            "(42,) (14,)\n"
          ]
        }
      ]
    },
    {
      "cell_type": "markdown",
      "source": [
        "➡ 1차원 배열임\n",
        "\n",
        "* 사이킷런에 사용할 데이터는 2차원 배열이어야 함"
      ],
      "metadata": {
        "id": "SPb36wP_m_c4"
      }
    },
    {
      "cell_type": "markdown",
      "source": [
        "### 2차원 배열로 변경"
      ],
      "metadata": {
        "id": "m74rwEDYoD0e"
      }
    },
    {
      "cell_type": "code",
      "source": [
        "train_input = train_input.reshape(-1, 1)\n",
        "test_input = test_input.reshape(-1, 1)"
      ],
      "metadata": {
        "id": "8laoMChNm7RW"
      },
      "execution_count": 9,
      "outputs": []
    },
    {
      "cell_type": "code",
      "source": [
        "print(train_input.shape, test_input.shape)"
      ],
      "metadata": {
        "colab": {
          "base_uri": "https://localhost:8080/"
        },
        "id": "_uWPxc6-oT_5",
        "outputId": "d526be62-dc04-4080-940b-aab38d220c7b"
      },
      "execution_count": 10,
      "outputs": [
        {
          "output_type": "stream",
          "name": "stdout",
          "text": [
            "(42, 1) (14, 1)\n"
          ]
        }
      ]
    },
    {
      "cell_type": "markdown",
      "source": [
        "➡ 2차원 배열로 변경 完"
      ],
      "metadata": {
        "id": "t50VlotHoed4"
      }
    },
    {
      "cell_type": "markdown",
      "source": [
        "### 모델 학습\n"
      ],
      "metadata": {
        "id": "maudYiVSpGgl"
      }
    },
    {
      "cell_type": "code",
      "source": [
        "from sklearn.neighbors import KNeighborsRegressor"
      ],
      "metadata": {
        "id": "MUjSv2ixodSh"
      },
      "execution_count": 11,
      "outputs": []
    },
    {
      "cell_type": "code",
      "source": [
        "# 알고리즘 모델 적용\n",
        "knr = KNeighborsRegressor()\n",
        "# 모델 학습 (입력D, 정답D)\n",
        "knr.fit(train_input, train_target)"
      ],
      "metadata": {
        "colab": {
          "base_uri": "https://localhost:8080/",
          "height": 80
        },
        "id": "oGFbLK7EpOOM",
        "outputId": "45f3239d-a75d-4f26-cfa0-1fb065b65f7f"
      },
      "execution_count": 12,
      "outputs": [
        {
          "output_type": "execute_result",
          "data": {
            "text/plain": [
              "KNeighborsRegressor()"
            ],
            "text/html": [
              "<style>#sk-container-id-1 {\n",
              "  /* Definition of color scheme common for light and dark mode */\n",
              "  --sklearn-color-text: black;\n",
              "  --sklearn-color-line: gray;\n",
              "  /* Definition of color scheme for unfitted estimators */\n",
              "  --sklearn-color-unfitted-level-0: #fff5e6;\n",
              "  --sklearn-color-unfitted-level-1: #f6e4d2;\n",
              "  --sklearn-color-unfitted-level-2: #ffe0b3;\n",
              "  --sklearn-color-unfitted-level-3: chocolate;\n",
              "  /* Definition of color scheme for fitted estimators */\n",
              "  --sklearn-color-fitted-level-0: #f0f8ff;\n",
              "  --sklearn-color-fitted-level-1: #d4ebff;\n",
              "  --sklearn-color-fitted-level-2: #b3dbfd;\n",
              "  --sklearn-color-fitted-level-3: cornflowerblue;\n",
              "\n",
              "  /* Specific color for light theme */\n",
              "  --sklearn-color-text-on-default-background: var(--sg-text-color, var(--theme-code-foreground, var(--jp-content-font-color1, black)));\n",
              "  --sklearn-color-background: var(--sg-background-color, var(--theme-background, var(--jp-layout-color0, white)));\n",
              "  --sklearn-color-border-box: var(--sg-text-color, var(--theme-code-foreground, var(--jp-content-font-color1, black)));\n",
              "  --sklearn-color-icon: #696969;\n",
              "\n",
              "  @media (prefers-color-scheme: dark) {\n",
              "    /* Redefinition of color scheme for dark theme */\n",
              "    --sklearn-color-text-on-default-background: var(--sg-text-color, var(--theme-code-foreground, var(--jp-content-font-color1, white)));\n",
              "    --sklearn-color-background: var(--sg-background-color, var(--theme-background, var(--jp-layout-color0, #111)));\n",
              "    --sklearn-color-border-box: var(--sg-text-color, var(--theme-code-foreground, var(--jp-content-font-color1, white)));\n",
              "    --sklearn-color-icon: #878787;\n",
              "  }\n",
              "}\n",
              "\n",
              "#sk-container-id-1 {\n",
              "  color: var(--sklearn-color-text);\n",
              "}\n",
              "\n",
              "#sk-container-id-1 pre {\n",
              "  padding: 0;\n",
              "}\n",
              "\n",
              "#sk-container-id-1 input.sk-hidden--visually {\n",
              "  border: 0;\n",
              "  clip: rect(1px 1px 1px 1px);\n",
              "  clip: rect(1px, 1px, 1px, 1px);\n",
              "  height: 1px;\n",
              "  margin: -1px;\n",
              "  overflow: hidden;\n",
              "  padding: 0;\n",
              "  position: absolute;\n",
              "  width: 1px;\n",
              "}\n",
              "\n",
              "#sk-container-id-1 div.sk-dashed-wrapped {\n",
              "  border: 1px dashed var(--sklearn-color-line);\n",
              "  margin: 0 0.4em 0.5em 0.4em;\n",
              "  box-sizing: border-box;\n",
              "  padding-bottom: 0.4em;\n",
              "  background-color: var(--sklearn-color-background);\n",
              "}\n",
              "\n",
              "#sk-container-id-1 div.sk-container {\n",
              "  /* jupyter's `normalize.less` sets `[hidden] { display: none; }`\n",
              "     but bootstrap.min.css set `[hidden] { display: none !important; }`\n",
              "     so we also need the `!important` here to be able to override the\n",
              "     default hidden behavior on the sphinx rendered scikit-learn.org.\n",
              "     See: https://github.com/scikit-learn/scikit-learn/issues/21755 */\n",
              "  display: inline-block !important;\n",
              "  position: relative;\n",
              "}\n",
              "\n",
              "#sk-container-id-1 div.sk-text-repr-fallback {\n",
              "  display: none;\n",
              "}\n",
              "\n",
              "div.sk-parallel-item,\n",
              "div.sk-serial,\n",
              "div.sk-item {\n",
              "  /* draw centered vertical line to link estimators */\n",
              "  background-image: linear-gradient(var(--sklearn-color-text-on-default-background), var(--sklearn-color-text-on-default-background));\n",
              "  background-size: 2px 100%;\n",
              "  background-repeat: no-repeat;\n",
              "  background-position: center center;\n",
              "}\n",
              "\n",
              "/* Parallel-specific style estimator block */\n",
              "\n",
              "#sk-container-id-1 div.sk-parallel-item::after {\n",
              "  content: \"\";\n",
              "  width: 100%;\n",
              "  border-bottom: 2px solid var(--sklearn-color-text-on-default-background);\n",
              "  flex-grow: 1;\n",
              "}\n",
              "\n",
              "#sk-container-id-1 div.sk-parallel {\n",
              "  display: flex;\n",
              "  align-items: stretch;\n",
              "  justify-content: center;\n",
              "  background-color: var(--sklearn-color-background);\n",
              "  position: relative;\n",
              "}\n",
              "\n",
              "#sk-container-id-1 div.sk-parallel-item {\n",
              "  display: flex;\n",
              "  flex-direction: column;\n",
              "}\n",
              "\n",
              "#sk-container-id-1 div.sk-parallel-item:first-child::after {\n",
              "  align-self: flex-end;\n",
              "  width: 50%;\n",
              "}\n",
              "\n",
              "#sk-container-id-1 div.sk-parallel-item:last-child::after {\n",
              "  align-self: flex-start;\n",
              "  width: 50%;\n",
              "}\n",
              "\n",
              "#sk-container-id-1 div.sk-parallel-item:only-child::after {\n",
              "  width: 0;\n",
              "}\n",
              "\n",
              "/* Serial-specific style estimator block */\n",
              "\n",
              "#sk-container-id-1 div.sk-serial {\n",
              "  display: flex;\n",
              "  flex-direction: column;\n",
              "  align-items: center;\n",
              "  background-color: var(--sklearn-color-background);\n",
              "  padding-right: 1em;\n",
              "  padding-left: 1em;\n",
              "}\n",
              "\n",
              "\n",
              "/* Toggleable style: style used for estimator/Pipeline/ColumnTransformer box that is\n",
              "clickable and can be expanded/collapsed.\n",
              "- Pipeline and ColumnTransformer use this feature and define the default style\n",
              "- Estimators will overwrite some part of the style using the `sk-estimator` class\n",
              "*/\n",
              "\n",
              "/* Pipeline and ColumnTransformer style (default) */\n",
              "\n",
              "#sk-container-id-1 div.sk-toggleable {\n",
              "  /* Default theme specific background. It is overwritten whether we have a\n",
              "  specific estimator or a Pipeline/ColumnTransformer */\n",
              "  background-color: var(--sklearn-color-background);\n",
              "}\n",
              "\n",
              "/* Toggleable label */\n",
              "#sk-container-id-1 label.sk-toggleable__label {\n",
              "  cursor: pointer;\n",
              "  display: block;\n",
              "  width: 100%;\n",
              "  margin-bottom: 0;\n",
              "  padding: 0.5em;\n",
              "  box-sizing: border-box;\n",
              "  text-align: center;\n",
              "}\n",
              "\n",
              "#sk-container-id-1 label.sk-toggleable__label-arrow:before {\n",
              "  /* Arrow on the left of the label */\n",
              "  content: \"▸\";\n",
              "  float: left;\n",
              "  margin-right: 0.25em;\n",
              "  color: var(--sklearn-color-icon);\n",
              "}\n",
              "\n",
              "#sk-container-id-1 label.sk-toggleable__label-arrow:hover:before {\n",
              "  color: var(--sklearn-color-text);\n",
              "}\n",
              "\n",
              "/* Toggleable content - dropdown */\n",
              "\n",
              "#sk-container-id-1 div.sk-toggleable__content {\n",
              "  max-height: 0;\n",
              "  max-width: 0;\n",
              "  overflow: hidden;\n",
              "  text-align: left;\n",
              "  /* unfitted */\n",
              "  background-color: var(--sklearn-color-unfitted-level-0);\n",
              "}\n",
              "\n",
              "#sk-container-id-1 div.sk-toggleable__content.fitted {\n",
              "  /* fitted */\n",
              "  background-color: var(--sklearn-color-fitted-level-0);\n",
              "}\n",
              "\n",
              "#sk-container-id-1 div.sk-toggleable__content pre {\n",
              "  margin: 0.2em;\n",
              "  border-radius: 0.25em;\n",
              "  color: var(--sklearn-color-text);\n",
              "  /* unfitted */\n",
              "  background-color: var(--sklearn-color-unfitted-level-0);\n",
              "}\n",
              "\n",
              "#sk-container-id-1 div.sk-toggleable__content.fitted pre {\n",
              "  /* unfitted */\n",
              "  background-color: var(--sklearn-color-fitted-level-0);\n",
              "}\n",
              "\n",
              "#sk-container-id-1 input.sk-toggleable__control:checked~div.sk-toggleable__content {\n",
              "  /* Expand drop-down */\n",
              "  max-height: 200px;\n",
              "  max-width: 100%;\n",
              "  overflow: auto;\n",
              "}\n",
              "\n",
              "#sk-container-id-1 input.sk-toggleable__control:checked~label.sk-toggleable__label-arrow:before {\n",
              "  content: \"▾\";\n",
              "}\n",
              "\n",
              "/* Pipeline/ColumnTransformer-specific style */\n",
              "\n",
              "#sk-container-id-1 div.sk-label input.sk-toggleable__control:checked~label.sk-toggleable__label {\n",
              "  color: var(--sklearn-color-text);\n",
              "  background-color: var(--sklearn-color-unfitted-level-2);\n",
              "}\n",
              "\n",
              "#sk-container-id-1 div.sk-label.fitted input.sk-toggleable__control:checked~label.sk-toggleable__label {\n",
              "  background-color: var(--sklearn-color-fitted-level-2);\n",
              "}\n",
              "\n",
              "/* Estimator-specific style */\n",
              "\n",
              "/* Colorize estimator box */\n",
              "#sk-container-id-1 div.sk-estimator input.sk-toggleable__control:checked~label.sk-toggleable__label {\n",
              "  /* unfitted */\n",
              "  background-color: var(--sklearn-color-unfitted-level-2);\n",
              "}\n",
              "\n",
              "#sk-container-id-1 div.sk-estimator.fitted input.sk-toggleable__control:checked~label.sk-toggleable__label {\n",
              "  /* fitted */\n",
              "  background-color: var(--sklearn-color-fitted-level-2);\n",
              "}\n",
              "\n",
              "#sk-container-id-1 div.sk-label label.sk-toggleable__label,\n",
              "#sk-container-id-1 div.sk-label label {\n",
              "  /* The background is the default theme color */\n",
              "  color: var(--sklearn-color-text-on-default-background);\n",
              "}\n",
              "\n",
              "/* On hover, darken the color of the background */\n",
              "#sk-container-id-1 div.sk-label:hover label.sk-toggleable__label {\n",
              "  color: var(--sklearn-color-text);\n",
              "  background-color: var(--sklearn-color-unfitted-level-2);\n",
              "}\n",
              "\n",
              "/* Label box, darken color on hover, fitted */\n",
              "#sk-container-id-1 div.sk-label.fitted:hover label.sk-toggleable__label.fitted {\n",
              "  color: var(--sklearn-color-text);\n",
              "  background-color: var(--sklearn-color-fitted-level-2);\n",
              "}\n",
              "\n",
              "/* Estimator label */\n",
              "\n",
              "#sk-container-id-1 div.sk-label label {\n",
              "  font-family: monospace;\n",
              "  font-weight: bold;\n",
              "  display: inline-block;\n",
              "  line-height: 1.2em;\n",
              "}\n",
              "\n",
              "#sk-container-id-1 div.sk-label-container {\n",
              "  text-align: center;\n",
              "}\n",
              "\n",
              "/* Estimator-specific */\n",
              "#sk-container-id-1 div.sk-estimator {\n",
              "  font-family: monospace;\n",
              "  border: 1px dotted var(--sklearn-color-border-box);\n",
              "  border-radius: 0.25em;\n",
              "  box-sizing: border-box;\n",
              "  margin-bottom: 0.5em;\n",
              "  /* unfitted */\n",
              "  background-color: var(--sklearn-color-unfitted-level-0);\n",
              "}\n",
              "\n",
              "#sk-container-id-1 div.sk-estimator.fitted {\n",
              "  /* fitted */\n",
              "  background-color: var(--sklearn-color-fitted-level-0);\n",
              "}\n",
              "\n",
              "/* on hover */\n",
              "#sk-container-id-1 div.sk-estimator:hover {\n",
              "  /* unfitted */\n",
              "  background-color: var(--sklearn-color-unfitted-level-2);\n",
              "}\n",
              "\n",
              "#sk-container-id-1 div.sk-estimator.fitted:hover {\n",
              "  /* fitted */\n",
              "  background-color: var(--sklearn-color-fitted-level-2);\n",
              "}\n",
              "\n",
              "/* Specification for estimator info (e.g. \"i\" and \"?\") */\n",
              "\n",
              "/* Common style for \"i\" and \"?\" */\n",
              "\n",
              ".sk-estimator-doc-link,\n",
              "a:link.sk-estimator-doc-link,\n",
              "a:visited.sk-estimator-doc-link {\n",
              "  float: right;\n",
              "  font-size: smaller;\n",
              "  line-height: 1em;\n",
              "  font-family: monospace;\n",
              "  background-color: var(--sklearn-color-background);\n",
              "  border-radius: 1em;\n",
              "  height: 1em;\n",
              "  width: 1em;\n",
              "  text-decoration: none !important;\n",
              "  margin-left: 1ex;\n",
              "  /* unfitted */\n",
              "  border: var(--sklearn-color-unfitted-level-1) 1pt solid;\n",
              "  color: var(--sklearn-color-unfitted-level-1);\n",
              "}\n",
              "\n",
              ".sk-estimator-doc-link.fitted,\n",
              "a:link.sk-estimator-doc-link.fitted,\n",
              "a:visited.sk-estimator-doc-link.fitted {\n",
              "  /* fitted */\n",
              "  border: var(--sklearn-color-fitted-level-1) 1pt solid;\n",
              "  color: var(--sklearn-color-fitted-level-1);\n",
              "}\n",
              "\n",
              "/* On hover */\n",
              "div.sk-estimator:hover .sk-estimator-doc-link:hover,\n",
              ".sk-estimator-doc-link:hover,\n",
              "div.sk-label-container:hover .sk-estimator-doc-link:hover,\n",
              ".sk-estimator-doc-link:hover {\n",
              "  /* unfitted */\n",
              "  background-color: var(--sklearn-color-unfitted-level-3);\n",
              "  color: var(--sklearn-color-background);\n",
              "  text-decoration: none;\n",
              "}\n",
              "\n",
              "div.sk-estimator.fitted:hover .sk-estimator-doc-link.fitted:hover,\n",
              ".sk-estimator-doc-link.fitted:hover,\n",
              "div.sk-label-container:hover .sk-estimator-doc-link.fitted:hover,\n",
              ".sk-estimator-doc-link.fitted:hover {\n",
              "  /* fitted */\n",
              "  background-color: var(--sklearn-color-fitted-level-3);\n",
              "  color: var(--sklearn-color-background);\n",
              "  text-decoration: none;\n",
              "}\n",
              "\n",
              "/* Span, style for the box shown on hovering the info icon */\n",
              ".sk-estimator-doc-link span {\n",
              "  display: none;\n",
              "  z-index: 9999;\n",
              "  position: relative;\n",
              "  font-weight: normal;\n",
              "  right: .2ex;\n",
              "  padding: .5ex;\n",
              "  margin: .5ex;\n",
              "  width: min-content;\n",
              "  min-width: 20ex;\n",
              "  max-width: 50ex;\n",
              "  color: var(--sklearn-color-text);\n",
              "  box-shadow: 2pt 2pt 4pt #999;\n",
              "  /* unfitted */\n",
              "  background: var(--sklearn-color-unfitted-level-0);\n",
              "  border: .5pt solid var(--sklearn-color-unfitted-level-3);\n",
              "}\n",
              "\n",
              ".sk-estimator-doc-link.fitted span {\n",
              "  /* fitted */\n",
              "  background: var(--sklearn-color-fitted-level-0);\n",
              "  border: var(--sklearn-color-fitted-level-3);\n",
              "}\n",
              "\n",
              ".sk-estimator-doc-link:hover span {\n",
              "  display: block;\n",
              "}\n",
              "\n",
              "/* \"?\"-specific style due to the `<a>` HTML tag */\n",
              "\n",
              "#sk-container-id-1 a.estimator_doc_link {\n",
              "  float: right;\n",
              "  font-size: 1rem;\n",
              "  line-height: 1em;\n",
              "  font-family: monospace;\n",
              "  background-color: var(--sklearn-color-background);\n",
              "  border-radius: 1rem;\n",
              "  height: 1rem;\n",
              "  width: 1rem;\n",
              "  text-decoration: none;\n",
              "  /* unfitted */\n",
              "  color: var(--sklearn-color-unfitted-level-1);\n",
              "  border: var(--sklearn-color-unfitted-level-1) 1pt solid;\n",
              "}\n",
              "\n",
              "#sk-container-id-1 a.estimator_doc_link.fitted {\n",
              "  /* fitted */\n",
              "  border: var(--sklearn-color-fitted-level-1) 1pt solid;\n",
              "  color: var(--sklearn-color-fitted-level-1);\n",
              "}\n",
              "\n",
              "/* On hover */\n",
              "#sk-container-id-1 a.estimator_doc_link:hover {\n",
              "  /* unfitted */\n",
              "  background-color: var(--sklearn-color-unfitted-level-3);\n",
              "  color: var(--sklearn-color-background);\n",
              "  text-decoration: none;\n",
              "}\n",
              "\n",
              "#sk-container-id-1 a.estimator_doc_link.fitted:hover {\n",
              "  /* fitted */\n",
              "  background-color: var(--sklearn-color-fitted-level-3);\n",
              "}\n",
              "</style><div id=\"sk-container-id-1\" class=\"sk-top-container\"><div class=\"sk-text-repr-fallback\"><pre>KNeighborsRegressor()</pre><b>In a Jupyter environment, please rerun this cell to show the HTML representation or trust the notebook. <br />On GitHub, the HTML representation is unable to render, please try loading this page with nbviewer.org.</b></div><div class=\"sk-container\" hidden><div class=\"sk-item\"><div class=\"sk-estimator fitted sk-toggleable\"><input class=\"sk-toggleable__control sk-hidden--visually\" id=\"sk-estimator-id-1\" type=\"checkbox\" checked><label for=\"sk-estimator-id-1\" class=\"sk-toggleable__label fitted sk-toggleable__label-arrow fitted\">&nbsp;&nbsp;KNeighborsRegressor<a class=\"sk-estimator-doc-link fitted\" rel=\"noreferrer\" target=\"_blank\" href=\"https://scikit-learn.org/1.5/modules/generated/sklearn.neighbors.KNeighborsRegressor.html\">?<span>Documentation for KNeighborsRegressor</span></a><span class=\"sk-estimator-doc-link fitted\">i<span>Fitted</span></span></label><div class=\"sk-toggleable__content fitted\"><pre>KNeighborsRegressor()</pre></div> </div></div></div></div>"
            ]
          },
          "metadata": {},
          "execution_count": 12
        }
      ]
    },
    {
      "cell_type": "markdown",
      "source": [
        "### 평가\n",
        "* R^2 평가: 1에 가까울수록 정확도가 높음"
      ],
      "metadata": {
        "id": "8zkWT37jpo9c"
      }
    },
    {
      "cell_type": "code",
      "source": [
        "knr.score(test_input, test_target)"
      ],
      "metadata": {
        "colab": {
          "base_uri": "https://localhost:8080/"
        },
        "id": "yAmEzewipYme",
        "outputId": "75ed1f7e-ce99-4344-f389-a1913359f5bd"
      },
      "execution_count": 13,
      "outputs": [
        {
          "output_type": "execute_result",
          "data": {
            "text/plain": [
              "0.992809406101064"
            ]
          },
          "metadata": {},
          "execution_count": 13
        }
      ]
    },
    {
      "cell_type": "markdown",
      "source": [
        "➡ 0.99로 1에 가까운 결과 출력"
      ],
      "metadata": {
        "id": "mihkbAQDp8Ae"
      }
    },
    {
      "cell_type": "markdown",
      "source": [
        "### 평균 절대값 오차 MAE\n",
        "> `실제값-예측값`\n"
      ],
      "metadata": {
        "id": "ox6stsLJqY7U"
      }
    },
    {
      "cell_type": "code",
      "source": [
        "from sklearn.metrics import mean_absolute_error"
      ],
      "metadata": {
        "id": "GrSBJ6xxql_t"
      },
      "execution_count": 14,
      "outputs": []
    },
    {
      "cell_type": "code",
      "source": [
        "# 테스트 세트에 대한 예측\n",
        "test_p = knr.predict(test_input)\n",
        "# 테스트 세트의 평균 절대값 오차를 계산\n",
        "mae = mean_absolute_error(test_target, test_p)\n",
        "print(mae)"
      ],
      "metadata": {
        "colab": {
          "base_uri": "https://localhost:8080/"
        },
        "id": "eE7flaR1pcdC",
        "outputId": "5140625c-3992-4f8a-f37a-410447140cd9"
      },
      "execution_count": 15,
      "outputs": [
        {
          "output_type": "stream",
          "name": "stdout",
          "text": [
            "19.157142857142862\n"
          ]
        }
      ]
    },
    {
      "cell_type": "markdown",
      "source": [
        "### 과대 적합 & 과소 적합\n",
        "* 하나에 치우치지 않아야 함\n",
        "* 과대: 훈련 > 테스트\n",
        "* 과소: 훈련 < 테스트"
      ],
      "metadata": {
        "id": "MmS4l1Z0uP3O"
      }
    },
    {
      "cell_type": "code",
      "source": [
        "# 훈련으로 확인\n",
        "print(knr.score(train_input, train_target))"
      ],
      "metadata": {
        "colab": {
          "base_uri": "https://localhost:8080/"
        },
        "id": "F6xpImO5qp3k",
        "outputId": "5b2ac16f-605c-47c2-b888-b2086856dbe0"
      },
      "execution_count": 16,
      "outputs": [
        {
          "output_type": "stream",
          "name": "stdout",
          "text": [
            "0.9698823289099254\n"
          ]
        }
      ]
    },
    {
      "cell_type": "markdown",
      "source": [
        "* 테스트 세트 결정계수: 0.992809406101064\n",
        "* 훈련 세트 결정계수: 0.9698823289099254\n",
        "### ➡ 과소 적합"
      ],
      "metadata": {
        "id": "zleIj0D1uzZ4"
      }
    },
    {
      "cell_type": "markdown",
      "source": [
        "### 과소 적합 해결 방법\n",
        "* 이웃의 개수(파라미터-범위)를 변경"
      ],
      "metadata": {
        "id": "KQjRbDH2vwQ7"
      }
    },
    {
      "cell_type": "code",
      "source": [
        "knr.n_neighbors = 3"
      ],
      "metadata": {
        "id": "dhRqbz5lursB"
      },
      "execution_count": 17,
      "outputs": []
    },
    {
      "cell_type": "code",
      "source": [
        "# 다시 훈련\n",
        "knr.fit(train_input, train_target)\n",
        "print(knr.score(train_input, train_target))"
      ],
      "metadata": {
        "colab": {
          "base_uri": "https://localhost:8080/"
        },
        "id": "QymLzRFmwEDl",
        "outputId": "b99f05d6-f3a8-4994-c24e-100029b01ed4"
      },
      "execution_count": 18,
      "outputs": [
        {
          "output_type": "stream",
          "name": "stdout",
          "text": [
            "0.9804899950518966\n"
          ]
        }
      ]
    },
    {
      "cell_type": "code",
      "source": [
        "knr.score(test_input, test_target)"
      ],
      "metadata": {
        "colab": {
          "base_uri": "https://localhost:8080/"
        },
        "id": "8Cdp7K2vwNpx",
        "outputId": "e369b70e-e498-4472-b811-ce36bee9d495"
      },
      "execution_count": 19,
      "outputs": [
        {
          "output_type": "execute_result",
          "data": {
            "text/plain": [
              "0.9746459963987609"
            ]
          },
          "metadata": {},
          "execution_count": 19
        }
      ]
    },
    {
      "cell_type": "markdown",
      "source": [
        "* 테스트: 0.97\n",
        "* 훈련: 0.98\n",
        "\n",
        "➡ 테스트가 훈련 세트보다 낮아짐 == 과소 적합의 문제 해결"
      ],
      "metadata": {
        "id": "RGZXEoO1wUyF"
      }
    },
    {
      "cell_type": "code",
      "source": [
        "knr.predict([[40]])"
      ],
      "metadata": {
        "colab": {
          "base_uri": "https://localhost:8080/"
        },
        "id": "BJC6PYcqwSpg",
        "outputId": "9f982715-e942-41d3-f98b-3b91f506d3f4"
      },
      "execution_count": 20,
      "outputs": [
        {
          "output_type": "execute_result",
          "data": {
            "text/plain": [
              "array([921.66666667])"
            ]
          },
          "metadata": {},
          "execution_count": 20
        }
      ]
    },
    {
      "cell_type": "markdown",
      "source": [
        "### 확인 문제\n",
        "1. 5~45 사이의 값을 2차원으로 변경\n",
        "2. 반복문을 통해 1, 5, 10 경우의 수를 변경"
      ],
      "metadata": {
        "id": "ODTyc3IpwyUO"
      }
    },
    {
      "cell_type": "code",
      "source": [
        "knr = KNeighborsRegressor()\n",
        "x = np.arange(5, 45).reshape(-1, 1) #1\n",
        "\n",
        "for n in [1, 5, 10]: #2\n",
        "  # 모델 훈련\n",
        "  knr.n_neighbors = n\n",
        "  knr.fit(train_input, train_target)\n",
        "\n",
        "  # 지정 범위 x에 대한 예측 구함\n",
        "  prediction = knr.predict(x)\n",
        "\n",
        "  # 훈련 세트와 예측 결과 그래프\n",
        "  plt.scatter(x, prediction)\n",
        "  plt.plot(x, prediction)\n",
        "  plt.xlabel('length')\n",
        "  plt.ylabel('weight')\n",
        "  plt.show()"
      ],
      "metadata": {
        "colab": {
          "base_uri": "https://localhost:8080/",
          "height": 1000
        },
        "id": "negRmPZnwnol",
        "outputId": "6c0770ae-490d-4cd8-e5fc-b93e7abd6c63"
      },
      "execution_count": 24,
      "outputs": [
        {
          "output_type": "display_data",
          "data": {
            "text/plain": [
              "<Figure size 640x480 with 1 Axes>"
            ],
            "image/png": "[encoded data removed]"
          },
          "metadata": {}
        },
        {
          "output_type": "display_data",
          "data": {
            "text/plain": [
              "<Figure size 640x480 with 1 Axes>"
            ],
            "image/png": "[encoded data removed]"
          },
          "metadata": {}
        },
        {
          "output_type": "display_data",
          "data": {
            "text/plain": [
              "<Figure size 640x480 with 1 Axes>"
            ],
            "image/png": "[encoded data removed]"
          },
          "metadata": {}
        }
      ]
    },
    {
      "cell_type": "code",
      "source": [],
      "metadata": {
        "id": "2CDTbkGqyFtf"
      },
      "execution_count": null,
      "outputs": []
    }
  ],
  "metadata": {
    "colab": {
      "provenance": []
    },
    "kernelspec": {
      "display_name": "TensorFlow 2.3 on Python 3.6 (CUDA 10.1)",
      "language": "python",
      "name": "python3"
    },
    "language_info": {
      "codemirror_mode": {
        "name": "ipython",
        "version": 3
      },
      "file_extension": ".py",
      "mimetype": "text/x-python",
      "name": "python",
      "nbconvert_exporter": "python",
      "pygments_lexer": "ipython3",
      "version": "3.6.9"
    }
  },
  "nbformat": 4,
  "nbformat_minor": 0
}